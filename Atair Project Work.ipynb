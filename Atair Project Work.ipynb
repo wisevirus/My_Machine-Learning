{
 "cells": [
  {
   "cell_type": "code",
   "execution_count": 1,
   "metadata": {},
   "outputs": [],
   "source": [
    "import pandas as pd\n",
    "import numpy as np\n",
    "import altair as alt\n"
   ]
  },
  {
   "cell_type": "code",
   "execution_count": 2,
   "metadata": {},
   "outputs": [
    {
     "data": {
      "text/html": [
       "<div>\n",
       "<style scoped>\n",
       "    .dataframe tbody tr th:only-of-type {\n",
       "        vertical-align: middle;\n",
       "    }\n",
       "\n",
       "    .dataframe tbody tr th {\n",
       "        vertical-align: top;\n",
       "    }\n",
       "\n",
       "    .dataframe thead th {\n",
       "        text-align: right;\n",
       "    }\n",
       "</style>\n",
       "<table border=\"1\" class=\"dataframe\">\n",
       "  <thead>\n",
       "    <tr style=\"text-align: right;\">\n",
       "      <th></th>\n",
       "      <th>COUNTRIES</th>\n",
       "      <th>JANUARY DEPARTURE</th>\n",
       "      <th>FEBRUARY DEPARTURE</th>\n",
       "      <th>MARCH DEPARTURE</th>\n",
       "      <th>APRIL DEPARTURE</th>\n",
       "      <th>MAY DEPARTURE</th>\n",
       "      <th>JUNE DEPARTURE</th>\n",
       "      <th>JULY DEPARTURE</th>\n",
       "      <th>AUGUST DEPARTURE</th>\n",
       "      <th>SEPTEMBER DEPARTURE</th>\n",
       "      <th>OCTOBER DEPARTURE</th>\n",
       "      <th>NOVEMBER DEPARTURE</th>\n",
       "    </tr>\n",
       "  </thead>\n",
       "  <tbody>\n",
       "    <tr>\n",
       "      <td>0</td>\n",
       "      <td>IVORIANS</td>\n",
       "      <td>1634</td>\n",
       "      <td>1662</td>\n",
       "      <td>3559</td>\n",
       "      <td>1517</td>\n",
       "      <td>1673</td>\n",
       "      <td>1727</td>\n",
       "      <td>1954</td>\n",
       "      <td>2351</td>\n",
       "      <td>2201</td>\n",
       "      <td>1677</td>\n",
       "      <td>2172</td>\n",
       "    </tr>\n",
       "    <tr>\n",
       "      <td>1</td>\n",
       "      <td>BURKINESE</td>\n",
       "      <td>1780</td>\n",
       "      <td>1693</td>\n",
       "      <td>3482</td>\n",
       "      <td>1394</td>\n",
       "      <td>1653</td>\n",
       "      <td>1494</td>\n",
       "      <td>1482</td>\n",
       "      <td>2750</td>\n",
       "      <td>1714</td>\n",
       "      <td>1416</td>\n",
       "      <td>1404</td>\n",
       "    </tr>\n",
       "    <tr>\n",
       "      <td>2</td>\n",
       "      <td>NIGERIANS</td>\n",
       "      <td>7910</td>\n",
       "      <td>6490</td>\n",
       "      <td>13558</td>\n",
       "      <td>9320</td>\n",
       "      <td>9421</td>\n",
       "      <td>8867</td>\n",
       "      <td>8969</td>\n",
       "      <td>9554</td>\n",
       "      <td>8533</td>\n",
       "      <td>7583</td>\n",
       "      <td>8051</td>\n",
       "    </tr>\n",
       "    <tr>\n",
       "      <td>3</td>\n",
       "      <td>LIBERRIANS</td>\n",
       "      <td>757</td>\n",
       "      <td>734</td>\n",
       "      <td>1498</td>\n",
       "      <td>1215</td>\n",
       "      <td>1414</td>\n",
       "      <td>1459</td>\n",
       "      <td>1520</td>\n",
       "      <td>1368</td>\n",
       "      <td>1402</td>\n",
       "      <td>1230</td>\n",
       "      <td>1604</td>\n",
       "    </tr>\n",
       "    <tr>\n",
       "      <td>4</td>\n",
       "      <td>SOUTH AFRICANS</td>\n",
       "      <td>1415</td>\n",
       "      <td>1563</td>\n",
       "      <td>1767</td>\n",
       "      <td>1622</td>\n",
       "      <td>1760</td>\n",
       "      <td>1996</td>\n",
       "      <td>1984</td>\n",
       "      <td>1898</td>\n",
       "      <td>1877</td>\n",
       "      <td>2104</td>\n",
       "      <td>1993</td>\n",
       "    </tr>\n",
       "    <tr>\n",
       "      <td>5</td>\n",
       "      <td>TOGOLESE</td>\n",
       "      <td>873</td>\n",
       "      <td>702</td>\n",
       "      <td>1581</td>\n",
       "      <td>906</td>\n",
       "      <td>856</td>\n",
       "      <td>888</td>\n",
       "      <td>1081</td>\n",
       "      <td>1230</td>\n",
       "      <td>1285</td>\n",
       "      <td>1045</td>\n",
       "      <td>1074</td>\n",
       "    </tr>\n",
       "    <tr>\n",
       "      <td>6</td>\n",
       "      <td>FRENCH</td>\n",
       "      <td>905</td>\n",
       "      <td>1117</td>\n",
       "      <td>1126</td>\n",
       "      <td>1350</td>\n",
       "      <td>1064</td>\n",
       "      <td>1145</td>\n",
       "      <td>1177</td>\n",
       "      <td>1246</td>\n",
       "      <td>1074</td>\n",
       "      <td>1187</td>\n",
       "      <td>1201</td>\n",
       "    </tr>\n",
       "    <tr>\n",
       "      <td>7</td>\n",
       "      <td>GERMANS</td>\n",
       "      <td>1548</td>\n",
       "      <td>1298</td>\n",
       "      <td>1555</td>\n",
       "      <td>1704</td>\n",
       "      <td>1253</td>\n",
       "      <td>1184</td>\n",
       "      <td>1614</td>\n",
       "      <td>2454</td>\n",
       "      <td>1968</td>\n",
       "      <td>1763</td>\n",
       "      <td>1476</td>\n",
       "    </tr>\n",
       "    <tr>\n",
       "      <td>8</td>\n",
       "      <td>DUTCH</td>\n",
       "      <td>1250</td>\n",
       "      <td>903</td>\n",
       "      <td>1049</td>\n",
       "      <td>1079</td>\n",
       "      <td>1083</td>\n",
       "      <td>1062</td>\n",
       "      <td>1440</td>\n",
       "      <td>2028</td>\n",
       "      <td>1056</td>\n",
       "      <td>1213</td>\n",
       "      <td>1217</td>\n",
       "    </tr>\n",
       "    <tr>\n",
       "      <td>9</td>\n",
       "      <td>BRITISH</td>\n",
       "      <td>4798</td>\n",
       "      <td>3257</td>\n",
       "      <td>3888</td>\n",
       "      <td>1854</td>\n",
       "      <td>3452</td>\n",
       "      <td>3649</td>\n",
       "      <td>4463</td>\n",
       "      <td>6556</td>\n",
       "      <td>4887</td>\n",
       "      <td>4226</td>\n",
       "      <td>4407</td>\n",
       "    </tr>\n",
       "    <tr>\n",
       "      <td>10</td>\n",
       "      <td>AMERICANS</td>\n",
       "      <td>4987</td>\n",
       "      <td>3848</td>\n",
       "      <td>4956</td>\n",
       "      <td>2118</td>\n",
       "      <td>6113</td>\n",
       "      <td>6614</td>\n",
       "      <td>7590</td>\n",
       "      <td>8826</td>\n",
       "      <td>6314</td>\n",
       "      <td>5590</td>\n",
       "      <td>5946</td>\n",
       "    </tr>\n",
       "    <tr>\n",
       "      <td>11</td>\n",
       "      <td>CANADIANS</td>\n",
       "      <td>1074</td>\n",
       "      <td>937</td>\n",
       "      <td>1048</td>\n",
       "      <td>408</td>\n",
       "      <td>1255</td>\n",
       "      <td>1068</td>\n",
       "      <td>1085</td>\n",
       "      <td>997</td>\n",
       "      <td>907</td>\n",
       "      <td>918</td>\n",
       "      <td>1033</td>\n",
       "    </tr>\n",
       "    <tr>\n",
       "      <td>12</td>\n",
       "      <td>CHINESE</td>\n",
       "      <td>1539</td>\n",
       "      <td>1987</td>\n",
       "      <td>1057</td>\n",
       "      <td>1388</td>\n",
       "      <td>1397</td>\n",
       "      <td>1479</td>\n",
       "      <td>1666</td>\n",
       "      <td>1540</td>\n",
       "      <td>1620</td>\n",
       "      <td>1232</td>\n",
       "      <td>1263</td>\n",
       "    </tr>\n",
       "    <tr>\n",
       "      <td>13</td>\n",
       "      <td>INDIANS</td>\n",
       "      <td>1465</td>\n",
       "      <td>1525</td>\n",
       "      <td>1710</td>\n",
       "      <td>1839</td>\n",
       "      <td>1883</td>\n",
       "      <td>2044</td>\n",
       "      <td>2204</td>\n",
       "      <td>1764</td>\n",
       "      <td>1739</td>\n",
       "      <td>1874</td>\n",
       "      <td>1865</td>\n",
       "    </tr>\n",
       "    <tr>\n",
       "      <td>14</td>\n",
       "      <td>LEBANESE</td>\n",
       "      <td>531</td>\n",
       "      <td>562</td>\n",
       "      <td>622</td>\n",
       "      <td>766</td>\n",
       "      <td>614</td>\n",
       "      <td>956</td>\n",
       "      <td>1137</td>\n",
       "      <td>749</td>\n",
       "      <td>681</td>\n",
       "      <td>603</td>\n",
       "      <td>548</td>\n",
       "    </tr>\n",
       "    <tr>\n",
       "      <td>15</td>\n",
       "      <td>AUSTRIALIANS</td>\n",
       "      <td>428</td>\n",
       "      <td>449</td>\n",
       "      <td>435</td>\n",
       "      <td>139</td>\n",
       "      <td>430</td>\n",
       "      <td>444</td>\n",
       "      <td>456</td>\n",
       "      <td>380</td>\n",
       "      <td>419</td>\n",
       "      <td>475</td>\n",
       "      <td>445</td>\n",
       "    </tr>\n",
       "    <tr>\n",
       "      <td>16</td>\n",
       "      <td>OTHER NATIONALS</td>\n",
       "      <td>10364</td>\n",
       "      <td>9920</td>\n",
       "      <td>185</td>\n",
       "      <td>19203</td>\n",
       "      <td>12232</td>\n",
       "      <td>12628</td>\n",
       "      <td>13097</td>\n",
       "      <td>13876</td>\n",
       "      <td>12855</td>\n",
       "      <td>12216</td>\n",
       "      <td>12648</td>\n",
       "    </tr>\n",
       "  </tbody>\n",
       "</table>\n",
       "</div>"
      ],
      "text/plain": [
       "          COUNTRIES  JANUARY DEPARTURE  FEBRUARY DEPARTURE  MARCH DEPARTURE  \\\n",
       "0          IVORIANS               1634                1662             3559   \n",
       "1         BURKINESE               1780                1693             3482   \n",
       "2         NIGERIANS               7910                6490            13558   \n",
       "3        LIBERRIANS                757                 734             1498   \n",
       "4    SOUTH AFRICANS               1415                1563             1767   \n",
       "5          TOGOLESE                873                 702             1581   \n",
       "6            FRENCH                905                1117             1126   \n",
       "7           GERMANS               1548                1298             1555   \n",
       "8             DUTCH               1250                 903             1049   \n",
       "9           BRITISH               4798                3257             3888   \n",
       "10        AMERICANS               4987                3848             4956   \n",
       "11        CANADIANS               1074                 937             1048   \n",
       "12          CHINESE               1539                1987             1057   \n",
       "13          INDIANS               1465                1525             1710   \n",
       "14         LEBANESE                531                 562              622   \n",
       "15     AUSTRIALIANS                428                 449              435   \n",
       "16  OTHER NATIONALS              10364                9920              185   \n",
       "\n",
       "    APRIL DEPARTURE  MAY DEPARTURE  JUNE DEPARTURE  JULY DEPARTURE  \\\n",
       "0              1517           1673            1727            1954   \n",
       "1              1394           1653            1494            1482   \n",
       "2              9320           9421            8867            8969   \n",
       "3              1215           1414            1459            1520   \n",
       "4              1622           1760            1996            1984   \n",
       "5               906            856             888            1081   \n",
       "6              1350           1064            1145            1177   \n",
       "7              1704           1253            1184            1614   \n",
       "8              1079           1083            1062            1440   \n",
       "9              1854           3452            3649            4463   \n",
       "10             2118           6113            6614            7590   \n",
       "11              408           1255            1068            1085   \n",
       "12             1388           1397            1479            1666   \n",
       "13             1839           1883            2044            2204   \n",
       "14              766            614             956            1137   \n",
       "15              139            430             444             456   \n",
       "16            19203          12232           12628           13097   \n",
       "\n",
       "    AUGUST DEPARTURE  SEPTEMBER DEPARTURE  OCTOBER DEPARTURE  \\\n",
       "0               2351                 2201               1677   \n",
       "1               2750                 1714               1416   \n",
       "2               9554                 8533               7583   \n",
       "3               1368                 1402               1230   \n",
       "4               1898                 1877               2104   \n",
       "5               1230                 1285               1045   \n",
       "6               1246                 1074               1187   \n",
       "7               2454                 1968               1763   \n",
       "8               2028                 1056               1213   \n",
       "9               6556                 4887               4226   \n",
       "10              8826                 6314               5590   \n",
       "11               997                  907                918   \n",
       "12              1540                 1620               1232   \n",
       "13              1764                 1739               1874   \n",
       "14               749                  681                603   \n",
       "15               380                  419                475   \n",
       "16             13876                12855              12216   \n",
       "\n",
       "    NOVEMBER DEPARTURE  \n",
       "0                 2172  \n",
       "1                 1404  \n",
       "2                 8051  \n",
       "3                 1604  \n",
       "4                 1993  \n",
       "5                 1074  \n",
       "6                 1201  \n",
       "7                 1476  \n",
       "8                 1217  \n",
       "9                 4407  \n",
       "10                5946  \n",
       "11                1033  \n",
       "12                1263  \n",
       "13                1865  \n",
       "14                 548  \n",
       "15                 445  \n",
       "16               12648  "
      ]
     },
     "execution_count": 2,
     "metadata": {},
     "output_type": "execute_result"
    }
   ],
   "source": [
    "df = pd.read_csv(\"Monthly.csv\") \n",
    "df.rename({'JANUARY DEPARTURE':'JANUARY', 'FEBRUARY DEPARTURE':\"FEBRUARY\",'MARCH DEPARTURE':'MARCH', 'APRIL DEPARTURE':'APRIL', 'MAY DEPARTURE':'MAY', 'JUNE DEPARTURE':'JUNE','JULY DEPARTURE':\"JULY\", \n",
    " 'AUGUST DEPARTURE':'AUGUST', 'SEPTEMBER DEPARTURE':\"SEPTEMBER\",'OCTOBER DEPARTURE':'OCTOBER', 'NOVEMBER DEPARTURE':'NOVEMBER'}, axis=0, inplace=True)\n",
    "df"
   ]
  },
  {
   "cell_type": "code",
   "execution_count": 3,
   "metadata": {},
   "outputs": [
    {
     "data": {
      "text/html": [
       "<div>\n",
       "<style scoped>\n",
       "    .dataframe tbody tr th:only-of-type {\n",
       "        vertical-align: middle;\n",
       "    }\n",
       "\n",
       "    .dataframe tbody tr th {\n",
       "        vertical-align: top;\n",
       "    }\n",
       "\n",
       "    .dataframe thead th {\n",
       "        text-align: right;\n",
       "    }\n",
       "</style>\n",
       "<table border=\"1\" class=\"dataframe\">\n",
       "  <thead>\n",
       "    <tr style=\"text-align: right;\">\n",
       "      <th></th>\n",
       "      <th>yield</th>\n",
       "      <th>variety</th>\n",
       "      <th>year</th>\n",
       "      <th>site</th>\n",
       "    </tr>\n",
       "  </thead>\n",
       "  <tbody>\n",
       "    <tr>\n",
       "      <td>0</td>\n",
       "      <td>27.00000</td>\n",
       "      <td>Manchuria</td>\n",
       "      <td>1931</td>\n",
       "      <td>University Farm</td>\n",
       "    </tr>\n",
       "    <tr>\n",
       "      <td>1</td>\n",
       "      <td>48.86667</td>\n",
       "      <td>Manchuria</td>\n",
       "      <td>1931</td>\n",
       "      <td>Waseca</td>\n",
       "    </tr>\n",
       "    <tr>\n",
       "      <td>2</td>\n",
       "      <td>27.43334</td>\n",
       "      <td>Manchuria</td>\n",
       "      <td>1931</td>\n",
       "      <td>Morris</td>\n",
       "    </tr>\n",
       "    <tr>\n",
       "      <td>3</td>\n",
       "      <td>39.93333</td>\n",
       "      <td>Manchuria</td>\n",
       "      <td>1931</td>\n",
       "      <td>Crookston</td>\n",
       "    </tr>\n",
       "    <tr>\n",
       "      <td>4</td>\n",
       "      <td>32.96667</td>\n",
       "      <td>Manchuria</td>\n",
       "      <td>1931</td>\n",
       "      <td>Grand Rapids</td>\n",
       "    </tr>\n",
       "    <tr>\n",
       "      <td>...</td>\n",
       "      <td>...</td>\n",
       "      <td>...</td>\n",
       "      <td>...</td>\n",
       "      <td>...</td>\n",
       "    </tr>\n",
       "    <tr>\n",
       "      <td>115</td>\n",
       "      <td>58.16667</td>\n",
       "      <td>Wisconsin No. 38</td>\n",
       "      <td>1932</td>\n",
       "      <td>Waseca</td>\n",
       "    </tr>\n",
       "    <tr>\n",
       "      <td>116</td>\n",
       "      <td>47.16667</td>\n",
       "      <td>Wisconsin No. 38</td>\n",
       "      <td>1932</td>\n",
       "      <td>Morris</td>\n",
       "    </tr>\n",
       "    <tr>\n",
       "      <td>117</td>\n",
       "      <td>35.90000</td>\n",
       "      <td>Wisconsin No. 38</td>\n",
       "      <td>1932</td>\n",
       "      <td>Crookston</td>\n",
       "    </tr>\n",
       "    <tr>\n",
       "      <td>118</td>\n",
       "      <td>20.66667</td>\n",
       "      <td>Wisconsin No. 38</td>\n",
       "      <td>1932</td>\n",
       "      <td>Grand Rapids</td>\n",
       "    </tr>\n",
       "    <tr>\n",
       "      <td>119</td>\n",
       "      <td>29.33333</td>\n",
       "      <td>Wisconsin No. 38</td>\n",
       "      <td>1932</td>\n",
       "      <td>Duluth</td>\n",
       "    </tr>\n",
       "  </tbody>\n",
       "</table>\n",
       "<p>120 rows × 4 columns</p>\n",
       "</div>"
      ],
      "text/plain": [
       "        yield           variety  year             site\n",
       "0    27.00000         Manchuria  1931  University Farm\n",
       "1    48.86667         Manchuria  1931           Waseca\n",
       "2    27.43334         Manchuria  1931           Morris\n",
       "3    39.93333         Manchuria  1931        Crookston\n",
       "4    32.96667         Manchuria  1931     Grand Rapids\n",
       "..        ...               ...   ...              ...\n",
       "115  58.16667  Wisconsin No. 38  1932           Waseca\n",
       "116  47.16667  Wisconsin No. 38  1932           Morris\n",
       "117  35.90000  Wisconsin No. 38  1932        Crookston\n",
       "118  20.66667  Wisconsin No. 38  1932     Grand Rapids\n",
       "119  29.33333  Wisconsin No. 38  1932           Duluth\n",
       "\n",
       "[120 rows x 4 columns]"
      ]
     },
     "execution_count": 3,
     "metadata": {},
     "output_type": "execute_result"
    }
   ],
   "source": [
    "import altair as alt\n",
    "from vega_datasets import data\n",
    "\n",
    "source = data.barley()\n",
    "alt.Chart(source).mark_bar().encode(\n",
    "    x='variety',\n",
    "    y='sum(yield)',\n",
    "    color='site'\n",
    ")\n",
    "source"
   ]
  },
  {
   "cell_type": "code",
   "execution_count": null,
   "metadata": {},
   "outputs": [],
   "source": []
  },
  {
   "cell_type": "markdown",
   "metadata": {},
   "source": [
    "alt.Chart(df).mark_rect().encode(\n",
    "    x = alt.X('APRIL DEPARTURE:O', bin=True),\n",
    "    y = alt.Y('count(APRIL DEPARTURE)'),\n",
    "    color=alt.Color('COUNTRIES:N')\n",
    ")\n",
    "\n",
    "own = pd.DataFrame({'countries':df['COUNTRIES'], 'April':df['APRIL DEPARTURE']})\n",
    "print(own.head(2))\n",
    "\n",
    "months = ['JANUARY DEPARTURE', 'FEBRUARY DEPARTURE','MARCH DEPARTURE', 'APRIL DEPARTURE', 'MAY DEPARTURE', 'JUNE DEPARTURE','JULY DEPARTURE', 'AUGUST DEPARTURE', 'SEPTEMBER DEPARTURE','OCTOBER DEPARTURE', 'NOVEMBER DEPARTURE']\n",
    "\n",
    "alt.Chart(df).mark_bar().encode(\n",
    "    x = 'COUNTRIES',\n",
    "    y = 'sum(APRIL DEPARTURE)',\n",
    "    color = alt.Color('COUNTRIES')\n",
    ").properties(\n",
    "    width=200,\n",
    "    height=200).repeat(\n",
    "    row=months,\n",
    "    column=months[::2]\n",
    "    #column=months\n",
    ")\n"
   ]
  },
  {
   "cell_type": "code",
   "execution_count": 4,
   "metadata": {},
   "outputs": [
    {
     "data": {
      "text/plain": [
       "('IVORIANS',\n",
       " 'BURKINESE',\n",
       " 'NIGERIANS',\n",
       " 'LIBERRIANS',\n",
       " 'SOUTH AFRICANS',\n",
       " 'TOGOLESE',\n",
       " 'FRENCH',\n",
       " 'GERMANS',\n",
       " 'DUTCH',\n",
       " 'BRITISH',\n",
       " 'AMERICANS',\n",
       " 'CANADIANS',\n",
       " 'CHINESE',\n",
       " 'INDIANS',\n",
       " 'LEBANESE',\n",
       " 'AUSTRIALIANS',\n",
       " 'OTHER NATIONALS')"
      ]
     },
     "execution_count": 4,
     "metadata": {},
     "output_type": "execute_result"
    }
   ],
   "source": [
    "'IVORIANS','BURKINESE','NIGERIANS','LIBERRIANS','SOUTH AFRICANS','TOGOLESE','FRENCH','GERMANS','DUTCH','BRITISH','AMERICANS','CANADIANS','CHINESE','INDIANS','LEBANESE','AUSTRIALIANS','OTHER NATIONALS'\n"
   ]
  },
  {
   "cell_type": "markdown",
   "metadata": {},
   "source": [
    "months = ['JANUARY DEPARTURE', 'FEBRUARY DEPARTURE','MARCH DEPARTURE', 'APRIL DEPARTURE', 'MAY DEPARTURE', 'JUNE DEPARTURE','JULY DEPARTURE', 'AUGUST DEPARTURE', 'SEPTEMBER DEPARTURE','OCTOBER DEPARTURE', 'NOVEMBER DEPARTURE']\n",
    "\n",
    "alt.Chart(df).mark_bar().encode(\n",
    "    alt.X(alt.repeat(\"column\"), type='ordinal'),\n",
    "    alt.Y(alt.repeat(\"row\"), type='quantitative'),\n",
    "    color='species'\n",
    ").properties(\n",
    "    width=200,\n",
    "    height=200\n",
    ").repeat(\n",
    "    row=months\n",
    ").interactive()"
   ]
  },
  {
   "cell_type": "code",
   "execution_count": 5,
   "metadata": {},
   "outputs": [
    {
     "ename": "NameError",
     "evalue": "name 'chart' is not defined",
     "output_type": "error",
     "traceback": [
      "\u001b[1;31m---------------------------------------------------------------------------\u001b[0m",
      "\u001b[1;31mNameError\u001b[0m                                 Traceback (most recent call last)",
      "\u001b[1;32m<ipython-input-5-63460b4ce8cf>\u001b[0m in \u001b[0;36m<module>\u001b[1;34m\u001b[0m\n\u001b[0;32m     34\u001b[0m \u001b[0ma\u001b[0m \u001b[1;33m&\u001b[0m \u001b[0mb\u001b[0m \u001b[1;33m&\u001b[0m \u001b[0mc\u001b[0m\u001b[1;33m\u001b[0m\u001b[1;33m\u001b[0m\u001b[0m\n\u001b[0;32m     35\u001b[0m \u001b[1;33m\u001b[0m\u001b[0m\n\u001b[1;32m---> 36\u001b[1;33m chart.configure_header(\n\u001b[0m\u001b[0;32m     37\u001b[0m     \u001b[0mtitleColor\u001b[0m\u001b[1;33m=\u001b[0m\u001b[1;34m'green'\u001b[0m\u001b[1;33m,\u001b[0m\u001b[1;33m\u001b[0m\u001b[1;33m\u001b[0m\u001b[0m\n\u001b[0;32m     38\u001b[0m     \u001b[0mtitleFontSize\u001b[0m\u001b[1;33m=\u001b[0m\u001b[1;36m14\u001b[0m\u001b[1;33m,\u001b[0m\u001b[1;33m\u001b[0m\u001b[1;33m\u001b[0m\u001b[0m\n",
      "\u001b[1;31mNameError\u001b[0m: name 'chart' is not defined"
     ]
    }
   ],
   "source": [
    "\n",
    "month1 = ['JANUARY DEPARTURE', 'FEBRUARY DEPARTURE','MARCH DEPARTURE', 'APRIL DEPARTURE']\n",
    "a = alt.Chart(df).mark_bar().encode(\n",
    "    alt.X(alt.repeat(\"column\"), type='ordinal',title='COUNTRIES'),\n",
    "    alt.Y(alt.repeat(\"column\"), type='quantitative'),\n",
    "    color=alt.Color('COUNTRIES')).properties(\n",
    "    width=270,\n",
    "    height=270).repeat(\n",
    "    #row=months[:-8],\n",
    "    column=month1[:]\n",
    ").interactive()\n",
    "\n",
    "month2 = ['MAY DEPARTURE', 'JUNE DEPARTURE','JULY DEPARTURE', 'AUGUST DEPARTURE']\n",
    "b = alt.Chart(df).mark_bar().encode(\n",
    "    alt.X(alt.repeat(\"column\"), type='ordinal',title='COUNTRIES'),\n",
    "    alt.Y(alt.repeat(\"column\"), type='quantitative'),\n",
    "    color=alt.Color('COUNTRIES')).properties(\n",
    "    width=270,\n",
    "    height=270).repeat(\n",
    "    #row=months[:-8],\n",
    "    column=month2[:]\n",
    "    \n",
    ").interactive().properties()\n",
    "\n",
    "\n",
    "month3 = ['SEPTEMBER DEPARTURE','OCTOBER DEPARTURE', 'NOVEMBER DEPARTURE']\n",
    "c = alt.Chart(df).mark_bar().encode(\n",
    "    alt.X(alt.repeat(\"column\"), type='ordinal',title='COUNTRIES'),\n",
    "    alt.Y(alt.repeat(\"column\"), type='quantitative'),\n",
    "    color=alt.Color('COUNTRIES')).properties(\n",
    "    width=270,\n",
    "    height=270).repeat(\n",
    "    #row=months[:-8],\n",
    "    column=month3[:]).interactive()\n",
    "a & b & c\n",
    "\n",
    "chart.configure_header(\n",
    "    titleColor='green',\n",
    "    titleFontSize=14,\n",
    "    labelColor='red',\n",
    "    labelFontSize=14\n",
    ")"
   ]
  },
  {
   "cell_type": "code",
   "execution_count": 6,
   "metadata": {},
   "outputs": [
    {
     "data": {
      "text/html": [
       "<div>\n",
       "<style scoped>\n",
       "    .dataframe tbody tr th:only-of-type {\n",
       "        vertical-align: middle;\n",
       "    }\n",
       "\n",
       "    .dataframe tbody tr th {\n",
       "        vertical-align: top;\n",
       "    }\n",
       "\n",
       "    .dataframe thead th {\n",
       "        text-align: right;\n",
       "    }\n",
       "</style>\n",
       "<table border=\"1\" class=\"dataframe\">\n",
       "  <thead>\n",
       "    <tr style=\"text-align: right;\">\n",
       "      <th></th>\n",
       "      <th>date</th>\n",
       "      <th>precipitation</th>\n",
       "      <th>temp_max</th>\n",
       "      <th>temp_min</th>\n",
       "      <th>wind</th>\n",
       "      <th>weather</th>\n",
       "    </tr>\n",
       "  </thead>\n",
       "  <tbody>\n",
       "    <tr>\n",
       "      <td>0</td>\n",
       "      <td>2012-01-01</td>\n",
       "      <td>0.0</td>\n",
       "      <td>12.8</td>\n",
       "      <td>5.0</td>\n",
       "      <td>4.7</td>\n",
       "      <td>drizzle</td>\n",
       "    </tr>\n",
       "    <tr>\n",
       "      <td>1</td>\n",
       "      <td>2012-01-02</td>\n",
       "      <td>10.9</td>\n",
       "      <td>10.6</td>\n",
       "      <td>2.8</td>\n",
       "      <td>4.5</td>\n",
       "      <td>rain</td>\n",
       "    </tr>\n",
       "    <tr>\n",
       "      <td>2</td>\n",
       "      <td>2012-01-03</td>\n",
       "      <td>0.8</td>\n",
       "      <td>11.7</td>\n",
       "      <td>7.2</td>\n",
       "      <td>2.3</td>\n",
       "      <td>rain</td>\n",
       "    </tr>\n",
       "    <tr>\n",
       "      <td>3</td>\n",
       "      <td>2012-01-04</td>\n",
       "      <td>20.3</td>\n",
       "      <td>12.2</td>\n",
       "      <td>5.6</td>\n",
       "      <td>4.7</td>\n",
       "      <td>rain</td>\n",
       "    </tr>\n",
       "    <tr>\n",
       "      <td>4</td>\n",
       "      <td>2012-01-05</td>\n",
       "      <td>1.3</td>\n",
       "      <td>8.9</td>\n",
       "      <td>2.8</td>\n",
       "      <td>6.1</td>\n",
       "      <td>rain</td>\n",
       "    </tr>\n",
       "    <tr>\n",
       "      <td>...</td>\n",
       "      <td>...</td>\n",
       "      <td>...</td>\n",
       "      <td>...</td>\n",
       "      <td>...</td>\n",
       "      <td>...</td>\n",
       "      <td>...</td>\n",
       "    </tr>\n",
       "    <tr>\n",
       "      <td>1456</td>\n",
       "      <td>2015-12-27</td>\n",
       "      <td>8.6</td>\n",
       "      <td>4.4</td>\n",
       "      <td>1.7</td>\n",
       "      <td>2.9</td>\n",
       "      <td>fog</td>\n",
       "    </tr>\n",
       "    <tr>\n",
       "      <td>1457</td>\n",
       "      <td>2015-12-28</td>\n",
       "      <td>1.5</td>\n",
       "      <td>5.0</td>\n",
       "      <td>1.7</td>\n",
       "      <td>1.3</td>\n",
       "      <td>fog</td>\n",
       "    </tr>\n",
       "    <tr>\n",
       "      <td>1458</td>\n",
       "      <td>2015-12-29</td>\n",
       "      <td>0.0</td>\n",
       "      <td>7.2</td>\n",
       "      <td>0.6</td>\n",
       "      <td>2.6</td>\n",
       "      <td>fog</td>\n",
       "    </tr>\n",
       "    <tr>\n",
       "      <td>1459</td>\n",
       "      <td>2015-12-30</td>\n",
       "      <td>0.0</td>\n",
       "      <td>5.6</td>\n",
       "      <td>-1.0</td>\n",
       "      <td>3.4</td>\n",
       "      <td>sun</td>\n",
       "    </tr>\n",
       "    <tr>\n",
       "      <td>1460</td>\n",
       "      <td>2015-12-31</td>\n",
       "      <td>0.0</td>\n",
       "      <td>5.6</td>\n",
       "      <td>-2.1</td>\n",
       "      <td>3.5</td>\n",
       "      <td>sun</td>\n",
       "    </tr>\n",
       "  </tbody>\n",
       "</table>\n",
       "<p>1461 rows × 6 columns</p>\n",
       "</div>"
      ],
      "text/plain": [
       "           date  precipitation  temp_max  temp_min  wind  weather\n",
       "0    2012-01-01            0.0      12.8       5.0   4.7  drizzle\n",
       "1    2012-01-02           10.9      10.6       2.8   4.5     rain\n",
       "2    2012-01-03            0.8      11.7       7.2   2.3     rain\n",
       "3    2012-01-04           20.3      12.2       5.6   4.7     rain\n",
       "4    2012-01-05            1.3       8.9       2.8   6.1     rain\n",
       "...         ...            ...       ...       ...   ...      ...\n",
       "1456 2015-12-27            8.6       4.4       1.7   2.9      fog\n",
       "1457 2015-12-28            1.5       5.0       1.7   1.3      fog\n",
       "1458 2015-12-29            0.0       7.2       0.6   2.6      fog\n",
       "1459 2015-12-30            0.0       5.6      -1.0   3.4      sun\n",
       "1460 2015-12-31            0.0       5.6      -2.1   3.5      sun\n",
       "\n",
       "[1461 rows x 6 columns]"
      ]
     },
     "execution_count": 6,
     "metadata": {},
     "output_type": "execute_result"
    }
   ],
   "source": [
    "import altair as alt\n",
    "from vega_datasets import data\n",
    "\n",
    "source = data.seattle_weather()\n",
    "\n",
    "alt.Chart(source).mark_bar(\n",
    ").encode(\n",
    "    x='month(date):O',\n",
    "    y='count():Q',\n",
    "    color='weather:N'\n",
    ")\n",
    "source"
   ]
  },
  {
   "cell_type": "code",
   "execution_count": 7,
   "metadata": {},
   "outputs": [
    {
     "data": {
      "text/html": [
       "<div>\n",
       "<style scoped>\n",
       "    .dataframe tbody tr th:only-of-type {\n",
       "        vertical-align: middle;\n",
       "    }\n",
       "\n",
       "    .dataframe tbody tr th {\n",
       "        vertical-align: top;\n",
       "    }\n",
       "\n",
       "    .dataframe thead th {\n",
       "        text-align: right;\n",
       "    }\n",
       "</style>\n",
       "<table border=\"1\" class=\"dataframe\">\n",
       "  <thead>\n",
       "    <tr style=\"text-align: right;\">\n",
       "      <th></th>\n",
       "      <th>date</th>\n",
       "      <th>precipitation</th>\n",
       "      <th>temp_max</th>\n",
       "      <th>temp_min</th>\n",
       "      <th>wind</th>\n",
       "      <th>weather</th>\n",
       "    </tr>\n",
       "  </thead>\n",
       "  <tbody>\n",
       "    <tr>\n",
       "      <td>0</td>\n",
       "      <td>2012-01-01</td>\n",
       "      <td>0.0</td>\n",
       "      <td>12.8</td>\n",
       "      <td>5.0</td>\n",
       "      <td>4.7</td>\n",
       "      <td>drizzle</td>\n",
       "    </tr>\n",
       "    <tr>\n",
       "      <td>1</td>\n",
       "      <td>2012-01-02</td>\n",
       "      <td>10.9</td>\n",
       "      <td>10.6</td>\n",
       "      <td>2.8</td>\n",
       "      <td>4.5</td>\n",
       "      <td>rain</td>\n",
       "    </tr>\n",
       "  </tbody>\n",
       "</table>\n",
       "</div>"
      ],
      "text/plain": [
       "        date  precipitation  temp_max  temp_min  wind  weather\n",
       "0 2012-01-01            0.0      12.8       5.0   4.7  drizzle\n",
       "1 2012-01-02           10.9      10.6       2.8   4.5     rain"
      ]
     },
     "execution_count": 7,
     "metadata": {},
     "output_type": "execute_result"
    }
   ],
   "source": [
    "source.head(2)"
   ]
  },
  {
   "cell_type": "code",
   "execution_count": 8,
   "metadata": {},
   "outputs": [
    {
     "data": {
      "text/html": [
       "<div>\n",
       "<style scoped>\n",
       "    .dataframe tbody tr th:only-of-type {\n",
       "        vertical-align: middle;\n",
       "    }\n",
       "\n",
       "    .dataframe tbody tr th {\n",
       "        vertical-align: top;\n",
       "    }\n",
       "\n",
       "    .dataframe thead th {\n",
       "        text-align: right;\n",
       "    }\n",
       "</style>\n",
       "<table border=\"1\" class=\"dataframe\">\n",
       "  <thead>\n",
       "    <tr style=\"text-align: right;\">\n",
       "      <th></th>\n",
       "      <th>MONTHS</th>\n",
       "      <th>IVORIANS</th>\n",
       "      <th>BURKINESE</th>\n",
       "      <th>NIGERIANS</th>\n",
       "      <th>LIBERRIANS</th>\n",
       "      <th>SOUTH AFRICANS</th>\n",
       "      <th>TOGOLESE</th>\n",
       "      <th>FRENCH</th>\n",
       "      <th>GERMANS</th>\n",
       "      <th>DUTCH</th>\n",
       "      <th>BRITISH</th>\n",
       "      <th>AMERICANS</th>\n",
       "      <th>CANADIANS</th>\n",
       "      <th>CHINESE</th>\n",
       "      <th>INDIANS</th>\n",
       "      <th>LEBANESE</th>\n",
       "      <th>AUSTRIALIANS</th>\n",
       "      <th>OTHER NATIONALS</th>\n",
       "    </tr>\n",
       "  </thead>\n",
       "  <tbody>\n",
       "    <tr>\n",
       "      <td>0</td>\n",
       "      <td>JANUARY DEPARTURE</td>\n",
       "      <td>1634</td>\n",
       "      <td>1780</td>\n",
       "      <td>7910</td>\n",
       "      <td>757</td>\n",
       "      <td>1415</td>\n",
       "      <td>873</td>\n",
       "      <td>905</td>\n",
       "      <td>1548</td>\n",
       "      <td>1250</td>\n",
       "      <td>4798</td>\n",
       "      <td>4987</td>\n",
       "      <td>1074</td>\n",
       "      <td>1539</td>\n",
       "      <td>1465</td>\n",
       "      <td>531</td>\n",
       "      <td>428</td>\n",
       "      <td>10364</td>\n",
       "    </tr>\n",
       "    <tr>\n",
       "      <td>1</td>\n",
       "      <td>FEBRUARY DEPARTURE</td>\n",
       "      <td>1662</td>\n",
       "      <td>1693</td>\n",
       "      <td>6490</td>\n",
       "      <td>734</td>\n",
       "      <td>1563</td>\n",
       "      <td>702</td>\n",
       "      <td>1117</td>\n",
       "      <td>1298</td>\n",
       "      <td>903</td>\n",
       "      <td>3257</td>\n",
       "      <td>3848</td>\n",
       "      <td>937</td>\n",
       "      <td>1987</td>\n",
       "      <td>1525</td>\n",
       "      <td>562</td>\n",
       "      <td>449</td>\n",
       "      <td>9920</td>\n",
       "    </tr>\n",
       "    <tr>\n",
       "      <td>2</td>\n",
       "      <td>MARCH DEPARTURE</td>\n",
       "      <td>3559</td>\n",
       "      <td>3482</td>\n",
       "      <td>13558</td>\n",
       "      <td>1498</td>\n",
       "      <td>1767</td>\n",
       "      <td>1581</td>\n",
       "      <td>1126</td>\n",
       "      <td>1555</td>\n",
       "      <td>1049</td>\n",
       "      <td>3888</td>\n",
       "      <td>4956</td>\n",
       "      <td>1048</td>\n",
       "      <td>1057</td>\n",
       "      <td>1710</td>\n",
       "      <td>622</td>\n",
       "      <td>435</td>\n",
       "      <td>185</td>\n",
       "    </tr>\n",
       "  </tbody>\n",
       "</table>\n",
       "</div>"
      ],
      "text/plain": [
       "               MONTHS  IVORIANS  BURKINESE  NIGERIANS  LIBERRIANS  \\\n",
       "0   JANUARY DEPARTURE      1634       1780       7910         757   \n",
       "1  FEBRUARY DEPARTURE      1662       1693       6490         734   \n",
       "2     MARCH DEPARTURE      3559       3482      13558        1498   \n",
       "\n",
       "   SOUTH AFRICANS  TOGOLESE  FRENCH  GERMANS  DUTCH  BRITISH  AMERICANS  \\\n",
       "0            1415       873     905     1548   1250     4798       4987   \n",
       "1            1563       702    1117     1298    903     3257       3848   \n",
       "2            1767      1581    1126     1555   1049     3888       4956   \n",
       "\n",
       "   CANADIANS  CHINESE  INDIANS  LEBANESE  AUSTRIALIANS  OTHER NATIONALS  \n",
       "0       1074     1539     1465       531           428            10364  \n",
       "1        937     1987     1525       562           449             9920  \n",
       "2       1048     1057     1710       622           435              185  "
      ]
     },
     "execution_count": 8,
     "metadata": {},
     "output_type": "execute_result"
    }
   ],
   "source": [
    "reset = df.T.reset_index()\n",
    "reset.to_excel(\"trans.xlsx\")\n",
    "df1 = pd.read_csv(\"trans.csv\")\n",
    "df1.head(3)"
   ]
  },
  {
   "cell_type": "code",
   "execution_count": null,
   "metadata": {},
   "outputs": [],
   "source": []
  },
  {
   "cell_type": "markdown",
   "metadata": {},
   "source": [
    "alt.Chart(df1).mark_bar(\n",
    ").encode(\n",
    "    x='MONTHS:O',\n",
    "    y='count(df1.value):Q',\n",
    "    color='MONTHS:N'\n",
    "    \n",
    ")"
   ]
  },
  {
   "cell_type": "code",
   "execution_count": 9,
   "metadata": {},
   "outputs": [
    {
     "data": {
      "application/vnd.vegalite.v3+json": {
       "$schema": "https://vega.github.io/schema/vega-lite/v3.4.0.json",
       "config": {
        "mark": {
         "tooltip": null
        },
        "view": {
         "height": 300,
         "width": 400
        }
       },
       "data": {
        "name": "data-830c39fec90146253fb06a06c26374ef"
       },
       "datasets": {
        "data-830c39fec90146253fb06a06c26374ef": [
         {
          "date": "2012-01-01T00:00:00",
          "precipitation": 0,
          "temp_max": 12.8,
          "temp_min": 5,
          "weather": "drizzle",
          "wind": 4.7
         },
         {
          "date": "2012-01-02T00:00:00",
          "precipitation": 10.9,
          "temp_max": 10.6,
          "temp_min": 2.8,
          "weather": "rain",
          "wind": 4.5
         },
         {
          "date": "2012-01-03T00:00:00",
          "precipitation": 0.8,
          "temp_max": 11.7,
          "temp_min": 7.2,
          "weather": "rain",
          "wind": 2.3
         },
         {
          "date": "2012-01-04T00:00:00",
          "precipitation": 20.3,
          "temp_max": 12.2,
          "temp_min": 5.6,
          "weather": "rain",
          "wind": 4.7
         },
         {
          "date": "2012-01-05T00:00:00",
          "precipitation": 1.3,
          "temp_max": 8.9,
          "temp_min": 2.8,
          "weather": "rain",
          "wind": 6.1
         },
         {
          "date": "2012-01-06T00:00:00",
          "precipitation": 2.5,
          "temp_max": 4.4,
          "temp_min": 2.2,
          "weather": "rain",
          "wind": 2.2
         },
         {
          "date": "2012-01-07T00:00:00",
          "precipitation": 0,
          "temp_max": 7.2,
          "temp_min": 2.8,
          "weather": "rain",
          "wind": 2.3
         },
         {
          "date": "2012-01-08T00:00:00",
          "precipitation": 0,
          "temp_max": 10,
          "temp_min": 2.8,
          "weather": "sun",
          "wind": 2
         },
         {
          "date": "2012-01-09T00:00:00",
          "precipitation": 4.3,
          "temp_max": 9.4,
          "temp_min": 5,
          "weather": "rain",
          "wind": 3.4
         },
         {
          "date": "2012-01-10T00:00:00",
          "precipitation": 1,
          "temp_max": 6.1,
          "temp_min": 0.6,
          "weather": "rain",
          "wind": 3.4
         },
         {
          "date": "2012-01-11T00:00:00",
          "precipitation": 0,
          "temp_max": 6.1,
          "temp_min": -1.1,
          "weather": "sun",
          "wind": 5.1
         },
         {
          "date": "2012-01-12T00:00:00",
          "precipitation": 0,
          "temp_max": 6.1,
          "temp_min": -1.7,
          "weather": "sun",
          "wind": 1.9
         },
         {
          "date": "2012-01-13T00:00:00",
          "precipitation": 0,
          "temp_max": 5,
          "temp_min": -2.8,
          "weather": "sun",
          "wind": 1.3
         },
         {
          "date": "2012-01-14T00:00:00",
          "precipitation": 4.1,
          "temp_max": 4.4,
          "temp_min": 0.6,
          "weather": "snow",
          "wind": 5.3
         },
         {
          "date": "2012-01-15T00:00:00",
          "precipitation": 5.3,
          "temp_max": 1.1,
          "temp_min": -3.3,
          "weather": "snow",
          "wind": 3.2
         },
         {
          "date": "2012-01-16T00:00:00",
          "precipitation": 2.5,
          "temp_max": 1.7,
          "temp_min": -2.8,
          "weather": "snow",
          "wind": 5
         },
         {
          "date": "2012-01-17T00:00:00",
          "precipitation": 8.1,
          "temp_max": 3.3,
          "temp_min": 0,
          "weather": "snow",
          "wind": 5.6
         },
         {
          "date": "2012-01-18T00:00:00",
          "precipitation": 19.8,
          "temp_max": 0,
          "temp_min": -2.8,
          "weather": "snow",
          "wind": 5
         },
         {
          "date": "2012-01-19T00:00:00",
          "precipitation": 15.2,
          "temp_max": -1.1,
          "temp_min": -2.8,
          "weather": "snow",
          "wind": 1.6
         },
         {
          "date": "2012-01-20T00:00:00",
          "precipitation": 13.5,
          "temp_max": 7.2,
          "temp_min": -1.1,
          "weather": "snow",
          "wind": 2.3
         },
         {
          "date": "2012-01-21T00:00:00",
          "precipitation": 3,
          "temp_max": 8.3,
          "temp_min": 3.3,
          "weather": "rain",
          "wind": 8.2
         },
         {
          "date": "2012-01-22T00:00:00",
          "precipitation": 6.1,
          "temp_max": 6.7,
          "temp_min": 2.2,
          "weather": "rain",
          "wind": 4.8
         },
         {
          "date": "2012-01-23T00:00:00",
          "precipitation": 0,
          "temp_max": 8.3,
          "temp_min": 1.1,
          "weather": "rain",
          "wind": 3.6
         },
         {
          "date": "2012-01-24T00:00:00",
          "precipitation": 8.6,
          "temp_max": 10,
          "temp_min": 2.2,
          "weather": "rain",
          "wind": 5.1
         },
         {
          "date": "2012-01-25T00:00:00",
          "precipitation": 8.1,
          "temp_max": 8.9,
          "temp_min": 4.4,
          "weather": "rain",
          "wind": 5.4
         },
         {
          "date": "2012-01-26T00:00:00",
          "precipitation": 4.8,
          "temp_max": 8.9,
          "temp_min": 1.1,
          "weather": "rain",
          "wind": 4.8
         },
         {
          "date": "2012-01-27T00:00:00",
          "precipitation": 0,
          "temp_max": 6.7,
          "temp_min": -2.2,
          "weather": "drizzle",
          "wind": 1.4
         },
         {
          "date": "2012-01-28T00:00:00",
          "precipitation": 0,
          "temp_max": 6.7,
          "temp_min": 0.6,
          "weather": "rain",
          "wind": 2.2
         },
         {
          "date": "2012-01-29T00:00:00",
          "precipitation": 27.7,
          "temp_max": 9.4,
          "temp_min": 3.9,
          "weather": "rain",
          "wind": 4.5
         },
         {
          "date": "2012-01-30T00:00:00",
          "precipitation": 3.6,
          "temp_max": 8.3,
          "temp_min": 6.1,
          "weather": "rain",
          "wind": 5.1
         },
         {
          "date": "2012-01-31T00:00:00",
          "precipitation": 1.8,
          "temp_max": 9.4,
          "temp_min": 6.1,
          "weather": "rain",
          "wind": 3.9
         },
         {
          "date": "2012-02-01T00:00:00",
          "precipitation": 13.5,
          "temp_max": 8.9,
          "temp_min": 3.3,
          "weather": "rain",
          "wind": 2.7
         },
         {
          "date": "2012-02-02T00:00:00",
          "precipitation": 0,
          "temp_max": 8.3,
          "temp_min": 1.7,
          "weather": "sun",
          "wind": 2.6
         },
         {
          "date": "2012-02-03T00:00:00",
          "precipitation": 0,
          "temp_max": 14.4,
          "temp_min": 2.2,
          "weather": "sun",
          "wind": 5.3
         },
         {
          "date": "2012-02-04T00:00:00",
          "precipitation": 0,
          "temp_max": 15.6,
          "temp_min": 5,
          "weather": "sun",
          "wind": 4.3
         },
         {
          "date": "2012-02-05T00:00:00",
          "precipitation": 0,
          "temp_max": 13.9,
          "temp_min": 1.7,
          "weather": "sun",
          "wind": 2.9
         },
         {
          "date": "2012-02-06T00:00:00",
          "precipitation": 0,
          "temp_max": 16.1,
          "temp_min": 1.7,
          "weather": "sun",
          "wind": 5
         },
         {
          "date": "2012-02-07T00:00:00",
          "precipitation": 0.3,
          "temp_max": 15.6,
          "temp_min": 7.8,
          "weather": "rain",
          "wind": 5.3
         },
         {
          "date": "2012-02-08T00:00:00",
          "precipitation": 2.8,
          "temp_max": 10,
          "temp_min": 5,
          "weather": "rain",
          "wind": 2.7
         },
         {
          "date": "2012-02-09T00:00:00",
          "precipitation": 2.5,
          "temp_max": 11.1,
          "temp_min": 7.8,
          "weather": "rain",
          "wind": 2.4
         },
         {
          "date": "2012-02-10T00:00:00",
          "precipitation": 2.5,
          "temp_max": 12.8,
          "temp_min": 6.7,
          "weather": "rain",
          "wind": 3
         },
         {
          "date": "2012-02-11T00:00:00",
          "precipitation": 0.8,
          "temp_max": 8.9,
          "temp_min": 5.6,
          "weather": "rain",
          "wind": 3.4
         },
         {
          "date": "2012-02-12T00:00:00",
          "precipitation": 1,
          "temp_max": 8.3,
          "temp_min": 5,
          "weather": "rain",
          "wind": 1.3
         },
         {
          "date": "2012-02-13T00:00:00",
          "precipitation": 11.4,
          "temp_max": 7.2,
          "temp_min": 4.4,
          "weather": "rain",
          "wind": 1.4
         },
         {
          "date": "2012-02-14T00:00:00",
          "precipitation": 2.5,
          "temp_max": 6.7,
          "temp_min": 1.1,
          "weather": "rain",
          "wind": 3.1
         },
         {
          "date": "2012-02-15T00:00:00",
          "precipitation": 0,
          "temp_max": 7.2,
          "temp_min": 0.6,
          "weather": "drizzle",
          "wind": 1.8
         },
         {
          "date": "2012-02-16T00:00:00",
          "precipitation": 1.8,
          "temp_max": 7.2,
          "temp_min": 3.3,
          "weather": "rain",
          "wind": 2.1
         },
         {
          "date": "2012-02-17T00:00:00",
          "precipitation": 17.3,
          "temp_max": 10,
          "temp_min": 4.4,
          "weather": "rain",
          "wind": 3.4
         },
         {
          "date": "2012-02-18T00:00:00",
          "precipitation": 6.4,
          "temp_max": 6.7,
          "temp_min": 3.9,
          "weather": "rain",
          "wind": 8.1
         },
         {
          "date": "2012-02-19T00:00:00",
          "precipitation": 0,
          "temp_max": 6.7,
          "temp_min": 2.2,
          "weather": "sun",
          "wind": 4.7
         },
         {
          "date": "2012-02-20T00:00:00",
          "precipitation": 3,
          "temp_max": 7.8,
          "temp_min": 1.7,
          "weather": "rain",
          "wind": 2.9
         },
         {
          "date": "2012-02-21T00:00:00",
          "precipitation": 0.8,
          "temp_max": 10,
          "temp_min": 7.8,
          "weather": "rain",
          "wind": 7.5
         },
         {
          "date": "2012-02-22T00:00:00",
          "precipitation": 8.6,
          "temp_max": 10,
          "temp_min": 2.8,
          "weather": "rain",
          "wind": 5.9
         },
         {
          "date": "2012-02-23T00:00:00",
          "precipitation": 0,
          "temp_max": 8.3,
          "temp_min": 2.8,
          "weather": "sun",
          "wind": 3.9
         },
         {
          "date": "2012-02-24T00:00:00",
          "precipitation": 11.4,
          "temp_max": 6.7,
          "temp_min": 4.4,
          "weather": "rain",
          "wind": 3.5
         },
         {
          "date": "2012-02-25T00:00:00",
          "precipitation": 0,
          "temp_max": 7.2,
          "temp_min": 2.8,
          "weather": "rain",
          "wind": 6.4
         },
         {
          "date": "2012-02-26T00:00:00",
          "precipitation": 1.3,
          "temp_max": 5,
          "temp_min": -1.1,
          "weather": "snow",
          "wind": 3.4
         },
         {
          "date": "2012-02-27T00:00:00",
          "precipitation": 0,
          "temp_max": 6.7,
          "temp_min": -2.2,
          "weather": "sun",
          "wind": 3
         },
         {
          "date": "2012-02-28T00:00:00",
          "precipitation": 3.6,
          "temp_max": 6.7,
          "temp_min": -0.6,
          "weather": "snow",
          "wind": 4.2
         },
         {
          "date": "2012-02-29T00:00:00",
          "precipitation": 0.8,
          "temp_max": 5,
          "temp_min": 1.1,
          "weather": "snow",
          "wind": 7
         },
         {
          "date": "2012-03-01T00:00:00",
          "precipitation": 0,
          "temp_max": 6.1,
          "temp_min": 1.1,
          "weather": "sun",
          "wind": 3.1
         },
         {
          "date": "2012-03-02T00:00:00",
          "precipitation": 2,
          "temp_max": 6.7,
          "temp_min": 3.9,
          "weather": "rain",
          "wind": 5.1
         },
         {
          "date": "2012-03-03T00:00:00",
          "precipitation": 0,
          "temp_max": 12.2,
          "temp_min": 6.7,
          "weather": "sun",
          "wind": 7
         },
         {
          "date": "2012-03-04T00:00:00",
          "precipitation": 0,
          "temp_max": 10.6,
          "temp_min": 6.7,
          "weather": "rain",
          "wind": 5.6
         },
         {
          "date": "2012-03-05T00:00:00",
          "precipitation": 6.9,
          "temp_max": 7.8,
          "temp_min": 1.1,
          "weather": "rain",
          "wind": 6.2
         },
         {
          "date": "2012-03-06T00:00:00",
          "precipitation": 0.5,
          "temp_max": 6.7,
          "temp_min": 0,
          "weather": "snow",
          "wind": 2.7
         },
         {
          "date": "2012-03-07T00:00:00",
          "precipitation": 0,
          "temp_max": 8.9,
          "temp_min": -1.7,
          "weather": "sun",
          "wind": 2.7
         },
         {
          "date": "2012-03-08T00:00:00",
          "precipitation": 0,
          "temp_max": 15.6,
          "temp_min": 0.6,
          "weather": "sun",
          "wind": 2.5
         },
         {
          "date": "2012-03-09T00:00:00",
          "precipitation": 3.6,
          "temp_max": 9.4,
          "temp_min": 5,
          "weather": "rain",
          "wind": 2.8
         },
         {
          "date": "2012-03-10T00:00:00",
          "precipitation": 10.4,
          "temp_max": 7.2,
          "temp_min": 6.1,
          "weather": "rain",
          "wind": 3.4
         },
         {
          "date": "2012-03-11T00:00:00",
          "precipitation": 13.7,
          "temp_max": 6.7,
          "temp_min": 2.8,
          "weather": "rain",
          "wind": 5.8
         },
         {
          "date": "2012-03-12T00:00:00",
          "precipitation": 19.3,
          "temp_max": 8.3,
          "temp_min": 0.6,
          "weather": "snow",
          "wind": 6.2
         },
         {
          "date": "2012-03-13T00:00:00",
          "precipitation": 9.4,
          "temp_max": 5.6,
          "temp_min": 0.6,
          "weather": "snow",
          "wind": 5.3
         },
         {
          "date": "2012-03-14T00:00:00",
          "precipitation": 8.6,
          "temp_max": 7.8,
          "temp_min": 1.1,
          "weather": "rain",
          "wind": 4.7
         },
         {
          "date": "2012-03-15T00:00:00",
          "precipitation": 23.9,
          "temp_max": 11.1,
          "temp_min": 5.6,
          "weather": "snow",
          "wind": 5.8
         },
         {
          "date": "2012-03-16T00:00:00",
          "precipitation": 8.4,
          "temp_max": 8.9,
          "temp_min": 3.9,
          "weather": "rain",
          "wind": 5.1
         },
         {
          "date": "2012-03-17T00:00:00",
          "precipitation": 9.4,
          "temp_max": 10,
          "temp_min": 0.6,
          "weather": "snow",
          "wind": 3.8
         },
         {
          "date": "2012-03-18T00:00:00",
          "precipitation": 3.6,
          "temp_max": 5,
          "temp_min": -0.6,
          "weather": "rain",
          "wind": 2.7
         },
         {
          "date": "2012-03-19T00:00:00",
          "precipitation": 2,
          "temp_max": 7.2,
          "temp_min": -1.1,
          "weather": "rain",
          "wind": 3
         },
         {
          "date": "2012-03-20T00:00:00",
          "precipitation": 3.6,
          "temp_max": 7.8,
          "temp_min": 2.2,
          "weather": "rain",
          "wind": 6.4
         },
         {
          "date": "2012-03-21T00:00:00",
          "precipitation": 1.3,
          "temp_max": 8.9,
          "temp_min": 1.1,
          "weather": "rain",
          "wind": 2.5
         },
         {
          "date": "2012-03-22T00:00:00",
          "precipitation": 4.1,
          "temp_max": 10,
          "temp_min": 1.7,
          "weather": "rain",
          "wind": 2.1
         },
         {
          "date": "2012-03-23T00:00:00",
          "precipitation": 0,
          "temp_max": 12.2,
          "temp_min": 0.6,
          "weather": "sun",
          "wind": 2.8
         },
         {
          "date": "2012-03-24T00:00:00",
          "precipitation": 0,
          "temp_max": 15,
          "temp_min": 3.3,
          "weather": "sun",
          "wind": 5.2
         },
         {
          "date": "2012-03-25T00:00:00",
          "precipitation": 0,
          "temp_max": 13.3,
          "temp_min": 2.2,
          "weather": "rain",
          "wind": 2.7
         },
         {
          "date": "2012-03-26T00:00:00",
          "precipitation": 0,
          "temp_max": 12.8,
          "temp_min": 6.1,
          "weather": "drizzle",
          "wind": 4.3
         },
         {
          "date": "2012-03-27T00:00:00",
          "precipitation": 4.8,
          "temp_max": 14.4,
          "temp_min": 6.7,
          "weather": "rain",
          "wind": 3.8
         },
         {
          "date": "2012-03-28T00:00:00",
          "precipitation": 1.3,
          "temp_max": 10.6,
          "temp_min": 7.2,
          "weather": "rain",
          "wind": 5.9
         },
         {
          "date": "2012-03-29T00:00:00",
          "precipitation": 27.4,
          "temp_max": 10,
          "temp_min": 6.1,
          "weather": "rain",
          "wind": 4.4
         },
         {
          "date": "2012-03-30T00:00:00",
          "precipitation": 5.6,
          "temp_max": 9.4,
          "temp_min": 5,
          "weather": "rain",
          "wind": 4.7
         },
         {
          "date": "2012-03-31T00:00:00",
          "precipitation": 13.2,
          "temp_max": 10,
          "temp_min": 2.8,
          "weather": "rain",
          "wind": 3.4
         },
         {
          "date": "2012-04-01T00:00:00",
          "precipitation": 1.5,
          "temp_max": 8.9,
          "temp_min": 4.4,
          "weather": "rain",
          "wind": 6.8
         },
         {
          "date": "2012-04-02T00:00:00",
          "precipitation": 0,
          "temp_max": 16.7,
          "temp_min": 4.4,
          "weather": "sun",
          "wind": 3.1
         },
         {
          "date": "2012-04-03T00:00:00",
          "precipitation": 1.5,
          "temp_max": 11.7,
          "temp_min": 3.3,
          "weather": "rain",
          "wind": 3.1
         },
         {
          "date": "2012-04-04T00:00:00",
          "precipitation": 0,
          "temp_max": 10.6,
          "temp_min": 2.8,
          "weather": "sun",
          "wind": 2.1
         },
         {
          "date": "2012-04-05T00:00:00",
          "precipitation": 4.6,
          "temp_max": 9.4,
          "temp_min": 2.8,
          "weather": "snow",
          "wind": 1.8
         },
         {
          "date": "2012-04-06T00:00:00",
          "precipitation": 0.3,
          "temp_max": 11.1,
          "temp_min": 3.3,
          "weather": "rain",
          "wind": 2.6
         },
         {
          "date": "2012-04-07T00:00:00",
          "precipitation": 0,
          "temp_max": 16.1,
          "temp_min": 1.7,
          "weather": "sun",
          "wind": 4.3
         },
         {
          "date": "2012-04-08T00:00:00",
          "precipitation": 0,
          "temp_max": 21.1,
          "temp_min": 7.2,
          "weather": "sun",
          "wind": 4.1
         },
         {
          "date": "2012-04-09T00:00:00",
          "precipitation": 0,
          "temp_max": 20,
          "temp_min": 6.1,
          "weather": "sun",
          "wind": 2.1
         },
         {
          "date": "2012-04-10T00:00:00",
          "precipitation": 0,
          "temp_max": 17.8,
          "temp_min": 8.9,
          "weather": "rain",
          "wind": 3.2
         },
         {
          "date": "2012-04-11T00:00:00",
          "precipitation": 2.3,
          "temp_max": 11.1,
          "temp_min": 7.2,
          "weather": "rain",
          "wind": 2.6
         },
         {
          "date": "2012-04-12T00:00:00",
          "precipitation": 0.5,
          "temp_max": 13.9,
          "temp_min": 5.6,
          "weather": "rain",
          "wind": 2.6
         },
         {
          "date": "2012-04-13T00:00:00",
          "precipitation": 0,
          "temp_max": 15,
          "temp_min": 3.9,
          "weather": "drizzle",
          "wind": 4
         },
         {
          "date": "2012-04-14T00:00:00",
          "precipitation": 0,
          "temp_max": 15.6,
          "temp_min": 3.3,
          "weather": "sun",
          "wind": 3
         },
         {
          "date": "2012-04-15T00:00:00",
          "precipitation": 0,
          "temp_max": 16.1,
          "temp_min": 7.2,
          "weather": "rain",
          "wind": 2.9
         },
         {
          "date": "2012-04-16T00:00:00",
          "precipitation": 8.1,
          "temp_max": 13.3,
          "temp_min": 6.7,
          "weather": "rain",
          "wind": 5.8
         },
         {
          "date": "2012-04-17T00:00:00",
          "precipitation": 1.8,
          "temp_max": 10,
          "temp_min": 4.4,
          "weather": "rain",
          "wind": 2
         },
         {
          "date": "2012-04-18T00:00:00",
          "precipitation": 1.8,
          "temp_max": 13.3,
          "temp_min": 7.2,
          "weather": "rain",
          "wind": 3.9
         },
         {
          "date": "2012-04-19T00:00:00",
          "precipitation": 10.9,
          "temp_max": 13.9,
          "temp_min": 5,
          "weather": "rain",
          "wind": 2.6
         },
         {
          "date": "2012-04-20T00:00:00",
          "precipitation": 6.6,
          "temp_max": 13.3,
          "temp_min": 6.7,
          "weather": "rain",
          "wind": 2.7
         },
         {
          "date": "2012-04-21T00:00:00",
          "precipitation": 0,
          "temp_max": 20,
          "temp_min": 4.4,
          "weather": "sun",
          "wind": 2.3
         },
         {
          "date": "2012-04-22T00:00:00",
          "precipitation": 0,
          "temp_max": 23.3,
          "temp_min": 8.3,
          "weather": "rain",
          "wind": 2.6
         },
         {
          "date": "2012-04-23T00:00:00",
          "precipitation": 0,
          "temp_max": 21.7,
          "temp_min": 8.9,
          "weather": "sun",
          "wind": 3.5
         },
         {
          "date": "2012-04-24T00:00:00",
          "precipitation": 4.3,
          "temp_max": 13.9,
          "temp_min": 10,
          "weather": "rain",
          "wind": 2.8
         },
         {
          "date": "2012-04-25T00:00:00",
          "precipitation": 10.7,
          "temp_max": 16.7,
          "temp_min": 8.9,
          "weather": "rain",
          "wind": 2.6
         },
         {
          "date": "2012-04-26T00:00:00",
          "precipitation": 3.8,
          "temp_max": 13.9,
          "temp_min": 6.7,
          "weather": "rain",
          "wind": 5.2
         },
         {
          "date": "2012-04-27T00:00:00",
          "precipitation": 0.8,
          "temp_max": 13.3,
          "temp_min": 6.1,
          "weather": "rain",
          "wind": 4.8
         },
         {
          "date": "2012-04-28T00:00:00",
          "precipitation": 0,
          "temp_max": 16.1,
          "temp_min": 8.3,
          "weather": "drizzle",
          "wind": 2.5
         },
         {
          "date": "2012-04-29T00:00:00",
          "precipitation": 4.3,
          "temp_max": 15.6,
          "temp_min": 8.9,
          "weather": "rain",
          "wind": 1.6
         },
         {
          "date": "2012-04-30T00:00:00",
          "precipitation": 4.3,
          "temp_max": 12.8,
          "temp_min": 7.2,
          "weather": "rain",
          "wind": 8
         },
         {
          "date": "2012-05-01T00:00:00",
          "precipitation": 0.5,
          "temp_max": 11.7,
          "temp_min": 6.1,
          "weather": "rain",
          "wind": 6.4
         },
         {
          "date": "2012-05-02T00:00:00",
          "precipitation": 0.5,
          "temp_max": 13.3,
          "temp_min": 5.6,
          "weather": "rain",
          "wind": 2.5
         },
         {
          "date": "2012-05-03T00:00:00",
          "precipitation": 18.5,
          "temp_max": 11.1,
          "temp_min": 7.2,
          "weather": "rain",
          "wind": 3.4
         },
         {
          "date": "2012-05-04T00:00:00",
          "precipitation": 1.8,
          "temp_max": 12.2,
          "temp_min": 6.1,
          "weather": "rain",
          "wind": 4.6
         },
         {
          "date": "2012-05-05T00:00:00",
          "precipitation": 0,
          "temp_max": 13.3,
          "temp_min": 5,
          "weather": "sun",
          "wind": 2.3
         },
         {
          "date": "2012-05-06T00:00:00",
          "precipitation": 0,
          "temp_max": 17.8,
          "temp_min": 5,
          "weather": "sun",
          "wind": 2.4
         },
         {
          "date": "2012-05-07T00:00:00",
          "precipitation": 0,
          "temp_max": 23.9,
          "temp_min": 6.1,
          "weather": "sun",
          "wind": 2.2
         },
         {
          "date": "2012-05-08T00:00:00",
          "precipitation": 0,
          "temp_max": 18.3,
          "temp_min": 9.4,
          "weather": "sun",
          "wind": 3
         },
         {
          "date": "2012-05-09T00:00:00",
          "precipitation": 0,
          "temp_max": 13.3,
          "temp_min": 6.7,
          "weather": "rain",
          "wind": 3.9
         },
         {
          "date": "2012-05-10T00:00:00",
          "precipitation": 0,
          "temp_max": 14.4,
          "temp_min": 3.9,
          "weather": "sun",
          "wind": 3
         },
         {
          "date": "2012-05-11T00:00:00",
          "precipitation": 0,
          "temp_max": 18.3,
          "temp_min": 4.4,
          "weather": "sun",
          "wind": 4.3
         },
         {
          "date": "2012-05-12T00:00:00",
          "precipitation": 0,
          "temp_max": 24.4,
          "temp_min": 6.7,
          "weather": "sun",
          "wind": 3.4
         },
         {
          "date": "2012-05-13T00:00:00",
          "precipitation": 0,
          "temp_max": 25.6,
          "temp_min": 9.4,
          "weather": "sun",
          "wind": 4.2
         },
         {
          "date": "2012-05-14T00:00:00",
          "precipitation": 0,
          "temp_max": 26.7,
          "temp_min": 12.8,
          "weather": "sun",
          "wind": 3.8
         },
         {
          "date": "2012-05-15T00:00:00",
          "precipitation": 0,
          "temp_max": 24.4,
          "temp_min": 9.4,
          "weather": "drizzle",
          "wind": 4.1
         },
         {
          "date": "2012-05-16T00:00:00",
          "precipitation": 0,
          "temp_max": 19.4,
          "temp_min": 9.4,
          "weather": "sun",
          "wind": 3.5
         },
         {
          "date": "2012-05-17T00:00:00",
          "precipitation": 0,
          "temp_max": 17.8,
          "temp_min": 6.7,
          "weather": "rain",
          "wind": 2.9
         },
         {
          "date": "2012-05-18T00:00:00",
          "precipitation": 0,
          "temp_max": 15.6,
          "temp_min": 7.8,
          "weather": "rain",
          "wind": 3.1
         },
         {
          "date": "2012-05-19T00:00:00",
          "precipitation": 0,
          "temp_max": 19.4,
          "temp_min": 7.2,
          "weather": "sun",
          "wind": 1.5
         },
         {
          "date": "2012-05-20T00:00:00",
          "precipitation": 6.4,
          "temp_max": 14.4,
          "temp_min": 11.7,
          "weather": "rain",
          "wind": 1.3
         },
         {
          "date": "2012-05-21T00:00:00",
          "precipitation": 14,
          "temp_max": 16.7,
          "temp_min": 10,
          "weather": "rain",
          "wind": 4
         },
         {
          "date": "2012-05-22T00:00:00",
          "precipitation": 6.1,
          "temp_max": 12.8,
          "temp_min": 8.9,
          "weather": "rain",
          "wind": 4.8
         },
         {
          "date": "2012-05-23T00:00:00",
          "precipitation": 0.3,
          "temp_max": 14.4,
          "temp_min": 8.9,
          "weather": "rain",
          "wind": 6.3
         },
         {
          "date": "2012-05-24T00:00:00",
          "precipitation": 0,
          "temp_max": 17.2,
          "temp_min": 8.9,
          "weather": "rain",
          "wind": 3.3
         },
         {
          "date": "2012-05-25T00:00:00",
          "precipitation": 0,
          "temp_max": 22.2,
          "temp_min": 8.9,
          "weather": "rain",
          "wind": 3.1
         },
         {
          "date": "2012-05-26T00:00:00",
          "precipitation": 0,
          "temp_max": 22.2,
          "temp_min": 8.9,
          "weather": "sun",
          "wind": 3.6
         },
         {
          "date": "2012-05-27T00:00:00",
          "precipitation": 0,
          "temp_max": 17.2,
          "temp_min": 11.7,
          "weather": "sun",
          "wind": 3.7
         },
         {
          "date": "2012-05-28T00:00:00",
          "precipitation": 0,
          "temp_max": 16.7,
          "temp_min": 10,
          "weather": "rain",
          "wind": 3.4
         },
         {
          "date": "2012-05-29T00:00:00",
          "precipitation": 0,
          "temp_max": 16.1,
          "temp_min": 7.8,
          "weather": "sun",
          "wind": 1.8
         },
         {
          "date": "2012-05-30T00:00:00",
          "precipitation": 0.3,
          "temp_max": 18.9,
          "temp_min": 11.1,
          "weather": "rain",
          "wind": 1.5
         },
         {
          "date": "2012-05-31T00:00:00",
          "precipitation": 3.8,
          "temp_max": 17.8,
          "temp_min": 12.2,
          "weather": "rain",
          "wind": 2.7
         },
         {
          "date": "2012-06-01T00:00:00",
          "precipitation": 6.6,
          "temp_max": 20,
          "temp_min": 12.8,
          "weather": "rain",
          "wind": 3.7
         },
         {
          "date": "2012-06-02T00:00:00",
          "precipitation": 0.3,
          "temp_max": 18.9,
          "temp_min": 10.6,
          "weather": "rain",
          "wind": 3.7
         },
         {
          "date": "2012-06-03T00:00:00",
          "precipitation": 0,
          "temp_max": 17.2,
          "temp_min": 9.4,
          "weather": "sun",
          "wind": 2.9
         },
         {
          "date": "2012-06-04T00:00:00",
          "precipitation": 1.3,
          "temp_max": 12.8,
          "temp_min": 8.9,
          "weather": "rain",
          "wind": 3.1
         },
         {
          "date": "2012-06-05T00:00:00",
          "precipitation": 16,
          "temp_max": 13.3,
          "temp_min": 8.3,
          "weather": "rain",
          "wind": 3.3
         },
         {
          "date": "2012-06-06T00:00:00",
          "precipitation": 0,
          "temp_max": 16.1,
          "temp_min": 6.1,
          "weather": "sun",
          "wind": 3.4
         },
         {
          "date": "2012-06-07T00:00:00",
          "precipitation": 16.5,
          "temp_max": 16.1,
          "temp_min": 8.9,
          "weather": "rain",
          "wind": 3.5
         },
         {
          "date": "2012-06-08T00:00:00",
          "precipitation": 1.5,
          "temp_max": 15,
          "temp_min": 8.3,
          "weather": "rain",
          "wind": 3
         },
         {
          "date": "2012-06-09T00:00:00",
          "precipitation": 0,
          "temp_max": 17.2,
          "temp_min": 8.3,
          "weather": "rain",
          "wind": 4.7
         },
         {
          "date": "2012-06-10T00:00:00",
          "precipitation": 0,
          "temp_max": 18.9,
          "temp_min": 10,
          "weather": "sun",
          "wind": 2.9
         },
         {
          "date": "2012-06-11T00:00:00",
          "precipitation": 0,
          "temp_max": 23.3,
          "temp_min": 10,
          "weather": "rain",
          "wind": 1.8
         },
         {
          "date": "2012-06-12T00:00:00",
          "precipitation": 0.8,
          "temp_max": 18.3,
          "temp_min": 12.8,
          "weather": "rain",
          "wind": 3.9
         },
         {
          "date": "2012-06-13T00:00:00",
          "precipitation": 0,
          "temp_max": 16.1,
          "temp_min": 11.1,
          "weather": "sun",
          "wind": 4.3
         },
         {
          "date": "2012-06-14T00:00:00",
          "precipitation": 0,
          "temp_max": 17.2,
          "temp_min": 10,
          "weather": "sun",
          "wind": 2.7
         },
         {
          "date": "2012-06-15T00:00:00",
          "precipitation": 0,
          "temp_max": 22.2,
          "temp_min": 9.4,
          "weather": "sun",
          "wind": 1.7
         },
         {
          "date": "2012-06-16T00:00:00",
          "precipitation": 0,
          "temp_max": 21.1,
          "temp_min": 15,
          "weather": "rain",
          "wind": 4.1
         },
         {
          "date": "2012-06-17T00:00:00",
          "precipitation": 0,
          "temp_max": 18.9,
          "temp_min": 11.7,
          "weather": "sun",
          "wind": 6.4
         },
         {
          "date": "2012-06-18T00:00:00",
          "precipitation": 3,
          "temp_max": 17.2,
          "temp_min": 10,
          "weather": "rain",
          "wind": 3.8
         },
         {
          "date": "2012-06-19T00:00:00",
          "precipitation": 1,
          "temp_max": 19.4,
          "temp_min": 10,
          "weather": "rain",
          "wind": 3
         },
         {
          "date": "2012-06-20T00:00:00",
          "precipitation": 0,
          "temp_max": 24.4,
          "temp_min": 10,
          "weather": "sun",
          "wind": 3
         },
         {
          "date": "2012-06-21T00:00:00",
          "precipitation": 0,
          "temp_max": 23.9,
          "temp_min": 11.7,
          "weather": "sun",
          "wind": 2.1
         },
         {
          "date": "2012-06-22T00:00:00",
          "precipitation": 15.7,
          "temp_max": 13.9,
          "temp_min": 11.7,
          "weather": "rain",
          "wind": 1.9
         },
         {
          "date": "2012-06-23T00:00:00",
          "precipitation": 8.6,
          "temp_max": 15.6,
          "temp_min": 9.4,
          "weather": "rain",
          "wind": 2.5
         },
         {
          "date": "2012-06-24T00:00:00",
          "precipitation": 0,
          "temp_max": 19.4,
          "temp_min": 9.4,
          "weather": "drizzle",
          "wind": 2
         },
         {
          "date": "2012-06-25T00:00:00",
          "precipitation": 0.5,
          "temp_max": 19.4,
          "temp_min": 11.1,
          "weather": "rain",
          "wind": 3.1
         },
         {
          "date": "2012-06-26T00:00:00",
          "precipitation": 0,
          "temp_max": 18.3,
          "temp_min": 10.6,
          "weather": "rain",
          "wind": 3.4
         },
         {
          "date": "2012-06-27T00:00:00",
          "precipitation": 0,
          "temp_max": 22.8,
          "temp_min": 8.9,
          "weather": "sun",
          "wind": 1.8
         },
         {
          "date": "2012-06-28T00:00:00",
          "precipitation": 0,
          "temp_max": 22.2,
          "temp_min": 11.7,
          "weather": "rain",
          "wind": 2.5
         },
         {
          "date": "2012-06-29T00:00:00",
          "precipitation": 0.3,
          "temp_max": 21.7,
          "temp_min": 15,
          "weather": "rain",
          "wind": 1.9
         },
         {
          "date": "2012-06-30T00:00:00",
          "precipitation": 3,
          "temp_max": 20,
          "temp_min": 13.3,
          "weather": "rain",
          "wind": 2.4
         },
         {
          "date": "2012-07-01T00:00:00",
          "precipitation": 0,
          "temp_max": 20,
          "temp_min": 12.2,
          "weather": "rain",
          "wind": 2.3
         },
         {
          "date": "2012-07-02T00:00:00",
          "precipitation": 2,
          "temp_max": 18.9,
          "temp_min": 11.7,
          "weather": "rain",
          "wind": 2.1
         },
         {
          "date": "2012-07-03T00:00:00",
          "precipitation": 5.8,
          "temp_max": 18.3,
          "temp_min": 10.6,
          "weather": "rain",
          "wind": 6
         },
         {
          "date": "2012-07-04T00:00:00",
          "precipitation": 0,
          "temp_max": 20.6,
          "temp_min": 9.4,
          "weather": "sun",
          "wind": 3.8
         },
         {
          "date": "2012-07-05T00:00:00",
          "precipitation": 0,
          "temp_max": 24.4,
          "temp_min": 10.6,
          "weather": "drizzle",
          "wind": 3.1
         },
         {
          "date": "2012-07-06T00:00:00",
          "precipitation": 0,
          "temp_max": 25,
          "temp_min": 11.1,
          "weather": "sun",
          "wind": 2.1
         },
         {
          "date": "2012-07-07T00:00:00",
          "precipitation": 0,
          "temp_max": 26.7,
          "temp_min": 12.8,
          "weather": "sun",
          "wind": 3.8
         },
         {
          "date": "2012-07-08T00:00:00",
          "precipitation": 0,
          "temp_max": 28.3,
          "temp_min": 14.4,
          "weather": "rain",
          "wind": 2.8
         },
         {
          "date": "2012-07-09T00:00:00",
          "precipitation": 1.5,
          "temp_max": 25,
          "temp_min": 12.8,
          "weather": "rain",
          "wind": 2
         },
         {
          "date": "2012-07-10T00:00:00",
          "precipitation": 0,
          "temp_max": 23.9,
          "temp_min": 11.1,
          "weather": "drizzle",
          "wind": 2.3
         },
         {
          "date": "2012-07-11T00:00:00",
          "precipitation": 0,
          "temp_max": 27.8,
          "temp_min": 13.3,
          "weather": "fog",
          "wind": 2.9
         },
         {
          "date": "2012-07-12T00:00:00",
          "precipitation": 0,
          "temp_max": 25.6,
          "temp_min": 13.3,
          "weather": "drizzle",
          "wind": 2.7
         },
         {
          "date": "2012-07-13T00:00:00",
          "precipitation": 0.5,
          "temp_max": 23.3,
          "temp_min": 13.9,
          "weather": "rain",
          "wind": 2.2
         },
         {
          "date": "2012-07-14T00:00:00",
          "precipitation": 0,
          "temp_max": 25,
          "temp_min": 15,
          "weather": "rain",
          "wind": 2.2
         },
         {
          "date": "2012-07-15T00:00:00",
          "precipitation": 0,
          "temp_max": 18.9,
          "temp_min": 13.3,
          "weather": "rain",
          "wind": 3.8
         },
         {
          "date": "2012-07-16T00:00:00",
          "precipitation": 0.3,
          "temp_max": 26.1,
          "temp_min": 13.3,
          "weather": "rain",
          "wind": 2.5
         },
         {
          "date": "2012-07-17T00:00:00",
          "precipitation": 0,
          "temp_max": 21.7,
          "temp_min": 15,
          "weather": "sun",
          "wind": 2.6
         },
         {
          "date": "2012-07-18T00:00:00",
          "precipitation": 0,
          "temp_max": 21.1,
          "temp_min": 14.4,
          "weather": "sun",
          "wind": 2.9
         },
         {
          "date": "2012-07-19T00:00:00",
          "precipitation": 0,
          "temp_max": 25,
          "temp_min": 14.4,
          "weather": "sun",
          "wind": 2.2
         },
         {
          "date": "2012-07-20T00:00:00",
          "precipitation": 15.2,
          "temp_max": 19.4,
          "temp_min": 13.9,
          "weather": "rain",
          "wind": 4
         },
         {
          "date": "2012-07-21T00:00:00",
          "precipitation": 0,
          "temp_max": 23.9,
          "temp_min": 13.9,
          "weather": "sun",
          "wind": 2.3
         },
         {
          "date": "2012-07-22T00:00:00",
          "precipitation": 1,
          "temp_max": 20.6,
          "temp_min": 12.2,
          "weather": "rain",
          "wind": 3.9
         },
         {
          "date": "2012-07-23T00:00:00",
          "precipitation": 0,
          "temp_max": 18.9,
          "temp_min": 11.1,
          "weather": "rain",
          "wind": 3.3
         },
         {
          "date": "2012-07-24T00:00:00",
          "precipitation": 0,
          "temp_max": 23.3,
          "temp_min": 12.2,
          "weather": "sun",
          "wind": 4.3
         },
         {
          "date": "2012-07-25T00:00:00",
          "precipitation": 0,
          "temp_max": 26.7,
          "temp_min": 12.8,
          "weather": "sun",
          "wind": 2.6
         },
         {
          "date": "2012-07-26T00:00:00",
          "precipitation": 0,
          "temp_max": 25.6,
          "temp_min": 12.8,
          "weather": "drizzle",
          "wind": 2.2
         },
         {
          "date": "2012-07-27T00:00:00",
          "precipitation": 0,
          "temp_max": 18.9,
          "temp_min": 13.9,
          "weather": "drizzle",
          "wind": 2.8
         },
         {
          "date": "2012-07-28T00:00:00",
          "precipitation": 0,
          "temp_max": 22.2,
          "temp_min": 13.3,
          "weather": "drizzle",
          "wind": 1.7
         },
         {
          "date": "2012-07-29T00:00:00",
          "precipitation": 0,
          "temp_max": 22.8,
          "temp_min": 15,
          "weather": "sun",
          "wind": 2
         },
         {
          "date": "2012-07-30T00:00:00",
          "precipitation": 0,
          "temp_max": 19.4,
          "temp_min": 13.3,
          "weather": "sun",
          "wind": 3
         },
         {
          "date": "2012-07-31T00:00:00",
          "precipitation": 0,
          "temp_max": 22.8,
          "temp_min": 13.9,
          "weather": "sun",
          "wind": 2.8
         },
         {
          "date": "2012-08-01T00:00:00",
          "precipitation": 0,
          "temp_max": 23.9,
          "temp_min": 13.3,
          "weather": "drizzle",
          "wind": 2.2
         },
         {
          "date": "2012-08-02T00:00:00",
          "precipitation": 0,
          "temp_max": 23.3,
          "temp_min": 12.2,
          "weather": "sun",
          "wind": 2.5
         },
         {
          "date": "2012-08-03T00:00:00",
          "precipitation": 0,
          "temp_max": 27.2,
          "temp_min": 12.8,
          "weather": "sun",
          "wind": 3.9
         },
         {
          "date": "2012-08-04T00:00:00",
          "precipitation": 0,
          "temp_max": 33.9,
          "temp_min": 16.7,
          "weather": "sun",
          "wind": 3.7
         },
         {
          "date": "2012-08-05T00:00:00",
          "precipitation": 0,
          "temp_max": 33.9,
          "temp_min": 17.8,
          "weather": "sun",
          "wind": 1.9
         },
         {
          "date": "2012-08-06T00:00:00",
          "precipitation": 0,
          "temp_max": 28.3,
          "temp_min": 15.6,
          "weather": "rain",
          "wind": 2.5
         },
         {
          "date": "2012-08-07T00:00:00",
          "precipitation": 0,
          "temp_max": 21.1,
          "temp_min": 15,
          "weather": "drizzle",
          "wind": 2.6
         },
         {
          "date": "2012-08-08T00:00:00",
          "precipitation": 0,
          "temp_max": 22.2,
          "temp_min": 15,
          "weather": "sun",
          "wind": 3.1
         },
         {
          "date": "2012-08-09T00:00:00",
          "precipitation": 0,
          "temp_max": 24.4,
          "temp_min": 14.4,
          "weather": "drizzle",
          "wind": 3.8
         },
         {
          "date": "2012-08-10T00:00:00",
          "precipitation": 0,
          "temp_max": 25.6,
          "temp_min": 12.2,
          "weather": "sun",
          "wind": 2.3
         },
         {
          "date": "2012-08-11T00:00:00",
          "precipitation": 0,
          "temp_max": 28.3,
          "temp_min": 13.3,
          "weather": "sun",
          "wind": 2.5
         },
         {
          "date": "2012-08-12T00:00:00",
          "precipitation": 0,
          "temp_max": 30.6,
          "temp_min": 15,
          "weather": "sun",
          "wind": 3
         },
         {
          "date": "2012-08-13T00:00:00",
          "precipitation": 0,
          "temp_max": 30.6,
          "temp_min": 15,
          "weather": "sun",
          "wind": 2.8
         },
         {
          "date": "2012-08-14T00:00:00",
          "precipitation": 0,
          "temp_max": 28.9,
          "temp_min": 13.9,
          "weather": "sun",
          "wind": 2.8
         },
         {
          "date": "2012-08-15T00:00:00",
          "precipitation": 0,
          "temp_max": 31.1,
          "temp_min": 16.7,
          "weather": "sun",
          "wind": 4.7
         },
         {
          "date": "2012-08-16T00:00:00",
          "precipitation": 0,
          "temp_max": 34.4,
          "temp_min": 18.3,
          "weather": "sun",
          "wind": 2.8
         },
         {
          "date": "2012-08-17T00:00:00",
          "precipitation": 0,
          "temp_max": 32.8,
          "temp_min": 16.1,
          "weather": "sun",
          "wind": 1.8
         },
         {
          "date": "2012-08-18T00:00:00",
          "precipitation": 0,
          "temp_max": 21.7,
          "temp_min": 14.4,
          "weather": "drizzle",
          "wind": 3
         },
         {
          "date": "2012-08-19T00:00:00",
          "precipitation": 0,
          "temp_max": 23.3,
          "temp_min": 15,
          "weather": "drizzle",
          "wind": 2.7
         },
         {
          "date": "2012-08-20T00:00:00",
          "precipitation": 0,
          "temp_max": 25.6,
          "temp_min": 15,
          "weather": "sun",
          "wind": 1.9
         },
         {
          "date": "2012-08-21T00:00:00",
          "precipitation": 0,
          "temp_max": 23.3,
          "temp_min": 13.3,
          "weather": "rain",
          "wind": 3
         },
         {
          "date": "2012-08-22T00:00:00",
          "precipitation": 0,
          "temp_max": 22.2,
          "temp_min": 13.3,
          "weather": "sun",
          "wind": 2.3
         },
         {
          "date": "2012-08-23T00:00:00",
          "precipitation": 0,
          "temp_max": 21.1,
          "temp_min": 13.9,
          "weather": "sun",
          "wind": 3.8
         },
         {
          "date": "2012-08-24T00:00:00",
          "precipitation": 0,
          "temp_max": 22.2,
          "temp_min": 10,
          "weather": "sun",
          "wind": 3.3
         },
         {
          "date": "2012-08-25T00:00:00",
          "precipitation": 0,
          "temp_max": 26.1,
          "temp_min": 11.7,
          "weather": "sun",
          "wind": 3.2
         },
         {
          "date": "2012-08-26T00:00:00",
          "precipitation": 0,
          "temp_max": 21.1,
          "temp_min": 12.2,
          "weather": "sun",
          "wind": 3.4
         },
         {
          "date": "2012-08-27T00:00:00",
          "precipitation": 0,
          "temp_max": 23.9,
          "temp_min": 13.3,
          "weather": "sun",
          "wind": 1.8
         },
         {
          "date": "2012-08-28T00:00:00",
          "precipitation": 0,
          "temp_max": 22.8,
          "temp_min": 12.2,
          "weather": "sun",
          "wind": 3.2
         },
         {
          "date": "2012-08-29T00:00:00",
          "precipitation": 0,
          "temp_max": 22.8,
          "temp_min": 13.3,
          "weather": "sun",
          "wind": 2.4
         },
         {
          "date": "2012-08-30T00:00:00",
          "precipitation": 0,
          "temp_max": 22.8,
          "temp_min": 12.8,
          "weather": "sun",
          "wind": 1.9
         },
         {
          "date": "2012-08-31T00:00:00",
          "precipitation": 0,
          "temp_max": 22.2,
          "temp_min": 10.6,
          "weather": "sun",
          "wind": 2.9
         },
         {
          "date": "2012-09-01T00:00:00",
          "precipitation": 0,
          "temp_max": 21.7,
          "temp_min": 10.6,
          "weather": "sun",
          "wind": 2.1
         },
         {
          "date": "2012-09-02T00:00:00",
          "precipitation": 0,
          "temp_max": 21.1,
          "temp_min": 10,
          "weather": "sun",
          "wind": 2
         },
         {
          "date": "2012-09-03T00:00:00",
          "precipitation": 0,
          "temp_max": 22.8,
          "temp_min": 12.8,
          "weather": "sun",
          "wind": 3.3
         },
         {
          "date": "2012-09-04T00:00:00",
          "precipitation": 0,
          "temp_max": 24.4,
          "temp_min": 11.1,
          "weather": "sun",
          "wind": 3.1
         },
         {
          "date": "2012-09-05T00:00:00",
          "precipitation": 0,
          "temp_max": 26.1,
          "temp_min": 11.7,
          "weather": "sun",
          "wind": 2.6
         },
         {
          "date": "2012-09-06T00:00:00",
          "precipitation": 0,
          "temp_max": 28.3,
          "temp_min": 14.4,
          "weather": "sun",
          "wind": 4.2
         },
         {
          "date": "2012-09-07T00:00:00",
          "precipitation": 0,
          "temp_max": 32.2,
          "temp_min": 13.3,
          "weather": "sun",
          "wind": 3.1
         },
         {
          "date": "2012-09-08T00:00:00",
          "precipitation": 0,
          "temp_max": 25,
          "temp_min": 13.3,
          "weather": "sun",
          "wind": 3
         },
         {
          "date": "2012-09-09T00:00:00",
          "precipitation": 0.3,
          "temp_max": 18.9,
          "temp_min": 13.9,
          "weather": "rain",
          "wind": 5
         },
         {
          "date": "2012-09-10T00:00:00",
          "precipitation": 0.3,
          "temp_max": 20,
          "temp_min": 11.7,
          "weather": "rain",
          "wind": 3.9
         },
         {
          "date": "2012-09-11T00:00:00",
          "precipitation": 0,
          "temp_max": 20,
          "temp_min": 8.9,
          "weather": "sun",
          "wind": 4.2
         },
         {
          "date": "2012-09-12T00:00:00",
          "precipitation": 0,
          "temp_max": 22.2,
          "temp_min": 10,
          "weather": "sun",
          "wind": 5.6
         },
         {
          "date": "2012-09-13T00:00:00",
          "precipitation": 0,
          "temp_max": 27.8,
          "temp_min": 11.7,
          "weather": "sun",
          "wind": 3.6
         },
         {
          "date": "2012-09-14T00:00:00",
          "precipitation": 0,
          "temp_max": 26.1,
          "temp_min": 11.1,
          "weather": "sun",
          "wind": 1.5
         },
         {
          "date": "2012-09-15T00:00:00",
          "precipitation": 0,
          "temp_max": 22.2,
          "temp_min": 11.1,
          "weather": "sun",
          "wind": 1.9
         },
         {
          "date": "2012-09-16T00:00:00",
          "precipitation": 0,
          "temp_max": 24.4,
          "temp_min": 9.4,
          "weather": "sun",
          "wind": 2.3
         },
         {
          "date": "2012-09-17T00:00:00",
          "precipitation": 0,
          "temp_max": 27.8,
          "temp_min": 11.7,
          "weather": "fog",
          "wind": 2.2
         },
         {
          "date": "2012-09-18T00:00:00",
          "precipitation": 0,
          "temp_max": 27.8,
          "temp_min": 11.7,
          "weather": "sun",
          "wind": 1.4
         },
         {
          "date": "2012-09-19T00:00:00",
          "precipitation": 0,
          "temp_max": 23.9,
          "temp_min": 11.7,
          "weather": "drizzle",
          "wind": 1.9
         },
         {
          "date": "2012-09-20T00:00:00",
          "precipitation": 0,
          "temp_max": 19.4,
          "temp_min": 10,
          "weather": "drizzle",
          "wind": 2.5
         },
         {
          "date": "2012-09-21T00:00:00",
          "precipitation": 0,
          "temp_max": 16.1,
          "temp_min": 12.8,
          "weather": "drizzle",
          "wind": 2.1
         },
         {
          "date": "2012-09-22T00:00:00",
          "precipitation": 0.3,
          "temp_max": 19.4,
          "temp_min": 11.7,
          "weather": "rain",
          "wind": 1.1
         },
         {
          "date": "2012-09-23T00:00:00",
          "precipitation": 0,
          "temp_max": 19.4,
          "temp_min": 10,
          "weather": "fog",
          "wind": 1.4
         },
         {
          "date": "2012-09-24T00:00:00",
          "precipitation": 0,
          "temp_max": 21.1,
          "temp_min": 10,
          "weather": "fog",
          "wind": 1.8
         },
         {
          "date": "2012-09-25T00:00:00",
          "precipitation": 0,
          "temp_max": 19.4,
          "temp_min": 11.1,
          "weather": "sun",
          "wind": 1.7
         },
         {
          "date": "2012-09-26T00:00:00",
          "precipitation": 0,
          "temp_max": 19.4,
          "temp_min": 9.4,
          "weather": "drizzle",
          "wind": 1.7
         },
         {
          "date": "2012-09-27T00:00:00",
          "precipitation": 0,
          "temp_max": 22.8,
          "temp_min": 10,
          "weather": "drizzle",
          "wind": 1.7
         },
         {
          "date": "2012-09-28T00:00:00",
          "precipitation": 0,
          "temp_max": 25,
          "temp_min": 12.2,
          "weather": "rain",
          "wind": 1.1
         },
         {
          "date": "2012-09-29T00:00:00",
          "precipitation": 0,
          "temp_max": 20.6,
          "temp_min": 12.2,
          "weather": "sun",
          "wind": 4.3
         },
         {
          "date": "2012-09-30T00:00:00",
          "precipitation": 0,
          "temp_max": 21.1,
          "temp_min": 7.8,
          "weather": "sun",
          "wind": 3.1
         },
         {
          "date": "2012-10-01T00:00:00",
          "precipitation": 0,
          "temp_max": 23.3,
          "temp_min": 8.9,
          "weather": "sun",
          "wind": 3
         },
         {
          "date": "2012-10-02T00:00:00",
          "precipitation": 0,
          "temp_max": 17.8,
          "temp_min": 10,
          "weather": "sun",
          "wind": 4.1
         },
         {
          "date": "2012-10-03T00:00:00",
          "precipitation": 0,
          "temp_max": 18.9,
          "temp_min": 7.8,
          "weather": "sun",
          "wind": 7.3
         },
         {
          "date": "2012-10-04T00:00:00",
          "precipitation": 0,
          "temp_max": 18.9,
          "temp_min": 8.3,
          "weather": "sun",
          "wind": 6.5
         },
         {
          "date": "2012-10-05T00:00:00",
          "precipitation": 0,
          "temp_max": 21.7,
          "temp_min": 8.9,
          "weather": "sun",
          "wind": 5.7
         },
         {
          "date": "2012-10-06T00:00:00",
          "precipitation": 0,
          "temp_max": 23.9,
          "temp_min": 7.8,
          "weather": "sun",
          "wind": 5.1
         },
         {
          "date": "2012-10-07T00:00:00",
          "precipitation": 0,
          "temp_max": 23.9,
          "temp_min": 7.8,
          "weather": "sun",
          "wind": 1.3
         },
         {
          "date": "2012-10-08T00:00:00",
          "precipitation": 0,
          "temp_max": 21.1,
          "temp_min": 7.8,
          "weather": "sun",
          "wind": 1.9
         },
         {
          "date": "2012-10-09T00:00:00",
          "precipitation": 0,
          "temp_max": 16.1,
          "temp_min": 8.9,
          "weather": "drizzle",
          "wind": 1.6
         },
         {
          "date": "2012-10-10T00:00:00",
          "precipitation": 0,
          "temp_max": 12.2,
          "temp_min": 8.3,
          "weather": "drizzle",
          "wind": 1.4
         },
         {
          "date": "2012-10-11T00:00:00",
          "precipitation": 0,
          "temp_max": 13.9,
          "temp_min": 7.2,
          "weather": "drizzle",
          "wind": 1.3
         },
         {
          "date": "2012-10-12T00:00:00",
          "precipitation": 2,
          "temp_max": 13.9,
          "temp_min": 8.9,
          "weather": "rain",
          "wind": 4.6
         },
         {
          "date": "2012-10-13T00:00:00",
          "precipitation": 4.8,
          "temp_max": 15.6,
          "temp_min": 12.2,
          "weather": "rain",
          "wind": 3.9
         },
         {
          "date": "2012-10-14T00:00:00",
          "precipitation": 16.5,
          "temp_max": 17.8,
          "temp_min": 13.3,
          "weather": "rain",
          "wind": 3.4
         },
         {
          "date": "2012-10-15T00:00:00",
          "precipitation": 7.9,
          "temp_max": 17.2,
          "temp_min": 11.1,
          "weather": "rain",
          "wind": 4.6
         },
         {
          "date": "2012-10-16T00:00:00",
          "precipitation": 0,
          "temp_max": 16.1,
          "temp_min": 8.3,
          "weather": "sun",
          "wind": 5.5
         },
         {
          "date": "2012-10-17T00:00:00",
          "precipitation": 0,
          "temp_max": 14.4,
          "temp_min": 6.1,
          "weather": "sun",
          "wind": 1.6
         },
         {
          "date": "2012-10-18T00:00:00",
          "precipitation": 20.8,
          "temp_max": 17.8,
          "temp_min": 6.7,
          "weather": "rain",
          "wind": 2
         },
         {
          "date": "2012-10-19T00:00:00",
          "precipitation": 4.8,
          "temp_max": 15,
          "temp_min": 9.4,
          "weather": "rain",
          "wind": 5.3
         },
         {
          "date": "2012-10-20T00:00:00",
          "precipitation": 0.5,
          "temp_max": 11.1,
          "temp_min": 6.1,
          "weather": "rain",
          "wind": 5.7
         },
         {
          "date": "2012-10-21T00:00:00",
          "precipitation": 6.4,
          "temp_max": 11.7,
          "temp_min": 4.4,
          "weather": "rain",
          "wind": 2.7
         },
         {
          "date": "2012-10-22T00:00:00",
          "precipitation": 8.9,
          "temp_max": 7.8,
          "temp_min": 3.3,
          "weather": "rain",
          "wind": 2.6
         },
         {
          "date": "2012-10-23T00:00:00",
          "precipitation": 0,
          "temp_max": 11.1,
          "temp_min": 5.6,
          "weather": "rain",
          "wind": 3
         },
         {
          "date": "2012-10-24T00:00:00",
          "precipitation": 7.1,
          "temp_max": 11.7,
          "temp_min": 6.1,
          "weather": "rain",
          "wind": 2.1
         },
         {
          "date": "2012-10-25T00:00:00",
          "precipitation": 0,
          "temp_max": 11.7,
          "temp_min": 6.7,
          "weather": "sun",
          "wind": 1.5
         },
         {
          "date": "2012-10-26T00:00:00",
          "precipitation": 1.5,
          "temp_max": 11.1,
          "temp_min": 7.2,
          "weather": "rain",
          "wind": 2.5
         },
         {
          "date": "2012-10-27T00:00:00",
          "precipitation": 23.1,
          "temp_max": 14.4,
          "temp_min": 9.4,
          "weather": "rain",
          "wind": 5.1
         },
         {
          "date": "2012-10-28T00:00:00",
          "precipitation": 6.1,
          "temp_max": 14.4,
          "temp_min": 10,
          "weather": "rain",
          "wind": 3.8
         },
         {
          "date": "2012-10-29T00:00:00",
          "precipitation": 10.9,
          "temp_max": 15.6,
          "temp_min": 10,
          "weather": "rain",
          "wind": 4.9
         },
         {
          "date": "2012-10-30T00:00:00",
          "precipitation": 34.5,
          "temp_max": 15,
          "temp_min": 12.2,
          "weather": "rain",
          "wind": 2.8
         },
         {
          "date": "2012-10-31T00:00:00",
          "precipitation": 14.5,
          "temp_max": 15.6,
          "temp_min": 11.1,
          "weather": "rain",
          "wind": 2.7
         },
         {
          "date": "2012-11-01T00:00:00",
          "precipitation": 9.7,
          "temp_max": 15,
          "temp_min": 10.6,
          "weather": "rain",
          "wind": 3
         },
         {
          "date": "2012-11-02T00:00:00",
          "precipitation": 5.6,
          "temp_max": 15,
          "temp_min": 10.6,
          "weather": "rain",
          "wind": 1
         },
         {
          "date": "2012-11-03T00:00:00",
          "precipitation": 0.5,
          "temp_max": 15.6,
          "temp_min": 11.1,
          "weather": "rain",
          "wind": 3.6
         },
         {
          "date": "2012-11-04T00:00:00",
          "precipitation": 8.1,
          "temp_max": 17.8,
          "temp_min": 12.8,
          "weather": "rain",
          "wind": 3.8
         },
         {
          "date": "2012-11-05T00:00:00",
          "precipitation": 0.8,
          "temp_max": 15,
          "temp_min": 7.8,
          "weather": "rain",
          "wind": 4
         },
         {
          "date": "2012-11-06T00:00:00",
          "precipitation": 0.3,
          "temp_max": 12.8,
          "temp_min": 6.7,
          "weather": "rain",
          "wind": 3.5
         },
         {
          "date": "2012-11-07T00:00:00",
          "precipitation": 0,
          "temp_max": 12.2,
          "temp_min": 3.9,
          "weather": "rain",
          "wind": 3.4
         },
         {
          "date": "2012-11-08T00:00:00",
          "precipitation": 0,
          "temp_max": 10,
          "temp_min": 1.1,
          "weather": "rain",
          "wind": 3.4
         },
         {
          "date": "2012-11-09T00:00:00",
          "precipitation": 0,
          "temp_max": 8.9,
          "temp_min": 1.1,
          "weather": "rain",
          "wind": 2
         },
         {
          "date": "2012-11-10T00:00:00",
          "precipitation": 0,
          "temp_max": 7.8,
          "temp_min": -0.6,
          "weather": "sun",
          "wind": 2.2
         },
         {
          "date": "2012-11-11T00:00:00",
          "precipitation": 15.2,
          "temp_max": 8.9,
          "temp_min": 1.1,
          "weather": "rain",
          "wind": 3
         },
         {
          "date": "2012-11-12T00:00:00",
          "precipitation": 3.6,
          "temp_max": 12.8,
          "temp_min": 6.1,
          "weather": "rain",
          "wind": 3
         },
         {
          "date": "2012-11-13T00:00:00",
          "precipitation": 5.3,
          "temp_max": 11.1,
          "temp_min": 7.8,
          "weather": "rain",
          "wind": 2.5
         },
         {
          "date": "2012-11-14T00:00:00",
          "precipitation": 0.8,
          "temp_max": 11.1,
          "temp_min": 5,
          "weather": "rain",
          "wind": 2.6
         },
         {
          "date": "2012-11-15T00:00:00",
          "precipitation": 0,
          "temp_max": 9.4,
          "temp_min": 2.8,
          "weather": "drizzle",
          "wind": 2.4
         },
         {
          "date": "2012-11-16T00:00:00",
          "precipitation": 5.6,
          "temp_max": 9.4,
          "temp_min": 2.2,
          "weather": "rain",
          "wind": 1.6
         },
         {
          "date": "2012-11-17T00:00:00",
          "precipitation": 6.1,
          "temp_max": 12.2,
          "temp_min": 6.1,
          "weather": "rain",
          "wind": 5.3
         },
         {
          "date": "2012-11-18T00:00:00",
          "precipitation": 7.9,
          "temp_max": 10,
          "temp_min": 6.1,
          "weather": "rain",
          "wind": 4.9
         },
         {
          "date": "2012-11-19T00:00:00",
          "precipitation": 54.1,
          "temp_max": 13.3,
          "temp_min": 8.3,
          "weather": "rain",
          "wind": 6
         },
         {
          "date": "2012-11-20T00:00:00",
          "precipitation": 3.8,
          "temp_max": 11.1,
          "temp_min": 7.2,
          "weather": "rain",
          "wind": 4.2
         },
         {
          "date": "2012-11-21T00:00:00",
          "precipitation": 11.2,
          "temp_max": 8.3,
          "temp_min": 3.9,
          "weather": "rain",
          "wind": 5.5
         },
         {
          "date": "2012-11-22T00:00:00",
          "precipitation": 0,
          "temp_max": 8.9,
          "temp_min": 2.8,
          "weather": "rain",
          "wind": 1.5
         },
         {
          "date": "2012-11-23T00:00:00",
          "precipitation": 32,
          "temp_max": 9.4,
          "temp_min": 6.1,
          "weather": "rain",
          "wind": 2.4
         },
         {
          "date": "2012-11-24T00:00:00",
          "precipitation": 0,
          "temp_max": 8.9,
          "temp_min": 3.9,
          "weather": "rain",
          "wind": 1.2
         },
         {
          "date": "2012-11-25T00:00:00",
          "precipitation": 0,
          "temp_max": 8.3,
          "temp_min": 1.1,
          "weather": "drizzle",
          "wind": 3.6
         },
         {
          "date": "2012-11-26T00:00:00",
          "precipitation": 0,
          "temp_max": 9.4,
          "temp_min": 1.7,
          "weather": "fog",
          "wind": 3.8
         },
         {
          "date": "2012-11-27T00:00:00",
          "precipitation": 0,
          "temp_max": 10,
          "temp_min": 1.7,
          "weather": "sun",
          "wind": 1.5
         },
         {
          "date": "2012-11-28T00:00:00",
          "precipitation": 2.8,
          "temp_max": 9.4,
          "temp_min": 2.2,
          "weather": "rain",
          "wind": 2.9
         },
         {
          "date": "2012-11-29T00:00:00",
          "precipitation": 1.5,
          "temp_max": 12.8,
          "temp_min": 7.8,
          "weather": "rain",
          "wind": 4.2
         },
         {
          "date": "2012-11-30T00:00:00",
          "precipitation": 35.6,
          "temp_max": 15,
          "temp_min": 7.8,
          "weather": "rain",
          "wind": 4.6
         },
         {
          "date": "2012-12-01T00:00:00",
          "precipitation": 4.1,
          "temp_max": 13.3,
          "temp_min": 8.3,
          "weather": "rain",
          "wind": 5.5
         },
         {
          "date": "2012-12-02T00:00:00",
          "precipitation": 19.6,
          "temp_max": 8.3,
          "temp_min": 7.2,
          "weather": "rain",
          "wind": 6.2
         },
         {
          "date": "2012-12-03T00:00:00",
          "precipitation": 13,
          "temp_max": 9.4,
          "temp_min": 7.2,
          "weather": "rain",
          "wind": 4.4
         },
         {
          "date": "2012-12-04T00:00:00",
          "precipitation": 14.2,
          "temp_max": 11.7,
          "temp_min": 7.2,
          "weather": "rain",
          "wind": 6.2
         },
         {
          "date": "2012-12-05T00:00:00",
          "precipitation": 1.5,
          "temp_max": 8.9,
          "temp_min": 4.4,
          "weather": "rain",
          "wind": 5
         },
         {
          "date": "2012-12-06T00:00:00",
          "precipitation": 1.5,
          "temp_max": 7.2,
          "temp_min": 6.1,
          "weather": "rain",
          "wind": 5.1
         },
         {
          "date": "2012-12-07T00:00:00",
          "precipitation": 1,
          "temp_max": 7.8,
          "temp_min": 3.3,
          "weather": "rain",
          "wind": 4.6
         },
         {
          "date": "2012-12-08T00:00:00",
          "precipitation": 0,
          "temp_max": 6.7,
          "temp_min": 3.3,
          "weather": "sun",
          "wind": 2
         },
         {
          "date": "2012-12-09T00:00:00",
          "precipitation": 1.5,
          "temp_max": 6.7,
          "temp_min": 2.8,
          "weather": "rain",
          "wind": 2.1
         },
         {
          "date": "2012-12-10T00:00:00",
          "precipitation": 0.5,
          "temp_max": 7.2,
          "temp_min": 5.6,
          "weather": "rain",
          "wind": 1.8
         },
         {
          "date": "2012-12-11T00:00:00",
          "precipitation": 3,
          "temp_max": 7.8,
          "temp_min": 5.6,
          "weather": "rain",
          "wind": 4.5
         },
         {
          "date": "2012-12-12T00:00:00",
          "precipitation": 8.1,
          "temp_max": 6.7,
          "temp_min": 4.4,
          "weather": "rain",
          "wind": 2
         },
         {
          "date": "2012-12-13T00:00:00",
          "precipitation": 2.3,
          "temp_max": 7.2,
          "temp_min": 3.3,
          "weather": "rain",
          "wind": 2.8
         },
         {
          "date": "2012-12-14T00:00:00",
          "precipitation": 7.9,
          "temp_max": 6.1,
          "temp_min": 1.1,
          "weather": "rain",
          "wind": 1.7
         },
         {
          "date": "2012-12-15T00:00:00",
          "precipitation": 5.3,
          "temp_max": 4.4,
          "temp_min": 0.6,
          "weather": "snow",
          "wind": 5.1
         },
         {
          "date": "2012-12-16T00:00:00",
          "precipitation": 22.6,
          "temp_max": 6.7,
          "temp_min": 3.3,
          "weather": "snow",
          "wind": 5.5
         },
         {
          "date": "2012-12-17T00:00:00",
          "precipitation": 2,
          "temp_max": 8.3,
          "temp_min": 1.7,
          "weather": "rain",
          "wind": 9.5
         },
         {
          "date": "2012-12-18T00:00:00",
          "precipitation": 3.3,
          "temp_max": 3.9,
          "temp_min": 0.6,
          "weather": "snow",
          "wind": 5.3
         },
         {
          "date": "2012-12-19T00:00:00",
          "precipitation": 13.7,
          "temp_max": 8.3,
          "temp_min": 1.7,
          "weather": "snow",
          "wind": 5.8
         },
         {
          "date": "2012-12-20T00:00:00",
          "precipitation": 13.2,
          "temp_max": 7.2,
          "temp_min": 0.6,
          "weather": "rain",
          "wind": 3.7
         },
         {
          "date": "2012-12-21T00:00:00",
          "precipitation": 1.8,
          "temp_max": 8.3,
          "temp_min": -1.7,
          "weather": "rain",
          "wind": 1.7
         },
         {
          "date": "2012-12-22T00:00:00",
          "precipitation": 3.3,
          "temp_max": 8.3,
          "temp_min": 3.9,
          "weather": "rain",
          "wind": 3.5
         },
         {
          "date": "2012-12-23T00:00:00",
          "precipitation": 6.6,
          "temp_max": 7.2,
          "temp_min": 3.3,
          "weather": "rain",
          "wind": 2.5
         },
         {
          "date": "2012-12-24T00:00:00",
          "precipitation": 0.3,
          "temp_max": 5.6,
          "temp_min": 2.8,
          "weather": "rain",
          "wind": 2.8
         },
         {
          "date": "2012-12-25T00:00:00",
          "precipitation": 13.5,
          "temp_max": 5.6,
          "temp_min": 2.8,
          "weather": "snow",
          "wind": 4.2
         },
         {
          "date": "2012-12-26T00:00:00",
          "precipitation": 4.6,
          "temp_max": 6.7,
          "temp_min": 3.3,
          "weather": "rain",
          "wind": 4.9
         },
         {
          "date": "2012-12-27T00:00:00",
          "precipitation": 4.1,
          "temp_max": 7.8,
          "temp_min": 3.3,
          "weather": "rain",
          "wind": 3.2
         },
         {
          "date": "2012-12-28T00:00:00",
          "precipitation": 0,
          "temp_max": 8.3,
          "temp_min": 3.9,
          "weather": "rain",
          "wind": 1.7
         },
         {
          "date": "2012-12-29T00:00:00",
          "precipitation": 1.5,
          "temp_max": 5,
          "temp_min": 3.3,
          "weather": "rain",
          "wind": 1.7
         },
         {
          "date": "2012-12-30T00:00:00",
          "precipitation": 0,
          "temp_max": 4.4,
          "temp_min": 0,
          "weather": "drizzle",
          "wind": 1.8
         },
         {
          "date": "2012-12-31T00:00:00",
          "precipitation": 0,
          "temp_max": 3.3,
          "temp_min": -1.1,
          "weather": "drizzle",
          "wind": 2
         },
         {
          "date": "2013-01-01T00:00:00",
          "precipitation": 0,
          "temp_max": 5,
          "temp_min": -2.8,
          "weather": "sun",
          "wind": 2.7
         },
         {
          "date": "2013-01-02T00:00:00",
          "precipitation": 0,
          "temp_max": 6.1,
          "temp_min": -1.1,
          "weather": "sun",
          "wind": 3.2
         },
         {
          "date": "2013-01-03T00:00:00",
          "precipitation": 4.1,
          "temp_max": 6.7,
          "temp_min": -1.7,
          "weather": "rain",
          "wind": 3
         },
         {
          "date": "2013-01-04T00:00:00",
          "precipitation": 2.5,
          "temp_max": 10,
          "temp_min": 2.2,
          "weather": "rain",
          "wind": 2.8
         },
         {
          "date": "2013-01-05T00:00:00",
          "precipitation": 3,
          "temp_max": 6.7,
          "temp_min": 4.4,
          "weather": "rain",
          "wind": 3.1
         },
         {
          "date": "2013-01-06T00:00:00",
          "precipitation": 2,
          "temp_max": 7.2,
          "temp_min": 2.8,
          "weather": "rain",
          "wind": 3
         },
         {
          "date": "2013-01-07T00:00:00",
          "precipitation": 2.3,
          "temp_max": 10,
          "temp_min": 4.4,
          "weather": "rain",
          "wind": 7.3
         },
         {
          "date": "2013-01-08T00:00:00",
          "precipitation": 16.3,
          "temp_max": 11.7,
          "temp_min": 5.6,
          "weather": "rain",
          "wind": 6.3
         },
         {
          "date": "2013-01-09T00:00:00",
          "precipitation": 38.4,
          "temp_max": 10,
          "temp_min": 1.7,
          "weather": "rain",
          "wind": 5.1
         },
         {
          "date": "2013-01-10T00:00:00",
          "precipitation": 0.3,
          "temp_max": 3.3,
          "temp_min": -0.6,
          "weather": "snow",
          "wind": 2.1
         },
         {
          "date": "2013-01-11T00:00:00",
          "precipitation": 0,
          "temp_max": 2.8,
          "temp_min": -2.8,
          "weather": "drizzle",
          "wind": 1.9
         },
         {
          "date": "2013-01-12T00:00:00",
          "precipitation": 0,
          "temp_max": 2.8,
          "temp_min": -3.9,
          "weather": "sun",
          "wind": 2
         },
         {
          "date": "2013-01-13T00:00:00",
          "precipitation": 0,
          "temp_max": 2.2,
          "temp_min": -4.4,
          "weather": "sun",
          "wind": 1.5
         },
         {
          "date": "2013-01-14T00:00:00",
          "precipitation": 0,
          "temp_max": 3.3,
          "temp_min": -2.2,
          "weather": "sun",
          "wind": 1.3
         },
         {
          "date": "2013-01-15T00:00:00",
          "precipitation": 0,
          "temp_max": 6.7,
          "temp_min": -0.6,
          "weather": "sun",
          "wind": 2.3
         },
         {
          "date": "2013-01-16T00:00:00",
          "precipitation": 0,
          "temp_max": 6.1,
          "temp_min": -3.9,
          "weather": "drizzle",
          "wind": 1.8
         },
         {
          "date": "2013-01-17T00:00:00",
          "precipitation": 0,
          "temp_max": 3.9,
          "temp_min": -2.8,
          "weather": "drizzle",
          "wind": 1
         },
         {
          "date": "2013-01-18T00:00:00",
          "precipitation": 0,
          "temp_max": 3.3,
          "temp_min": -1.1,
          "weather": "drizzle",
          "wind": 1.3
         },
         {
          "date": "2013-01-19T00:00:00",
          "precipitation": 0,
          "temp_max": 1.1,
          "temp_min": -0.6,
          "weather": "drizzle",
          "wind": 1.9
         },
         {
          "date": "2013-01-20T00:00:00",
          "precipitation": 0,
          "temp_max": 3.3,
          "temp_min": -0.6,
          "weather": "drizzle",
          "wind": 2.1
         },
         {
          "date": "2013-01-21T00:00:00",
          "precipitation": 0,
          "temp_max": 2.2,
          "temp_min": -1.7,
          "weather": "drizzle",
          "wind": 1.1
         },
         {
          "date": "2013-01-22T00:00:00",
          "precipitation": 0,
          "temp_max": 3.3,
          "temp_min": -1.7,
          "weather": "drizzle",
          "wind": 0.6
         },
         {
          "date": "2013-01-23T00:00:00",
          "precipitation": 5.1,
          "temp_max": 7.2,
          "temp_min": 2.2,
          "weather": "rain",
          "wind": 3.1
         },
         {
          "date": "2013-01-24T00:00:00",
          "precipitation": 5.8,
          "temp_max": 7.2,
          "temp_min": 1.1,
          "weather": "rain",
          "wind": 2.6
         },
         {
          "date": "2013-01-25T00:00:00",
          "precipitation": 3,
          "temp_max": 10.6,
          "temp_min": 2.8,
          "weather": "rain",
          "wind": 2.1
         },
         {
          "date": "2013-01-26T00:00:00",
          "precipitation": 2.3,
          "temp_max": 8.3,
          "temp_min": 3.9,
          "weather": "rain",
          "wind": 4.5
         },
         {
          "date": "2013-01-27T00:00:00",
          "precipitation": 1.8,
          "temp_max": 5.6,
          "temp_min": 3.9,
          "weather": "rain",
          "wind": 4.5
         },
         {
          "date": "2013-01-28T00:00:00",
          "precipitation": 7.9,
          "temp_max": 6.1,
          "temp_min": 3.3,
          "weather": "rain",
          "wind": 3.2
         },
         {
          "date": "2013-01-29T00:00:00",
          "precipitation": 4.3,
          "temp_max": 8.3,
          "temp_min": 5,
          "weather": "rain",
          "wind": 3.9
         },
         {
          "date": "2013-01-30T00:00:00",
          "precipitation": 3.6,
          "temp_max": 8.9,
          "temp_min": 6.7,
          "weather": "rain",
          "wind": 3.9
         },
         {
          "date": "2013-01-31T00:00:00",
          "precipitation": 3,
          "temp_max": 9.4,
          "temp_min": 7.2,
          "weather": "rain",
          "wind": 4
         },
         {
          "date": "2013-02-01T00:00:00",
          "precipitation": 0.3,
          "temp_max": 11.7,
          "temp_min": 5,
          "weather": "rain",
          "wind": 2.9
         },
         {
          "date": "2013-02-02T00:00:00",
          "precipitation": 0,
          "temp_max": 6.1,
          "temp_min": 2.8,
          "weather": "drizzle",
          "wind": 2
         },
         {
          "date": "2013-02-03T00:00:00",
          "precipitation": 2.3,
          "temp_max": 8.9,
          "temp_min": 2.8,
          "weather": "rain",
          "wind": 2.9
         },
         {
          "date": "2013-02-04T00:00:00",
          "precipitation": 0,
          "temp_max": 10.6,
          "temp_min": 6.7,
          "weather": "rain",
          "wind": 2.6
         },
         {
          "date": "2013-02-05T00:00:00",
          "precipitation": 3.3,
          "temp_max": 10,
          "temp_min": 6.7,
          "weather": "rain",
          "wind": 5.1
         },
         {
          "date": "2013-02-06T00:00:00",
          "precipitation": 1,
          "temp_max": 10.6,
          "temp_min": 6.1,
          "weather": "rain",
          "wind": 4.5
         },
         {
          "date": "2013-02-07T00:00:00",
          "precipitation": 1.3,
          "temp_max": 9.4,
          "temp_min": 3.3,
          "weather": "rain",
          "wind": 4.1
         },
         {
          "date": "2013-02-08T00:00:00",
          "precipitation": 0,
          "temp_max": 7.8,
          "temp_min": 2.2,
          "weather": "sun",
          "wind": 1.3
         },
         {
          "date": "2013-02-09T00:00:00",
          "precipitation": 0.3,
          "temp_max": 8.3,
          "temp_min": 4.4,
          "weather": "rain",
          "wind": 1.3
         },
         {
          "date": "2013-02-10T00:00:00",
          "precipitation": 0,
          "temp_max": 8.9,
          "temp_min": 1.7,
          "weather": "drizzle",
          "wind": 2
         },
         {
          "date": "2013-02-11T00:00:00",
          "precipitation": 0.3,
          "temp_max": 8.3,
          "temp_min": 4.4,
          "weather": "rain",
          "wind": 1.4
         },
         {
          "date": "2013-02-12T00:00:00",
          "precipitation": 1,
          "temp_max": 11.1,
          "temp_min": 7.2,
          "weather": "rain",
          "wind": 5.6
         },
         {
          "date": "2013-02-13T00:00:00",
          "precipitation": 2.3,
          "temp_max": 9.4,
          "temp_min": 7.2,
          "weather": "rain",
          "wind": 4.1
         },
         {
          "date": "2013-02-14T00:00:00",
          "precipitation": 1,
          "temp_max": 9.4,
          "temp_min": 5.6,
          "weather": "rain",
          "wind": 2.2
         },
         {
          "date": "2013-02-15T00:00:00",
          "precipitation": 0,
          "temp_max": 13.3,
          "temp_min": 5,
          "weather": "drizzle",
          "wind": 2.4
         },
         {
          "date": "2013-02-16T00:00:00",
          "precipitation": 0,
          "temp_max": 11.1,
          "temp_min": 3.9,
          "weather": "rain",
          "wind": 5.6
         },
         {
          "date": "2013-02-17T00:00:00",
          "precipitation": 0,
          "temp_max": 9.4,
          "temp_min": 4.4,
          "weather": "rain",
          "wind": 3.4
         },
         {
          "date": "2013-02-18T00:00:00",
          "precipitation": 0,
          "temp_max": 7.8,
          "temp_min": 3.9,
          "weather": "rain",
          "wind": 1.9
         },
         {
          "date": "2013-02-19T00:00:00",
          "precipitation": 0,
          "temp_max": 10.6,
          "temp_min": 1.7,
          "weather": "sun",
          "wind": 3.4
         },
         {
          "date": "2013-02-20T00:00:00",
          "precipitation": 1.5,
          "temp_max": 7.8,
          "temp_min": 1.1,
          "weather": "rain",
          "wind": 2.1
         },
         {
          "date": "2013-02-21T00:00:00",
          "precipitation": 0.5,
          "temp_max": 6.7,
          "temp_min": 3.9,
          "weather": "rain",
          "wind": 6.2
         },
         {
          "date": "2013-02-22T00:00:00",
          "precipitation": 9.4,
          "temp_max": 7.8,
          "temp_min": 3.9,
          "weather": "rain",
          "wind": 8.1
         },
         {
          "date": "2013-02-23T00:00:00",
          "precipitation": 0.3,
          "temp_max": 10,
          "temp_min": 3.9,
          "weather": "rain",
          "wind": 4.6
         },
         {
          "date": "2013-02-24T00:00:00",
          "precipitation": 0,
          "temp_max": 8.9,
          "temp_min": 5,
          "weather": "rain",
          "wind": 5.5
         },
         {
          "date": "2013-02-25T00:00:00",
          "precipitation": 2.3,
          "temp_max": 10.6,
          "temp_min": 3.3,
          "weather": "rain",
          "wind": 7.1
         },
         {
          "date": "2013-02-26T00:00:00",
          "precipitation": 0.5,
          "temp_max": 8.9,
          "temp_min": 3.9,
          "weather": "rain",
          "wind": 3.8
         },
         {
          "date": "2013-02-27T00:00:00",
          "precipitation": 4.6,
          "temp_max": 10,
          "temp_min": 4.4,
          "weather": "rain",
          "wind": 1.8
         },
         {
          "date": "2013-02-28T00:00:00",
          "precipitation": 8.1,
          "temp_max": 11.7,
          "temp_min": 6.7,
          "weather": "rain",
          "wind": 3.8
         },
         {
          "date": "2013-03-01T00:00:00",
          "precipitation": 4.1,
          "temp_max": 15,
          "temp_min": 11.1,
          "weather": "rain",
          "wind": 5.4
         },
         {
          "date": "2013-03-02T00:00:00",
          "precipitation": 0.8,
          "temp_max": 13.9,
          "temp_min": 5,
          "weather": "rain",
          "wind": 4.5
         },
         {
          "date": "2013-03-03T00:00:00",
          "precipitation": 0,
          "temp_max": 11.1,
          "temp_min": 2.2,
          "weather": "sun",
          "wind": 2.8
         },
         {
          "date": "2013-03-04T00:00:00",
          "precipitation": 0,
          "temp_max": 13.3,
          "temp_min": 0,
          "weather": "sun",
          "wind": 3.9
         },
         {
          "date": "2013-03-05T00:00:00",
          "precipitation": 0,
          "temp_max": 9.4,
          "temp_min": 6.1,
          "weather": "rain",
          "wind": 2.4
         },
         {
          "date": "2013-03-06T00:00:00",
          "precipitation": 11.9,
          "temp_max": 7.2,
          "temp_min": 5,
          "weather": "rain",
          "wind": 4.1
         },
         {
          "date": "2013-03-07T00:00:00",
          "precipitation": 7.4,
          "temp_max": 12.2,
          "temp_min": 5,
          "weather": "rain",
          "wind": 2.5
         },
         {
          "date": "2013-03-08T00:00:00",
          "precipitation": 0,
          "temp_max": 11.7,
          "temp_min": 2.2,
          "weather": "drizzle",
          "wind": 2.6
         },
         {
          "date": "2013-03-09T00:00:00",
          "precipitation": 0,
          "temp_max": 12.8,
          "temp_min": 1.1,
          "weather": "fog",
          "wind": 1.3
         },
         {
          "date": "2013-03-10T00:00:00",
          "precipitation": 0.8,
          "temp_max": 7.8,
          "temp_min": 3.9,
          "weather": "rain",
          "wind": 1.6
         },
         {
          "date": "2013-03-11T00:00:00",
          "precipitation": 1.3,
          "temp_max": 10.6,
          "temp_min": 6.1,
          "weather": "rain",
          "wind": 1.1
         },
         {
          "date": "2013-03-12T00:00:00",
          "precipitation": 2,
          "temp_max": 12.8,
          "temp_min": 10,
          "weather": "rain",
          "wind": 5.7
         },
         {
          "date": "2013-03-13T00:00:00",
          "precipitation": 2.3,
          "temp_max": 11.7,
          "temp_min": 9.4,
          "weather": "rain",
          "wind": 3.7
         },
         {
          "date": "2013-03-14T00:00:00",
          "precipitation": 2.8,
          "temp_max": 11.7,
          "temp_min": 9.4,
          "weather": "rain",
          "wind": 3
         },
         {
          "date": "2013-03-15T00:00:00",
          "precipitation": 0,
          "temp_max": 14.4,
          "temp_min": 8.9,
          "weather": "rain",
          "wind": 4.3
         },
         {
          "date": "2013-03-16T00:00:00",
          "precipitation": 4.3,
          "temp_max": 10.6,
          "temp_min": 4.4,
          "weather": "rain",
          "wind": 6.4
         },
         {
          "date": "2013-03-17T00:00:00",
          "precipitation": 0,
          "temp_max": 8.9,
          "temp_min": 3.9,
          "weather": "sun",
          "wind": 6.1
         },
         {
          "date": "2013-03-18T00:00:00",
          "precipitation": 0,
          "temp_max": 11.7,
          "temp_min": 3.9,
          "weather": "rain",
          "wind": 5.9
         },
         {
          "date": "2013-03-19T00:00:00",
          "precipitation": 11.7,
          "temp_max": 12.8,
          "temp_min": 1.7,
          "weather": "rain",
          "wind": 3.4
         },
         {
          "date": "2013-03-20T00:00:00",
          "precipitation": 9.9,
          "temp_max": 11.1,
          "temp_min": 4.4,
          "weather": "rain",
          "wind": 7.6
         },
         {
          "date": "2013-03-21T00:00:00",
          "precipitation": 8.1,
          "temp_max": 10,
          "temp_min": 2.2,
          "weather": "snow",
          "wind": 4.9
         },
         {
          "date": "2013-03-22T00:00:00",
          "precipitation": 0,
          "temp_max": 9.4,
          "temp_min": 0.6,
          "weather": "sun",
          "wind": 2.2
         },
         {
          "date": "2013-03-23T00:00:00",
          "precipitation": 0,
          "temp_max": 10,
          "temp_min": 1.1,
          "weather": "sun",
          "wind": 2.6
         },
         {
          "date": "2013-03-24T00:00:00",
          "precipitation": 0,
          "temp_max": 12.2,
          "temp_min": 0.6,
          "weather": "sun",
          "wind": 2.1
         },
         {
          "date": "2013-03-25T00:00:00",
          "precipitation": 0,
          "temp_max": 16.7,
          "temp_min": 4.4,
          "weather": "sun",
          "wind": 2.8
         },
         {
          "date": "2013-03-26T00:00:00",
          "precipitation": 0,
          "temp_max": 16.7,
          "temp_min": 6.1,
          "weather": "sun",
          "wind": 1.7
         },
         {
          "date": "2013-03-27T00:00:00",
          "precipitation": 0.3,
          "temp_max": 13.3,
          "temp_min": 7.2,
          "weather": "rain",
          "wind": 1.6
         },
         {
          "date": "2013-03-28T00:00:00",
          "precipitation": 2,
          "temp_max": 16.1,
          "temp_min": 8.3,
          "weather": "rain",
          "wind": 1.3
         },
         {
          "date": "2013-03-29T00:00:00",
          "precipitation": 0,
          "temp_max": 18.3,
          "temp_min": 7.8,
          "weather": "rain",
          "wind": 2.5
         },
         {
          "date": "2013-03-30T00:00:00",
          "precipitation": 0,
          "temp_max": 20,
          "temp_min": 5.6,
          "weather": "drizzle",
          "wind": 4.4
         },
         {
          "date": "2013-03-31T00:00:00",
          "precipitation": 0,
          "temp_max": 20.6,
          "temp_min": 6.7,
          "weather": "sun",
          "wind": 2.9
         },
         {
          "date": "2013-04-01T00:00:00",
          "precipitation": 0,
          "temp_max": 17.2,
          "temp_min": 8.3,
          "weather": "sun",
          "wind": 3.6
         },
         {
          "date": "2013-04-02T00:00:00",
          "precipitation": 0,
          "temp_max": 13.9,
          "temp_min": 8.9,
          "weather": "sun",
          "wind": 2.2
         },
         {
          "date": "2013-04-03T00:00:00",
          "precipitation": 0,
          "temp_max": 16.7,
          "temp_min": 7.8,
          "weather": "sun",
          "wind": 1.6
         },
         {
          "date": "2013-04-04T00:00:00",
          "precipitation": 8.4,
          "temp_max": 14.4,
          "temp_min": 10,
          "weather": "fog",
          "wind": 3
         },
         {
          "date": "2013-04-05T00:00:00",
          "precipitation": 18.5,
          "temp_max": 13.9,
          "temp_min": 10,
          "weather": "fog",
          "wind": 5.6
         },
         {
          "date": "2013-04-06T00:00:00",
          "precipitation": 12.7,
          "temp_max": 12.2,
          "temp_min": 7.2,
          "weather": "fog",
          "wind": 5
         },
         {
          "date": "2013-04-07T00:00:00",
          "precipitation": 39.1,
          "temp_max": 8.3,
          "temp_min": 5,
          "weather": "fog",
          "wind": 3.9
         },
         {
          "date": "2013-04-08T00:00:00",
          "precipitation": 0.8,
          "temp_max": 13.3,
          "temp_min": 6.1,
          "weather": "fog",
          "wind": 3.1
         },
         {
          "date": "2013-04-09T00:00:00",
          "precipitation": 0,
          "temp_max": 12.2,
          "temp_min": 6.1,
          "weather": "sun",
          "wind": 2.4
         },
         {
          "date": "2013-04-10T00:00:00",
          "precipitation": 9.4,
          "temp_max": 15,
          "temp_min": 8.9,
          "weather": "sun",
          "wind": 6.4
         },
         {
          "date": "2013-04-11T00:00:00",
          "precipitation": 1.5,
          "temp_max": 12.2,
          "temp_min": 6.7,
          "weather": "fog",
          "wind": 3.8
         },
         {
          "date": "2013-04-12T00:00:00",
          "precipitation": 9.7,
          "temp_max": 7.8,
          "temp_min": 4.4,
          "weather": "fog",
          "wind": 4.6
         },
         {
          "date": "2013-04-13T00:00:00",
          "precipitation": 9.4,
          "temp_max": 10.6,
          "temp_min": 3.3,
          "weather": "fog",
          "wind": 5.7
         },
         {
          "date": "2013-04-14T00:00:00",
          "precipitation": 5.8,
          "temp_max": 12.8,
          "temp_min": 4.4,
          "weather": "fog",
          "wind": 2.3
         },
         {
          "date": "2013-04-15T00:00:00",
          "precipitation": 0,
          "temp_max": 13.9,
          "temp_min": 4.4,
          "weather": "fog",
          "wind": 2.4
         },
         {
          "date": "2013-04-16T00:00:00",
          "precipitation": 0.3,
          "temp_max": 13.9,
          "temp_min": 3.3,
          "weather": "sun",
          "wind": 2.6
         },
         {
          "date": "2013-04-17T00:00:00",
          "precipitation": 0,
          "temp_max": 15,
          "temp_min": 3.9,
          "weather": "drizzle",
          "wind": 3.3
         },
         {
          "date": "2013-04-18T00:00:00",
          "precipitation": 5.3,
          "temp_max": 11.7,
          "temp_min": 6.7,
          "weather": "fog",
          "wind": 4
         },
         {
          "date": "2013-04-19T00:00:00",
          "precipitation": 20.6,
          "temp_max": 13.3,
          "temp_min": 9.4,
          "weather": "fog",
          "wind": 4.9
         },
         {
          "date": "2013-04-20T00:00:00",
          "precipitation": 0,
          "temp_max": 13.9,
          "temp_min": 8.3,
          "weather": "sun",
          "wind": 5.8
         },
         {
          "date": "2013-04-21T00:00:00",
          "precipitation": 3.3,
          "temp_max": 12.2,
          "temp_min": 6.7,
          "weather": "sun",
          "wind": 4.1
         },
         {
          "date": "2013-04-22T00:00:00",
          "precipitation": 0,
          "temp_max": 16.1,
          "temp_min": 5,
          "weather": "sun",
          "wind": 4.3
         },
         {
          "date": "2013-04-23T00:00:00",
          "precipitation": 0,
          "temp_max": 17.8,
          "temp_min": 3.9,
          "weather": "sun",
          "wind": 2.8
         },
         {
          "date": "2013-04-24T00:00:00",
          "precipitation": 0,
          "temp_max": 21.1,
          "temp_min": 6.1,
          "weather": "sun",
          "wind": 3
         },
         {
          "date": "2013-04-25T00:00:00",
          "precipitation": 0,
          "temp_max": 21.7,
          "temp_min": 6.7,
          "weather": "sun",
          "wind": 1.1
         },
         {
          "date": "2013-04-26T00:00:00",
          "precipitation": 0,
          "temp_max": 20.6,
          "temp_min": 8.3,
          "weather": "fog",
          "wind": 2.2
         },
         {
          "date": "2013-04-27T00:00:00",
          "precipitation": 0,
          "temp_max": 13.9,
          "temp_min": 10.6,
          "weather": "sun",
          "wind": 5.9
         },
         {
          "date": "2013-04-28T00:00:00",
          "precipitation": 1,
          "temp_max": 15,
          "temp_min": 9.4,
          "weather": "drizzle",
          "wind": 5.2
         },
         {
          "date": "2013-04-29T00:00:00",
          "precipitation": 3.8,
          "temp_max": 13.9,
          "temp_min": 6.7,
          "weather": "fog",
          "wind": 4.2
         },
         {
          "date": "2013-04-30T00:00:00",
          "precipitation": 0,
          "temp_max": 12.8,
          "temp_min": 4.4,
          "weather": "sun",
          "wind": 2.4
         },
         {
          "date": "2013-05-01T00:00:00",
          "precipitation": 0,
          "temp_max": 18.3,
          "temp_min": 3.3,
          "weather": "sun",
          "wind": 3.1
         },
         {
          "date": "2013-05-02T00:00:00",
          "precipitation": 0,
          "temp_max": 20.6,
          "temp_min": 6.7,
          "weather": "sun",
          "wind": 4
         },
         {
          "date": "2013-05-03T00:00:00",
          "precipitation": 0,
          "temp_max": 21.7,
          "temp_min": 9.4,
          "weather": "sun",
          "wind": 4.9
         },
         {
          "date": "2013-05-04T00:00:00",
          "precipitation": 0,
          "temp_max": 25,
          "temp_min": 11.1,
          "weather": "sun",
          "wind": 6.5
         },
         {
          "date": "2013-05-05T00:00:00",
          "precipitation": 0,
          "temp_max": 28.9,
          "temp_min": 11.7,
          "weather": "sun",
          "wind": 5.3
         },
         {
          "date": "2013-05-06T00:00:00",
          "precipitation": 0,
          "temp_max": 30.6,
          "temp_min": 12.2,
          "weather": "sun",
          "wind": 2
         },
         {
          "date": "2013-05-07T00:00:00",
          "precipitation": 0,
          "temp_max": 20.6,
          "temp_min": 11.1,
          "weather": "sun",
          "wind": 3.3
         },
         {
          "date": "2013-05-08T00:00:00",
          "precipitation": 0,
          "temp_max": 19.4,
          "temp_min": 11.1,
          "weather": "sun",
          "wind": 1.9
         },
         {
          "date": "2013-05-09T00:00:00",
          "precipitation": 0,
          "temp_max": 22.8,
          "temp_min": 10,
          "weather": "sun",
          "wind": 1.3
         },
         {
          "date": "2013-05-10T00:00:00",
          "precipitation": 0,
          "temp_max": 26.1,
          "temp_min": 9.4,
          "weather": "sun",
          "wind": 1
         },
         {
          "date": "2013-05-11T00:00:00",
          "precipitation": 0,
          "temp_max": 27.2,
          "temp_min": 12.2,
          "weather": "sun",
          "wind": 2.6
         },
         {
          "date": "2013-05-12T00:00:00",
          "precipitation": 6.6,
          "temp_max": 21.7,
          "temp_min": 13.9,
          "weather": "fog",
          "wind": 3.9
         },
         {
          "date": "2013-05-13T00:00:00",
          "precipitation": 3.3,
          "temp_max": 18.9,
          "temp_min": 9.4,
          "weather": "sun",
          "wind": 5
         },
         {
          "date": "2013-05-14T00:00:00",
          "precipitation": 0,
          "temp_max": 18.3,
          "temp_min": 7.8,
          "weather": "sun",
          "wind": 2.4
         },
         {
          "date": "2013-05-15T00:00:00",
          "precipitation": 1,
          "temp_max": 17.2,
          "temp_min": 8.9,
          "weather": "fog",
          "wind": 2.3
         },
         {
          "date": "2013-05-16T00:00:00",
          "precipitation": 0,
          "temp_max": 21.7,
          "temp_min": 12.2,
          "weather": "fog",
          "wind": 2.7
         },
         {
          "date": "2013-05-17T00:00:00",
          "precipitation": 0.5,
          "temp_max": 17.2,
          "temp_min": 11.7,
          "weather": "sun",
          "wind": 3.7
         },
         {
          "date": "2013-05-18T00:00:00",
          "precipitation": 0,
          "temp_max": 16.7,
          "temp_min": 11.1,
          "weather": "sun",
          "wind": 2.9
         },
         {
          "date": "2013-05-19T00:00:00",
          "precipitation": 0,
          "temp_max": 18.3,
          "temp_min": 10.6,
          "weather": "sun",
          "wind": 2.3
         },
         {
          "date": "2013-05-20T00:00:00",
          "precipitation": 0,
          "temp_max": 19.4,
          "temp_min": 9.4,
          "weather": "sun",
          "wind": 1.8
         },
         {
          "date": "2013-05-21T00:00:00",
          "precipitation": 13.7,
          "temp_max": 15.6,
          "temp_min": 8.3,
          "weather": "fog",
          "wind": 4.8
         },
         {
          "date": "2013-05-22T00:00:00",
          "precipitation": 13.7,
          "temp_max": 11.1,
          "temp_min": 7.2,
          "weather": "fog",
          "wind": 3
         },
         {
          "date": "2013-05-23T00:00:00",
          "precipitation": 4.1,
          "temp_max": 12.2,
          "temp_min": 6.7,
          "weather": "fog",
          "wind": 1.9
         },
         {
          "date": "2013-05-24T00:00:00",
          "precipitation": 0.3,
          "temp_max": 16.7,
          "temp_min": 8.9,
          "weather": "sun",
          "wind": 2.7
         },
         {
          "date": "2013-05-25T00:00:00",
          "precipitation": 0,
          "temp_max": 17.8,
          "temp_min": 10,
          "weather": "sun",
          "wind": 2.7
         },
         {
          "date": "2013-05-26T00:00:00",
          "precipitation": 1.5,
          "temp_max": 18.3,
          "temp_min": 10.6,
          "weather": "fog",
          "wind": 2.2
         },
         {
          "date": "2013-05-27T00:00:00",
          "precipitation": 9.7,
          "temp_max": 16.7,
          "temp_min": 11.1,
          "weather": "fog",
          "wind": 3.1
         },
         {
          "date": "2013-05-28T00:00:00",
          "precipitation": 0.5,
          "temp_max": 17.2,
          "temp_min": 11.7,
          "weather": "fog",
          "wind": 2.8
         },
         {
          "date": "2013-05-29T00:00:00",
          "precipitation": 5.6,
          "temp_max": 16.1,
          "temp_min": 9.4,
          "weather": "fog",
          "wind": 4
         },
         {
          "date": "2013-05-30T00:00:00",
          "precipitation": 0,
          "temp_max": 16.7,
          "temp_min": 9.4,
          "weather": "sun",
          "wind": 5.3
         },
         {
          "date": "2013-05-31T00:00:00",
          "precipitation": 0,
          "temp_max": 19.4,
          "temp_min": 11.1,
          "weather": "sun",
          "wind": 2.5
         },
         {
          "date": "2013-06-01T00:00:00",
          "precipitation": 0,
          "temp_max": 22.8,
          "temp_min": 12.2,
          "weather": "sun",
          "wind": 2.5
         },
         {
          "date": "2013-06-02T00:00:00",
          "precipitation": 1,
          "temp_max": 20.6,
          "temp_min": 12.2,
          "weather": "sun",
          "wind": 3.1
         },
         {
          "date": "2013-06-03T00:00:00",
          "precipitation": 0,
          "temp_max": 22.2,
          "temp_min": 11.1,
          "weather": "sun",
          "wind": 2.9
         },
         {
          "date": "2013-06-04T00:00:00",
          "precipitation": 0,
          "temp_max": 26.1,
          "temp_min": 12.2,
          "weather": "sun",
          "wind": 3.4
         },
         {
          "date": "2013-06-05T00:00:00",
          "precipitation": 0,
          "temp_max": 26.7,
          "temp_min": 14.4,
          "weather": "sun",
          "wind": 3.1
         },
         {
          "date": "2013-06-06T00:00:00",
          "precipitation": 0,
          "temp_max": 26.7,
          "temp_min": 12.2,
          "weather": "sun",
          "wind": 2.5
         },
         {
          "date": "2013-06-07T00:00:00",
          "precipitation": 0,
          "temp_max": 21.7,
          "temp_min": 13.3,
          "weather": "sun",
          "wind": 3.2
         },
         {
          "date": "2013-06-08T00:00:00",
          "precipitation": 0,
          "temp_max": 20.6,
          "temp_min": 12.8,
          "weather": "sun",
          "wind": 3.1
         },
         {
          "date": "2013-06-09T00:00:00",
          "precipitation": 0,
          "temp_max": 20.6,
          "temp_min": 11.1,
          "weather": "sun",
          "wind": 3.7
         },
         {
          "date": "2013-06-10T00:00:00",
          "precipitation": 0,
          "temp_max": 21.7,
          "temp_min": 11.7,
          "weather": "sun",
          "wind": 3.2
         },
         {
          "date": "2013-06-11T00:00:00",
          "precipitation": 0,
          "temp_max": 20,
          "temp_min": 10,
          "weather": "sun",
          "wind": 5.7
         },
         {
          "date": "2013-06-12T00:00:00",
          "precipitation": 0.3,
          "temp_max": 20.6,
          "temp_min": 11.7,
          "weather": "sun",
          "wind": 4.2
         },
         {
          "date": "2013-06-13T00:00:00",
          "precipitation": 0,
          "temp_max": 21.1,
          "temp_min": 11.7,
          "weather": "sun",
          "wind": 2.6
         },
         {
          "date": "2013-06-14T00:00:00",
          "precipitation": 0,
          "temp_max": 20,
          "temp_min": 12.2,
          "weather": "sun",
          "wind": 3.7
         },
         {
          "date": "2013-06-15T00:00:00",
          "precipitation": 0,
          "temp_max": 25.6,
          "temp_min": 10,
          "weather": "sun",
          "wind": 2.9
         },
         {
          "date": "2013-06-16T00:00:00",
          "precipitation": 0,
          "temp_max": 23.9,
          "temp_min": 12.8,
          "weather": "sun",
          "wind": 3.4
         },
         {
          "date": "2013-06-17T00:00:00",
          "precipitation": 0,
          "temp_max": 25.6,
          "temp_min": 13.9,
          "weather": "sun",
          "wind": 3
         },
         {
          "date": "2013-06-18T00:00:00",
          "precipitation": 0.3,
          "temp_max": 23.3,
          "temp_min": 13.3,
          "weather": "fog",
          "wind": 3.4
         },
         {
          "date": "2013-06-19T00:00:00",
          "precipitation": 0,
          "temp_max": 20,
          "temp_min": 12.8,
          "weather": "sun",
          "wind": 3.7
         },
         {
          "date": "2013-06-20T00:00:00",
          "precipitation": 3,
          "temp_max": 17.2,
          "temp_min": 12.8,
          "weather": "sun",
          "wind": 5
         },
         {
          "date": "2013-06-21T00:00:00",
          "precipitation": 0.3,
          "temp_max": 20.6,
          "temp_min": 12.2,
          "weather": "sun",
          "wind": 1.5
         },
         {
          "date": "2013-06-22T00:00:00",
          "precipitation": 0,
          "temp_max": 25.6,
          "temp_min": 11.7,
          "weather": "sun",
          "wind": 1.7
         },
         {
          "date": "2013-06-23T00:00:00",
          "precipitation": 7.9,
          "temp_max": 22.2,
          "temp_min": 15,
          "weather": "fog",
          "wind": 2.1
         },
         {
          "date": "2013-06-24T00:00:00",
          "precipitation": 4.8,
          "temp_max": 21.1,
          "temp_min": 13.9,
          "weather": "fog",
          "wind": 3.7
         },
         {
          "date": "2013-06-25T00:00:00",
          "precipitation": 9.9,
          "temp_max": 23.3,
          "temp_min": 14.4,
          "weather": "sun",
          "wind": 2.8
         },
         {
          "date": "2013-06-26T00:00:00",
          "precipitation": 2,
          "temp_max": 22.2,
          "temp_min": 15,
          "weather": "fog",
          "wind": 2.3
         },
         {
          "date": "2013-06-27T00:00:00",
          "precipitation": 3.6,
          "temp_max": 21.1,
          "temp_min": 16.7,
          "weather": "fog",
          "wind": 1.3
         },
         {
          "date": "2013-06-28T00:00:00",
          "precipitation": 0,
          "temp_max": 30.6,
          "temp_min": 16.1,
          "weather": "sun",
          "wind": 2.2
         },
         {
          "date": "2013-06-29T00:00:00",
          "precipitation": 0,
          "temp_max": 30,
          "temp_min": 18.3,
          "weather": "sun",
          "wind": 1.7
         },
         {
          "date": "2013-06-30T00:00:00",
          "precipitation": 0,
          "temp_max": 33.9,
          "temp_min": 17.2,
          "weather": "sun",
          "wind": 2.5
         },
         {
          "date": "2013-07-01T00:00:00",
          "precipitation": 0,
          "temp_max": 31.7,
          "temp_min": 18.3,
          "weather": "sun",
          "wind": 2.3
         },
         {
          "date": "2013-07-02T00:00:00",
          "precipitation": 0,
          "temp_max": 28.3,
          "temp_min": 15.6,
          "weather": "sun",
          "wind": 3
         },
         {
          "date": "2013-07-03T00:00:00",
          "precipitation": 0,
          "temp_max": 26.1,
          "temp_min": 16.7,
          "weather": "sun",
          "wind": 3.2
         },
         {
          "date": "2013-07-04T00:00:00",
          "precipitation": 0,
          "temp_max": 21.7,
          "temp_min": 13.9,
          "weather": "fog",
          "wind": 2.2
         },
         {
          "date": "2013-07-05T00:00:00",
          "precipitation": 0,
          "temp_max": 23.3,
          "temp_min": 13.9,
          "weather": "sun",
          "wind": 2.6
         },
         {
          "date": "2013-07-06T00:00:00",
          "precipitation": 0,
          "temp_max": 26.1,
          "temp_min": 13.3,
          "weather": "sun",
          "wind": 2.2
         },
         {
          "date": "2013-07-07T00:00:00",
          "precipitation": 0,
          "temp_max": 23.9,
          "temp_min": 13.9,
          "weather": "sun",
          "wind": 2.9
         },
         {
          "date": "2013-07-08T00:00:00",
          "precipitation": 0,
          "temp_max": 26.7,
          "temp_min": 13.3,
          "weather": "sun",
          "wind": 2.8
         },
         {
          "date": "2013-07-09T00:00:00",
          "precipitation": 0,
          "temp_max": 30,
          "temp_min": 15,
          "weather": "sun",
          "wind": 2.5
         },
         {
          "date": "2013-07-10T00:00:00",
          "precipitation": 0,
          "temp_max": 22.2,
          "temp_min": 13.9,
          "weather": "sun",
          "wind": 2.6
         },
         {
          "date": "2013-07-11T00:00:00",
          "precipitation": 0,
          "temp_max": 22.8,
          "temp_min": 12.2,
          "weather": "sun",
          "wind": 3
         },
         {
          "date": "2013-07-12T00:00:00",
          "precipitation": 0,
          "temp_max": 19.4,
          "temp_min": 13.3,
          "weather": "sun",
          "wind": 2.2
         },
         {
          "date": "2013-07-13T00:00:00",
          "precipitation": 0,
          "temp_max": 26.1,
          "temp_min": 11.1,
          "weather": "sun",
          "wind": 3.1
         },
         {
          "date": "2013-07-14T00:00:00",
          "precipitation": 0,
          "temp_max": 27.8,
          "temp_min": 12.8,
          "weather": "sun",
          "wind": 3
         },
         {
          "date": "2013-07-15T00:00:00",
          "precipitation": 0,
          "temp_max": 27.8,
          "temp_min": 14.4,
          "weather": "sun",
          "wind": 4.6
         },
         {
          "date": "2013-07-16T00:00:00",
          "precipitation": 0,
          "temp_max": 31.1,
          "temp_min": 18.3,
          "weather": "sun",
          "wind": 4.1
         },
         {
          "date": "2013-07-17T00:00:00",
          "precipitation": 0,
          "temp_max": 22.2,
          "temp_min": 15,
          "weather": "rain",
          "wind": 3.7
         },
         {
          "date": "2013-07-18T00:00:00",
          "precipitation": 0,
          "temp_max": 26.1,
          "temp_min": 13.9,
          "weather": "sun",
          "wind": 2
         },
         {
          "date": "2013-07-19T00:00:00",
          "precipitation": 0,
          "temp_max": 27.8,
          "temp_min": 13.3,
          "weather": "sun",
          "wind": 1.9
         },
         {
          "date": "2013-07-20T00:00:00",
          "precipitation": 0,
          "temp_max": 25,
          "temp_min": 13.3,
          "weather": "sun",
          "wind": 2
         },
         {
          "date": "2013-07-21T00:00:00",
          "precipitation": 0,
          "temp_max": 23.9,
          "temp_min": 12.8,
          "weather": "sun",
          "wind": 2.3
         },
         {
          "date": "2013-07-22T00:00:00",
          "precipitation": 0,
          "temp_max": 26.1,
          "temp_min": 13.3,
          "weather": "fog",
          "wind": 2.4
         },
         {
          "date": "2013-07-23T00:00:00",
          "precipitation": 0,
          "temp_max": 31.1,
          "temp_min": 13.9,
          "weather": "sun",
          "wind": 3
         },
         {
          "date": "2013-07-24T00:00:00",
          "precipitation": 0,
          "temp_max": 31.1,
          "temp_min": 14.4,
          "weather": "sun",
          "wind": 2.5
         },
         {
          "date": "2013-07-25T00:00:00",
          "precipitation": 0,
          "temp_max": 31.1,
          "temp_min": 12.8,
          "weather": "sun",
          "wind": 2.3
         },
         {
          "date": "2013-07-26T00:00:00",
          "precipitation": 0,
          "temp_max": 31.1,
          "temp_min": 14.4,
          "weather": "sun",
          "wind": 2.9
         },
         {
          "date": "2013-07-27T00:00:00",
          "precipitation": 0,
          "temp_max": 25.6,
          "temp_min": 12.8,
          "weather": "sun",
          "wind": 2.6
         },
         {
          "date": "2013-07-28T00:00:00",
          "precipitation": 0,
          "temp_max": 21.1,
          "temp_min": 12.2,
          "weather": "fog",
          "wind": 3.4
         },
         {
          "date": "2013-07-29T00:00:00",
          "precipitation": 0,
          "temp_max": 25,
          "temp_min": 13.3,
          "weather": "sun",
          "wind": 1.4
         },
         {
          "date": "2013-07-30T00:00:00",
          "precipitation": 0,
          "temp_max": 25,
          "temp_min": 13.3,
          "weather": "sun",
          "wind": 2.8
         },
         {
          "date": "2013-07-31T00:00:00",
          "precipitation": 0,
          "temp_max": 21.7,
          "temp_min": 13.3,
          "weather": "sun",
          "wind": 1.8
         },
         {
          "date": "2013-08-01T00:00:00",
          "precipitation": 0,
          "temp_max": 20.6,
          "temp_min": 13.3,
          "weather": "sun",
          "wind": 3.9
         },
         {
          "date": "2013-08-02T00:00:00",
          "precipitation": 2,
          "temp_max": 17.2,
          "temp_min": 15,
          "weather": "sun",
          "wind": 2
         },
         {
          "date": "2013-08-03T00:00:00",
          "precipitation": 0,
          "temp_max": 25,
          "temp_min": 15.6,
          "weather": "fog",
          "wind": 2.4
         },
         {
          "date": "2013-08-04T00:00:00",
          "precipitation": 0,
          "temp_max": 28.9,
          "temp_min": 15,
          "weather": "sun",
          "wind": 3.4
         },
         {
          "date": "2013-08-05T00:00:00",
          "precipitation": 0,
          "temp_max": 30,
          "temp_min": 15,
          "weather": "sun",
          "wind": 2.1
         },
         {
          "date": "2013-08-06T00:00:00",
          "precipitation": 0,
          "temp_max": 30.6,
          "temp_min": 13.9,
          "weather": "sun",
          "wind": 1.4
         },
         {
          "date": "2013-08-07T00:00:00",
          "precipitation": 0,
          "temp_max": 31.1,
          "temp_min": 13.9,
          "weather": "sun",
          "wind": 1.9
         },
         {
          "date": "2013-08-08T00:00:00",
          "precipitation": 0,
          "temp_max": 28.3,
          "temp_min": 14.4,
          "weather": "sun",
          "wind": 2.5
         },
         {
          "date": "2013-08-09T00:00:00",
          "precipitation": 0,
          "temp_max": 28.3,
          "temp_min": 14.4,
          "weather": "rain",
          "wind": 2.1
         },
         {
          "date": "2013-08-10T00:00:00",
          "precipitation": 2.3,
          "temp_max": 25.6,
          "temp_min": 15,
          "weather": "sun",
          "wind": 2.9
         },
         {
          "date": "2013-08-11T00:00:00",
          "precipitation": 0,
          "temp_max": 25,
          "temp_min": 14.4,
          "weather": "sun",
          "wind": 2.9
         },
         {
          "date": "2013-08-12T00:00:00",
          "precipitation": 0,
          "temp_max": 25.6,
          "temp_min": 16.1,
          "weather": "sun",
          "wind": 1.9
         },
         {
          "date": "2013-08-13T00:00:00",
          "precipitation": 0,
          "temp_max": 27.8,
          "temp_min": 15,
          "weather": "sun",
          "wind": 1.8
         },
         {
          "date": "2013-08-14T00:00:00",
          "precipitation": 0.8,
          "temp_max": 27.2,
          "temp_min": 15,
          "weather": "sun",
          "wind": 2
         },
         {
          "date": "2013-08-15T00:00:00",
          "precipitation": 1.8,
          "temp_max": 21.1,
          "temp_min": 17.2,
          "weather": "sun",
          "wind": 1
         },
         {
          "date": "2013-08-16T00:00:00",
          "precipitation": 0,
          "temp_max": 28.9,
          "temp_min": 16.1,
          "weather": "fog",
          "wind": 2.2
         },
         {
          "date": "2013-08-17T00:00:00",
          "precipitation": 0,
          "temp_max": 25.6,
          "temp_min": 17.2,
          "weather": "sun",
          "wind": 3
         },
         {
          "date": "2013-08-18T00:00:00",
          "precipitation": 0,
          "temp_max": 26.1,
          "temp_min": 15.6,
          "weather": "sun",
          "wind": 3.1
         },
         {
          "date": "2013-08-19T00:00:00",
          "precipitation": 0,
          "temp_max": 26.7,
          "temp_min": 15.6,
          "weather": "sun",
          "wind": 3
         },
         {
          "date": "2013-08-20T00:00:00",
          "precipitation": 0,
          "temp_max": 25.6,
          "temp_min": 16.1,
          "weather": "sun",
          "wind": 4.6
         },
         {
          "date": "2013-08-21T00:00:00",
          "precipitation": 0,
          "temp_max": 27.8,
          "temp_min": 15,
          "weather": "sun",
          "wind": 4.3
         },
         {
          "date": "2013-08-22T00:00:00",
          "precipitation": 0,
          "temp_max": 28.9,
          "temp_min": 15,
          "weather": "sun",
          "wind": 1.9
         },
         {
          "date": "2013-08-23T00:00:00",
          "precipitation": 0,
          "temp_max": 25,
          "temp_min": 16.1,
          "weather": "sun",
          "wind": 4.1
         },
         {
          "date": "2013-08-24T00:00:00",
          "precipitation": 0,
          "temp_max": 25,
          "temp_min": 16.7,
          "weather": "sun",
          "wind": 2.7
         },
         {
          "date": "2013-08-25T00:00:00",
          "precipitation": 0.3,
          "temp_max": 22.2,
          "temp_min": 16.1,
          "weather": "sun",
          "wind": 2.6
         },
         {
          "date": "2013-08-26T00:00:00",
          "precipitation": 1,
          "temp_max": 24.4,
          "temp_min": 16.1,
          "weather": "sun",
          "wind": 1.9
         },
         {
          "date": "2013-08-27T00:00:00",
          "precipitation": 1.3,
          "temp_max": 26.7,
          "temp_min": 17.2,
          "weather": "sun",
          "wind": 1.4
         },
         {
          "date": "2013-08-28T00:00:00",
          "precipitation": 5.6,
          "temp_max": 26.7,
          "temp_min": 15.6,
          "weather": "fog",
          "wind": 1.3
         },
         {
          "date": "2013-08-29T00:00:00",
          "precipitation": 19.3,
          "temp_max": 23.9,
          "temp_min": 18.3,
          "weather": "sun",
          "wind": 3
         },
         {
          "date": "2013-08-30T00:00:00",
          "precipitation": 0,
          "temp_max": 26.1,
          "temp_min": 16.1,
          "weather": "sun",
          "wind": 2.9
         },
         {
          "date": "2013-08-31T00:00:00",
          "precipitation": 0,
          "temp_max": 27.8,
          "temp_min": 13.9,
          "weather": "sun",
          "wind": 2.6
         },
         {
          "date": "2013-09-01T00:00:00",
          "precipitation": 0,
          "temp_max": 27.8,
          "temp_min": 15.6,
          "weather": "sun",
          "wind": 2.5
         },
         {
          "date": "2013-09-02T00:00:00",
          "precipitation": 0,
          "temp_max": 27.8,
          "temp_min": 17.2,
          "weather": "sun",
          "wind": 2.1
         },
         {
          "date": "2013-09-03T00:00:00",
          "precipitation": 2.3,
          "temp_max": 25,
          "temp_min": 16.7,
          "weather": "fog",
          "wind": 1.7
         },
         {
          "date": "2013-09-04T00:00:00",
          "precipitation": 0.3,
          "temp_max": 22.8,
          "temp_min": 16.1,
          "weather": "fog",
          "wind": 2.4
         },
         {
          "date": "2013-09-05T00:00:00",
          "precipitation": 27.7,
          "temp_max": 20,
          "temp_min": 15.6,
          "weather": "sun",
          "wind": 2.5
         },
         {
          "date": "2013-09-06T00:00:00",
          "precipitation": 21.3,
          "temp_max": 21.7,
          "temp_min": 16.1,
          "weather": "fog",
          "wind": 2.6
         },
         {
          "date": "2013-09-07T00:00:00",
          "precipitation": 0,
          "temp_max": 23.3,
          "temp_min": 17.2,
          "weather": "sun",
          "wind": 2
         },
         {
          "date": "2013-09-08T00:00:00",
          "precipitation": 0,
          "temp_max": 26.7,
          "temp_min": 14.4,
          "weather": "fog",
          "wind": 1.5
         },
         {
          "date": "2013-09-09T00:00:00",
          "precipitation": 0,
          "temp_max": 26.1,
          "temp_min": 13.9,
          "weather": "sun",
          "wind": 2.1
         },
         {
          "date": "2013-09-10T00:00:00",
          "precipitation": 0,
          "temp_max": 26.7,
          "temp_min": 15,
          "weather": "sun",
          "wind": 3.7
         },
         {
          "date": "2013-09-11T00:00:00",
          "precipitation": 0,
          "temp_max": 33.9,
          "temp_min": 16.1,
          "weather": "sun",
          "wind": 2.4
         },
         {
          "date": "2013-09-12T00:00:00",
          "precipitation": 0,
          "temp_max": 25.6,
          "temp_min": 15,
          "weather": "sun",
          "wind": 1.7
         },
         {
          "date": "2013-09-13T00:00:00",
          "precipitation": 0,
          "temp_max": 18.9,
          "temp_min": 15.6,
          "weather": "sun",
          "wind": 2
         },
         {
          "date": "2013-09-14T00:00:00",
          "precipitation": 0,
          "temp_max": 21.7,
          "temp_min": 15.6,
          "weather": "fog",
          "wind": 1.4
         },
         {
          "date": "2013-09-15T00:00:00",
          "precipitation": 3.3,
          "temp_max": 18.9,
          "temp_min": 14.4,
          "weather": "sun",
          "wind": 2.2
         },
         {
          "date": "2013-09-16T00:00:00",
          "precipitation": 0.3,
          "temp_max": 21.7,
          "temp_min": 15,
          "weather": "fog",
          "wind": 4.3
         },
         {
          "date": "2013-09-17T00:00:00",
          "precipitation": 0,
          "temp_max": 17.8,
          "temp_min": 13.9,
          "weather": "sun",
          "wind": 2.3
         },
         {
          "date": "2013-09-18T00:00:00",
          "precipitation": 0,
          "temp_max": 21.1,
          "temp_min": 13.3,
          "weather": "sun",
          "wind": 2.5
         },
         {
          "date": "2013-09-19T00:00:00",
          "precipitation": 0,
          "temp_max": 25.6,
          "temp_min": 10,
          "weather": "sun",
          "wind": 1.5
         },
         {
          "date": "2013-09-20T00:00:00",
          "precipitation": 3.6,
          "temp_max": 23.3,
          "temp_min": 13.3,
          "weather": "fog",
          "wind": 3
         },
         {
          "date": "2013-09-21T00:00:00",
          "precipitation": 0,
          "temp_max": 21.1,
          "temp_min": 13.3,
          "weather": "sun",
          "wind": 2.5
         },
         {
          "date": "2013-09-22T00:00:00",
          "precipitation": 13.5,
          "temp_max": 17.2,
          "temp_min": 13.3,
          "weather": "fog",
          "wind": 5.5
         },
         {
          "date": "2013-09-23T00:00:00",
          "precipitation": 2.8,
          "temp_max": 16.1,
          "temp_min": 11.1,
          "weather": "fog",
          "wind": 4.5
         },
         {
          "date": "2013-09-24T00:00:00",
          "precipitation": 0,
          "temp_max": 17.8,
          "temp_min": 10,
          "weather": "sun",
          "wind": 2.6
         },
         {
          "date": "2013-09-25T00:00:00",
          "precipitation": 2,
          "temp_max": 16.1,
          "temp_min": 9.4,
          "weather": "fog",
          "wind": 3
         },
         {
          "date": "2013-09-26T00:00:00",
          "precipitation": 0,
          "temp_max": 17.2,
          "temp_min": 7.2,
          "weather": "sun",
          "wind": 2.2
         },
         {
          "date": "2013-09-27T00:00:00",
          "precipitation": 1,
          "temp_max": 13.9,
          "temp_min": 10.6,
          "weather": "fog",
          "wind": 4.3
         },
         {
          "date": "2013-09-28T00:00:00",
          "precipitation": 43.4,
          "temp_max": 16.7,
          "temp_min": 11.7,
          "weather": "fog",
          "wind": 6
         },
         {
          "date": "2013-09-29T00:00:00",
          "precipitation": 16.8,
          "temp_max": 14.4,
          "temp_min": 11.1,
          "weather": "sun",
          "wind": 7.1
         },
         {
          "date": "2013-09-30T00:00:00",
          "precipitation": 18.5,
          "temp_max": 13.9,
          "temp_min": 10,
          "weather": "fog",
          "wind": 6.3
         },
         {
          "date": "2013-10-01T00:00:00",
          "precipitation": 7.9,
          "temp_max": 14.4,
          "temp_min": 8.9,
          "weather": "fog",
          "wind": 4.7
         },
         {
          "date": "2013-10-02T00:00:00",
          "precipitation": 5.3,
          "temp_max": 12.8,
          "temp_min": 9.4,
          "weather": "fog",
          "wind": 2.4
         },
         {
          "date": "2013-10-03T00:00:00",
          "precipitation": 0.8,
          "temp_max": 14.4,
          "temp_min": 8.9,
          "weather": "fog",
          "wind": 0.9
         },
         {
          "date": "2013-10-04T00:00:00",
          "precipitation": 0,
          "temp_max": 17.8,
          "temp_min": 5.6,
          "weather": "sun",
          "wind": 1.1
         },
         {
          "date": "2013-10-05T00:00:00",
          "precipitation": 0,
          "temp_max": 20,
          "temp_min": 8.3,
          "weather": "sun",
          "wind": 1.6
         },
         {
          "date": "2013-10-06T00:00:00",
          "precipitation": 4.1,
          "temp_max": 22.8,
          "temp_min": 7.8,
          "weather": "fog",
          "wind": 2.6
         },
         {
          "date": "2013-10-07T00:00:00",
          "precipitation": 0.5,
          "temp_max": 16.1,
          "temp_min": 11.7,
          "weather": "fog",
          "wind": 6.3
         },
         {
          "date": "2013-10-08T00:00:00",
          "precipitation": 6.9,
          "temp_max": 13.9,
          "temp_min": 7.8,
          "weather": "rain",
          "wind": 3
         },
         {
          "date": "2013-10-09T00:00:00",
          "precipitation": 0,
          "temp_max": 15,
          "temp_min": 5.6,
          "weather": "sun",
          "wind": 1.6
         },
         {
          "date": "2013-10-10T00:00:00",
          "precipitation": 1,
          "temp_max": 14.4,
          "temp_min": 8.3,
          "weather": "fog",
          "wind": 1.7
         },
         {
          "date": "2013-10-11T00:00:00",
          "precipitation": 9.1,
          "temp_max": 13.9,
          "temp_min": 10.6,
          "weather": "sun",
          "wind": 1
         },
         {
          "date": "2013-10-12T00:00:00",
          "precipitation": 1,
          "temp_max": 14.4,
          "temp_min": 8.9,
          "weather": "fog",
          "wind": 2.2
         },
         {
          "date": "2013-10-13T00:00:00",
          "precipitation": 0,
          "temp_max": 15,
          "temp_min": 6.7,
          "weather": "fog",
          "wind": 1.8
         },
         {
          "date": "2013-10-14T00:00:00",
          "precipitation": 0,
          "temp_max": 15.6,
          "temp_min": 3.9,
          "weather": "sun",
          "wind": 1.6
         },
         {
          "date": "2013-10-15T00:00:00",
          "precipitation": 0,
          "temp_max": 15.6,
          "temp_min": 5,
          "weather": "sun",
          "wind": 0.9
         },
         {
          "date": "2013-10-16T00:00:00",
          "precipitation": 0,
          "temp_max": 12.8,
          "temp_min": 8.9,
          "weather": "fog",
          "wind": 2.7
         },
         {
          "date": "2013-10-17T00:00:00",
          "precipitation": 0,
          "temp_max": 14.4,
          "temp_min": 8.9,
          "weather": "fog",
          "wind": 1.7
         },
         {
          "date": "2013-10-18T00:00:00",
          "precipitation": 0,
          "temp_max": 12.8,
          "temp_min": 7.2,
          "weather": "sun",
          "wind": 1.2
         },
         {
          "date": "2013-10-19T00:00:00",
          "precipitation": 0,
          "temp_max": 10.6,
          "temp_min": 7.8,
          "weather": "sun",
          "wind": 1.4
         },
         {
          "date": "2013-10-20T00:00:00",
          "precipitation": 0,
          "temp_max": 10.6,
          "temp_min": 7.8,
          "weather": "sun",
          "wind": 2.4
         },
         {
          "date": "2013-10-21T00:00:00",
          "precipitation": 0,
          "temp_max": 11.7,
          "temp_min": 8.3,
          "weather": "sun",
          "wind": 2.5
         },
         {
          "date": "2013-10-22T00:00:00",
          "precipitation": 0,
          "temp_max": 14.4,
          "temp_min": 7.2,
          "weather": "sun",
          "wind": 1.9
         },
         {
          "date": "2013-10-23T00:00:00",
          "precipitation": 0,
          "temp_max": 12.8,
          "temp_min": 6.1,
          "weather": "sun",
          "wind": 0.4
         },
         {
          "date": "2013-10-24T00:00:00",
          "precipitation": 0,
          "temp_max": 10,
          "temp_min": 6.1,
          "weather": "sun",
          "wind": 0.6
         },
         {
          "date": "2013-10-25T00:00:00",
          "precipitation": 0,
          "temp_max": 12.2,
          "temp_min": 7.8,
          "weather": "sun",
          "wind": 1.8
         },
         {
          "date": "2013-10-26T00:00:00",
          "precipitation": 0,
          "temp_max": 11.7,
          "temp_min": 8.3,
          "weather": "sun",
          "wind": 2.7
         },
         {
          "date": "2013-10-27T00:00:00",
          "precipitation": 1.8,
          "temp_max": 13.9,
          "temp_min": 8.3,
          "weather": "fog",
          "wind": 4.4
         },
         {
          "date": "2013-10-28T00:00:00",
          "precipitation": 0,
          "temp_max": 14.4,
          "temp_min": 7.2,
          "weather": "sun",
          "wind": 5.1
         },
         {
          "date": "2013-10-29T00:00:00",
          "precipitation": 0,
          "temp_max": 13.3,
          "temp_min": 3.3,
          "weather": "sun",
          "wind": 2.2
         },
         {
          "date": "2013-10-30T00:00:00",
          "precipitation": 0.5,
          "temp_max": 15,
          "temp_min": 5.6,
          "weather": "sun",
          "wind": 3.9
         },
         {
          "date": "2013-10-31T00:00:00",
          "precipitation": 0.3,
          "temp_max": 14.4,
          "temp_min": 10.6,
          "weather": "fog",
          "wind": 2.2
         },
         {
          "date": "2013-11-01T00:00:00",
          "precipitation": 1.3,
          "temp_max": 17.8,
          "temp_min": 11.7,
          "weather": "sun",
          "wind": 1.4
         },
         {
          "date": "2013-11-02T00:00:00",
          "precipitation": 12.7,
          "temp_max": 14.4,
          "temp_min": 8.3,
          "weather": "fog",
          "wind": 7.9
         },
         {
          "date": "2013-11-03T00:00:00",
          "precipitation": 0.5,
          "temp_max": 12.2,
          "temp_min": 4.4,
          "weather": "sun",
          "wind": 2.4
         },
         {
          "date": "2013-11-04T00:00:00",
          "precipitation": 0,
          "temp_max": 10.6,
          "temp_min": 3.9,
          "weather": "drizzle",
          "wind": 1.6
         },
         {
          "date": "2013-11-05T00:00:00",
          "precipitation": 2.5,
          "temp_max": 13.3,
          "temp_min": 7.2,
          "weather": "fog",
          "wind": 3.1
         },
         {
          "date": "2013-11-06T00:00:00",
          "precipitation": 3.8,
          "temp_max": 12.8,
          "temp_min": 7.8,
          "weather": "sun",
          "wind": 1.7
         },
         {
          "date": "2013-11-07T00:00:00",
          "precipitation": 30,
          "temp_max": 11.1,
          "temp_min": 10,
          "weather": "fog",
          "wind": 7.2
         },
         {
          "date": "2013-11-08T00:00:00",
          "precipitation": 0,
          "temp_max": 13.3,
          "temp_min": 7.2,
          "weather": "sun",
          "wind": 4.1
         },
         {
          "date": "2013-11-09T00:00:00",
          "precipitation": 1.8,
          "temp_max": 11.1,
          "temp_min": 5,
          "weather": "sun",
          "wind": 1.4
         },
         {
          "date": "2013-11-10T00:00:00",
          "precipitation": 0,
          "temp_max": 11.1,
          "temp_min": 8.3,
          "weather": "sun",
          "wind": 4.4
         },
         {
          "date": "2013-11-11T00:00:00",
          "precipitation": 0,
          "temp_max": 16.1,
          "temp_min": 6.1,
          "weather": "fog",
          "wind": 2.6
         },
         {
          "date": "2013-11-12T00:00:00",
          "precipitation": 4.1,
          "temp_max": 15.6,
          "temp_min": 8.9,
          "weather": "fog",
          "wind": 2.2
         },
         {
          "date": "2013-11-13T00:00:00",
          "precipitation": 0,
          "temp_max": 13.9,
          "temp_min": 10.6,
          "weather": "sun",
          "wind": 3.8
         },
         {
          "date": "2013-11-14T00:00:00",
          "precipitation": 1.3,
          "temp_max": 11.1,
          "temp_min": 6.1,
          "weather": "fog",
          "wind": 1.1
         },
         {
          "date": "2013-11-15T00:00:00",
          "precipitation": 3,
          "temp_max": 10.6,
          "temp_min": 7.2,
          "weather": "sun",
          "wind": 6
         },
         {
          "date": "2013-11-16T00:00:00",
          "precipitation": 0,
          "temp_max": 10,
          "temp_min": 5,
          "weather": "sun",
          "wind": 4.6
         },
         {
          "date": "2013-11-17T00:00:00",
          "precipitation": 5.3,
          "temp_max": 11.7,
          "temp_min": 7.2,
          "weather": "fog",
          "wind": 5.4
         },
         {
          "date": "2013-11-18T00:00:00",
          "precipitation": 26.2,
          "temp_max": 12.8,
          "temp_min": 9.4,
          "weather": "fog",
          "wind": 3.9
         },
         {
          "date": "2013-11-19T00:00:00",
          "precipitation": 1,
          "temp_max": 13.3,
          "temp_min": 4.4,
          "weather": "fog",
          "wind": 5.1
         },
         {
          "date": "2013-11-20T00:00:00",
          "precipitation": 0,
          "temp_max": 7.8,
          "temp_min": 1.7,
          "weather": "sun",
          "wind": 4.3
         },
         {
          "date": "2013-11-21T00:00:00",
          "precipitation": 0,
          "temp_max": 7.8,
          "temp_min": -0.5,
          "weather": "sun",
          "wind": 3.6
         },
         {
          "date": "2013-11-22T00:00:00",
          "precipitation": 0,
          "temp_max": 9.4,
          "temp_min": 0,
          "weather": "sun",
          "wind": 4.6
         },
         {
          "date": "2013-11-23T00:00:00",
          "precipitation": 0,
          "temp_max": 11.1,
          "temp_min": 1.1,
          "weather": "sun",
          "wind": 2.6
         },
         {
          "date": "2013-11-24T00:00:00",
          "precipitation": 0,
          "temp_max": 11.7,
          "temp_min": 0.6,
          "weather": "fog",
          "wind": 0.9
         },
         {
          "date": "2013-11-25T00:00:00",
          "precipitation": 0,
          "temp_max": 12.2,
          "temp_min": 2.2,
          "weather": "sun",
          "wind": 0.5
         },
         {
          "date": "2013-11-26T00:00:00",
          "precipitation": 0,
          "temp_max": 12.2,
          "temp_min": 2.8,
          "weather": "sun",
          "wind": 1
         },
         {
          "date": "2013-11-27T00:00:00",
          "precipitation": 0,
          "temp_max": 14.4,
          "temp_min": 5.6,
          "weather": "sun",
          "wind": 1.3
         },
         {
          "date": "2013-11-28T00:00:00",
          "precipitation": 0,
          "temp_max": 11.7,
          "temp_min": 3.3,
          "weather": "sun",
          "wind": 0.7
         },
         {
          "date": "2013-11-29T00:00:00",
          "precipitation": 0.5,
          "temp_max": 9.4,
          "temp_min": 5,
          "weather": "fog",
          "wind": 2.1
         },
         {
          "date": "2013-11-30T00:00:00",
          "precipitation": 2.3,
          "temp_max": 11.1,
          "temp_min": 7.2,
          "weather": "fog",
          "wind": 3.9
         },
         {
          "date": "2013-12-01T00:00:00",
          "precipitation": 3,
          "temp_max": 13.3,
          "temp_min": 7.8,
          "weather": "fog",
          "wind": 8.8
         },
         {
          "date": "2013-12-02T00:00:00",
          "precipitation": 4.6,
          "temp_max": 7.8,
          "temp_min": 1.7,
          "weather": "sun",
          "wind": 3.5
         },
         {
          "date": "2013-12-03T00:00:00",
          "precipitation": 0,
          "temp_max": 5,
          "temp_min": -0.5,
          "weather": "sun",
          "wind": 5.6
         },
         {
          "date": "2013-12-04T00:00:00",
          "precipitation": 0,
          "temp_max": 4.4,
          "temp_min": -2.1,
          "weather": "sun",
          "wind": 1.6
         },
         {
          "date": "2013-12-05T00:00:00",
          "precipitation": 0,
          "temp_max": 1.1,
          "temp_min": -4.9,
          "weather": "sun",
          "wind": 2.6
         },
         {
          "date": "2013-12-06T00:00:00",
          "precipitation": 0,
          "temp_max": 1.1,
          "temp_min": -4.3,
          "weather": "sun",
          "wind": 4.7
         },
         {
          "date": "2013-12-07T00:00:00",
          "precipitation": 0,
          "temp_max": 0,
          "temp_min": -7.1,
          "weather": "sun",
          "wind": 3.1
         },
         {
          "date": "2013-12-08T00:00:00",
          "precipitation": 0,
          "temp_max": 2.2,
          "temp_min": -6.6,
          "weather": "sun",
          "wind": 2.2
         },
         {
          "date": "2013-12-09T00:00:00",
          "precipitation": 0,
          "temp_max": 1.1,
          "temp_min": -4.9,
          "weather": "sun",
          "wind": 1.3
         },
         {
          "date": "2013-12-10T00:00:00",
          "precipitation": 0,
          "temp_max": 5.6,
          "temp_min": 0.6,
          "weather": "sun",
          "wind": 1.5
         },
         {
          "date": "2013-12-11T00:00:00",
          "precipitation": 0,
          "temp_max": 5,
          "temp_min": -1.6,
          "weather": "sun",
          "wind": 0.8
         },
         {
          "date": "2013-12-12T00:00:00",
          "precipitation": 6.9,
          "temp_max": 5.6,
          "temp_min": -0.5,
          "weather": "sun",
          "wind": 2.3
         },
         {
          "date": "2013-12-13T00:00:00",
          "precipitation": 0.5,
          "temp_max": 9.4,
          "temp_min": 5.6,
          "weather": "fog",
          "wind": 2.9
         },
         {
          "date": "2013-12-14T00:00:00",
          "precipitation": 0,
          "temp_max": 9.4,
          "temp_min": 6.1,
          "weather": "sun",
          "wind": 3.7
         },
         {
          "date": "2013-12-15T00:00:00",
          "precipitation": 1.3,
          "temp_max": 11.7,
          "temp_min": 8.3,
          "weather": "fog",
          "wind": 3.9
         },
         {
          "date": "2013-12-16T00:00:00",
          "precipitation": 0.3,
          "temp_max": 10,
          "temp_min": 4.4,
          "weather": "sun",
          "wind": 1
         },
         {
          "date": "2013-12-17T00:00:00",
          "precipitation": 0,
          "temp_max": 8.3,
          "temp_min": 4.4,
          "weather": "sun",
          "wind": 2.7
         },
         {
          "date": "2013-12-18T00:00:00",
          "precipitation": 1.3,
          "temp_max": 7.8,
          "temp_min": 2.2,
          "weather": "fog",
          "wind": 2.8
         },
         {
          "date": "2013-12-19T00:00:00",
          "precipitation": 0,
          "temp_max": 5,
          "temp_min": 0,
          "weather": "sun",
          "wind": 2.1
         },
         {
          "date": "2013-12-20T00:00:00",
          "precipitation": 5.6,
          "temp_max": 8.3,
          "temp_min": 0.6,
          "weather": "fog",
          "wind": 3.7
         },
         {
          "date": "2013-12-21T00:00:00",
          "precipitation": 5.6,
          "temp_max": 8.9,
          "temp_min": 5.6,
          "weather": "fog",
          "wind": 2.3
         },
         {
          "date": "2013-12-22T00:00:00",
          "precipitation": 10.7,
          "temp_max": 10.6,
          "temp_min": 8.3,
          "weather": "fog",
          "wind": 4
         },
         {
          "date": "2013-12-23T00:00:00",
          "precipitation": 1.5,
          "temp_max": 11.7,
          "temp_min": 6.1,
          "weather": "fog",
          "wind": 5.9
         },
         {
          "date": "2013-12-24T00:00:00",
          "precipitation": 0,
          "temp_max": 8.3,
          "temp_min": 2.8,
          "weather": "sun",
          "wind": 1.7
         },
         {
          "date": "2013-12-25T00:00:00",
          "precipitation": 0,
          "temp_max": 6.7,
          "temp_min": 1.7,
          "weather": "sun",
          "wind": 0.8
         },
         {
          "date": "2013-12-26T00:00:00",
          "precipitation": 0,
          "temp_max": 6.7,
          "temp_min": 0.6,
          "weather": "sun",
          "wind": 0.5
         },
         {
          "date": "2013-12-27T00:00:00",
          "precipitation": 0.3,
          "temp_max": 8.9,
          "temp_min": 0,
          "weather": "fog",
          "wind": 2.1
         },
         {
          "date": "2013-12-28T00:00:00",
          "precipitation": 0,
          "temp_max": 9.4,
          "temp_min": 3.3,
          "weather": "sun",
          "wind": 1.3
         },
         {
          "date": "2013-12-29T00:00:00",
          "precipitation": 0,
          "temp_max": 7.2,
          "temp_min": 1.7,
          "weather": "sun",
          "wind": 1.1
         },
         {
          "date": "2013-12-30T00:00:00",
          "precipitation": 0.3,
          "temp_max": 8.9,
          "temp_min": 4.4,
          "weather": "sun",
          "wind": 2.6
         },
         {
          "date": "2013-12-31T00:00:00",
          "precipitation": 0.5,
          "temp_max": 8.3,
          "temp_min": 5,
          "weather": "sun",
          "wind": 1.7
         },
         {
          "date": "2014-01-01T00:00:00",
          "precipitation": 0,
          "temp_max": 7.2,
          "temp_min": 3.3,
          "weather": "sun",
          "wind": 1.2
         },
         {
          "date": "2014-01-02T00:00:00",
          "precipitation": 4.1,
          "temp_max": 10.6,
          "temp_min": 6.1,
          "weather": "sun",
          "wind": 3.2
         },
         {
          "date": "2014-01-03T00:00:00",
          "precipitation": 1.5,
          "temp_max": 8.9,
          "temp_min": 2.8,
          "weather": "fog",
          "wind": 2.6
         },
         {
          "date": "2014-01-04T00:00:00",
          "precipitation": 0,
          "temp_max": 7.8,
          "temp_min": 0.6,
          "weather": "fog",
          "wind": 2.7
         },
         {
          "date": "2014-01-05T00:00:00",
          "precipitation": 0,
          "temp_max": 8.3,
          "temp_min": -0.5,
          "weather": "sun",
          "wind": 3.7
         },
         {
          "date": "2014-01-06T00:00:00",
          "precipitation": 0.3,
          "temp_max": 7.8,
          "temp_min": -0.5,
          "weather": "fog",
          "wind": 2.6
         },
         {
          "date": "2014-01-07T00:00:00",
          "precipitation": 12.2,
          "temp_max": 8.3,
          "temp_min": 5,
          "weather": "sun",
          "wind": 1.6
         },
         {
          "date": "2014-01-08T00:00:00",
          "precipitation": 9.7,
          "temp_max": 10,
          "temp_min": 7.2,
          "weather": "fog",
          "wind": 4.6
         },
         {
          "date": "2014-01-09T00:00:00",
          "precipitation": 5.8,
          "temp_max": 9.4,
          "temp_min": 5.6,
          "weather": "fog",
          "wind": 6.3
         },
         {
          "date": "2014-01-10T00:00:00",
          "precipitation": 4.3,
          "temp_max": 12.8,
          "temp_min": 8.3,
          "weather": "sun",
          "wind": 7
         },
         {
          "date": "2014-01-11T00:00:00",
          "precipitation": 21.3,
          "temp_max": 14.4,
          "temp_min": 7.2,
          "weather": "fog",
          "wind": 8.8
         },
         {
          "date": "2014-01-12T00:00:00",
          "precipitation": 1.5,
          "temp_max": 11.1,
          "temp_min": 5.6,
          "weather": "fog",
          "wind": 8.1
         },
         {
          "date": "2014-01-13T00:00:00",
          "precipitation": 0,
          "temp_max": 10.6,
          "temp_min": 10,
          "weather": "sun",
          "wind": 7.1
         },
         {
          "date": "2014-01-14T00:00:00",
          "precipitation": 0,
          "temp_max": 11.1,
          "temp_min": 7.2,
          "weather": "sun",
          "wind": 1.3
         },
         {
          "date": "2014-01-15T00:00:00",
          "precipitation": 0,
          "temp_max": 11.1,
          "temp_min": 5.6,
          "weather": "sun",
          "wind": 2.5
         },
         {
          "date": "2014-01-16T00:00:00",
          "precipitation": 0,
          "temp_max": 6.7,
          "temp_min": 4.4,
          "weather": "sun",
          "wind": 2.7
         },
         {
          "date": "2014-01-17T00:00:00",
          "precipitation": 0,
          "temp_max": 5.6,
          "temp_min": 2.8,
          "weather": "sun",
          "wind": 2.3
         },
         {
          "date": "2014-01-18T00:00:00",
          "precipitation": 0,
          "temp_max": 9.4,
          "temp_min": 0.6,
          "weather": "sun",
          "wind": 2.2
         },
         {
          "date": "2014-01-19T00:00:00",
          "precipitation": 0,
          "temp_max": 6.1,
          "temp_min": 3.3,
          "weather": "sun",
          "wind": 2.5
         },
         {
          "date": "2014-01-20T00:00:00",
          "precipitation": 0,
          "temp_max": 10,
          "temp_min": 2.8,
          "weather": "sun",
          "wind": 2.2
         },
         {
          "date": "2014-01-21T00:00:00",
          "precipitation": 0,
          "temp_max": 10,
          "temp_min": 1.7,
          "weather": "sun",
          "wind": 1.5
         },
         {
          "date": "2014-01-22T00:00:00",
          "precipitation": 0.5,
          "temp_max": 9.4,
          "temp_min": 5.6,
          "weather": "sun",
          "wind": 2.6
         },
         {
          "date": "2014-01-23T00:00:00",
          "precipitation": 0,
          "temp_max": 10,
          "temp_min": 2.8,
          "weather": "fog",
          "wind": 5.2
         },
         {
          "date": "2014-01-24T00:00:00",
          "precipitation": 0,
          "temp_max": 12.8,
          "temp_min": 1.1,
          "weather": "sun",
          "wind": 1.9
         },
         {
          "date": "2014-01-25T00:00:00",
          "precipitation": 0,
          "temp_max": 12.2,
          "temp_min": 1.1,
          "weather": "sun",
          "wind": 0.8
         },
         {
          "date": "2014-01-26T00:00:00",
          "precipitation": 0,
          "temp_max": 8.3,
          "temp_min": 0.6,
          "weather": "sun",
          "wind": 1.3
         },
         {
          "date": "2014-01-27T00:00:00",
          "precipitation": 0,
          "temp_max": 9.4,
          "temp_min": 1.7,
          "weather": "sun",
          "wind": 1.3
         },
         {
          "date": "2014-01-28T00:00:00",
          "precipitation": 8.9,
          "temp_max": 11.1,
          "temp_min": 6.1,
          "weather": "fog",
          "wind": 1.6
         },
         {
          "date": "2014-01-29T00:00:00",
          "precipitation": 21.6,
          "temp_max": 11.1,
          "temp_min": 7.2,
          "weather": "fog",
          "wind": 3.4
         },
         {
          "date": "2014-01-30T00:00:00",
          "precipitation": 0,
          "temp_max": 8.3,
          "temp_min": 6.1,
          "weather": "sun",
          "wind": 6.4
         },
         {
          "date": "2014-01-31T00:00:00",
          "precipitation": 2.3,
          "temp_max": 7.8,
          "temp_min": 5.6,
          "weather": "fog",
          "wind": 2.6
         },
         {
          "date": "2014-02-01T00:00:00",
          "precipitation": 2,
          "temp_max": 7.8,
          "temp_min": 2.8,
          "weather": "sun",
          "wind": 0.8
         },
         {
          "date": "2014-02-02T00:00:00",
          "precipitation": 0,
          "temp_max": 8.9,
          "temp_min": 1.1,
          "weather": "sun",
          "wind": 2.5
         },
         {
          "date": "2014-02-03T00:00:00",
          "precipitation": 0,
          "temp_max": 5,
          "temp_min": 0,
          "weather": "sun",
          "wind": 4.3
         },
         {
          "date": "2014-02-04T00:00:00",
          "precipitation": 0,
          "temp_max": 2.8,
          "temp_min": -2.1,
          "weather": "sun",
          "wind": 4.7
         },
         {
          "date": "2014-02-05T00:00:00",
          "precipitation": 0,
          "temp_max": -0.5,
          "temp_min": -5.5,
          "weather": "sun",
          "wind": 6.6
         },
         {
          "date": "2014-02-06T00:00:00",
          "precipitation": 0,
          "temp_max": -1.6,
          "temp_min": -6,
          "weather": "sun",
          "wind": 4.5
         },
         {
          "date": "2014-02-07T00:00:00",
          "precipitation": 0,
          "temp_max": 3.3,
          "temp_min": -4.9,
          "weather": "sun",
          "wind": 4.2
         },
         {
          "date": "2014-02-08T00:00:00",
          "precipitation": 5.1,
          "temp_max": 5.6,
          "temp_min": -0.5,
          "weather": "fog",
          "wind": 4.6
         },
         {
          "date": "2014-02-09T00:00:00",
          "precipitation": 0.5,
          "temp_max": 3.9,
          "temp_min": 0,
          "weather": "fog",
          "wind": 2.4
         },
         {
          "date": "2014-02-10T00:00:00",
          "precipitation": 18.3,
          "temp_max": 10,
          "temp_min": 2.2,
          "weather": "fog",
          "wind": 4.7
         },
         {
          "date": "2014-02-11T00:00:00",
          "precipitation": 17,
          "temp_max": 12.2,
          "temp_min": 5.6,
          "weather": "fog",
          "wind": 3.8
         },
         {
          "date": "2014-02-12T00:00:00",
          "precipitation": 4.6,
          "temp_max": 12.2,
          "temp_min": 7.2,
          "weather": "fog",
          "wind": 6.4
         },
         {
          "date": "2014-02-13T00:00:00",
          "precipitation": 1.8,
          "temp_max": 12.8,
          "temp_min": 7.8,
          "weather": "fog",
          "wind": 6.3
         },
         {
          "date": "2014-02-14T00:00:00",
          "precipitation": 9.4,
          "temp_max": 11.7,
          "temp_min": 6.1,
          "weather": "fog",
          "wind": 6.4
         },
         {
          "date": "2014-02-15T00:00:00",
          "precipitation": 11.7,
          "temp_max": 11.1,
          "temp_min": 5,
          "weather": "fog",
          "wind": 5.1
         },
         {
          "date": "2014-02-16T00:00:00",
          "precipitation": 26.4,
          "temp_max": 9.4,
          "temp_min": 3.9,
          "weather": "fog",
          "wind": 7.9
         },
         {
          "date": "2014-02-17T00:00:00",
          "precipitation": 14.5,
          "temp_max": 8.3,
          "temp_min": 4.4,
          "weather": "fog",
          "wind": 5.5
         },
         {
          "date": "2014-02-18T00:00:00",
          "precipitation": 15.2,
          "temp_max": 8.9,
          "temp_min": 5,
          "weather": "fog",
          "wind": 6.2
         },
         {
          "date": "2014-02-19T00:00:00",
          "precipitation": 1,
          "temp_max": 8.3,
          "temp_min": 3.9,
          "weather": "sun",
          "wind": 6
         },
         {
          "date": "2014-02-20T00:00:00",
          "precipitation": 3,
          "temp_max": 10,
          "temp_min": 5.6,
          "weather": "fog",
          "wind": 6.9
         },
         {
          "date": "2014-02-21T00:00:00",
          "precipitation": 2.8,
          "temp_max": 6.7,
          "temp_min": 3.9,
          "weather": "fog",
          "wind": 2.9
         },
         {
          "date": "2014-02-22T00:00:00",
          "precipitation": 2.5,
          "temp_max": 5.6,
          "temp_min": 2.8,
          "weather": "fog",
          "wind": 3.1
         },
         {
          "date": "2014-02-23T00:00:00",
          "precipitation": 6.1,
          "temp_max": 7.2,
          "temp_min": 3.9,
          "weather": "fog",
          "wind": 2.6
         },
         {
          "date": "2014-02-24T00:00:00",
          "precipitation": 13,
          "temp_max": 6.7,
          "temp_min": 3.3,
          "weather": "fog",
          "wind": 3.2
         },
         {
          "date": "2014-02-25T00:00:00",
          "precipitation": 0.3,
          "temp_max": 12.2,
          "temp_min": 3.9,
          "weather": "fog",
          "wind": 4.5
         },
         {
          "date": "2014-02-26T00:00:00",
          "precipitation": 0,
          "temp_max": 13.9,
          "temp_min": 5.6,
          "weather": "sun",
          "wind": 2.5
         },
         {
          "date": "2014-02-27T00:00:00",
          "precipitation": 0,
          "temp_max": 12.8,
          "temp_min": 4.4,
          "weather": "sun",
          "wind": 2.3
         },
         {
          "date": "2014-02-28T00:00:00",
          "precipitation": 0,
          "temp_max": 14.4,
          "temp_min": 4.4,
          "weather": "sun",
          "wind": 5.9
         },
         {
          "date": "2014-03-01T00:00:00",
          "precipitation": 0.5,
          "temp_max": 7.2,
          "temp_min": 4.4,
          "weather": "sun",
          "wind": 4.7
         },
         {
          "date": "2014-03-02T00:00:00",
          "precipitation": 19.1,
          "temp_max": 11.1,
          "temp_min": 2.8,
          "weather": "fog",
          "wind": 5.7
         },
         {
          "date": "2014-03-03T00:00:00",
          "precipitation": 10.7,
          "temp_max": 14.4,
          "temp_min": 8.9,
          "weather": "fog",
          "wind": 5.1
         },
         {
          "date": "2014-03-04T00:00:00",
          "precipitation": 16.5,
          "temp_max": 13.9,
          "temp_min": 7.8,
          "weather": "fog",
          "wind": 3.9
         },
         {
          "date": "2014-03-05T00:00:00",
          "precipitation": 46.7,
          "temp_max": 15.6,
          "temp_min": 10.6,
          "weather": "fog",
          "wind": 3.9
         },
         {
          "date": "2014-03-06T00:00:00",
          "precipitation": 3,
          "temp_max": 13.3,
          "temp_min": 10,
          "weather": "fog",
          "wind": 6.2
         },
         {
          "date": "2014-03-07T00:00:00",
          "precipitation": 0,
          "temp_max": 15.6,
          "temp_min": 8.9,
          "weather": "sun",
          "wind": 4.2
         },
         {
          "date": "2014-03-08T00:00:00",
          "precipitation": 32.3,
          "temp_max": 12.8,
          "temp_min": 6.7,
          "weather": "fog",
          "wind": 2.7
         },
         {
          "date": "2014-03-09T00:00:00",
          "precipitation": 4.3,
          "temp_max": 15,
          "temp_min": 9.4,
          "weather": "fog",
          "wind": 4.3
         },
         {
          "date": "2014-03-10T00:00:00",
          "precipitation": 18.8,
          "temp_max": 12.2,
          "temp_min": 6.1,
          "weather": "fog",
          "wind": 2.2
         },
         {
          "date": "2014-03-11T00:00:00",
          "precipitation": 0,
          "temp_max": 14.4,
          "temp_min": 4.4,
          "weather": "fog",
          "wind": 2.3
         },
         {
          "date": "2014-03-12T00:00:00",
          "precipitation": 0,
          "temp_max": 16.1,
          "temp_min": 3.3,
          "weather": "fog",
          "wind": 1.9
         },
         {
          "date": "2014-03-13T00:00:00",
          "precipitation": 0.5,
          "temp_max": 13.9,
          "temp_min": 5,
          "weather": "fog",
          "wind": 2.5
         },
         {
          "date": "2014-03-14T00:00:00",
          "precipitation": 6.9,
          "temp_max": 14.4,
          "temp_min": 8.3,
          "weather": "fog",
          "wind": 6.1
         },
         {
          "date": "2014-03-15T00:00:00",
          "precipitation": 8.1,
          "temp_max": 16.7,
          "temp_min": 4.4,
          "weather": "fog",
          "wind": 3
         },
         {
          "date": "2014-03-16T00:00:00",
          "precipitation": 27.7,
          "temp_max": 10.6,
          "temp_min": 4.4,
          "weather": "fog",
          "wind": 3.8
         },
         {
          "date": "2014-03-17T00:00:00",
          "precipitation": 0.3,
          "temp_max": 10,
          "temp_min": 2.8,
          "weather": "fog",
          "wind": 3.2
         },
         {
          "date": "2014-03-18T00:00:00",
          "precipitation": 0,
          "temp_max": 10,
          "temp_min": 3.3,
          "weather": "sun",
          "wind": 1.6
         },
         {
          "date": "2014-03-19T00:00:00",
          "precipitation": 0.5,
          "temp_max": 11.1,
          "temp_min": 3.3,
          "weather": "sun",
          "wind": 5.1
         },
         {
          "date": "2014-03-20T00:00:00",
          "precipitation": 0,
          "temp_max": 11.1,
          "temp_min": 1.7,
          "weather": "sun",
          "wind": 3
         },
         {
          "date": "2014-03-21T00:00:00",
          "precipitation": 0,
          "temp_max": 10.6,
          "temp_min": 2.8,
          "weather": "sun",
          "wind": 3.8
         },
         {
          "date": "2014-03-22T00:00:00",
          "precipitation": 0,
          "temp_max": 11.1,
          "temp_min": 1.1,
          "weather": "sun",
          "wind": 1.8
         },
         {
          "date": "2014-03-23T00:00:00",
          "precipitation": 0,
          "temp_max": 12.8,
          "temp_min": 4.4,
          "weather": "sun",
          "wind": 3.3
         },
         {
          "date": "2014-03-24T00:00:00",
          "precipitation": 0,
          "temp_max": 18.9,
          "temp_min": 2.8,
          "weather": "sun",
          "wind": 2.2
         },
         {
          "date": "2014-03-25T00:00:00",
          "precipitation": 4.1,
          "temp_max": 13.9,
          "temp_min": 6.7,
          "weather": "fog",
          "wind": 4.4
         },
         {
          "date": "2014-03-26T00:00:00",
          "precipitation": 3.6,
          "temp_max": 11.1,
          "temp_min": 5.6,
          "weather": "fog",
          "wind": 2.4
         },
         {
          "date": "2014-03-27T00:00:00",
          "precipitation": 0.3,
          "temp_max": 12.2,
          "temp_min": 6.7,
          "weather": "fog",
          "wind": 2.8
         },
         {
          "date": "2014-03-28T00:00:00",
          "precipitation": 22.1,
          "temp_max": 11.7,
          "temp_min": 7.2,
          "weather": "fog",
          "wind": 3.9
         },
         {
          "date": "2014-03-29T00:00:00",
          "precipitation": 14,
          "temp_max": 11.7,
          "temp_min": 7.2,
          "weather": "fog",
          "wind": 5.1
         },
         {
          "date": "2014-03-30T00:00:00",
          "precipitation": 0,
          "temp_max": 11.1,
          "temp_min": 5,
          "weather": "sun",
          "wind": 5.1
         },
         {
          "date": "2014-03-31T00:00:00",
          "precipitation": 0,
          "temp_max": 15.6,
          "temp_min": 2.2,
          "weather": "sun",
          "wind": 3.8
         },
         {
          "date": "2014-04-01T00:00:00",
          "precipitation": 0,
          "temp_max": 14.4,
          "temp_min": 6.7,
          "weather": "sun",
          "wind": 2.8
         },
         {
          "date": "2014-04-02T00:00:00",
          "precipitation": 0,
          "temp_max": 14.4,
          "temp_min": 5.6,
          "weather": "sun",
          "wind": 4.2
         },
         {
          "date": "2014-04-03T00:00:00",
          "precipitation": 2.5,
          "temp_max": 13.3,
          "temp_min": 6.1,
          "weather": "sun",
          "wind": 3.9
         },
         {
          "date": "2014-04-04T00:00:00",
          "precipitation": 0,
          "temp_max": 12.8,
          "temp_min": 6.1,
          "weather": "sun",
          "wind": 4.7
         },
         {
          "date": "2014-04-05T00:00:00",
          "precipitation": 4.6,
          "temp_max": 11.7,
          "temp_min": 7.8,
          "weather": "fog",
          "wind": 4.3
         },
         {
          "date": "2014-04-06T00:00:00",
          "precipitation": 0,
          "temp_max": 13.9,
          "temp_min": 8.3,
          "weather": "sun",
          "wind": 2.6
         },
         {
          "date": "2014-04-07T00:00:00",
          "precipitation": 0,
          "temp_max": 21.1,
          "temp_min": 9.4,
          "weather": "sun",
          "wind": 2.5
         },
         {
          "date": "2014-04-08T00:00:00",
          "precipitation": 4.6,
          "temp_max": 15.6,
          "temp_min": 8.3,
          "weather": "fog",
          "wind": 4.2
         },
         {
          "date": "2014-04-09T00:00:00",
          "precipitation": 0,
          "temp_max": 14.4,
          "temp_min": 6.7,
          "weather": "sun",
          "wind": 2.9
         },
         {
          "date": "2014-04-10T00:00:00",
          "precipitation": 0,
          "temp_max": 15,
          "temp_min": 6.7,
          "weather": "sun",
          "wind": 3.6
         },
         {
          "date": "2014-04-11T00:00:00",
          "precipitation": 0,
          "temp_max": 17.2,
          "temp_min": 5,
          "weather": "sun",
          "wind": 2.8
         },
         {
          "date": "2014-04-12T00:00:00",
          "precipitation": 0,
          "temp_max": 16.1,
          "temp_min": 7.8,
          "weather": "sun",
          "wind": 4.4
         },
         {
          "date": "2014-04-13T00:00:00",
          "precipitation": 0,
          "temp_max": 20.6,
          "temp_min": 5.6,
          "weather": "sun",
          "wind": 3.1
         },
         {
          "date": "2014-04-14T00:00:00",
          "precipitation": 0,
          "temp_max": 20,
          "temp_min": 5.6,
          "weather": "sun",
          "wind": 2.6
         },
         {
          "date": "2014-04-15T00:00:00",
          "precipitation": 0.5,
          "temp_max": 14.4,
          "temp_min": 7.8,
          "weather": "sun",
          "wind": 4
         },
         {
          "date": "2014-04-16T00:00:00",
          "precipitation": 10.9,
          "temp_max": 11.1,
          "temp_min": 8.9,
          "weather": "fog",
          "wind": 4.6
         },
         {
          "date": "2014-04-17T00:00:00",
          "precipitation": 18.5,
          "temp_max": 11.7,
          "temp_min": 7.2,
          "weather": "fog",
          "wind": 4.7
         },
         {
          "date": "2014-04-18T00:00:00",
          "precipitation": 0,
          "temp_max": 14.4,
          "temp_min": 5.6,
          "weather": "sun",
          "wind": 3.8
         },
         {
          "date": "2014-04-19T00:00:00",
          "precipitation": 13.7,
          "temp_max": 11.7,
          "temp_min": 5.6,
          "weather": "fog",
          "wind": 4.7
         },
         {
          "date": "2014-04-20T00:00:00",
          "precipitation": 0,
          "temp_max": 15.6,
          "temp_min": 5.6,
          "weather": "sun",
          "wind": 2.7
         },
         {
          "date": "2014-04-21T00:00:00",
          "precipitation": 5.1,
          "temp_max": 17.2,
          "temp_min": 7.8,
          "weather": "fog",
          "wind": 2.5
         },
         {
          "date": "2014-04-22T00:00:00",
          "precipitation": 14.2,
          "temp_max": 12.2,
          "temp_min": 5,
          "weather": "fog",
          "wind": 4.2
         },
         {
          "date": "2014-04-23T00:00:00",
          "precipitation": 8.9,
          "temp_max": 11.7,
          "temp_min": 6.1,
          "weather": "fog",
          "wind": 5
         },
         {
          "date": "2014-04-24T00:00:00",
          "precipitation": 12.4,
          "temp_max": 13.9,
          "temp_min": 6.1,
          "weather": "fog",
          "wind": 5.3
         },
         {
          "date": "2014-04-25T00:00:00",
          "precipitation": 0,
          "temp_max": 14.4,
          "temp_min": 5.6,
          "weather": "sun",
          "wind": 2.3
         },
         {
          "date": "2014-04-26T00:00:00",
          "precipitation": 3.3,
          "temp_max": 15,
          "temp_min": 5.6,
          "weather": "sun",
          "wind": 3.9
         },
         {
          "date": "2014-04-27T00:00:00",
          "precipitation": 6.9,
          "temp_max": 11.1,
          "temp_min": 6.1,
          "weather": "fog",
          "wind": 5.8
         },
         {
          "date": "2014-04-28T00:00:00",
          "precipitation": 0,
          "temp_max": 16.1,
          "temp_min": 4.4,
          "weather": "sun",
          "wind": 2.6
         },
         {
          "date": "2014-04-29T00:00:00",
          "precipitation": 0,
          "temp_max": 25,
          "temp_min": 9.4,
          "weather": "sun",
          "wind": 2.3
         },
         {
          "date": "2014-04-30T00:00:00",
          "precipitation": 0,
          "temp_max": 27.8,
          "temp_min": 9.4,
          "weather": "sun",
          "wind": 3.9
         },
         {
          "date": "2014-05-01T00:00:00",
          "precipitation": 0,
          "temp_max": 29.4,
          "temp_min": 11.1,
          "weather": "sun",
          "wind": 3
         },
         {
          "date": "2014-05-02T00:00:00",
          "precipitation": 0,
          "temp_max": 18.3,
          "temp_min": 10.6,
          "weather": "sun",
          "wind": 4.7
         },
         {
          "date": "2014-05-03T00:00:00",
          "precipitation": 33.3,
          "temp_max": 15,
          "temp_min": 8.9,
          "weather": "fog",
          "wind": 3.4
         },
         {
          "date": "2014-05-04T00:00:00",
          "precipitation": 16,
          "temp_max": 14.4,
          "temp_min": 8.9,
          "weather": "fog",
          "wind": 4.2
         },
         {
          "date": "2014-05-05T00:00:00",
          "precipitation": 5.1,
          "temp_max": 15.6,
          "temp_min": 9.4,
          "weather": "fog",
          "wind": 3.8
         },
         {
          "date": "2014-05-06T00:00:00",
          "precipitation": 0,
          "temp_max": 16.7,
          "temp_min": 8.3,
          "weather": "sun",
          "wind": 2.6
         },
         {
          "date": "2014-05-07T00:00:00",
          "precipitation": 0,
          "temp_max": 18.3,
          "temp_min": 7.2,
          "weather": "sun",
          "wind": 1.7
         },
         {
          "date": "2014-05-08T00:00:00",
          "precipitation": 13.7,
          "temp_max": 13.9,
          "temp_min": 9.4,
          "weather": "fog",
          "wind": 3.4
         },
         {
          "date": "2014-05-09T00:00:00",
          "precipitation": 2,
          "temp_max": 13.3,
          "temp_min": 7.2,
          "weather": "sun",
          "wind": 5.6
         },
         {
          "date": "2014-05-10T00:00:00",
          "precipitation": 0.5,
          "temp_max": 15.6,
          "temp_min": 7.2,
          "weather": "fog",
          "wind": 2.1
         },
         {
          "date": "2014-05-11T00:00:00",
          "precipitation": 0,
          "temp_max": 18.9,
          "temp_min": 8.3,
          "weather": "sun",
          "wind": 1.7
         },
         {
          "date": "2014-05-12T00:00:00",
          "precipitation": 0,
          "temp_max": 24.4,
          "temp_min": 9.4,
          "weather": "sun",
          "wind": 2.7
         },
         {
          "date": "2014-05-13T00:00:00",
          "precipitation": 0,
          "temp_max": 26.7,
          "temp_min": 12.8,
          "weather": "sun",
          "wind": 3.8
         },
         {
          "date": "2014-05-14T00:00:00",
          "precipitation": 0,
          "temp_max": 27.8,
          "temp_min": 13.3,
          "weather": "sun",
          "wind": 3.3
         },
         {
          "date": "2014-05-15T00:00:00",
          "precipitation": 0,
          "temp_max": 26.7,
          "temp_min": 12.8,
          "weather": "sun",
          "wind": 3
         },
         {
          "date": "2014-05-16T00:00:00",
          "precipitation": 0,
          "temp_max": 20,
          "temp_min": 11.7,
          "weather": "sun",
          "wind": 4.1
         },
         {
          "date": "2014-05-17T00:00:00",
          "precipitation": 0,
          "temp_max": 20,
          "temp_min": 11.7,
          "weather": "sun",
          "wind": 3.2
         },
         {
          "date": "2014-05-18T00:00:00",
          "precipitation": 0,
          "temp_max": 20,
          "temp_min": 10.6,
          "weather": "sun",
          "wind": 3.2
         },
         {
          "date": "2014-05-19T00:00:00",
          "precipitation": 0,
          "temp_max": 21.1,
          "temp_min": 10,
          "weather": "sun",
          "wind": 2.2
         },
         {
          "date": "2014-05-20T00:00:00",
          "precipitation": 0,
          "temp_max": 22.2,
          "temp_min": 10,
          "weather": "sun",
          "wind": 2.7
         },
         {
          "date": "2014-05-21T00:00:00",
          "precipitation": 0,
          "temp_max": 20,
          "temp_min": 10.6,
          "weather": "sun",
          "wind": 1.7
         },
         {
          "date": "2014-05-22T00:00:00",
          "precipitation": 0,
          "temp_max": 24.4,
          "temp_min": 11.7,
          "weather": "sun",
          "wind": 2.5
         },
         {
          "date": "2014-05-23T00:00:00",
          "precipitation": 3.8,
          "temp_max": 20,
          "temp_min": 12.8,
          "weather": "fog",
          "wind": 4
         },
         {
          "date": "2014-05-24T00:00:00",
          "precipitation": 0,
          "temp_max": 18.3,
          "temp_min": 11.1,
          "weather": "sun",
          "wind": 2.4
         },
         {
          "date": "2014-05-25T00:00:00",
          "precipitation": 5.6,
          "temp_max": 15,
          "temp_min": 10.6,
          "weather": "fog",
          "wind": 1.4
         },
         {
          "date": "2014-05-26T00:00:00",
          "precipitation": 0,
          "temp_max": 18.3,
          "temp_min": 11.1,
          "weather": "sun",
          "wind": 4.5
         },
         {
          "date": "2014-05-27T00:00:00",
          "precipitation": 0,
          "temp_max": 20,
          "temp_min": 10,
          "weather": "sun",
          "wind": 2.5
         },
         {
          "date": "2014-05-28T00:00:00",
          "precipitation": 0,
          "temp_max": 18.9,
          "temp_min": 10,
          "weather": "sun",
          "wind": 3.4
         },
         {
          "date": "2014-05-29T00:00:00",
          "precipitation": 0,
          "temp_max": 18.9,
          "temp_min": 11.1,
          "weather": "sun",
          "wind": 4.3
         },
         {
          "date": "2014-05-30T00:00:00",
          "precipitation": 0,
          "temp_max": 20.6,
          "temp_min": 8.9,
          "weather": "sun",
          "wind": 4.5
         },
         {
          "date": "2014-05-31T00:00:00",
          "precipitation": 0,
          "temp_max": 23.3,
          "temp_min": 10,
          "weather": "sun",
          "wind": 2.2
         },
         {
          "date": "2014-06-01T00:00:00",
          "precipitation": 0,
          "temp_max": 22.2,
          "temp_min": 10.6,
          "weather": "sun",
          "wind": 2.3
         },
         {
          "date": "2014-06-02T00:00:00",
          "precipitation": 0,
          "temp_max": 23.3,
          "temp_min": 11.1,
          "weather": "sun",
          "wind": 2.4
         },
         {
          "date": "2014-06-03T00:00:00",
          "precipitation": 0,
          "temp_max": 18.3,
          "temp_min": 11.1,
          "weather": "sun",
          "wind": 3.2
         },
         {
          "date": "2014-06-04T00:00:00",
          "precipitation": 0,
          "temp_max": 19.4,
          "temp_min": 10,
          "weather": "sun",
          "wind": 2.6
         },
         {
          "date": "2014-06-05T00:00:00",
          "precipitation": 0,
          "temp_max": 22.2,
          "temp_min": 10,
          "weather": "sun",
          "wind": 2.4
         },
         {
          "date": "2014-06-06T00:00:00",
          "precipitation": 0,
          "temp_max": 25,
          "temp_min": 10.6,
          "weather": "sun",
          "wind": 3.2
         },
         {
          "date": "2014-06-07T00:00:00",
          "precipitation": 0,
          "temp_max": 24.4,
          "temp_min": 13.3,
          "weather": "sun",
          "wind": 3.1
         },
         {
          "date": "2014-06-08T00:00:00",
          "precipitation": 0,
          "temp_max": 23.3,
          "temp_min": 12.2,
          "weather": "sun",
          "wind": 2.1
         },
         {
          "date": "2014-06-09T00:00:00",
          "precipitation": 0,
          "temp_max": 21.1,
          "temp_min": 13.3,
          "weather": "sun",
          "wind": 3.6
         },
         {
          "date": "2014-06-10T00:00:00",
          "precipitation": 0,
          "temp_max": 20,
          "temp_min": 12.2,
          "weather": "sun",
          "wind": 2.9
         },
         {
          "date": "2014-06-11T00:00:00",
          "precipitation": 0,
          "temp_max": 23.9,
          "temp_min": 11.1,
          "weather": "sun",
          "wind": 2.7
         },
         {
          "date": "2014-06-12T00:00:00",
          "precipitation": 1.8,
          "temp_max": 21.7,
          "temp_min": 12.2,
          "weather": "sun",
          "wind": 4
         },
         {
          "date": "2014-06-13T00:00:00",
          "precipitation": 6.4,
          "temp_max": 15.6,
          "temp_min": 11.1,
          "weather": "fog",
          "wind": 5
         },
         {
          "date": "2014-06-14T00:00:00",
          "precipitation": 0,
          "temp_max": 17.8,
          "temp_min": 11.7,
          "weather": "sun",
          "wind": 3.2
         },
         {
          "date": "2014-06-15T00:00:00",
          "precipitation": 0.5,
          "temp_max": 18.3,
          "temp_min": 10,
          "weather": "fog",
          "wind": 3.6
         },
         {
          "date": "2014-06-16T00:00:00",
          "precipitation": 3.6,
          "temp_max": 17.8,
          "temp_min": 8.9,
          "weather": "fog",
          "wind": 2.4
         },
         {
          "date": "2014-06-17T00:00:00",
          "precipitation": 1.3,
          "temp_max": 17.8,
          "temp_min": 10,
          "weather": "fog",
          "wind": 3
         },
         {
          "date": "2014-06-18T00:00:00",
          "precipitation": 0,
          "temp_max": 18.9,
          "temp_min": 11.1,
          "weather": "sun",
          "wind": 2.7
         },
         {
          "date": "2014-06-19T00:00:00",
          "precipitation": 0.8,
          "temp_max": 25.6,
          "temp_min": 11.7,
          "weather": "sun",
          "wind": 3.7
         },
         {
          "date": "2014-06-20T00:00:00",
          "precipitation": 0.3,
          "temp_max": 20,
          "temp_min": 10,
          "weather": "sun",
          "wind": 3.4
         },
         {
          "date": "2014-06-21T00:00:00",
          "precipitation": 0,
          "temp_max": 22.2,
          "temp_min": 10.6,
          "weather": "sun",
          "wind": 3.6
         },
         {
          "date": "2014-06-22T00:00:00",
          "precipitation": 0,
          "temp_max": 25,
          "temp_min": 11.1,
          "weather": "sun",
          "wind": 2.7
         },
         {
          "date": "2014-06-23T00:00:00",
          "precipitation": 0,
          "temp_max": 25,
          "temp_min": 13.3,
          "weather": "sun",
          "wind": 2.5
         },
         {
          "date": "2014-06-24T00:00:00",
          "precipitation": 0,
          "temp_max": 24.4,
          "temp_min": 14.4,
          "weather": "sun",
          "wind": 2.5
         },
         {
          "date": "2014-06-25T00:00:00",
          "precipitation": 0,
          "temp_max": 26.1,
          "temp_min": 13.9,
          "weather": "sun",
          "wind": 2.4
         },
         {
          "date": "2014-06-26T00:00:00",
          "precipitation": 0,
          "temp_max": 21.1,
          "temp_min": 14.4,
          "weather": "sun",
          "wind": 4.1
         },
         {
          "date": "2014-06-27T00:00:00",
          "precipitation": 1.8,
          "temp_max": 21.1,
          "temp_min": 13.9,
          "weather": "fog",
          "wind": 4.5
         },
         {
          "date": "2014-06-28T00:00:00",
          "precipitation": 2.3,
          "temp_max": 20,
          "temp_min": 13.3,
          "weather": "fog",
          "wind": 4.3
         },
         {
          "date": "2014-06-29T00:00:00",
          "precipitation": 0,
          "temp_max": 20.6,
          "temp_min": 12.8,
          "weather": "sun",
          "wind": 3.2
         },
         {
          "date": "2014-06-30T00:00:00",
          "precipitation": 0,
          "temp_max": 25.6,
          "temp_min": 12.8,
          "weather": "sun",
          "wind": 4.4
         },
         {
          "date": "2014-07-01T00:00:00",
          "precipitation": 0,
          "temp_max": 34.4,
          "temp_min": 15.6,
          "weather": "sun",
          "wind": 3.5
         },
         {
          "date": "2014-07-02T00:00:00",
          "precipitation": 0,
          "temp_max": 27.2,
          "temp_min": 14.4,
          "weather": "sun",
          "wind": 3.6
         },
         {
          "date": "2014-07-03T00:00:00",
          "precipitation": 0,
          "temp_max": 21.7,
          "temp_min": 13.9,
          "weather": "sun",
          "wind": 3.1
         },
         {
          "date": "2014-07-04T00:00:00",
          "precipitation": 0,
          "temp_max": 23.9,
          "temp_min": 13.9,
          "weather": "sun",
          "wind": 3.6
         },
         {
          "date": "2014-07-05T00:00:00",
          "precipitation": 0,
          "temp_max": 24.4,
          "temp_min": 13.3,
          "weather": "fog",
          "wind": 2.2
         },
         {
          "date": "2014-07-06T00:00:00",
          "precipitation": 0,
          "temp_max": 28.9,
          "temp_min": 15,
          "weather": "sun",
          "wind": 3
         },
         {
          "date": "2014-07-07T00:00:00",
          "precipitation": 0,
          "temp_max": 27.2,
          "temp_min": 17.8,
          "weather": "fog",
          "wind": 4.1
         },
         {
          "date": "2014-07-08T00:00:00",
          "precipitation": 0,
          "temp_max": 30,
          "temp_min": 15.6,
          "weather": "sun",
          "wind": 3.5
         },
         {
          "date": "2014-07-09T00:00:00",
          "precipitation": 0,
          "temp_max": 26.7,
          "temp_min": 13.9,
          "weather": "sun",
          "wind": 2.3
         },
         {
          "date": "2014-07-10T00:00:00",
          "precipitation": 0,
          "temp_max": 28.9,
          "temp_min": 12.8,
          "weather": "fog",
          "wind": 2.2
         },
         {
          "date": "2014-07-11T00:00:00",
          "precipitation": 0,
          "temp_max": 31.1,
          "temp_min": 15,
          "weather": "sun",
          "wind": 2.2
         },
         {
          "date": "2014-07-12T00:00:00",
          "precipitation": 0,
          "temp_max": 32.2,
          "temp_min": 16.7,
          "weather": "sun",
          "wind": 2.2
         },
         {
          "date": "2014-07-13T00:00:00",
          "precipitation": 0,
          "temp_max": 29.4,
          "temp_min": 15,
          "weather": "rain",
          "wind": 2.6
         },
         {
          "date": "2014-07-14T00:00:00",
          "precipitation": 0,
          "temp_max": 27.8,
          "temp_min": 15,
          "weather": "sun",
          "wind": 2.8
         },
         {
          "date": "2014-07-15T00:00:00",
          "precipitation": 0,
          "temp_max": 31.1,
          "temp_min": 13.9,
          "weather": "sun",
          "wind": 2.3
         },
         {
          "date": "2014-07-16T00:00:00",
          "precipitation": 0,
          "temp_max": 31.1,
          "temp_min": 14.4,
          "weather": "sun",
          "wind": 2.4
         },
         {
          "date": "2014-07-17T00:00:00",
          "precipitation": 0,
          "temp_max": 26.7,
          "temp_min": 13.9,
          "weather": "sun",
          "wind": 3.7
         },
         {
          "date": "2014-07-18T00:00:00",
          "precipitation": 0,
          "temp_max": 23.9,
          "temp_min": 11.7,
          "weather": "sun",
          "wind": 2.8
         },
         {
          "date": "2014-07-19T00:00:00",
          "precipitation": 0,
          "temp_max": 25.6,
          "temp_min": 15,
          "weather": "fog",
          "wind": 5.4
         },
         {
          "date": "2014-07-20T00:00:00",
          "precipitation": 0,
          "temp_max": 19.4,
          "temp_min": 14.4,
          "weather": "sun",
          "wind": 2.8
         },
         {
          "date": "2014-07-21T00:00:00",
          "precipitation": 0,
          "temp_max": 23.9,
          "temp_min": 13.3,
          "weather": "sun",
          "wind": 2.2
         },
         {
          "date": "2014-07-22T00:00:00",
          "precipitation": 0.3,
          "temp_max": 21.1,
          "temp_min": 13.3,
          "weather": "fog",
          "wind": 1.1
         },
         {
          "date": "2014-07-23T00:00:00",
          "precipitation": 19.3,
          "temp_max": 18.9,
          "temp_min": 13.3,
          "weather": "sun",
          "wind": 3.3
         },
         {
          "date": "2014-07-24T00:00:00",
          "precipitation": 0,
          "temp_max": 20.6,
          "temp_min": 12.8,
          "weather": "sun",
          "wind": 4.7
         },
         {
          "date": "2014-07-25T00:00:00",
          "precipitation": 0,
          "temp_max": 22.8,
          "temp_min": 12.2,
          "weather": "sun",
          "wind": 2.7
         },
         {
          "date": "2014-07-26T00:00:00",
          "precipitation": 0,
          "temp_max": 26.1,
          "temp_min": 13.3,
          "weather": "sun",
          "wind": 3.6
         },
         {
          "date": "2014-07-27T00:00:00",
          "precipitation": 0,
          "temp_max": 28.3,
          "temp_min": 15,
          "weather": "sun",
          "wind": 4.1
         },
         {
          "date": "2014-07-28T00:00:00",
          "precipitation": 0,
          "temp_max": 30.6,
          "temp_min": 15,
          "weather": "sun",
          "wind": 3.7
         },
         {
          "date": "2014-07-29T00:00:00",
          "precipitation": 0,
          "temp_max": 30,
          "temp_min": 15.6,
          "weather": "sun",
          "wind": 2.8
         },
         {
          "date": "2014-07-30T00:00:00",
          "precipitation": 0,
          "temp_max": 29.4,
          "temp_min": 14.4,
          "weather": "sun",
          "wind": 3.4
         },
         {
          "date": "2014-07-31T00:00:00",
          "precipitation": 0,
          "temp_max": 30.6,
          "temp_min": 17.8,
          "weather": "sun",
          "wind": 4.1
         },
         {
          "date": "2014-08-01T00:00:00",
          "precipitation": 0,
          "temp_max": 28.9,
          "temp_min": 15,
          "weather": "sun",
          "wind": 3.3
         },
         {
          "date": "2014-08-02T00:00:00",
          "precipitation": 0.5,
          "temp_max": 29.4,
          "temp_min": 15.6,
          "weather": "sun",
          "wind": 1.7
         },
         {
          "date": "2014-08-03T00:00:00",
          "precipitation": 0,
          "temp_max": 31.7,
          "temp_min": 14.4,
          "weather": "sun",
          "wind": 2.6
         },
         {
          "date": "2014-08-04T00:00:00",
          "precipitation": 0,
          "temp_max": 32.8,
          "temp_min": 16.1,
          "weather": "sun",
          "wind": 2.6
         },
         {
          "date": "2014-08-05T00:00:00",
          "precipitation": 0,
          "temp_max": 25,
          "temp_min": 13.9,
          "weather": "sun",
          "wind": 2.7
         },
         {
          "date": "2014-08-06T00:00:00",
          "precipitation": 0,
          "temp_max": 26.1,
          "temp_min": 15,
          "weather": "fog",
          "wind": 2.2
         },
         {
          "date": "2014-08-07T00:00:00",
          "precipitation": 0,
          "temp_max": 25.6,
          "temp_min": 13.3,
          "weather": "fog",
          "wind": 2.4
         },
         {
          "date": "2014-08-08T00:00:00",
          "precipitation": 0,
          "temp_max": 25.6,
          "temp_min": 13.3,
          "weather": "sun",
          "wind": 2.9
         },
         {
          "date": "2014-08-09T00:00:00",
          "precipitation": 0,
          "temp_max": 27.2,
          "temp_min": 15.6,
          "weather": "sun",
          "wind": 4.1
         },
         {
          "date": "2014-08-10T00:00:00",
          "precipitation": 0,
          "temp_max": 30.6,
          "temp_min": 13.9,
          "weather": "sun",
          "wind": 3.4
         },
         {
          "date": "2014-08-11T00:00:00",
          "precipitation": 0.5,
          "temp_max": 35.6,
          "temp_min": 17.8,
          "weather": "rain",
          "wind": 2.6
         },
         {
          "date": "2014-08-12T00:00:00",
          "precipitation": 12.7,
          "temp_max": 27.2,
          "temp_min": 17.2,
          "weather": "fog",
          "wind": 3.1
         },
         {
          "date": "2014-08-13T00:00:00",
          "precipitation": 21.6,
          "temp_max": 23.3,
          "temp_min": 15,
          "weather": "fog",
          "wind": 2.7
         },
         {
          "date": "2014-08-14T00:00:00",
          "precipitation": 0,
          "temp_max": 21.1,
          "temp_min": 17.2,
          "weather": "sun",
          "wind": 0.6
         },
         {
          "date": "2014-08-15T00:00:00",
          "precipitation": 1,
          "temp_max": 24.4,
          "temp_min": 16.7,
          "weather": "fog",
          "wind": 1.5
         },
         {
          "date": "2014-08-16T00:00:00",
          "precipitation": 0,
          "temp_max": 25.6,
          "temp_min": 15.6,
          "weather": "sun",
          "wind": 2.2
         },
         {
          "date": "2014-08-17T00:00:00",
          "precipitation": 0,
          "temp_max": 27.8,
          "temp_min": 15,
          "weather": "sun",
          "wind": 2.8
         },
         {
          "date": "2014-08-18T00:00:00",
          "precipitation": 0,
          "temp_max": 29.4,
          "temp_min": 15.6,
          "weather": "sun",
          "wind": 3.3
         },
         {
          "date": "2014-08-19T00:00:00",
          "precipitation": 0,
          "temp_max": 27.2,
          "temp_min": 15.6,
          "weather": "sun",
          "wind": 2.4
         },
         {
          "date": "2014-08-20T00:00:00",
          "precipitation": 0,
          "temp_max": 21.7,
          "temp_min": 13.9,
          "weather": "sun",
          "wind": 3.6
         },
         {
          "date": "2014-08-21T00:00:00",
          "precipitation": 0,
          "temp_max": 21.1,
          "temp_min": 11.1,
          "weather": "sun",
          "wind": 1.7
         },
         {
          "date": "2014-08-22T00:00:00",
          "precipitation": 0,
          "temp_max": 23.9,
          "temp_min": 13.3,
          "weather": "sun",
          "wind": 2.9
         },
         {
          "date": "2014-08-23T00:00:00",
          "precipitation": 0,
          "temp_max": 27.8,
          "temp_min": 13.9,
          "weather": "sun",
          "wind": 2
         },
         {
          "date": "2014-08-24T00:00:00",
          "precipitation": 0,
          "temp_max": 25,
          "temp_min": 13.3,
          "weather": "sun",
          "wind": 2.3
         },
         {
          "date": "2014-08-25T00:00:00",
          "precipitation": 0,
          "temp_max": 28.9,
          "temp_min": 14.4,
          "weather": "sun",
          "wind": 2
         },
         {
          "date": "2014-08-26T00:00:00",
          "precipitation": 0,
          "temp_max": 31.1,
          "temp_min": 15.6,
          "weather": "sun",
          "wind": 1.8
         },
         {
          "date": "2014-08-27T00:00:00",
          "precipitation": 0,
          "temp_max": 28.9,
          "temp_min": 16.1,
          "weather": "sun",
          "wind": 1.6
         },
         {
          "date": "2014-08-28T00:00:00",
          "precipitation": 0,
          "temp_max": 23.3,
          "temp_min": 14.4,
          "weather": "sun",
          "wind": 2.3
         },
         {
          "date": "2014-08-29T00:00:00",
          "precipitation": 0,
          "temp_max": 22.8,
          "temp_min": 15,
          "weather": "sun",
          "wind": 3.4
         },
         {
          "date": "2014-08-30T00:00:00",
          "precipitation": 8.4,
          "temp_max": 17.8,
          "temp_min": 15,
          "weather": "fog",
          "wind": 2.2
         },
         {
          "date": "2014-08-31T00:00:00",
          "precipitation": 1.3,
          "temp_max": 21.1,
          "temp_min": 13.9,
          "weather": "fog",
          "wind": 1.9
         },
         {
          "date": "2014-09-01T00:00:00",
          "precipitation": 0,
          "temp_max": 23.3,
          "temp_min": 12.8,
          "weather": "sun",
          "wind": 2.5
         },
         {
          "date": "2014-09-02T00:00:00",
          "precipitation": 3,
          "temp_max": 20,
          "temp_min": 13.9,
          "weather": "fog",
          "wind": 4.3
         },
         {
          "date": "2014-09-03T00:00:00",
          "precipitation": 0,
          "temp_max": 20.6,
          "temp_min": 12.8,
          "weather": "sun",
          "wind": 2.7
         },
         {
          "date": "2014-09-04T00:00:00",
          "precipitation": 0,
          "temp_max": 23.9,
          "temp_min": 11.1,
          "weather": "fog",
          "wind": 3.1
         },
         {
          "date": "2014-09-05T00:00:00",
          "precipitation": 0,
          "temp_max": 27.8,
          "temp_min": 13.9,
          "weather": "fog",
          "wind": 6.5
         },
         {
          "date": "2014-09-06T00:00:00",
          "precipitation": 0,
          "temp_max": 32.2,
          "temp_min": 15,
          "weather": "sun",
          "wind": 2.9
         },
         {
          "date": "2014-09-07T00:00:00",
          "precipitation": 0,
          "temp_max": 28.3,
          "temp_min": 13.3,
          "weather": "sun",
          "wind": 2.1
         },
         {
          "date": "2014-09-08T00:00:00",
          "precipitation": 0,
          "temp_max": 21.1,
          "temp_min": 13.3,
          "weather": "sun",
          "wind": 2.8
         },
         {
          "date": "2014-09-09T00:00:00",
          "precipitation": 0,
          "temp_max": 21.7,
          "temp_min": 13.3,
          "weather": "sun",
          "wind": 2.3
         },
         {
          "date": "2014-09-10T00:00:00",
          "precipitation": 0,
          "temp_max": 22.2,
          "temp_min": 12.2,
          "weather": "sun",
          "wind": 3.9
         },
         {
          "date": "2014-09-11T00:00:00",
          "precipitation": 0,
          "temp_max": 24.4,
          "temp_min": 12.8,
          "weather": "sun",
          "wind": 5.3
         },
         {
          "date": "2014-09-12T00:00:00",
          "precipitation": 0,
          "temp_max": 24.4,
          "temp_min": 12.8,
          "weather": "sun",
          "wind": 5.9
         },
         {
          "date": "2014-09-13T00:00:00",
          "precipitation": 0,
          "temp_max": 28.3,
          "temp_min": 10,
          "weather": "sun",
          "wind": 4.2
         },
         {
          "date": "2014-09-14T00:00:00",
          "precipitation": 0,
          "temp_max": 30,
          "temp_min": 11.7,
          "weather": "sun",
          "wind": 1.8
         },
         {
          "date": "2014-09-15T00:00:00",
          "precipitation": 0,
          "temp_max": 30.6,
          "temp_min": 12.2,
          "weather": "sun",
          "wind": 1.2
         },
         {
          "date": "2014-09-16T00:00:00",
          "precipitation": 0,
          "temp_max": 22.2,
          "temp_min": 13.9,
          "weather": "sun",
          "wind": 2.8
         },
         {
          "date": "2014-09-17T00:00:00",
          "precipitation": 0.5,
          "temp_max": 22.8,
          "temp_min": 14.4,
          "weather": "sun",
          "wind": 2.3
         },
         {
          "date": "2014-09-18T00:00:00",
          "precipitation": 0.3,
          "temp_max": 19.4,
          "temp_min": 15,
          "weather": "fog",
          "wind": 3.1
         },
         {
          "date": "2014-09-19T00:00:00",
          "precipitation": 0,
          "temp_max": 23.9,
          "temp_min": 16.1,
          "weather": "sun",
          "wind": 2.8
         },
         {
          "date": "2014-09-20T00:00:00",
          "precipitation": 0,
          "temp_max": 24.4,
          "temp_min": 14.4,
          "weather": "fog",
          "wind": 4.4
         },
         {
          "date": "2014-09-21T00:00:00",
          "precipitation": 0,
          "temp_max": 26.1,
          "temp_min": 12.8,
          "weather": "sun",
          "wind": 3
         },
         {
          "date": "2014-09-22T00:00:00",
          "precipitation": 0.3,
          "temp_max": 22.2,
          "temp_min": 15,
          "weather": "fog",
          "wind": 2.1
         },
         {
          "date": "2014-09-23T00:00:00",
          "precipitation": 18.3,
          "temp_max": 18.9,
          "temp_min": 14.4,
          "weather": "fog",
          "wind": 2.5
         },
         {
          "date": "2014-09-24T00:00:00",
          "precipitation": 20.3,
          "temp_max": 18.9,
          "temp_min": 14.4,
          "weather": "fog",
          "wind": 2.7
         },
         {
          "date": "2014-09-25T00:00:00",
          "precipitation": 4.3,
          "temp_max": 21.7,
          "temp_min": 14.4,
          "weather": "fog",
          "wind": 2.5
         },
         {
          "date": "2014-09-26T00:00:00",
          "precipitation": 8.9,
          "temp_max": 20,
          "temp_min": 13.9,
          "weather": "fog",
          "wind": 3.3
         },
         {
          "date": "2014-09-27T00:00:00",
          "precipitation": 0,
          "temp_max": 20.6,
          "temp_min": 11.7,
          "weather": "fog",
          "wind": 3.2
         },
         {
          "date": "2014-09-28T00:00:00",
          "precipitation": 0,
          "temp_max": 18.9,
          "temp_min": 12.2,
          "weather": "fog",
          "wind": 2
         },
         {
          "date": "2014-09-29T00:00:00",
          "precipitation": 0.8,
          "temp_max": 16.7,
          "temp_min": 11.1,
          "weather": "fog",
          "wind": 3.5
         },
         {
          "date": "2014-09-30T00:00:00",
          "precipitation": 0,
          "temp_max": 19.4,
          "temp_min": 12.2,
          "weather": "sun",
          "wind": 2.6
         },
         {
          "date": "2014-10-01T00:00:00",
          "precipitation": 0,
          "temp_max": 18.3,
          "temp_min": 11.1,
          "weather": "sun",
          "wind": 2.1
         },
         {
          "date": "2014-10-02T00:00:00",
          "precipitation": 0,
          "temp_max": 19.4,
          "temp_min": 10,
          "weather": "sun",
          "wind": 2
         },
         {
          "date": "2014-10-03T00:00:00",
          "precipitation": 0,
          "temp_max": 22.2,
          "temp_min": 8.9,
          "weather": "sun",
          "wind": 1
         },
         {
          "date": "2014-10-04T00:00:00",
          "precipitation": 0,
          "temp_max": 21.7,
          "temp_min": 12.2,
          "weather": "sun",
          "wind": 1.2
         },
         {
          "date": "2014-10-05T00:00:00",
          "precipitation": 0,
          "temp_max": 23.9,
          "temp_min": 11.7,
          "weather": "fog",
          "wind": 1.4
         },
         {
          "date": "2014-10-06T00:00:00",
          "precipitation": 0,
          "temp_max": 25.6,
          "temp_min": 13.3,
          "weather": "fog",
          "wind": 2.5
         },
         {
          "date": "2014-10-07T00:00:00",
          "precipitation": 0,
          "temp_max": 18.9,
          "temp_min": 13.9,
          "weather": "fog",
          "wind": 1
         },
         {
          "date": "2014-10-08T00:00:00",
          "precipitation": 0,
          "temp_max": 20.6,
          "temp_min": 12.8,
          "weather": "fog",
          "wind": 1.8
         },
         {
          "date": "2014-10-09T00:00:00",
          "precipitation": 0,
          "temp_max": 17.2,
          "temp_min": 11.1,
          "weather": "fog",
          "wind": 1
         },
         {
          "date": "2014-10-10T00:00:00",
          "precipitation": 0.3,
          "temp_max": 18.3,
          "temp_min": 10,
          "weather": "fog",
          "wind": 3.8
         },
         {
          "date": "2014-10-11T00:00:00",
          "precipitation": 7.4,
          "temp_max": 18.3,
          "temp_min": 11.7,
          "weather": "rain",
          "wind": 3.5
         },
         {
          "date": "2014-10-12T00:00:00",
          "precipitation": 0,
          "temp_max": 17.8,
          "temp_min": 11.7,
          "weather": "sun",
          "wind": 2.1
         },
         {
          "date": "2014-10-13T00:00:00",
          "precipitation": 7.6,
          "temp_max": 21.1,
          "temp_min": 10,
          "weather": "fog",
          "wind": 3.1
         },
         {
          "date": "2014-10-14T00:00:00",
          "precipitation": 7.1,
          "temp_max": 16.7,
          "temp_min": 11.7,
          "weather": "fog",
          "wind": 2.2
         },
         {
          "date": "2014-10-15T00:00:00",
          "precipitation": 8.6,
          "temp_max": 16.1,
          "temp_min": 11.7,
          "weather": "fog",
          "wind": 4.7
         },
         {
          "date": "2014-10-16T00:00:00",
          "precipitation": 0,
          "temp_max": 20.6,
          "temp_min": 11.1,
          "weather": "sun",
          "wind": 3.3
         },
         {
          "date": "2014-10-17T00:00:00",
          "precipitation": 3.3,
          "temp_max": 16.7,
          "temp_min": 11.7,
          "weather": "fog",
          "wind": 3
         },
         {
          "date": "2014-10-18T00:00:00",
          "precipitation": 15,
          "temp_max": 19.4,
          "temp_min": 13.9,
          "weather": "fog",
          "wind": 1.9
         },
         {
          "date": "2014-10-19T00:00:00",
          "precipitation": 0,
          "temp_max": 22.2,
          "temp_min": 12.8,
          "weather": "sun",
          "wind": 3.2
         },
         {
          "date": "2014-10-20T00:00:00",
          "precipitation": 11.7,
          "temp_max": 16.1,
          "temp_min": 12.2,
          "weather": "fog",
          "wind": 3.1
         },
         {
          "date": "2014-10-21T00:00:00",
          "precipitation": 1,
          "temp_max": 16.1,
          "temp_min": 11.7,
          "weather": "sun",
          "wind": 4.7
         },
         {
          "date": "2014-10-22T00:00:00",
          "precipitation": 32,
          "temp_max": 15.6,
          "temp_min": 11.7,
          "weather": "fog",
          "wind": 5
         },
         {
          "date": "2014-10-23T00:00:00",
          "precipitation": 9.4,
          "temp_max": 14.4,
          "temp_min": 8.3,
          "weather": "sun",
          "wind": 4.6
         },
         {
          "date": "2014-10-24T00:00:00",
          "precipitation": 4.1,
          "temp_max": 14.4,
          "temp_min": 8.9,
          "weather": "sun",
          "wind": 3.2
         },
         {
          "date": "2014-10-25T00:00:00",
          "precipitation": 6.1,
          "temp_max": 16.7,
          "temp_min": 8.3,
          "weather": "fog",
          "wind": 5.4
         },
         {
          "date": "2014-10-26T00:00:00",
          "precipitation": 1.5,
          "temp_max": 12.8,
          "temp_min": 7.8,
          "weather": "fog",
          "wind": 5
         },
         {
          "date": "2014-10-27T00:00:00",
          "precipitation": 0.8,
          "temp_max": 15.6,
          "temp_min": 6.7,
          "weather": "sun",
          "wind": 2.4
         },
         {
          "date": "2014-10-28T00:00:00",
          "precipitation": 12.7,
          "temp_max": 15,
          "temp_min": 9.4,
          "weather": "fog",
          "wind": 3.9
         },
         {
          "date": "2014-10-29T00:00:00",
          "precipitation": 0.5,
          "temp_max": 16.7,
          "temp_min": 11.7,
          "weather": "fog",
          "wind": 3.1
         },
         {
          "date": "2014-10-30T00:00:00",
          "precipitation": 25.4,
          "temp_max": 15.6,
          "temp_min": 11.1,
          "weather": "fog",
          "wind": 3.2
         },
         {
          "date": "2014-10-31T00:00:00",
          "precipitation": 17,
          "temp_max": 12.8,
          "temp_min": 8.3,
          "weather": "fog",
          "wind": 2
         },
         {
          "date": "2014-11-01T00:00:00",
          "precipitation": 0,
          "temp_max": 11.1,
          "temp_min": 7.2,
          "weather": "fog",
          "wind": 1.2
         },
         {
          "date": "2014-11-02T00:00:00",
          "precipitation": 1.8,
          "temp_max": 13.3,
          "temp_min": 7.2,
          "weather": "fog",
          "wind": 2.9
         },
         {
          "date": "2014-11-03T00:00:00",
          "precipitation": 10.9,
          "temp_max": 13.9,
          "temp_min": 11.1,
          "weather": "fog",
          "wind": 4.8
         },
         {
          "date": "2014-11-04T00:00:00",
          "precipitation": 4.1,
          "temp_max": 14.4,
          "temp_min": 10.6,
          "weather": "fog",
          "wind": 3.3
         },
         {
          "date": "2014-11-05T00:00:00",
          "precipitation": 4.8,
          "temp_max": 15,
          "temp_min": 10.6,
          "weather": "fog",
          "wind": 2.1
         },
         {
          "date": "2014-11-06T00:00:00",
          "precipitation": 4.1,
          "temp_max": 16.7,
          "temp_min": 10.6,
          "weather": "fog",
          "wind": 6.7
         },
         {
          "date": "2014-11-07T00:00:00",
          "precipitation": 0,
          "temp_max": 14.4,
          "temp_min": 7.2,
          "weather": "sun",
          "wind": 2.3
         },
         {
          "date": "2014-11-08T00:00:00",
          "precipitation": 0,
          "temp_max": 12.8,
          "temp_min": 3.9,
          "weather": "fog",
          "wind": 0.8
         },
         {
          "date": "2014-11-09T00:00:00",
          "precipitation": 5.1,
          "temp_max": 13.3,
          "temp_min": 7.8,
          "weather": "fog",
          "wind": 3
         },
         {
          "date": "2014-11-10T00:00:00",
          "precipitation": 0,
          "temp_max": 11.1,
          "temp_min": 5.6,
          "weather": "sun",
          "wind": 3.9
         },
         {
          "date": "2014-11-11T00:00:00",
          "precipitation": 0,
          "temp_max": 7.8,
          "temp_min": 1.1,
          "weather": "sun",
          "wind": 7.7
         },
         {
          "date": "2014-11-12T00:00:00",
          "precipitation": 0,
          "temp_max": 6.7,
          "temp_min": 0,
          "weather": "sun",
          "wind": 7.6
         },
         {
          "date": "2014-11-13T00:00:00",
          "precipitation": 0,
          "temp_max": 7.2,
          "temp_min": 0.6,
          "weather": "sun",
          "wind": 4.7
         },
         {
          "date": "2014-11-14T00:00:00",
          "precipitation": 0,
          "temp_max": 7.2,
          "temp_min": -2.1,
          "weather": "sun",
          "wind": 4.5
         },
         {
          "date": "2014-11-15T00:00:00",
          "precipitation": 0,
          "temp_max": 8.3,
          "temp_min": -1.6,
          "weather": "sun",
          "wind": 4.2
         },
         {
          "date": "2014-11-16T00:00:00",
          "precipitation": 0,
          "temp_max": 9.4,
          "temp_min": -2.1,
          "weather": "sun",
          "wind": 4.2
         },
         {
          "date": "2014-11-17T00:00:00",
          "precipitation": 0,
          "temp_max": 10.6,
          "temp_min": -2.1,
          "weather": "sun",
          "wind": 1.9
         },
         {
          "date": "2014-11-18T00:00:00",
          "precipitation": 0,
          "temp_max": 7.2,
          "temp_min": -0.5,
          "weather": "sun",
          "wind": 0.9
         },
         {
          "date": "2014-11-19T00:00:00",
          "precipitation": 0,
          "temp_max": 11.1,
          "temp_min": 2.2,
          "weather": "sun",
          "wind": 1.9
         },
         {
          "date": "2014-11-20T00:00:00",
          "precipitation": 3.6,
          "temp_max": 11.1,
          "temp_min": 5.6,
          "weather": "fog",
          "wind": 2.1
         },
         {
          "date": "2014-11-21T00:00:00",
          "precipitation": 15.2,
          "temp_max": 11.1,
          "temp_min": 8.3,
          "weather": "fog",
          "wind": 4.7
         },
         {
          "date": "2014-11-22T00:00:00",
          "precipitation": 0.5,
          "temp_max": 9.4,
          "temp_min": 6.7,
          "weather": "sun",
          "wind": 4.7
         },
         {
          "date": "2014-11-23T00:00:00",
          "precipitation": 11.9,
          "temp_max": 12.8,
          "temp_min": 5.6,
          "weather": "fog",
          "wind": 5.1
         },
         {
          "date": "2014-11-24T00:00:00",
          "precipitation": 1.3,
          "temp_max": 11.7,
          "temp_min": 4.4,
          "weather": "fog",
          "wind": 3.8
         },
         {
          "date": "2014-11-25T00:00:00",
          "precipitation": 18.3,
          "temp_max": 13.9,
          "temp_min": 9.4,
          "weather": "fog",
          "wind": 4.5
         },
         {
          "date": "2014-11-26T00:00:00",
          "precipitation": 0.3,
          "temp_max": 15,
          "temp_min": 12.2,
          "weather": "sun",
          "wind": 3.9
         },
         {
          "date": "2014-11-27T00:00:00",
          "precipitation": 3.3,
          "temp_max": 14.4,
          "temp_min": 11.7,
          "weather": "fog",
          "wind": 6.6
         },
         {
          "date": "2014-11-28T00:00:00",
          "precipitation": 34.3,
          "temp_max": 12.8,
          "temp_min": 3.3,
          "weather": "fog",
          "wind": 5.8
         },
         {
          "date": "2014-11-29T00:00:00",
          "precipitation": 3.6,
          "temp_max": 4.4,
          "temp_min": -4.3,
          "weather": "fog",
          "wind": 5.3
         },
         {
          "date": "2014-11-30T00:00:00",
          "precipitation": 0,
          "temp_max": 2.8,
          "temp_min": -4.9,
          "weather": "sun",
          "wind": 4.4
         },
         {
          "date": "2014-12-01T00:00:00",
          "precipitation": 0,
          "temp_max": 4.4,
          "temp_min": -3.2,
          "weather": "sun",
          "wind": 2.2
         },
         {
          "date": "2014-12-02T00:00:00",
          "precipitation": 0,
          "temp_max": 5.6,
          "temp_min": -3.2,
          "weather": "fog",
          "wind": 5.7
         },
         {
          "date": "2014-12-03T00:00:00",
          "precipitation": 0,
          "temp_max": 10,
          "temp_min": 0,
          "weather": "sun",
          "wind": 3.6
         },
         {
          "date": "2014-12-04T00:00:00",
          "precipitation": 0.8,
          "temp_max": 8.3,
          "temp_min": 3.9,
          "weather": "fog",
          "wind": 1.1
         },
         {
          "date": "2014-12-05T00:00:00",
          "precipitation": 3,
          "temp_max": 12.8,
          "temp_min": 6.7,
          "weather": "fog",
          "wind": 3.1
         },
         {
          "date": "2014-12-06T00:00:00",
          "precipitation": 7.4,
          "temp_max": 11.7,
          "temp_min": 7.8,
          "weather": "fog",
          "wind": 3.6
         },
         {
          "date": "2014-12-07T00:00:00",
          "precipitation": 0,
          "temp_max": 14.4,
          "temp_min": 6.1,
          "weather": "sun",
          "wind": 2.8
         },
         {
          "date": "2014-12-08T00:00:00",
          "precipitation": 9.1,
          "temp_max": 14.4,
          "temp_min": 8.9,
          "weather": "fog",
          "wind": 4.2
         },
         {
          "date": "2014-12-09T00:00:00",
          "precipitation": 9.9,
          "temp_max": 16.1,
          "temp_min": 10.6,
          "weather": "fog",
          "wind": 5.1
         },
         {
          "date": "2014-12-10T00:00:00",
          "precipitation": 13,
          "temp_max": 18.9,
          "temp_min": 10,
          "weather": "fog",
          "wind": 6.7
         },
         {
          "date": "2014-12-11T00:00:00",
          "precipitation": 6.9,
          "temp_max": 14.4,
          "temp_min": 8.3,
          "weather": "fog",
          "wind": 6.4
         },
         {
          "date": "2014-12-12T00:00:00",
          "precipitation": 0,
          "temp_max": 11.1,
          "temp_min": 7.2,
          "weather": "sun",
          "wind": 3.7
         },
         {
          "date": "2014-12-13T00:00:00",
          "precipitation": 0,
          "temp_max": 10,
          "temp_min": 3.9,
          "weather": "fog",
          "wind": 1.1
         },
         {
          "date": "2014-12-14T00:00:00",
          "precipitation": 0,
          "temp_max": 12.8,
          "temp_min": 1.7,
          "weather": "fog",
          "wind": 3.5
         },
         {
          "date": "2014-12-15T00:00:00",
          "precipitation": 0,
          "temp_max": 12.2,
          "temp_min": 6.7,
          "weather": "sun",
          "wind": 5.9
         },
         {
          "date": "2014-12-16T00:00:00",
          "precipitation": 0,
          "temp_max": 10,
          "temp_min": 8.3,
          "weather": "sun",
          "wind": 4
         },
         {
          "date": "2014-12-17T00:00:00",
          "precipitation": 2.8,
          "temp_max": 8.9,
          "temp_min": 6.1,
          "weather": "fog",
          "wind": 1.6
         },
         {
          "date": "2014-12-18T00:00:00",
          "precipitation": 13,
          "temp_max": 9.4,
          "temp_min": 6.7,
          "weather": "fog",
          "wind": 3.1
         },
         {
          "date": "2014-12-19T00:00:00",
          "precipitation": 3,
          "temp_max": 11.1,
          "temp_min": 7.2,
          "weather": "sun",
          "wind": 4.3
         },
         {
          "date": "2014-12-20T00:00:00",
          "precipitation": 19.6,
          "temp_max": 12.8,
          "temp_min": 6.7,
          "weather": "fog",
          "wind": 5.5
         },
         {
          "date": "2014-12-21T00:00:00",
          "precipitation": 0,
          "temp_max": 12.8,
          "temp_min": 10,
          "weather": "sun",
          "wind": 5.2
         },
         {
          "date": "2014-12-22T00:00:00",
          "precipitation": 0,
          "temp_max": 10.6,
          "temp_min": 6.1,
          "weather": "sun",
          "wind": 1.5
         },
         {
          "date": "2014-12-23T00:00:00",
          "precipitation": 20.6,
          "temp_max": 12.2,
          "temp_min": 5,
          "weather": "fog",
          "wind": 3.8
         },
         {
          "date": "2014-12-24T00:00:00",
          "precipitation": 5.3,
          "temp_max": 7.2,
          "temp_min": 3.9,
          "weather": "fog",
          "wind": 1.8
         },
         {
          "date": "2014-12-25T00:00:00",
          "precipitation": 0,
          "temp_max": 7.8,
          "temp_min": 2.8,
          "weather": "fog",
          "wind": 2.2
         },
         {
          "date": "2014-12-26T00:00:00",
          "precipitation": 0,
          "temp_max": 5.6,
          "temp_min": 1.7,
          "weather": "fog",
          "wind": 1.2
         },
         {
          "date": "2014-12-27T00:00:00",
          "precipitation": 3.3,
          "temp_max": 9.4,
          "temp_min": 4.4,
          "weather": "fog",
          "wind": 4.9
         },
         {
          "date": "2014-12-28T00:00:00",
          "precipitation": 4.1,
          "temp_max": 6.7,
          "temp_min": 2.8,
          "weather": "fog",
          "wind": 1.8
         },
         {
          "date": "2014-12-29T00:00:00",
          "precipitation": 0,
          "temp_max": 6.1,
          "temp_min": 0.6,
          "weather": "fog",
          "wind": 4.3
         },
         {
          "date": "2014-12-30T00:00:00",
          "precipitation": 0,
          "temp_max": 3.3,
          "temp_min": -2.1,
          "weather": "sun",
          "wind": 3.6
         },
         {
          "date": "2014-12-31T00:00:00",
          "precipitation": 0,
          "temp_max": 3.3,
          "temp_min": -2.7,
          "weather": "sun",
          "wind": 3
         },
         {
          "date": "2015-01-01T00:00:00",
          "precipitation": 0,
          "temp_max": 5.6,
          "temp_min": -3.2,
          "weather": "sun",
          "wind": 1.2
         },
         {
          "date": "2015-01-02T00:00:00",
          "precipitation": 1.5,
          "temp_max": 5.6,
          "temp_min": 0,
          "weather": "fog",
          "wind": 2.3
         },
         {
          "date": "2015-01-03T00:00:00",
          "precipitation": 0,
          "temp_max": 5,
          "temp_min": 1.7,
          "weather": "fog",
          "wind": 1.7
         },
         {
          "date": "2015-01-04T00:00:00",
          "precipitation": 10.2,
          "temp_max": 10.6,
          "temp_min": 3.3,
          "weather": "fog",
          "wind": 4.5
         },
         {
          "date": "2015-01-05T00:00:00",
          "precipitation": 8.1,
          "temp_max": 12.2,
          "temp_min": 9.4,
          "weather": "fog",
          "wind": 6.4
         },
         {
          "date": "2015-01-06T00:00:00",
          "precipitation": 0,
          "temp_max": 12.2,
          "temp_min": 6.1,
          "weather": "fog",
          "wind": 1.3
         },
         {
          "date": "2015-01-07T00:00:00",
          "precipitation": 0,
          "temp_max": 7.8,
          "temp_min": 5.6,
          "weather": "fog",
          "wind": 1.6
         },
         {
          "date": "2015-01-08T00:00:00",
          "precipitation": 0,
          "temp_max": 7.8,
          "temp_min": 1.7,
          "weather": "fog",
          "wind": 2.6
         },
         {
          "date": "2015-01-09T00:00:00",
          "precipitation": 0.3,
          "temp_max": 10,
          "temp_min": 3.3,
          "weather": "fog",
          "wind": 0.6
         },
         {
          "date": "2015-01-10T00:00:00",
          "precipitation": 5.8,
          "temp_max": 7.8,
          "temp_min": 6.1,
          "weather": "fog",
          "wind": 0.5
         },
         {
          "date": "2015-01-11T00:00:00",
          "precipitation": 1.5,
          "temp_max": 9.4,
          "temp_min": 7.2,
          "weather": "fog",
          "wind": 1.1
         },
         {
          "date": "2015-01-12T00:00:00",
          "precipitation": 0,
          "temp_max": 11.1,
          "temp_min": 4.4,
          "weather": "fog",
          "wind": 1.6
         },
         {
          "date": "2015-01-13T00:00:00",
          "precipitation": 0,
          "temp_max": 9.4,
          "temp_min": 2.8,
          "weather": "fog",
          "wind": 2.7
         },
         {
          "date": "2015-01-14T00:00:00",
          "precipitation": 0,
          "temp_max": 6.1,
          "temp_min": 0.6,
          "weather": "fog",
          "wind": 2.8
         },
         {
          "date": "2015-01-15T00:00:00",
          "precipitation": 9.7,
          "temp_max": 7.8,
          "temp_min": 1.1,
          "weather": "fog",
          "wind": 3.2
         },
         {
          "date": "2015-01-16T00:00:00",
          "precipitation": 0,
          "temp_max": 11.7,
          "temp_min": 5.6,
          "weather": "fog",
          "wind": 4.5
         },
         {
          "date": "2015-01-17T00:00:00",
          "precipitation": 26.2,
          "temp_max": 13.3,
          "temp_min": 3.3,
          "weather": "fog",
          "wind": 2.8
         },
         {
          "date": "2015-01-18T00:00:00",
          "precipitation": 21.3,
          "temp_max": 13.9,
          "temp_min": 7.2,
          "weather": "rain",
          "wind": 6.6
         },
         {
          "date": "2015-01-19T00:00:00",
          "precipitation": 0.5,
          "temp_max": 10,
          "temp_min": 6.1,
          "weather": "sun",
          "wind": 2.8
         },
         {
          "date": "2015-01-20T00:00:00",
          "precipitation": 0,
          "temp_max": 10,
          "temp_min": 3.3,
          "weather": "fog",
          "wind": 3
         },
         {
          "date": "2015-01-21T00:00:00",
          "precipitation": 0,
          "temp_max": 7.2,
          "temp_min": -0.5,
          "weather": "fog",
          "wind": 1.3
         },
         {
          "date": "2015-01-22T00:00:00",
          "precipitation": 0.8,
          "temp_max": 9.4,
          "temp_min": 6.1,
          "weather": "fog",
          "wind": 1.3
         },
         {
          "date": "2015-01-23T00:00:00",
          "precipitation": 5.8,
          "temp_max": 12.2,
          "temp_min": 8.3,
          "weather": "fog",
          "wind": 2.6
         },
         {
          "date": "2015-01-24T00:00:00",
          "precipitation": 0.5,
          "temp_max": 14.4,
          "temp_min": 11.1,
          "weather": "fog",
          "wind": 3.3
         },
         {
          "date": "2015-01-25T00:00:00",
          "precipitation": 0,
          "temp_max": 17.2,
          "temp_min": 7.2,
          "weather": "fog",
          "wind": 1.4
         },
         {
          "date": "2015-01-26T00:00:00",
          "precipitation": 0,
          "temp_max": 16.1,
          "temp_min": 6.1,
          "weather": "fog",
          "wind": 2.2
         },
         {
          "date": "2015-01-27T00:00:00",
          "precipitation": 0.8,
          "temp_max": 11.1,
          "temp_min": 8.3,
          "weather": "fog",
          "wind": 2
         },
         {
          "date": "2015-01-28T00:00:00",
          "precipitation": 0,
          "temp_max": 12.2,
          "temp_min": 5,
          "weather": "fog",
          "wind": 1.8
         },
         {
          "date": "2015-01-29T00:00:00",
          "precipitation": 0,
          "temp_max": 12.2,
          "temp_min": 3.3,
          "weather": "sun",
          "wind": 2.9
         },
         {
          "date": "2015-01-30T00:00:00",
          "precipitation": 0,
          "temp_max": 8.3,
          "temp_min": 1.1,
          "weather": "fog",
          "wind": 0.8
         },
         {
          "date": "2015-01-31T00:00:00",
          "precipitation": 0,
          "temp_max": 7.2,
          "temp_min": 3.3,
          "weather": "fog",
          "wind": 1.9
         },
         {
          "date": "2015-02-01T00:00:00",
          "precipitation": 1.5,
          "temp_max": 9.4,
          "temp_min": 4.4,
          "weather": "fog",
          "wind": 2.6
         },
         {
          "date": "2015-02-02T00:00:00",
          "precipitation": 7.4,
          "temp_max": 11.1,
          "temp_min": 5,
          "weather": "fog",
          "wind": 4
         },
         {
          "date": "2015-02-03T00:00:00",
          "precipitation": 1.3,
          "temp_max": 10,
          "temp_min": 5.6,
          "weather": "fog",
          "wind": 1.9
         },
         {
          "date": "2015-02-04T00:00:00",
          "precipitation": 8.4,
          "temp_max": 10.6,
          "temp_min": 4.4,
          "weather": "fog",
          "wind": 1.7
         },
         {
          "date": "2015-02-05T00:00:00",
          "precipitation": 26.2,
          "temp_max": 13.3,
          "temp_min": 8.3,
          "weather": "fog",
          "wind": 4.6
         },
         {
          "date": "2015-02-06T00:00:00",
          "precipitation": 17.3,
          "temp_max": 14.4,
          "temp_min": 10,
          "weather": "fog",
          "wind": 4.5
         },
         {
          "date": "2015-02-07T00:00:00",
          "precipitation": 23.6,
          "temp_max": 12.2,
          "temp_min": 9.4,
          "weather": "fog",
          "wind": 4.6
         },
         {
          "date": "2015-02-08T00:00:00",
          "precipitation": 3.6,
          "temp_max": 15,
          "temp_min": 8.3,
          "weather": "fog",
          "wind": 3.9
         },
         {
          "date": "2015-02-09T00:00:00",
          "precipitation": 6.1,
          "temp_max": 13.3,
          "temp_min": 8.3,
          "weather": "fog",
          "wind": 2.5
         },
         {
          "date": "2015-02-10T00:00:00",
          "precipitation": 0.3,
          "temp_max": 12.8,
          "temp_min": 8.3,
          "weather": "fog",
          "wind": 4
         },
         {
          "date": "2015-02-11T00:00:00",
          "precipitation": 0,
          "temp_max": 12.8,
          "temp_min": 5.6,
          "weather": "fog",
          "wind": 1
         },
         {
          "date": "2015-02-12T00:00:00",
          "precipitation": 1,
          "temp_max": 16.7,
          "temp_min": 9.4,
          "weather": "sun",
          "wind": 2.1
         },
         {
          "date": "2015-02-13T00:00:00",
          "precipitation": 0,
          "temp_max": 15.6,
          "temp_min": 6.7,
          "weather": "fog",
          "wind": 1.7
         },
         {
          "date": "2015-02-14T00:00:00",
          "precipitation": 0.3,
          "temp_max": 14.4,
          "temp_min": 6.7,
          "weather": "fog",
          "wind": 2.9
         },
         {
          "date": "2015-02-15T00:00:00",
          "precipitation": 0,
          "temp_max": 12.2,
          "temp_min": 3.9,
          "weather": "sun",
          "wind": 4.8
         },
         {
          "date": "2015-02-16T00:00:00",
          "precipitation": 0,
          "temp_max": 15,
          "temp_min": 5.6,
          "weather": "fog",
          "wind": 6.6
         },
         {
          "date": "2015-02-17T00:00:00",
          "precipitation": 0,
          "temp_max": 16.1,
          "temp_min": 4.4,
          "weather": "sun",
          "wind": 4
         },
         {
          "date": "2015-02-18T00:00:00",
          "precipitation": 0,
          "temp_max": 12.2,
          "temp_min": 4.4,
          "weather": "sun",
          "wind": 2.6
         },
         {
          "date": "2015-02-19T00:00:00",
          "precipitation": 4.6,
          "temp_max": 10.6,
          "temp_min": 8.3,
          "weather": "fog",
          "wind": 2.2
         },
         {
          "date": "2015-02-20T00:00:00",
          "precipitation": 0.8,
          "temp_max": 11.1,
          "temp_min": 7.2,
          "weather": "fog",
          "wind": 0.9
         },
         {
          "date": "2015-02-21T00:00:00",
          "precipitation": 0,
          "temp_max": 12.2,
          "temp_min": 5.6,
          "weather": "sun",
          "wind": 4.5
         },
         {
          "date": "2015-02-22T00:00:00",
          "precipitation": 0,
          "temp_max": 11.7,
          "temp_min": 3.3,
          "weather": "sun",
          "wind": 4.2
         },
         {
          "date": "2015-02-23T00:00:00",
          "precipitation": 0,
          "temp_max": 12.8,
          "temp_min": 0.6,
          "weather": "sun",
          "wind": 1.4
         },
         {
          "date": "2015-02-24T00:00:00",
          "precipitation": 0,
          "temp_max": 11.1,
          "temp_min": 2.2,
          "weather": "sun",
          "wind": 1.5
         },
         {
          "date": "2015-02-25T00:00:00",
          "precipitation": 4.1,
          "temp_max": 10,
          "temp_min": 6.7,
          "weather": "fog",
          "wind": 1
         },
         {
          "date": "2015-02-26T00:00:00",
          "precipitation": 9.4,
          "temp_max": 11.7,
          "temp_min": 7.8,
          "weather": "fog",
          "wind": 1.4
         },
         {
          "date": "2015-02-27T00:00:00",
          "precipitation": 18.3,
          "temp_max": 10,
          "temp_min": 6.7,
          "weather": "fog",
          "wind": 4
         },
         {
          "date": "2015-02-28T00:00:00",
          "precipitation": 0,
          "temp_max": 12.2,
          "temp_min": 3.3,
          "weather": "sun",
          "wind": 5.1
         },
         {
          "date": "2015-03-01T00:00:00",
          "precipitation": 0,
          "temp_max": 11.1,
          "temp_min": 1.1,
          "weather": "sun",
          "wind": 2.2
         },
         {
          "date": "2015-03-02T00:00:00",
          "precipitation": 0,
          "temp_max": 11.1,
          "temp_min": 4.4,
          "weather": "sun",
          "wind": 4.8
         },
         {
          "date": "2015-03-03T00:00:00",
          "precipitation": 0,
          "temp_max": 10.6,
          "temp_min": 0,
          "weather": "sun",
          "wind": 2.1
         },
         {
          "date": "2015-03-04T00:00:00",
          "precipitation": 0,
          "temp_max": 12.8,
          "temp_min": -0.5,
          "weather": "sun",
          "wind": 1.8
         },
         {
          "date": "2015-03-05T00:00:00",
          "precipitation": 0,
          "temp_max": 13.3,
          "temp_min": 2.8,
          "weather": "sun",
          "wind": 1.3
         },
         {
          "date": "2015-03-06T00:00:00",
          "precipitation": 0,
          "temp_max": 15,
          "temp_min": 3.3,
          "weather": "sun",
          "wind": 1.4
         },
         {
          "date": "2015-03-07T00:00:00",
          "precipitation": 0,
          "temp_max": 16.7,
          "temp_min": 3.9,
          "weather": "fog",
          "wind": 2.7
         },
         {
          "date": "2015-03-08T00:00:00",
          "precipitation": 0,
          "temp_max": 17.2,
          "temp_min": 3.9,
          "weather": "fog",
          "wind": 1.7
         },
         {
          "date": "2015-03-09T00:00:00",
          "precipitation": 0,
          "temp_max": 14.4,
          "temp_min": 4.4,
          "weather": "fog",
          "wind": 1.8
         },
         {
          "date": "2015-03-10T00:00:00",
          "precipitation": 0.8,
          "temp_max": 13.3,
          "temp_min": 5,
          "weather": "fog",
          "wind": 2.6
         },
         {
          "date": "2015-03-11T00:00:00",
          "precipitation": 2.5,
          "temp_max": 14.4,
          "temp_min": 8.9,
          "weather": "fog",
          "wind": 3.1
         },
         {
          "date": "2015-03-12T00:00:00",
          "precipitation": 0,
          "temp_max": 17.8,
          "temp_min": 9.4,
          "weather": "sun",
          "wind": 3.2
         },
         {
          "date": "2015-03-13T00:00:00",
          "precipitation": 2,
          "temp_max": 17.2,
          "temp_min": 7.8,
          "weather": "sun",
          "wind": 2.2
         },
         {
          "date": "2015-03-14T00:00:00",
          "precipitation": 17,
          "temp_max": 13.9,
          "temp_min": 9.4,
          "weather": "fog",
          "wind": 3.8
         },
         {
          "date": "2015-03-15T00:00:00",
          "precipitation": 55.9,
          "temp_max": 10.6,
          "temp_min": 6.1,
          "weather": "fog",
          "wind": 4.2
         },
         {
          "date": "2015-03-16T00:00:00",
          "precipitation": 1,
          "temp_max": 13.9,
          "temp_min": 6.1,
          "weather": "fog",
          "wind": 3
         },
         {
          "date": "2015-03-17T00:00:00",
          "precipitation": 0.8,
          "temp_max": 13.3,
          "temp_min": 4.4,
          "weather": "sun",
          "wind": 2.6
         },
         {
          "date": "2015-03-18T00:00:00",
          "precipitation": 0,
          "temp_max": 15.6,
          "temp_min": 7.2,
          "weather": "sun",
          "wind": 2.5
         },
         {
          "date": "2015-03-19T00:00:00",
          "precipitation": 0,
          "temp_max": 15.6,
          "temp_min": 8.3,
          "weather": "sun",
          "wind": 1.9
         },
         {
          "date": "2015-03-20T00:00:00",
          "precipitation": 4.1,
          "temp_max": 13.9,
          "temp_min": 8.9,
          "weather": "sun",
          "wind": 1.9
         },
         {
          "date": "2015-03-21T00:00:00",
          "precipitation": 3.8,
          "temp_max": 13.3,
          "temp_min": 8.3,
          "weather": "fog",
          "wind": 4.7
         },
         {
          "date": "2015-03-22T00:00:00",
          "precipitation": 1,
          "temp_max": 11.7,
          "temp_min": 6.1,
          "weather": "sun",
          "wind": 2.3
         },
         {
          "date": "2015-03-23T00:00:00",
          "precipitation": 8.1,
          "temp_max": 11.1,
          "temp_min": 5.6,
          "weather": "fog",
          "wind": 2.8
         },
         {
          "date": "2015-03-24T00:00:00",
          "precipitation": 7.6,
          "temp_max": 12.8,
          "temp_min": 6.1,
          "weather": "fog",
          "wind": 3.9
         },
         {
          "date": "2015-03-25T00:00:00",
          "precipitation": 5.1,
          "temp_max": 14.4,
          "temp_min": 7.2,
          "weather": "fog",
          "wind": 4.4
         },
         {
          "date": "2015-03-26T00:00:00",
          "precipitation": 0,
          "temp_max": 20.6,
          "temp_min": 10,
          "weather": "sun",
          "wind": 2.2
         },
         {
          "date": "2015-03-27T00:00:00",
          "precipitation": 1,
          "temp_max": 18.3,
          "temp_min": 8.9,
          "weather": "fog",
          "wind": 4
         },
         {
          "date": "2015-03-28T00:00:00",
          "precipitation": 0,
          "temp_max": 15.6,
          "temp_min": 9.4,
          "weather": "sun",
          "wind": 5.7
         },
         {
          "date": "2015-03-29T00:00:00",
          "precipitation": 0,
          "temp_max": 15.6,
          "temp_min": 8.9,
          "weather": "sun",
          "wind": 3
         },
         {
          "date": "2015-03-30T00:00:00",
          "precipitation": 1.8,
          "temp_max": 17.8,
          "temp_min": 10.6,
          "weather": "fog",
          "wind": 2.9
         },
         {
          "date": "2015-03-31T00:00:00",
          "precipitation": 1,
          "temp_max": 12.8,
          "temp_min": 6.1,
          "weather": "fog",
          "wind": 4.2
         },
         {
          "date": "2015-04-01T00:00:00",
          "precipitation": 5.1,
          "temp_max": 12.8,
          "temp_min": 5.6,
          "weather": "rain",
          "wind": 3.2
         },
         {
          "date": "2015-04-02T00:00:00",
          "precipitation": 0,
          "temp_max": 13.3,
          "temp_min": 5.6,
          "weather": "sun",
          "wind": 2.4
         },
         {
          "date": "2015-04-03T00:00:00",
          "precipitation": 1.5,
          "temp_max": 11.1,
          "temp_min": 5,
          "weather": "fog",
          "wind": 3.6
         },
         {
          "date": "2015-04-04T00:00:00",
          "precipitation": 0,
          "temp_max": 12.8,
          "temp_min": 3.9,
          "weather": "sun",
          "wind": 1.7
         },
         {
          "date": "2015-04-05T00:00:00",
          "precipitation": 0,
          "temp_max": 16.7,
          "temp_min": 2.8,
          "weather": "sun",
          "wind": 2.4
         },
         {
          "date": "2015-04-06T00:00:00",
          "precipitation": 1,
          "temp_max": 13.9,
          "temp_min": 6.7,
          "weather": "sun",
          "wind": 3.5
         },
         {
          "date": "2015-04-07T00:00:00",
          "precipitation": 0.5,
          "temp_max": 14.4,
          "temp_min": 6.7,
          "weather": "sun",
          "wind": 3.9
         },
         {
          "date": "2015-04-08T00:00:00",
          "precipitation": 0,
          "temp_max": 17.2,
          "temp_min": 6.1,
          "weather": "sun",
          "wind": 1.7
         },
         {
          "date": "2015-04-09T00:00:00",
          "precipitation": 0,
          "temp_max": 17.2,
          "temp_min": 6.1,
          "weather": "sun",
          "wind": 2.3
         },
         {
          "date": "2015-04-10T00:00:00",
          "precipitation": 10.9,
          "temp_max": 13.9,
          "temp_min": 7.8,
          "weather": "fog",
          "wind": 4.6
         },
         {
          "date": "2015-04-11T00:00:00",
          "precipitation": 0,
          "temp_max": 11.7,
          "temp_min": 5.6,
          "weather": "sun",
          "wind": 6.5
         },
         {
          "date": "2015-04-12T00:00:00",
          "precipitation": 0,
          "temp_max": 13.3,
          "temp_min": 5.6,
          "weather": "sun",
          "wind": 3.6
         },
         {
          "date": "2015-04-13T00:00:00",
          "precipitation": 14,
          "temp_max": 11.7,
          "temp_min": 3.9,
          "weather": "fog",
          "wind": 3.6
         },
         {
          "date": "2015-04-14T00:00:00",
          "precipitation": 3.3,
          "temp_max": 11.7,
          "temp_min": 2.8,
          "weather": "sun",
          "wind": 3.3
         },
         {
          "date": "2015-04-15T00:00:00",
          "precipitation": 0,
          "temp_max": 13.9,
          "temp_min": 3.3,
          "weather": "sun",
          "wind": 2.4
         },
         {
          "date": "2015-04-16T00:00:00",
          "precipitation": 0,
          "temp_max": 17.8,
          "temp_min": 3.9,
          "weather": "sun",
          "wind": 3.1
         },
         {
          "date": "2015-04-17T00:00:00",
          "precipitation": 0,
          "temp_max": 18.9,
          "temp_min": 6.1,
          "weather": "sun",
          "wind": 3.6
         },
         {
          "date": "2015-04-18T00:00:00",
          "precipitation": 0,
          "temp_max": 18.9,
          "temp_min": 8.3,
          "weather": "sun",
          "wind": 3.9
         },
         {
          "date": "2015-04-19T00:00:00",
          "precipitation": 0,
          "temp_max": 21.1,
          "temp_min": 8.3,
          "weather": "sun",
          "wind": 3.6
         },
         {
          "date": "2015-04-20T00:00:00",
          "precipitation": 0,
          "temp_max": 22.8,
          "temp_min": 7.8,
          "weather": "sun",
          "wind": 2.6
         },
         {
          "date": "2015-04-21T00:00:00",
          "precipitation": 5.6,
          "temp_max": 17.2,
          "temp_min": 6.7,
          "weather": "fog",
          "wind": 3.4
         },
         {
          "date": "2015-04-22T00:00:00",
          "precipitation": 0,
          "temp_max": 15.6,
          "temp_min": 5,
          "weather": "sun",
          "wind": 2.3
         },
         {
          "date": "2015-04-23T00:00:00",
          "precipitation": 3,
          "temp_max": 12.2,
          "temp_min": 6.7,
          "weather": "fog",
          "wind": 4.1
         },
         {
          "date": "2015-04-24T00:00:00",
          "precipitation": 3.3,
          "temp_max": 12.2,
          "temp_min": 6.1,
          "weather": "fog",
          "wind": 5
         },
         {
          "date": "2015-04-25T00:00:00",
          "precipitation": 1.3,
          "temp_max": 13.3,
          "temp_min": 5.6,
          "weather": "fog",
          "wind": 3
         },
         {
          "date": "2015-04-26T00:00:00",
          "precipitation": 0,
          "temp_max": 15.6,
          "temp_min": 4.4,
          "weather": "fog",
          "wind": 2.7
         },
         {
          "date": "2015-04-27T00:00:00",
          "precipitation": 0.3,
          "temp_max": 25,
          "temp_min": 10.6,
          "weather": "fog",
          "wind": 2.3
         },
         {
          "date": "2015-04-28T00:00:00",
          "precipitation": 1.8,
          "temp_max": 15.6,
          "temp_min": 8.9,
          "weather": "fog",
          "wind": 4.3
         },
         {
          "date": "2015-04-29T00:00:00",
          "precipitation": 0,
          "temp_max": 16.1,
          "temp_min": 7.2,
          "weather": "sun",
          "wind": 4.7
         },
         {
          "date": "2015-04-30T00:00:00",
          "precipitation": 0,
          "temp_max": 17.2,
          "temp_min": 7.8,
          "weather": "sun",
          "wind": 2.1
         },
         {
          "date": "2015-05-01T00:00:00",
          "precipitation": 0,
          "temp_max": 18.3,
          "temp_min": 8.9,
          "weather": "sun",
          "wind": 3.7
         },
         {
          "date": "2015-05-02T00:00:00",
          "precipitation": 0,
          "temp_max": 18.3,
          "temp_min": 7.8,
          "weather": "sun",
          "wind": 3.7
         },
         {
          "date": "2015-05-03T00:00:00",
          "precipitation": 0,
          "temp_max": 20.6,
          "temp_min": 7.8,
          "weather": "sun",
          "wind": 2.6
         },
         {
          "date": "2015-05-04T00:00:00",
          "precipitation": 0,
          "temp_max": 17.2,
          "temp_min": 7.2,
          "weather": "sun",
          "wind": 5.2
         },
         {
          "date": "2015-05-05T00:00:00",
          "precipitation": 6.1,
          "temp_max": 14.4,
          "temp_min": 7.2,
          "weather": "fog",
          "wind": 5.1
         },
         {
          "date": "2015-05-06T00:00:00",
          "precipitation": 0,
          "temp_max": 16.7,
          "temp_min": 7.2,
          "weather": "fog",
          "wind": 2.6
         },
         {
          "date": "2015-05-07T00:00:00",
          "precipitation": 0,
          "temp_max": 20.6,
          "temp_min": 6.1,
          "weather": "sun",
          "wind": 3
         },
         {
          "date": "2015-05-08T00:00:00",
          "precipitation": 0,
          "temp_max": 23.9,
          "temp_min": 8.3,
          "weather": "sun",
          "wind": 3
         },
         {
          "date": "2015-05-09T00:00:00",
          "precipitation": 0,
          "temp_max": 26.7,
          "temp_min": 9.4,
          "weather": "sun",
          "wind": 2.6
         },
         {
          "date": "2015-05-10T00:00:00",
          "precipitation": 0,
          "temp_max": 19.4,
          "temp_min": 11.1,
          "weather": "sun",
          "wind": 2.8
         },
         {
          "date": "2015-05-11T00:00:00",
          "precipitation": 0,
          "temp_max": 13.9,
          "temp_min": 10,
          "weather": "fog",
          "wind": 2.5
         },
         {
          "date": "2015-05-12T00:00:00",
          "precipitation": 4.3,
          "temp_max": 15.6,
          "temp_min": 10.6,
          "weather": "fog",
          "wind": 3.3
         },
         {
          "date": "2015-05-13T00:00:00",
          "precipitation": 4.1,
          "temp_max": 12.2,
          "temp_min": 10,
          "weather": "fog",
          "wind": 2.8
         },
         {
          "date": "2015-05-14T00:00:00",
          "precipitation": 0.3,
          "temp_max": 17.8,
          "temp_min": 9.4,
          "weather": "fog",
          "wind": 2
         },
         {
          "date": "2015-05-15T00:00:00",
          "precipitation": 0,
          "temp_max": 20,
          "temp_min": 9.4,
          "weather": "fog",
          "wind": 2.8
         },
         {
          "date": "2015-05-16T00:00:00",
          "precipitation": 0,
          "temp_max": 15.6,
          "temp_min": 11.1,
          "weather": "sun",
          "wind": 3
         },
         {
          "date": "2015-05-17T00:00:00",
          "precipitation": 0,
          "temp_max": 19.4,
          "temp_min": 10.6,
          "weather": "sun",
          "wind": 2.1
         },
         {
          "date": "2015-05-18T00:00:00",
          "precipitation": 0,
          "temp_max": 25.6,
          "temp_min": 12.2,
          "weather": "sun",
          "wind": 3
         },
         {
          "date": "2015-05-19T00:00:00",
          "precipitation": 0,
          "temp_max": 21.7,
          "temp_min": 11.7,
          "weather": "sun",
          "wind": 2.6
         },
         {
          "date": "2015-05-20T00:00:00",
          "precipitation": 0,
          "temp_max": 23.3,
          "temp_min": 10.6,
          "weather": "fog",
          "wind": 1.8
         },
         {
          "date": "2015-05-21T00:00:00",
          "precipitation": 0,
          "temp_max": 25.6,
          "temp_min": 11.7,
          "weather": "sun",
          "wind": 2.1
         },
         {
          "date": "2015-05-22T00:00:00",
          "precipitation": 0,
          "temp_max": 16.7,
          "temp_min": 11.7,
          "weather": "sun",
          "wind": 3.7
         },
         {
          "date": "2015-05-23T00:00:00",
          "precipitation": 0,
          "temp_max": 16.1,
          "temp_min": 11.7,
          "weather": "sun",
          "wind": 2.6
         },
         {
          "date": "2015-05-24T00:00:00",
          "precipitation": 0,
          "temp_max": 17.8,
          "temp_min": 11.1,
          "weather": "sun",
          "wind": 2.7
         },
         {
          "date": "2015-05-25T00:00:00",
          "precipitation": 0,
          "temp_max": 15.6,
          "temp_min": 11.1,
          "weather": "sun",
          "wind": 2.7
         },
         {
          "date": "2015-05-26T00:00:00",
          "precipitation": 0,
          "temp_max": 21.7,
          "temp_min": 11.7,
          "weather": "sun",
          "wind": 2.1
         },
         {
          "date": "2015-05-27T00:00:00",
          "precipitation": 0,
          "temp_max": 24.4,
          "temp_min": 11.7,
          "weather": "sun",
          "wind": 1.8
         },
         {
          "date": "2015-05-28T00:00:00",
          "precipitation": 0,
          "temp_max": 27.8,
          "temp_min": 12.2,
          "weather": "sun",
          "wind": 2.1
         },
         {
          "date": "2015-05-29T00:00:00",
          "precipitation": 0,
          "temp_max": 26.1,
          "temp_min": 12.8,
          "weather": "sun",
          "wind": 2.5
         },
         {
          "date": "2015-05-30T00:00:00",
          "precipitation": 0,
          "temp_max": 22.8,
          "temp_min": 10,
          "weather": "sun",
          "wind": 2.5
         },
         {
          "date": "2015-05-31T00:00:00",
          "precipitation": 0,
          "temp_max": 25,
          "temp_min": 11.7,
          "weather": "sun",
          "wind": 2.2
         },
         {
          "date": "2015-06-01T00:00:00",
          "precipitation": 4.6,
          "temp_max": 16.1,
          "temp_min": 11.7,
          "weather": "fog",
          "wind": 3.4
         },
         {
          "date": "2015-06-02T00:00:00",
          "precipitation": 0.5,
          "temp_max": 17.8,
          "temp_min": 12.8,
          "weather": "sun",
          "wind": 5
         },
         {
          "date": "2015-06-03T00:00:00",
          "precipitation": 0,
          "temp_max": 20,
          "temp_min": 11.7,
          "weather": "sun",
          "wind": 3
         },
         {
          "date": "2015-06-04T00:00:00",
          "precipitation": 0,
          "temp_max": 22.8,
          "temp_min": 11.7,
          "weather": "sun",
          "wind": 3.9
         },
         {
          "date": "2015-06-05T00:00:00",
          "precipitation": 0,
          "temp_max": 26.7,
          "temp_min": 12.8,
          "weather": "sun",
          "wind": 4.3
         },
         {
          "date": "2015-06-06T00:00:00",
          "precipitation": 0,
          "temp_max": 29.4,
          "temp_min": 13.3,
          "weather": "sun",
          "wind": 2.6
         },
         {
          "date": "2015-06-07T00:00:00",
          "precipitation": 0,
          "temp_max": 31.1,
          "temp_min": 15.6,
          "weather": "sun",
          "wind": 3.2
         },
         {
          "date": "2015-06-08T00:00:00",
          "precipitation": 0,
          "temp_max": 30.6,
          "temp_min": 14.4,
          "weather": "sun",
          "wind": 3.5
         },
         {
          "date": "2015-06-09T00:00:00",
          "precipitation": 0,
          "temp_max": 28.9,
          "temp_min": 14.4,
          "weather": "sun",
          "wind": 2.7
         },
         {
          "date": "2015-06-10T00:00:00",
          "precipitation": 0,
          "temp_max": 25.6,
          "temp_min": 11.1,
          "weather": "sun",
          "wind": 3
         },
         {
          "date": "2015-06-11T00:00:00",
          "precipitation": 0,
          "temp_max": 24.4,
          "temp_min": 11.1,
          "weather": "sun",
          "wind": 3.5
         },
         {
          "date": "2015-06-12T00:00:00",
          "precipitation": 0,
          "temp_max": 20,
          "temp_min": 11.7,
          "weather": "sun",
          "wind": 2.3
         },
         {
          "date": "2015-06-13T00:00:00",
          "precipitation": 0,
          "temp_max": 23.9,
          "temp_min": 9.4,
          "weather": "sun",
          "wind": 2.6
         },
         {
          "date": "2015-06-14T00:00:00",
          "precipitation": 0,
          "temp_max": 27.8,
          "temp_min": 11.7,
          "weather": "sun",
          "wind": 3.7
         },
         {
          "date": "2015-06-15T00:00:00",
          "precipitation": 0,
          "temp_max": 30,
          "temp_min": 16.1,
          "weather": "drizzle",
          "wind": 3.5
         },
         {
          "date": "2015-06-16T00:00:00",
          "precipitation": 0,
          "temp_max": 22.8,
          "temp_min": 11.1,
          "weather": "sun",
          "wind": 3
         },
         {
          "date": "2015-06-17T00:00:00",
          "precipitation": 0,
          "temp_max": 25,
          "temp_min": 11.1,
          "weather": "sun",
          "wind": 3.1
         },
         {
          "date": "2015-06-18T00:00:00",
          "precipitation": 0,
          "temp_max": 24.4,
          "temp_min": 13.9,
          "weather": "sun",
          "wind": 3
         },
         {
          "date": "2015-06-19T00:00:00",
          "precipitation": 0.5,
          "temp_max": 23.9,
          "temp_min": 13.3,
          "weather": "fog",
          "wind": 3.2
         },
         {
          "date": "2015-06-20T00:00:00",
          "precipitation": 0,
          "temp_max": 25,
          "temp_min": 12.8,
          "weather": "sun",
          "wind": 4.3
         },
         {
          "date": "2015-06-21T00:00:00",
          "precipitation": 0,
          "temp_max": 25.6,
          "temp_min": 13.9,
          "weather": "sun",
          "wind": 3.4
         },
         {
          "date": "2015-06-22T00:00:00",
          "precipitation": 0,
          "temp_max": 25,
          "temp_min": 12.8,
          "weather": "sun",
          "wind": 2.4
         },
         {
          "date": "2015-06-23T00:00:00",
          "precipitation": 0,
          "temp_max": 26.1,
          "temp_min": 11.7,
          "weather": "sun",
          "wind": 2.4
         },
         {
          "date": "2015-06-24T00:00:00",
          "precipitation": 0,
          "temp_max": 25.6,
          "temp_min": 16.1,
          "weather": "sun",
          "wind": 2.6
         },
         {
          "date": "2015-06-25T00:00:00",
          "precipitation": 0,
          "temp_max": 30.6,
          "temp_min": 15.6,
          "weather": "sun",
          "wind": 3
         },
         {
          "date": "2015-06-26T00:00:00",
          "precipitation": 0,
          "temp_max": 31.7,
          "temp_min": 17.8,
          "weather": "sun",
          "wind": 4.7
         },
         {
          "date": "2015-06-27T00:00:00",
          "precipitation": 0,
          "temp_max": 33.3,
          "temp_min": 17.2,
          "weather": "sun",
          "wind": 3.9
         },
         {
          "date": "2015-06-28T00:00:00",
          "precipitation": 0.3,
          "temp_max": 28.3,
          "temp_min": 18.3,
          "weather": "sun",
          "wind": 2.1
         },
         {
          "date": "2015-06-29T00:00:00",
          "precipitation": 0,
          "temp_max": 28.9,
          "temp_min": 17.2,
          "weather": "sun",
          "wind": 2.7
         },
         {
          "date": "2015-06-30T00:00:00",
          "precipitation": 0,
          "temp_max": 30.6,
          "temp_min": 15,
          "weather": "fog",
          "wind": 3.4
         },
         {
          "date": "2015-07-01T00:00:00",
          "precipitation": 0,
          "temp_max": 32.2,
          "temp_min": 17.2,
          "weather": "sun",
          "wind": 4.3
         },
         {
          "date": "2015-07-02T00:00:00",
          "precipitation": 0,
          "temp_max": 33.9,
          "temp_min": 17.8,
          "weather": "sun",
          "wind": 3.4
         },
         {
          "date": "2015-07-03T00:00:00",
          "precipitation": 0,
          "temp_max": 33.3,
          "temp_min": 17.8,
          "weather": "sun",
          "wind": 2.6
         },
         {
          "date": "2015-07-04T00:00:00",
          "precipitation": 0,
          "temp_max": 33.3,
          "temp_min": 15,
          "weather": "sun",
          "wind": 2.9
         },
         {
          "date": "2015-07-05T00:00:00",
          "precipitation": 0,
          "temp_max": 32.8,
          "temp_min": 16.7,
          "weather": "sun",
          "wind": 2.1
         },
         {
          "date": "2015-07-06T00:00:00",
          "precipitation": 0,
          "temp_max": 29.4,
          "temp_min": 15.6,
          "weather": "drizzle",
          "wind": 3.2
         },
         {
          "date": "2015-07-07T00:00:00",
          "precipitation": 0,
          "temp_max": 27.2,
          "temp_min": 13.9,
          "weather": "sun",
          "wind": 2.4
         },
         {
          "date": "2015-07-08T00:00:00",
          "precipitation": 0,
          "temp_max": 30,
          "temp_min": 14.4,
          "weather": "drizzle",
          "wind": 1.9
         },
         {
          "date": "2015-07-09T00:00:00",
          "precipitation": 0,
          "temp_max": 28.9,
          "temp_min": 14.4,
          "weather": "sun",
          "wind": 3.4
         },
         {
          "date": "2015-07-10T00:00:00",
          "precipitation": 0,
          "temp_max": 21.1,
          "temp_min": 16.7,
          "weather": "sun",
          "wind": 3.7
         },
         {
          "date": "2015-07-11T00:00:00",
          "precipitation": 0,
          "temp_max": 22.2,
          "temp_min": 16.7,
          "weather": "sun",
          "wind": 3
         },
         {
          "date": "2015-07-12T00:00:00",
          "precipitation": 0,
          "temp_max": 26.1,
          "temp_min": 16.7,
          "weather": "sun",
          "wind": 2.2
         },
         {
          "date": "2015-07-13T00:00:00",
          "precipitation": 0,
          "temp_max": 25.6,
          "temp_min": 16.1,
          "weather": "sun",
          "wind": 3.1
         },
         {
          "date": "2015-07-14T00:00:00",
          "precipitation": 0,
          "temp_max": 27.8,
          "temp_min": 16.1,
          "weather": "sun",
          "wind": 3.3
         },
         {
          "date": "2015-07-15T00:00:00",
          "precipitation": 0,
          "temp_max": 26.1,
          "temp_min": 14.4,
          "weather": "sun",
          "wind": 3.2
         },
         {
          "date": "2015-07-16T00:00:00",
          "precipitation": 0,
          "temp_max": 26.1,
          "temp_min": 15,
          "weather": "sun",
          "wind": 2.8
         },
         {
          "date": "2015-07-17T00:00:00",
          "precipitation": 0,
          "temp_max": 27.8,
          "temp_min": 13.9,
          "weather": "sun",
          "wind": 3.3
         },
         {
          "date": "2015-07-18T00:00:00",
          "precipitation": 0,
          "temp_max": 33.3,
          "temp_min": 17.8,
          "weather": "sun",
          "wind": 3.4
         },
         {
          "date": "2015-07-19T00:00:00",
          "precipitation": 0,
          "temp_max": 35,
          "temp_min": 17.2,
          "weather": "sun",
          "wind": 3.3
         },
         {
          "date": "2015-07-20T00:00:00",
          "precipitation": 0,
          "temp_max": 26.7,
          "temp_min": 16.7,
          "weather": "sun",
          "wind": 3.9
         },
         {
          "date": "2015-07-21T00:00:00",
          "precipitation": 0,
          "temp_max": 23.9,
          "temp_min": 15,
          "weather": "sun",
          "wind": 2.4
         },
         {
          "date": "2015-07-22T00:00:00",
          "precipitation": 0,
          "temp_max": 23.9,
          "temp_min": 13.9,
          "weather": "sun",
          "wind": 2.8
         },
         {
          "date": "2015-07-23T00:00:00",
          "precipitation": 0,
          "temp_max": 26.1,
          "temp_min": 14.4,
          "weather": "sun",
          "wind": 1.9
         },
         {
          "date": "2015-07-24T00:00:00",
          "precipitation": 0.3,
          "temp_max": 22.8,
          "temp_min": 13.3,
          "weather": "fog",
          "wind": 3.8
         },
         {
          "date": "2015-07-25T00:00:00",
          "precipitation": 0,
          "temp_max": 21.1,
          "temp_min": 14.4,
          "weather": "fog",
          "wind": 2.4
         },
         {
          "date": "2015-07-26T00:00:00",
          "precipitation": 2,
          "temp_max": 22.2,
          "temp_min": 13.9,
          "weather": "fog",
          "wind": 2.6
         },
         {
          "date": "2015-07-27T00:00:00",
          "precipitation": 0,
          "temp_max": 23.3,
          "temp_min": 12.2,
          "weather": "fog",
          "wind": 1.9
         },
         {
          "date": "2015-07-28T00:00:00",
          "precipitation": 0,
          "temp_max": 27.8,
          "temp_min": 13.9,
          "weather": "sun",
          "wind": 3.4
         },
         {
          "date": "2015-07-29T00:00:00",
          "precipitation": 0,
          "temp_max": 32.2,
          "temp_min": 14.4,
          "weather": "sun",
          "wind": 3.8
         },
         {
          "date": "2015-07-30T00:00:00",
          "precipitation": 0,
          "temp_max": 34.4,
          "temp_min": 17.2,
          "weather": "sun",
          "wind": 3.5
         },
         {
          "date": "2015-07-31T00:00:00",
          "precipitation": 0,
          "temp_max": 34.4,
          "temp_min": 17.8,
          "weather": "sun",
          "wind": 2.6
         },
         {
          "date": "2015-08-01T00:00:00",
          "precipitation": 0,
          "temp_max": 33.3,
          "temp_min": 15.6,
          "weather": "sun",
          "wind": 3.1
         },
         {
          "date": "2015-08-02T00:00:00",
          "precipitation": 0,
          "temp_max": 30.6,
          "temp_min": 16.1,
          "weather": "sun",
          "wind": 2
         },
         {
          "date": "2015-08-03T00:00:00",
          "precipitation": 0,
          "temp_max": 28.3,
          "temp_min": 17.2,
          "weather": "sun",
          "wind": 2.3
         },
         {
          "date": "2015-08-04T00:00:00",
          "precipitation": 0,
          "temp_max": 26.1,
          "temp_min": 14.4,
          "weather": "fog",
          "wind": 2.6
         },
         {
          "date": "2015-08-05T00:00:00",
          "precipitation": 0,
          "temp_max": 23.3,
          "temp_min": 12.2,
          "weather": "sun",
          "wind": 3.5
         },
         {
          "date": "2015-08-06T00:00:00",
          "precipitation": 0,
          "temp_max": 25,
          "temp_min": 15,
          "weather": "sun",
          "wind": 2.9
         },
         {
          "date": "2015-08-07T00:00:00",
          "precipitation": 0,
          "temp_max": 28.3,
          "temp_min": 15.6,
          "weather": "sun",
          "wind": 3.7
         },
         {
          "date": "2015-08-08T00:00:00",
          "precipitation": 0,
          "temp_max": 25,
          "temp_min": 15.6,
          "weather": "fog",
          "wind": 3.6
         },
         {
          "date": "2015-08-09T00:00:00",
          "precipitation": 0,
          "temp_max": 28.3,
          "temp_min": 15,
          "weather": "sun",
          "wind": 2.2
         },
         {
          "date": "2015-08-10T00:00:00",
          "precipitation": 0,
          "temp_max": 28.9,
          "temp_min": 16.1,
          "weather": "sun",
          "wind": 2.4
         },
         {
          "date": "2015-08-11T00:00:00",
          "precipitation": 0,
          "temp_max": 30,
          "temp_min": 16.7,
          "weather": "sun",
          "wind": 4.4
         },
         {
          "date": "2015-08-12T00:00:00",
          "precipitation": 7.6,
          "temp_max": 28.3,
          "temp_min": 16.7,
          "weather": "rain",
          "wind": 2.7
         },
         {
          "date": "2015-08-13T00:00:00",
          "precipitation": 0,
          "temp_max": 28.3,
          "temp_min": 15.6,
          "weather": "sun",
          "wind": 2.2
         },
         {
          "date": "2015-08-14T00:00:00",
          "precipitation": 30.5,
          "temp_max": 18.3,
          "temp_min": 15,
          "weather": "rain",
          "wind": 5.2
         },
         {
          "date": "2015-08-15T00:00:00",
          "precipitation": 0,
          "temp_max": 21.7,
          "temp_min": 13.9,
          "weather": "sun",
          "wind": 3.7
         },
         {
          "date": "2015-08-16T00:00:00",
          "precipitation": 0,
          "temp_max": 25,
          "temp_min": 14.4,
          "weather": "sun",
          "wind": 3.7
         },
         {
          "date": "2015-08-17T00:00:00",
          "precipitation": 0,
          "temp_max": 27.2,
          "temp_min": 13.9,
          "weather": "sun",
          "wind": 3
         },
         {
          "date": "2015-08-18T00:00:00",
          "precipitation": 0,
          "temp_max": 30,
          "temp_min": 15,
          "weather": "sun",
          "wind": 3
         },
         {
          "date": "2015-08-19T00:00:00",
          "precipitation": 0,
          "temp_max": 31.7,
          "temp_min": 16.1,
          "weather": "drizzle",
          "wind": 2.1
         },
         {
          "date": "2015-08-20T00:00:00",
          "precipitation": 2,
          "temp_max": 22.8,
          "temp_min": 14.4,
          "weather": "fog",
          "wind": 4.2
         },
         {
          "date": "2015-08-21T00:00:00",
          "precipitation": 0,
          "temp_max": 22.2,
          "temp_min": 14.4,
          "weather": "sun",
          "wind": 2.6
         },
         {
          "date": "2015-08-22T00:00:00",
          "precipitation": 0,
          "temp_max": 26.7,
          "temp_min": 12.2,
          "weather": "drizzle",
          "wind": 2.5
         },
         {
          "date": "2015-08-23T00:00:00",
          "precipitation": 0,
          "temp_max": 27.8,
          "temp_min": 13.9,
          "weather": "drizzle",
          "wind": 1.8
         },
         {
          "date": "2015-08-24T00:00:00",
          "precipitation": 0,
          "temp_max": 23.9,
          "temp_min": 12.2,
          "weather": "sun",
          "wind": 2.3
         },
         {
          "date": "2015-08-25T00:00:00",
          "precipitation": 0,
          "temp_max": 25.6,
          "temp_min": 12.2,
          "weather": "sun",
          "wind": 3.4
         },
         {
          "date": "2015-08-26T00:00:00",
          "precipitation": 0,
          "temp_max": 28.3,
          "temp_min": 13.9,
          "weather": "sun",
          "wind": 1.7
         },
         {
          "date": "2015-08-27T00:00:00",
          "precipitation": 0,
          "temp_max": 29.4,
          "temp_min": 14.4,
          "weather": "sun",
          "wind": 2.1
         },
         {
          "date": "2015-08-28T00:00:00",
          "precipitation": 0.5,
          "temp_max": 23.3,
          "temp_min": 15.6,
          "weather": "fog",
          "wind": 2.6
         },
         {
          "date": "2015-08-29T00:00:00",
          "precipitation": 32.5,
          "temp_max": 22.2,
          "temp_min": 13.3,
          "weather": "fog",
          "wind": 5.8
         },
         {
          "date": "2015-08-30T00:00:00",
          "precipitation": 10.2,
          "temp_max": 20,
          "temp_min": 12.8,
          "weather": "fog",
          "wind": 4.7
         },
         {
          "date": "2015-08-31T00:00:00",
          "precipitation": 0,
          "temp_max": 18.9,
          "temp_min": 16.1,
          "weather": "sun",
          "wind": 5.8
         },
         {
          "date": "2015-09-01T00:00:00",
          "precipitation": 5.8,
          "temp_max": 19.4,
          "temp_min": 13.9,
          "weather": "fog",
          "wind": 5
         },
         {
          "date": "2015-09-02T00:00:00",
          "precipitation": 0,
          "temp_max": 19.4,
          "temp_min": 11.1,
          "weather": "sun",
          "wind": 3.8
         },
         {
          "date": "2015-09-03T00:00:00",
          "precipitation": 0,
          "temp_max": 18.3,
          "temp_min": 10.6,
          "weather": "sun",
          "wind": 2.9
         },
         {
          "date": "2015-09-04T00:00:00",
          "precipitation": 0,
          "temp_max": 18.3,
          "temp_min": 10,
          "weather": "sun",
          "wind": 2.9
         },
         {
          "date": "2015-09-05T00:00:00",
          "precipitation": 0.3,
          "temp_max": 20.6,
          "temp_min": 8.9,
          "weather": "sun",
          "wind": 3.5
         },
         {
          "date": "2015-09-06T00:00:00",
          "precipitation": 5.3,
          "temp_max": 16.1,
          "temp_min": 11.7,
          "weather": "fog",
          "wind": 2.4
         },
         {
          "date": "2015-09-07T00:00:00",
          "precipitation": 0.3,
          "temp_max": 21.1,
          "temp_min": 13.3,
          "weather": "fog",
          "wind": 1.5
         },
         {
          "date": "2015-09-08T00:00:00",
          "precipitation": 0,
          "temp_max": 22.8,
          "temp_min": 13.3,
          "weather": "sun",
          "wind": 2.4
         },
         {
          "date": "2015-09-09T00:00:00",
          "precipitation": 0,
          "temp_max": 24.4,
          "temp_min": 13.9,
          "weather": "sun",
          "wind": 3.3
         },
         {
          "date": "2015-09-10T00:00:00",
          "precipitation": 0,
          "temp_max": 25,
          "temp_min": 14.4,
          "weather": "fog",
          "wind": 3.6
         },
         {
          "date": "2015-09-11T00:00:00",
          "precipitation": 0,
          "temp_max": 27.2,
          "temp_min": 15,
          "weather": "sun",
          "wind": 3.1
         },
         {
          "date": "2015-09-12T00:00:00",
          "precipitation": 0,
          "temp_max": 26.7,
          "temp_min": 14.4,
          "weather": "sun",
          "wind": 2.1
         },
         {
          "date": "2015-09-13T00:00:00",
          "precipitation": 0.5,
          "temp_max": 20.6,
          "temp_min": 12.8,
          "weather": "fog",
          "wind": 3
         },
         {
          "date": "2015-09-14T00:00:00",
          "precipitation": 0,
          "temp_max": 16.7,
          "temp_min": 10.6,
          "weather": "sun",
          "wind": 3.4
         },
         {
          "date": "2015-09-15T00:00:00",
          "precipitation": 0,
          "temp_max": 17.8,
          "temp_min": 10,
          "weather": "sun",
          "wind": 2.8
         },
         {
          "date": "2015-09-16T00:00:00",
          "precipitation": 1,
          "temp_max": 20,
          "temp_min": 10,
          "weather": "sun",
          "wind": 1.9
         },
         {
          "date": "2015-09-17T00:00:00",
          "precipitation": 1.8,
          "temp_max": 18.3,
          "temp_min": 12.8,
          "weather": "fog",
          "wind": 3.8
         },
         {
          "date": "2015-09-18T00:00:00",
          "precipitation": 0,
          "temp_max": 19.4,
          "temp_min": 12.8,
          "weather": "sun",
          "wind": 2.6
         },
         {
          "date": "2015-09-19T00:00:00",
          "precipitation": 0,
          "temp_max": 21.1,
          "temp_min": 14.4,
          "weather": "sun",
          "wind": 4.3
         },
         {
          "date": "2015-09-20T00:00:00",
          "precipitation": 4.1,
          "temp_max": 22.8,
          "temp_min": 12.2,
          "weather": "fog",
          "wind": 6.8
         },
         {
          "date": "2015-09-21T00:00:00",
          "precipitation": 0,
          "temp_max": 18.3,
          "temp_min": 9.4,
          "weather": "fog",
          "wind": 2.7
         },
         {
          "date": "2015-09-22T00:00:00",
          "precipitation": 0,
          "temp_max": 18.9,
          "temp_min": 7.8,
          "weather": "sun",
          "wind": 2
         },
         {
          "date": "2015-09-23T00:00:00",
          "precipitation": 0,
          "temp_max": 20.6,
          "temp_min": 8.3,
          "weather": "sun",
          "wind": 1.8
         },
         {
          "date": "2015-09-24T00:00:00",
          "precipitation": 0,
          "temp_max": 22.2,
          "temp_min": 11.1,
          "weather": "fog",
          "wind": 2.5
         },
         {
          "date": "2015-09-25T00:00:00",
          "precipitation": 2,
          "temp_max": 15.6,
          "temp_min": 12.8,
          "weather": "fog",
          "wind": 2.6
         },
         {
          "date": "2015-09-26T00:00:00",
          "precipitation": 0,
          "temp_max": 18.3,
          "temp_min": 10,
          "weather": "sun",
          "wind": 2.7
         },
         {
          "date": "2015-09-27T00:00:00",
          "precipitation": 0,
          "temp_max": 17.8,
          "temp_min": 7.2,
          "weather": "sun",
          "wind": 3.8
         },
         {
          "date": "2015-09-28T00:00:00",
          "precipitation": 0,
          "temp_max": 21.1,
          "temp_min": 9.4,
          "weather": "sun",
          "wind": 5.1
         },
         {
          "date": "2015-09-29T00:00:00",
          "precipitation": 0,
          "temp_max": 21.7,
          "temp_min": 8.9,
          "weather": "sun",
          "wind": 1.9
         },
         {
          "date": "2015-09-30T00:00:00",
          "precipitation": 0,
          "temp_max": 18.3,
          "temp_min": 10,
          "weather": "fog",
          "wind": 1.3
         },
         {
          "date": "2015-10-01T00:00:00",
          "precipitation": 0,
          "temp_max": 21.1,
          "temp_min": 9.4,
          "weather": "fog",
          "wind": 1.3
         },
         {
          "date": "2015-10-02T00:00:00",
          "precipitation": 0,
          "temp_max": 15.6,
          "temp_min": 10,
          "weather": "fog",
          "wind": 2.9
         },
         {
          "date": "2015-10-03T00:00:00",
          "precipitation": 0,
          "temp_max": 19.4,
          "temp_min": 11.1,
          "weather": "sun",
          "wind": 4.8
         },
         {
          "date": "2015-10-04T00:00:00",
          "precipitation": 0,
          "temp_max": 22.8,
          "temp_min": 10,
          "weather": "sun",
          "wind": 3.7
         },
         {
          "date": "2015-10-05T00:00:00",
          "precipitation": 0,
          "temp_max": 23.3,
          "temp_min": 9.4,
          "weather": "sun",
          "wind": 1.6
         },
         {
          "date": "2015-10-06T00:00:00",
          "precipitation": 0,
          "temp_max": 18.3,
          "temp_min": 10,
          "weather": "drizzle",
          "wind": 2.6
         },
         {
          "date": "2015-10-07T00:00:00",
          "precipitation": 9.9,
          "temp_max": 16.1,
          "temp_min": 13.9,
          "weather": "fog",
          "wind": 2.2
         },
         {
          "date": "2015-10-08T00:00:00",
          "precipitation": 0,
          "temp_max": 18.9,
          "temp_min": 13.3,
          "weather": "fog",
          "wind": 1.1
         },
         {
          "date": "2015-10-09T00:00:00",
          "precipitation": 0.3,
          "temp_max": 19.4,
          "temp_min": 12.2,
          "weather": "fog",
          "wind": 2.6
         },
         {
          "date": "2015-10-10T00:00:00",
          "precipitation": 28.7,
          "temp_max": 21.1,
          "temp_min": 13.3,
          "weather": "fog",
          "wind": 4.7
         },
         {
          "date": "2015-10-11T00:00:00",
          "precipitation": 0,
          "temp_max": 17.8,
          "temp_min": 10.6,
          "weather": "sun",
          "wind": 2.6
         },
         {
          "date": "2015-10-12T00:00:00",
          "precipitation": 4.6,
          "temp_max": 18.3,
          "temp_min": 10.6,
          "weather": "fog",
          "wind": 2.8
         },
         {
          "date": "2015-10-13T00:00:00",
          "precipitation": 1.3,
          "temp_max": 16.7,
          "temp_min": 9.4,
          "weather": "fog",
          "wind": 3.2
         },
         {
          "date": "2015-10-14T00:00:00",
          "precipitation": 0,
          "temp_max": 15,
          "temp_min": 10,
          "weather": "fog",
          "wind": 5
         },
         {
          "date": "2015-10-15T00:00:00",
          "precipitation": 0,
          "temp_max": 21.1,
          "temp_min": 9.4,
          "weather": "fog",
          "wind": 3.4
         },
         {
          "date": "2015-10-16T00:00:00",
          "precipitation": 0,
          "temp_max": 20,
          "temp_min": 8.9,
          "weather": "sun",
          "wind": 1.3
         },
         {
          "date": "2015-10-17T00:00:00",
          "precipitation": 0.3,
          "temp_max": 19.4,
          "temp_min": 11.7,
          "weather": "fog",
          "wind": 1.3
         },
         {
          "date": "2015-10-18T00:00:00",
          "precipitation": 3.8,
          "temp_max": 15,
          "temp_min": 12.8,
          "weather": "fog",
          "wind": 2
         },
         {
          "date": "2015-10-19T00:00:00",
          "precipitation": 0.3,
          "temp_max": 17.2,
          "temp_min": 12.2,
          "weather": "fog",
          "wind": 2.6
         },
         {
          "date": "2015-10-20T00:00:00",
          "precipitation": 0,
          "temp_max": 17.8,
          "temp_min": 10.6,
          "weather": "fog",
          "wind": 1.8
         },
         {
          "date": "2015-10-21T00:00:00",
          "precipitation": 0,
          "temp_max": 16.1,
          "temp_min": 8.3,
          "weather": "fog",
          "wind": 1.3
         },
         {
          "date": "2015-10-22T00:00:00",
          "precipitation": 0,
          "temp_max": 16.1,
          "temp_min": 8.9,
          "weather": "fog",
          "wind": 2.7
         },
         {
          "date": "2015-10-23T00:00:00",
          "precipitation": 0,
          "temp_max": 12.8,
          "temp_min": 7.2,
          "weather": "fog",
          "wind": 2.6
         },
         {
          "date": "2015-10-24T00:00:00",
          "precipitation": 0,
          "temp_max": 15,
          "temp_min": 8.9,
          "weather": "fog",
          "wind": 2.9
         },
         {
          "date": "2015-10-25T00:00:00",
          "precipitation": 8.9,
          "temp_max": 19.4,
          "temp_min": 8.9,
          "weather": "rain",
          "wind": 3.4
         },
         {
          "date": "2015-10-26T00:00:00",
          "precipitation": 6.9,
          "temp_max": 12.2,
          "temp_min": 10,
          "weather": "fog",
          "wind": 4.6
         },
         {
          "date": "2015-10-27T00:00:00",
          "precipitation": 0,
          "temp_max": 16.1,
          "temp_min": 7.8,
          "weather": "fog",
          "wind": 1.7
         },
         {
          "date": "2015-10-28T00:00:00",
          "precipitation": 3.3,
          "temp_max": 13.9,
          "temp_min": 11.1,
          "weather": "fog",
          "wind": 2.8
         },
         {
          "date": "2015-10-29T00:00:00",
          "precipitation": 1.8,
          "temp_max": 15,
          "temp_min": 12.2,
          "weather": "fog",
          "wind": 4.7
         },
         {
          "date": "2015-10-30T00:00:00",
          "precipitation": 19.3,
          "temp_max": 17.2,
          "temp_min": 11.7,
          "weather": "fog",
          "wind": 6.7
         },
         {
          "date": "2015-10-31T00:00:00",
          "precipitation": 33,
          "temp_max": 15.6,
          "temp_min": 11.7,
          "weather": "fog",
          "wind": 7.2
         },
         {
          "date": "2015-11-01T00:00:00",
          "precipitation": 26.2,
          "temp_max": 12.2,
          "temp_min": 8.9,
          "weather": "fog",
          "wind": 6
         },
         {
          "date": "2015-11-02T00:00:00",
          "precipitation": 0.3,
          "temp_max": 11.1,
          "temp_min": 7.2,
          "weather": "fog",
          "wind": 2.8
         },
         {
          "date": "2015-11-03T00:00:00",
          "precipitation": 0.8,
          "temp_max": 10.6,
          "temp_min": 5,
          "weather": "fog",
          "wind": 1.4
         },
         {
          "date": "2015-11-04T00:00:00",
          "precipitation": 0,
          "temp_max": 10,
          "temp_min": 3.3,
          "weather": "sun",
          "wind": 2.2
         },
         {
          "date": "2015-11-05T00:00:00",
          "precipitation": 1.3,
          "temp_max": 11.7,
          "temp_min": 7.8,
          "weather": "fog",
          "wind": 2.3
         },
         {
          "date": "2015-11-06T00:00:00",
          "precipitation": 0,
          "temp_max": 15.6,
          "temp_min": 8.3,
          "weather": "fog",
          "wind": 2.7
         },
         {
          "date": "2015-11-07T00:00:00",
          "precipitation": 12.7,
          "temp_max": 12.2,
          "temp_min": 9.4,
          "weather": "fog",
          "wind": 3
         },
         {
          "date": "2015-11-08T00:00:00",
          "precipitation": 6.6,
          "temp_max": 11.1,
          "temp_min": 7.8,
          "weather": "fog",
          "wind": 1.8
         },
         {
          "date": "2015-11-09T00:00:00",
          "precipitation": 3.3,
          "temp_max": 10,
          "temp_min": 5,
          "weather": "fog",
          "wind": 1.3
         },
         {
          "date": "2015-11-10T00:00:00",
          "precipitation": 1.3,
          "temp_max": 11.1,
          "temp_min": 3.9,
          "weather": "fog",
          "wind": 3.9
         },
         {
          "date": "2015-11-11T00:00:00",
          "precipitation": 1.5,
          "temp_max": 11.1,
          "temp_min": 6.1,
          "weather": "sun",
          "wind": 4.6
         },
         {
          "date": "2015-11-12T00:00:00",
          "precipitation": 9.9,
          "temp_max": 11.1,
          "temp_min": 5,
          "weather": "fog",
          "wind": 5.1
         },
         {
          "date": "2015-11-13T00:00:00",
          "precipitation": 33.5,
          "temp_max": 13.3,
          "temp_min": 9.4,
          "weather": "fog",
          "wind": 6.5
         },
         {
          "date": "2015-11-14T00:00:00",
          "precipitation": 47.2,
          "temp_max": 9.4,
          "temp_min": 6.1,
          "weather": "fog",
          "wind": 4.5
         },
         {
          "date": "2015-11-15T00:00:00",
          "precipitation": 22.4,
          "temp_max": 8.9,
          "temp_min": 2.2,
          "weather": "fog",
          "wind": 4.1
         },
         {
          "date": "2015-11-16T00:00:00",
          "precipitation": 2,
          "temp_max": 8.9,
          "temp_min": 1.7,
          "weather": "fog",
          "wind": 4
         },
         {
          "date": "2015-11-17T00:00:00",
          "precipitation": 29.5,
          "temp_max": 13.3,
          "temp_min": 6.7,
          "weather": "fog",
          "wind": 8
         },
         {
          "date": "2015-11-18T00:00:00",
          "precipitation": 1.5,
          "temp_max": 8.9,
          "temp_min": 3.3,
          "weather": "sun",
          "wind": 3.8
         },
         {
          "date": "2015-11-19T00:00:00",
          "precipitation": 2,
          "temp_max": 8.9,
          "temp_min": 2.8,
          "weather": "sun",
          "wind": 4.2
         },
         {
          "date": "2015-11-20T00:00:00",
          "precipitation": 0,
          "temp_max": 8.3,
          "temp_min": 0.6,
          "weather": "fog",
          "wind": 4
         },
         {
          "date": "2015-11-21T00:00:00",
          "precipitation": 0,
          "temp_max": 8.9,
          "temp_min": 0.6,
          "weather": "sun",
          "wind": 4.7
         },
         {
          "date": "2015-11-22T00:00:00",
          "precipitation": 0,
          "temp_max": 10,
          "temp_min": 1.7,
          "weather": "fog",
          "wind": 3.1
         },
         {
          "date": "2015-11-23T00:00:00",
          "precipitation": 3,
          "temp_max": 6.7,
          "temp_min": 0,
          "weather": "fog",
          "wind": 1.3
         },
         {
          "date": "2015-11-24T00:00:00",
          "precipitation": 7.1,
          "temp_max": 6.7,
          "temp_min": 2.8,
          "weather": "fog",
          "wind": 4.5
         },
         {
          "date": "2015-11-25T00:00:00",
          "precipitation": 0,
          "temp_max": 7.2,
          "temp_min": 0,
          "weather": "sun",
          "wind": 5.7
         },
         {
          "date": "2015-11-26T00:00:00",
          "precipitation": 0,
          "temp_max": 9.4,
          "temp_min": -1,
          "weather": "sun",
          "wind": 4.3
         },
         {
          "date": "2015-11-27T00:00:00",
          "precipitation": 0,
          "temp_max": 9.4,
          "temp_min": -1.6,
          "weather": "sun",
          "wind": 3
         },
         {
          "date": "2015-11-28T00:00:00",
          "precipitation": 0,
          "temp_max": 7.2,
          "temp_min": -2.7,
          "weather": "sun",
          "wind": 1
         },
         {
          "date": "2015-11-29T00:00:00",
          "precipitation": 0,
          "temp_max": 1.7,
          "temp_min": -2.1,
          "weather": "fog",
          "wind": 0.9
         },
         {
          "date": "2015-11-30T00:00:00",
          "precipitation": 0.5,
          "temp_max": 5.6,
          "temp_min": -3.8,
          "weather": "fog",
          "wind": 1.7
         },
         {
          "date": "2015-12-01T00:00:00",
          "precipitation": 12.2,
          "temp_max": 10,
          "temp_min": 3.9,
          "weather": "fog",
          "wind": 3.5
         },
         {
          "date": "2015-12-02T00:00:00",
          "precipitation": 2.5,
          "temp_max": 10.6,
          "temp_min": 4.4,
          "weather": "fog",
          "wind": 5
         },
         {
          "date": "2015-12-03T00:00:00",
          "precipitation": 12.7,
          "temp_max": 15.6,
          "temp_min": 7.8,
          "weather": "fog",
          "wind": 5.9
         },
         {
          "date": "2015-12-04T00:00:00",
          "precipitation": 2,
          "temp_max": 10.6,
          "temp_min": 6.1,
          "weather": "fog",
          "wind": 4.7
         },
         {
          "date": "2015-12-05T00:00:00",
          "precipitation": 15.7,
          "temp_max": 10,
          "temp_min": 6.1,
          "weather": "fog",
          "wind": 4
         },
         {
          "date": "2015-12-06T00:00:00",
          "precipitation": 11.2,
          "temp_max": 12.8,
          "temp_min": 7.2,
          "weather": "fog",
          "wind": 5.9
         },
         {
          "date": "2015-12-07T00:00:00",
          "precipitation": 27.4,
          "temp_max": 11.1,
          "temp_min": 8.3,
          "weather": "fog",
          "wind": 3.4
         },
         {
          "date": "2015-12-08T00:00:00",
          "precipitation": 54.1,
          "temp_max": 15.6,
          "temp_min": 10,
          "weather": "fog",
          "wind": 6.2
         },
         {
          "date": "2015-12-09T00:00:00",
          "precipitation": 13.5,
          "temp_max": 12.2,
          "temp_min": 7.8,
          "weather": "fog",
          "wind": 6.3
         },
         {
          "date": "2015-12-10T00:00:00",
          "precipitation": 9.4,
          "temp_max": 11.7,
          "temp_min": 6.1,
          "weather": "fog",
          "wind": 7.5
         },
         {
          "date": "2015-12-11T00:00:00",
          "precipitation": 0.3,
          "temp_max": 9.4,
          "temp_min": 4.4,
          "weather": "sun",
          "wind": 2.8
         },
         {
          "date": "2015-12-12T00:00:00",
          "precipitation": 16,
          "temp_max": 8.9,
          "temp_min": 5.6,
          "weather": "fog",
          "wind": 5.6
         },
         {
          "date": "2015-12-13T00:00:00",
          "precipitation": 1.3,
          "temp_max": 7.8,
          "temp_min": 6.1,
          "weather": "sun",
          "wind": 6.1
         },
         {
          "date": "2015-12-14T00:00:00",
          "precipitation": 0,
          "temp_max": 7.8,
          "temp_min": 1.7,
          "weather": "sun",
          "wind": 1.7
         },
         {
          "date": "2015-12-15T00:00:00",
          "precipitation": 1.5,
          "temp_max": 6.7,
          "temp_min": 1.1,
          "weather": "fog",
          "wind": 2.9
         },
         {
          "date": "2015-12-16T00:00:00",
          "precipitation": 3.6,
          "temp_max": 6.1,
          "temp_min": 2.8,
          "weather": "fog",
          "wind": 2.3
         },
         {
          "date": "2015-12-17T00:00:00",
          "precipitation": 21.8,
          "temp_max": 6.7,
          "temp_min": 3.9,
          "weather": "fog",
          "wind": 6
         },
         {
          "date": "2015-12-18T00:00:00",
          "precipitation": 18.5,
          "temp_max": 8.9,
          "temp_min": 4.4,
          "weather": "fog",
          "wind": 5.1
         },
         {
          "date": "2015-12-19T00:00:00",
          "precipitation": 0,
          "temp_max": 8.3,
          "temp_min": 2.8,
          "weather": "fog",
          "wind": 4.1
         },
         {
          "date": "2015-12-20T00:00:00",
          "precipitation": 4.3,
          "temp_max": 7.8,
          "temp_min": 4.4,
          "weather": "fog",
          "wind": 6.7
         },
         {
          "date": "2015-12-21T00:00:00",
          "precipitation": 27.4,
          "temp_max": 5.6,
          "temp_min": 2.8,
          "weather": "fog",
          "wind": 4.3
         },
         {
          "date": "2015-12-22T00:00:00",
          "precipitation": 4.6,
          "temp_max": 7.8,
          "temp_min": 2.8,
          "weather": "fog",
          "wind": 5
         },
         {
          "date": "2015-12-23T00:00:00",
          "precipitation": 6.1,
          "temp_max": 5,
          "temp_min": 2.8,
          "weather": "fog",
          "wind": 7.6
         },
         {
          "date": "2015-12-24T00:00:00",
          "precipitation": 2.5,
          "temp_max": 5.6,
          "temp_min": 2.2,
          "weather": "fog",
          "wind": 4.3
         },
         {
          "date": "2015-12-25T00:00:00",
          "precipitation": 5.8,
          "temp_max": 5,
          "temp_min": 2.2,
          "weather": "fog",
          "wind": 1.5
         },
         {
          "date": "2015-12-26T00:00:00",
          "precipitation": 0,
          "temp_max": 4.4,
          "temp_min": 0,
          "weather": "sun",
          "wind": 2.5
         },
         {
          "date": "2015-12-27T00:00:00",
          "precipitation": 8.6,
          "temp_max": 4.4,
          "temp_min": 1.7,
          "weather": "fog",
          "wind": 2.9
         },
         {
          "date": "2015-12-28T00:00:00",
          "precipitation": 1.5,
          "temp_max": 5,
          "temp_min": 1.7,
          "weather": "fog",
          "wind": 1.3
         },
         {
          "date": "2015-12-29T00:00:00",
          "precipitation": 0,
          "temp_max": 7.2,
          "temp_min": 0.6,
          "weather": "fog",
          "wind": 2.6
         },
         {
          "date": "2015-12-30T00:00:00",
          "precipitation": 0,
          "temp_max": 5.6,
          "temp_min": -1,
          "weather": "sun",
          "wind": 3.4
         },
         {
          "date": "2015-12-31T00:00:00",
          "precipitation": 0,
          "temp_max": 5.6,
          "temp_min": -2.1,
          "weather": "sun",
          "wind": 3.5
         }
        ]
       },
       "encoding": {
        "x": {
         "field": "date",
         "type": "temporal"
        },
        "y": {
         "field": "rolling_mean",
         "type": "quantitative"
        }
       },
       "mark": {
        "color": "red",
        "size": 3,
        "type": "line"
       },
       "transform": [
        {
         "frame": [
          -15,
          15
         ],
         "window": [
          {
           "as": "rolling_mean",
           "field": "temp_max",
           "op": "mean"
          }
         ]
        }
       ]
      },
      "image/png": "[encoded data removed]",
      "text/plain": [
       "<VegaLite 3 object>\n",
       "\n",
       "If you see this message, it means the renderer has not been properly enabled\n",
       "for the frontend that you are using. For more information, see\n",
       "https://altair-viz.github.io/user_guide/troubleshooting.html\n"
      ]
     },
     "execution_count": 9,
     "metadata": {},
     "output_type": "execute_result"
    }
   ],
   "source": [
    "import altair as alt\n",
    "from vega_datasets import data\n",
    "\n",
    "source = data.seattle_weather()\n",
    "\n",
    "line = alt.Chart(source).mark_line(\n",
    "    color='red',\n",
    "    size=3\n",
    ").transform_window(\n",
    "    rolling_mean='mean(temp_max)',\n",
    "    frame=[-15, 15]\n",
    ").encode(\n",
    "    x='date:T',\n",
    "    y='rolling_mean:Q'\n",
    ")\n",
    "\n",
    "points = alt.Chart(source).mark_point().encode(\n",
    "    x='date:T',\n",
    "    y=alt.Y('temp_max:Q',\n",
    "            axis=alt.Axis(title='Max Temp'))\n",
    ")\n",
    "\n",
    "points + line\n",
    "\n",
    "line"
   ]
  },
  {
   "cell_type": "code",
   "execution_count": null,
   "metadata": {},
   "outputs": [],
   "source": []
  },
  {
   "cell_type": "code",
   "execution_count": null,
   "metadata": {},
   "outputs": [],
   "source": [
    "#df1.head(2)"
   ]
  },
  {
   "cell_type": "code",
   "execution_count": 10,
   "metadata": {},
   "outputs": [
    {
     "data": {
      "text/html": [
       "<div>\n",
       "<style scoped>\n",
       "    .dataframe tbody tr th:only-of-type {\n",
       "        vertical-align: middle;\n",
       "    }\n",
       "\n",
       "    .dataframe tbody tr th {\n",
       "        vertical-align: top;\n",
       "    }\n",
       "\n",
       "    .dataframe thead th {\n",
       "        text-align: right;\n",
       "    }\n",
       "</style>\n",
       "<table border=\"1\" class=\"dataframe\">\n",
       "  <thead>\n",
       "    <tr style=\"text-align: right;\">\n",
       "      <th></th>\n",
       "      <th>MONTHS</th>\n",
       "      <th>TOTAL_DEPARTURES</th>\n",
       "    </tr>\n",
       "  </thead>\n",
       "  <tbody>\n",
       "    <tr>\n",
       "      <td>0</td>\n",
       "      <td>IVORIANS</td>\n",
       "      <td>22127</td>\n",
       "    </tr>\n",
       "    <tr>\n",
       "      <td>1</td>\n",
       "      <td>BURKINESE</td>\n",
       "      <td>20262</td>\n",
       "    </tr>\n",
       "    <tr>\n",
       "      <td>2</td>\n",
       "      <td>NIGERIANS</td>\n",
       "      <td>98256</td>\n",
       "    </tr>\n",
       "    <tr>\n",
       "      <td>3</td>\n",
       "      <td>LIBERRIANS</td>\n",
       "      <td>14201</td>\n",
       "    </tr>\n",
       "    <tr>\n",
       "      <td>4</td>\n",
       "      <td>SOUTH AFRICANS</td>\n",
       "      <td>19979</td>\n",
       "    </tr>\n",
       "  </tbody>\n",
       "</table>\n",
       "</div>"
      ],
      "text/plain": [
       "           MONTHS TOTAL_DEPARTURES\n",
       "0        IVORIANS            22127\n",
       "1       BURKINESE            20262\n",
       "2       NIGERIANS            98256\n",
       "3      LIBERRIANS            14201\n",
       "4  SOUTH AFRICANS            19979"
      ]
     },
     "execution_count": 10,
     "metadata": {},
     "output_type": "execute_result"
    }
   ],
   "source": [
    "sum = pd.DataFrame(df1.sum(axis=0)).drop(['MONTHS'])\n",
    "sum.reset_index(inplace=True)\n",
    "sum.columns = ['MONTHS', 'TOTAL_DEPARTURES']\n",
    "sum.head(5)"
   ]
  },
  {
   "cell_type": "code",
   "execution_count": 11,
   "metadata": {},
   "outputs": [
    {
     "data": {
      "text/html": [
       "<div>\n",
       "<style scoped>\n",
       "    .dataframe tbody tr th:only-of-type {\n",
       "        vertical-align: middle;\n",
       "    }\n",
       "\n",
       "    .dataframe tbody tr th {\n",
       "        vertical-align: top;\n",
       "    }\n",
       "\n",
       "    .dataframe thead th {\n",
       "        text-align: right;\n",
       "    }\n",
       "</style>\n",
       "<table border=\"1\" class=\"dataframe\">\n",
       "  <thead>\n",
       "    <tr style=\"text-align: right;\">\n",
       "      <th></th>\n",
       "      <th>MONTHS</th>\n",
       "      <th>IVORIANS</th>\n",
       "      <th>BURKINESE</th>\n",
       "      <th>NIGERIANS</th>\n",
       "      <th>LIBERRIANS</th>\n",
       "      <th>SOUTH AFRICANS</th>\n",
       "      <th>TOGOLESE</th>\n",
       "      <th>FRENCH</th>\n",
       "      <th>GERMANS</th>\n",
       "      <th>DUTCH</th>\n",
       "      <th>BRITISH</th>\n",
       "      <th>AMERICANS</th>\n",
       "      <th>CANADIANS</th>\n",
       "      <th>CHINESE</th>\n",
       "      <th>INDIANS</th>\n",
       "      <th>LEBANESE</th>\n",
       "      <th>AUSTRIALIANS</th>\n",
       "      <th>OTHER NATIONALS</th>\n",
       "    </tr>\n",
       "  </thead>\n",
       "  <tbody>\n",
       "    <tr>\n",
       "      <td>0</td>\n",
       "      <td>JANUARY DEPARTURE</td>\n",
       "      <td>1634</td>\n",
       "      <td>1780</td>\n",
       "      <td>7910</td>\n",
       "      <td>757</td>\n",
       "      <td>1415</td>\n",
       "      <td>873</td>\n",
       "      <td>905</td>\n",
       "      <td>1548</td>\n",
       "      <td>1250</td>\n",
       "      <td>4798</td>\n",
       "      <td>4987</td>\n",
       "      <td>1074</td>\n",
       "      <td>1539</td>\n",
       "      <td>1465</td>\n",
       "      <td>531</td>\n",
       "      <td>428</td>\n",
       "      <td>10364</td>\n",
       "    </tr>\n",
       "    <tr>\n",
       "      <td>1</td>\n",
       "      <td>FEBRUARY DEPARTURE</td>\n",
       "      <td>1662</td>\n",
       "      <td>1693</td>\n",
       "      <td>6490</td>\n",
       "      <td>734</td>\n",
       "      <td>1563</td>\n",
       "      <td>702</td>\n",
       "      <td>1117</td>\n",
       "      <td>1298</td>\n",
       "      <td>903</td>\n",
       "      <td>3257</td>\n",
       "      <td>3848</td>\n",
       "      <td>937</td>\n",
       "      <td>1987</td>\n",
       "      <td>1525</td>\n",
       "      <td>562</td>\n",
       "      <td>449</td>\n",
       "      <td>9920</td>\n",
       "    </tr>\n",
       "    <tr>\n",
       "      <td>2</td>\n",
       "      <td>MARCH DEPARTURE</td>\n",
       "      <td>3559</td>\n",
       "      <td>3482</td>\n",
       "      <td>13558</td>\n",
       "      <td>1498</td>\n",
       "      <td>1767</td>\n",
       "      <td>1581</td>\n",
       "      <td>1126</td>\n",
       "      <td>1555</td>\n",
       "      <td>1049</td>\n",
       "      <td>3888</td>\n",
       "      <td>4956</td>\n",
       "      <td>1048</td>\n",
       "      <td>1057</td>\n",
       "      <td>1710</td>\n",
       "      <td>622</td>\n",
       "      <td>435</td>\n",
       "      <td>185</td>\n",
       "    </tr>\n",
       "    <tr>\n",
       "      <td>3</td>\n",
       "      <td>APRIL DEPARTURE</td>\n",
       "      <td>1517</td>\n",
       "      <td>1394</td>\n",
       "      <td>9320</td>\n",
       "      <td>1215</td>\n",
       "      <td>1622</td>\n",
       "      <td>906</td>\n",
       "      <td>1350</td>\n",
       "      <td>1704</td>\n",
       "      <td>1079</td>\n",
       "      <td>1854</td>\n",
       "      <td>2118</td>\n",
       "      <td>408</td>\n",
       "      <td>1388</td>\n",
       "      <td>1839</td>\n",
       "      <td>766</td>\n",
       "      <td>139</td>\n",
       "      <td>19203</td>\n",
       "    </tr>\n",
       "    <tr>\n",
       "      <td>4</td>\n",
       "      <td>MAY DEPARTURE</td>\n",
       "      <td>1673</td>\n",
       "      <td>1653</td>\n",
       "      <td>9421</td>\n",
       "      <td>1414</td>\n",
       "      <td>1760</td>\n",
       "      <td>856</td>\n",
       "      <td>1064</td>\n",
       "      <td>1253</td>\n",
       "      <td>1083</td>\n",
       "      <td>3452</td>\n",
       "      <td>6113</td>\n",
       "      <td>1255</td>\n",
       "      <td>1397</td>\n",
       "      <td>1883</td>\n",
       "      <td>614</td>\n",
       "      <td>430</td>\n",
       "      <td>12232</td>\n",
       "    </tr>\n",
       "    <tr>\n",
       "      <td>5</td>\n",
       "      <td>JUNE DEPARTURE</td>\n",
       "      <td>1727</td>\n",
       "      <td>1494</td>\n",
       "      <td>8867</td>\n",
       "      <td>1459</td>\n",
       "      <td>1996</td>\n",
       "      <td>888</td>\n",
       "      <td>1145</td>\n",
       "      <td>1184</td>\n",
       "      <td>1062</td>\n",
       "      <td>3649</td>\n",
       "      <td>6614</td>\n",
       "      <td>1068</td>\n",
       "      <td>1479</td>\n",
       "      <td>2044</td>\n",
       "      <td>956</td>\n",
       "      <td>444</td>\n",
       "      <td>12628</td>\n",
       "    </tr>\n",
       "    <tr>\n",
       "      <td>6</td>\n",
       "      <td>JULY DEPARTURE</td>\n",
       "      <td>1954</td>\n",
       "      <td>1482</td>\n",
       "      <td>8969</td>\n",
       "      <td>1520</td>\n",
       "      <td>1984</td>\n",
       "      <td>1081</td>\n",
       "      <td>1177</td>\n",
       "      <td>1614</td>\n",
       "      <td>1440</td>\n",
       "      <td>4463</td>\n",
       "      <td>7590</td>\n",
       "      <td>1085</td>\n",
       "      <td>1666</td>\n",
       "      <td>2204</td>\n",
       "      <td>1137</td>\n",
       "      <td>456</td>\n",
       "      <td>13097</td>\n",
       "    </tr>\n",
       "    <tr>\n",
       "      <td>7</td>\n",
       "      <td>AUGUST DEPARTURE</td>\n",
       "      <td>2351</td>\n",
       "      <td>2750</td>\n",
       "      <td>9554</td>\n",
       "      <td>1368</td>\n",
       "      <td>1898</td>\n",
       "      <td>1230</td>\n",
       "      <td>1246</td>\n",
       "      <td>2454</td>\n",
       "      <td>2028</td>\n",
       "      <td>6556</td>\n",
       "      <td>8826</td>\n",
       "      <td>997</td>\n",
       "      <td>1540</td>\n",
       "      <td>1764</td>\n",
       "      <td>749</td>\n",
       "      <td>380</td>\n",
       "      <td>13876</td>\n",
       "    </tr>\n",
       "    <tr>\n",
       "      <td>8</td>\n",
       "      <td>SEPTEMBER DEPARTURE</td>\n",
       "      <td>2201</td>\n",
       "      <td>1714</td>\n",
       "      <td>8533</td>\n",
       "      <td>1402</td>\n",
       "      <td>1877</td>\n",
       "      <td>1285</td>\n",
       "      <td>1074</td>\n",
       "      <td>1968</td>\n",
       "      <td>1056</td>\n",
       "      <td>4887</td>\n",
       "      <td>6314</td>\n",
       "      <td>907</td>\n",
       "      <td>1620</td>\n",
       "      <td>1739</td>\n",
       "      <td>681</td>\n",
       "      <td>419</td>\n",
       "      <td>12855</td>\n",
       "    </tr>\n",
       "    <tr>\n",
       "      <td>9</td>\n",
       "      <td>OCTOBER DEPARTURE</td>\n",
       "      <td>1677</td>\n",
       "      <td>1416</td>\n",
       "      <td>7583</td>\n",
       "      <td>1230</td>\n",
       "      <td>2104</td>\n",
       "      <td>1045</td>\n",
       "      <td>1187</td>\n",
       "      <td>1763</td>\n",
       "      <td>1213</td>\n",
       "      <td>4226</td>\n",
       "      <td>5590</td>\n",
       "      <td>918</td>\n",
       "      <td>1232</td>\n",
       "      <td>1874</td>\n",
       "      <td>603</td>\n",
       "      <td>475</td>\n",
       "      <td>12216</td>\n",
       "    </tr>\n",
       "    <tr>\n",
       "      <td>10</td>\n",
       "      <td>NOVEMBER DEPARTURE</td>\n",
       "      <td>2172</td>\n",
       "      <td>1404</td>\n",
       "      <td>8051</td>\n",
       "      <td>1604</td>\n",
       "      <td>1993</td>\n",
       "      <td>1074</td>\n",
       "      <td>1201</td>\n",
       "      <td>1476</td>\n",
       "      <td>1217</td>\n",
       "      <td>4407</td>\n",
       "      <td>5946</td>\n",
       "      <td>1033</td>\n",
       "      <td>1263</td>\n",
       "      <td>1865</td>\n",
       "      <td>548</td>\n",
       "      <td>445</td>\n",
       "      <td>12648</td>\n",
       "    </tr>\n",
       "  </tbody>\n",
       "</table>\n",
       "</div>"
      ],
      "text/plain": [
       "                 MONTHS  IVORIANS  BURKINESE  NIGERIANS  LIBERRIANS  \\\n",
       "0     JANUARY DEPARTURE      1634       1780       7910         757   \n",
       "1    FEBRUARY DEPARTURE      1662       1693       6490         734   \n",
       "2       MARCH DEPARTURE      3559       3482      13558        1498   \n",
       "3       APRIL DEPARTURE      1517       1394       9320        1215   \n",
       "4         MAY DEPARTURE      1673       1653       9421        1414   \n",
       "5        JUNE DEPARTURE      1727       1494       8867        1459   \n",
       "6        JULY DEPARTURE      1954       1482       8969        1520   \n",
       "7      AUGUST DEPARTURE      2351       2750       9554        1368   \n",
       "8   SEPTEMBER DEPARTURE      2201       1714       8533        1402   \n",
       "9     OCTOBER DEPARTURE      1677       1416       7583        1230   \n",
       "10   NOVEMBER DEPARTURE      2172       1404       8051        1604   \n",
       "\n",
       "    SOUTH AFRICANS  TOGOLESE  FRENCH  GERMANS  DUTCH  BRITISH  AMERICANS  \\\n",
       "0             1415       873     905     1548   1250     4798       4987   \n",
       "1             1563       702    1117     1298    903     3257       3848   \n",
       "2             1767      1581    1126     1555   1049     3888       4956   \n",
       "3             1622       906    1350     1704   1079     1854       2118   \n",
       "4             1760       856    1064     1253   1083     3452       6113   \n",
       "5             1996       888    1145     1184   1062     3649       6614   \n",
       "6             1984      1081    1177     1614   1440     4463       7590   \n",
       "7             1898      1230    1246     2454   2028     6556       8826   \n",
       "8             1877      1285    1074     1968   1056     4887       6314   \n",
       "9             2104      1045    1187     1763   1213     4226       5590   \n",
       "10            1993      1074    1201     1476   1217     4407       5946   \n",
       "\n",
       "    CANADIANS  CHINESE  INDIANS  LEBANESE  AUSTRIALIANS  OTHER NATIONALS  \n",
       "0        1074     1539     1465       531           428            10364  \n",
       "1         937     1987     1525       562           449             9920  \n",
       "2        1048     1057     1710       622           435              185  \n",
       "3         408     1388     1839       766           139            19203  \n",
       "4        1255     1397     1883       614           430            12232  \n",
       "5        1068     1479     2044       956           444            12628  \n",
       "6        1085     1666     2204      1137           456            13097  \n",
       "7         997     1540     1764       749           380            13876  \n",
       "8         907     1620     1739       681           419            12855  \n",
       "9         918     1232     1874       603           475            12216  \n",
       "10       1033     1263     1865       548           445            12648  "
      ]
     },
     "execution_count": 11,
     "metadata": {},
     "output_type": "execute_result"
    }
   ],
   "source": [
    "df1.T.reset_index(inplace=False)\n",
    "#del df1['MONTHS']\n",
    "df1"
   ]
  },
  {
   "cell_type": "code",
   "execution_count": 12,
   "metadata": {},
   "outputs": [
    {
     "data": {
      "text/html": [
       "<div>\n",
       "<style scoped>\n",
       "    .dataframe tbody tr th:only-of-type {\n",
       "        vertical-align: middle;\n",
       "    }\n",
       "\n",
       "    .dataframe tbody tr th {\n",
       "        vertical-align: top;\n",
       "    }\n",
       "\n",
       "    .dataframe thead th {\n",
       "        text-align: right;\n",
       "    }\n",
       "</style>\n",
       "<table border=\"1\" class=\"dataframe\">\n",
       "  <thead>\n",
       "    <tr style=\"text-align: right;\">\n",
       "      <th></th>\n",
       "      <th>date</th>\n",
       "      <th>precipitation</th>\n",
       "      <th>temp_max</th>\n",
       "      <th>temp_min</th>\n",
       "      <th>wind</th>\n",
       "      <th>weather</th>\n",
       "    </tr>\n",
       "  </thead>\n",
       "  <tbody>\n",
       "    <tr>\n",
       "      <td>0</td>\n",
       "      <td>2012-01-01</td>\n",
       "      <td>0.0</td>\n",
       "      <td>12.8</td>\n",
       "      <td>5.0</td>\n",
       "      <td>4.7</td>\n",
       "      <td>drizzle</td>\n",
       "    </tr>\n",
       "    <tr>\n",
       "      <td>1</td>\n",
       "      <td>2012-01-02</td>\n",
       "      <td>10.9</td>\n",
       "      <td>10.6</td>\n",
       "      <td>2.8</td>\n",
       "      <td>4.5</td>\n",
       "      <td>rain</td>\n",
       "    </tr>\n",
       "  </tbody>\n",
       "</table>\n",
       "</div>"
      ],
      "text/plain": [
       "        date  precipitation  temp_max  temp_min  wind  weather\n",
       "0 2012-01-01            0.0      12.8       5.0   4.7  drizzle\n",
       "1 2012-01-02           10.9      10.6       2.8   4.5     rain"
      ]
     },
     "execution_count": 12,
     "metadata": {},
     "output_type": "execute_result"
    }
   ],
   "source": [
    "import altair as alt\n",
    "from vega_datasets import data\n",
    "\n",
    "source = data.seattle_weather()\n",
    "\n",
    "line = alt.Chart(source).mark_line(\n",
    "    color='red',\n",
    "    size=3\n",
    ").transform_window(\n",
    "    rolling_mean='mean(temp_max)',\n",
    "    frame=[-15, 15]\n",
    ").encode(\n",
    "    x='date:T',\n",
    "    y='rolling_mean:Q'\n",
    ")\n",
    "\n",
    "points = alt.Chart(source).mark_point().encode(\n",
    "    x='date:T',\n",
    "    y=alt.Y('temp_max:Q',\n",
    "            axis=alt.Axis(title='Max Temp'))\n",
    ")\n",
    "\n",
    "points + line\n",
    "\n",
    "source.head(2)"
   ]
  },
  {
   "cell_type": "code",
   "execution_count": null,
   "metadata": {},
   "outputs": [],
   "source": []
  },
  {
   "cell_type": "code",
   "execution_count": 428,
   "metadata": {},
   "outputs": [
    {
     "data": {
      "text/html": [
       "<div>\n",
       "<style scoped>\n",
       "    .dataframe tbody tr th:only-of-type {\n",
       "        vertical-align: middle;\n",
       "    }\n",
       "\n",
       "    .dataframe tbody tr th {\n",
       "        vertical-align: top;\n",
       "    }\n",
       "\n",
       "    .dataframe thead th {\n",
       "        text-align: right;\n",
       "    }\n",
       "</style>\n",
       "<table border=\"1\" class=\"dataframe\">\n",
       "  <thead>\n",
       "    <tr style=\"text-align: right;\">\n",
       "      <th></th>\n",
       "      <th>MONTHS</th>\n",
       "      <th>DEPARTURES</th>\n",
       "      <th>COUNTRIES</th>\n",
       "      <th>PERCENTAGE</th>\n",
       "    </tr>\n",
       "  </thead>\n",
       "  <tbody>\n",
       "    <tr>\n",
       "      <td>0</td>\n",
       "      <td>JANUARY</td>\n",
       "      <td>1634</td>\n",
       "      <td>IVORIANS</td>\n",
       "      <td>3.78</td>\n",
       "    </tr>\n",
       "    <tr>\n",
       "      <td>1</td>\n",
       "      <td>JANUARY</td>\n",
       "      <td>1780</td>\n",
       "      <td>BURKINESE</td>\n",
       "      <td>4.11</td>\n",
       "    </tr>\n",
       "    <tr>\n",
       "      <td>2</td>\n",
       "      <td>JANUARY</td>\n",
       "      <td>7910</td>\n",
       "      <td>NIGERIANS</td>\n",
       "      <td>18.29</td>\n",
       "    </tr>\n",
       "    <tr>\n",
       "      <td>3</td>\n",
       "      <td>JANUARY</td>\n",
       "      <td>757</td>\n",
       "      <td>LIBERRIANS</td>\n",
       "      <td>1.75</td>\n",
       "    </tr>\n",
       "    <tr>\n",
       "      <td>4</td>\n",
       "      <td>JANUARY</td>\n",
       "      <td>1415</td>\n",
       "      <td>SOUTH AFRICANS</td>\n",
       "      <td>3.27</td>\n",
       "    </tr>\n",
       "    <tr>\n",
       "      <td>...</td>\n",
       "      <td>...</td>\n",
       "      <td>...</td>\n",
       "      <td>...</td>\n",
       "      <td>...</td>\n",
       "    </tr>\n",
       "    <tr>\n",
       "      <td>182</td>\n",
       "      <td>SEPTEMBER</td>\n",
       "      <td>1620</td>\n",
       "      <td>CHINESE</td>\n",
       "      <td>3.21</td>\n",
       "    </tr>\n",
       "    <tr>\n",
       "      <td>183</td>\n",
       "      <td>SEPTEMBER</td>\n",
       "      <td>1739</td>\n",
       "      <td>INDIANS</td>\n",
       "      <td>3.44</td>\n",
       "    </tr>\n",
       "    <tr>\n",
       "      <td>184</td>\n",
       "      <td>SEPTEMBER</td>\n",
       "      <td>681</td>\n",
       "      <td>LEBANESE</td>\n",
       "      <td>1.35</td>\n",
       "    </tr>\n",
       "    <tr>\n",
       "      <td>185</td>\n",
       "      <td>SEPTEMBER</td>\n",
       "      <td>419</td>\n",
       "      <td>AUSTRIALIANS</td>\n",
       "      <td>0.83</td>\n",
       "    </tr>\n",
       "    <tr>\n",
       "      <td>186</td>\n",
       "      <td>SEPTEMBER</td>\n",
       "      <td>12855</td>\n",
       "      <td>OTHER NATIONALS</td>\n",
       "      <td>25.44</td>\n",
       "    </tr>\n",
       "  </tbody>\n",
       "</table>\n",
       "<p>187 rows × 4 columns</p>\n",
       "</div>"
      ],
      "text/plain": [
       "         MONTHS  DEPARTURES        COUNTRIES  PERCENTAGE\n",
       "0       JANUARY        1634         IVORIANS        3.78\n",
       "1       JANUARY        1780        BURKINESE        4.11\n",
       "2       JANUARY        7910        NIGERIANS       18.29\n",
       "3       JANUARY         757       LIBERRIANS        1.75\n",
       "4       JANUARY        1415   SOUTH AFRICANS        3.27\n",
       "..          ...         ...              ...         ...\n",
       "182  SEPTEMBER         1620          CHINESE        3.21\n",
       "183  SEPTEMBER         1739          INDIANS        3.44\n",
       "184  SEPTEMBER          681         LEBANESE        1.35\n",
       "185  SEPTEMBER          419     AUSTRIALIANS        0.83\n",
       "186  SEPTEMBER        12855  OTHER NATIONALS       25.44\n",
       "\n",
       "[187 rows x 4 columns]"
      ]
     },
     "execution_count": 428,
     "metadata": {},
     "output_type": "execute_result"
    }
   ],
   "source": [
    "#exported the file to excel and transformed it for analysis\n",
    "trans = pd.read_csv(\"transformed.csv\")\n",
    "trans"
   ]
  },
  {
   "cell_type": "code",
   "execution_count": 442,
   "metadata": {},
   "outputs": [
    {
     "data": {
      "application/vnd.vegalite.v3+json": {
       "$schema": "https://vega.github.io/schema/vega-lite/v3.4.0.json",
       "background": "white",
       "config": {
        "legend": {
         "cornerRadius": 10,
         "fillColor": "#EEEEEE",
         "orient": "top-left",
         "padding": 10,
         "strokeColor": "gray"
        },
        "mark": {
         "tooltip": null
        },
        "title": {
         "align": "right",
         "anchor": "start",
         "color": "black",
         "font": "Courier",
         "fontSize": 40
        },
        "view": {
         "height": 300,
         "stroke": "transparent",
         "width": 400
        }
       },
       "data": {
        "name": "data-563364fef5ae5fb87a3c7902ddebb742"
       },
       "datasets": {
        "data-563364fef5ae5fb87a3c7902ddebb742": [
         {
          "COUNTRIES": "IVORIANS",
          "DEPARTURES": 1634,
          "MONTHS": "JANUARY",
          "PERCENTAGE": 3.78
         },
         {
          "COUNTRIES": "BURKINESE",
          "DEPARTURES": 1780,
          "MONTHS": "JANUARY",
          "PERCENTAGE": 4.11
         },
         {
          "COUNTRIES": "NIGERIANS",
          "DEPARTURES": 7910,
          "MONTHS": "JANUARY",
          "PERCENTAGE": 18.29
         },
         {
          "COUNTRIES": "LIBERRIANS",
          "DEPARTURES": 757,
          "MONTHS": "JANUARY",
          "PERCENTAGE": 1.75
         },
         {
          "COUNTRIES": "SOUTH AFRICANS",
          "DEPARTURES": 1415,
          "MONTHS": "JANUARY",
          "PERCENTAGE": 3.27
         },
         {
          "COUNTRIES": "TOGOLESE",
          "DEPARTURES": 873,
          "MONTHS": "JANUARY",
          "PERCENTAGE": 2.02
         },
         {
          "COUNTRIES": "FRENCH",
          "DEPARTURES": 905,
          "MONTHS": "JANUARY",
          "PERCENTAGE": 2.09
         },
         {
          "COUNTRIES": "GERMANS",
          "DEPARTURES": 1548,
          "MONTHS": "JANUARY",
          "PERCENTAGE": 3.58
         },
         {
          "COUNTRIES": "DUTCH",
          "DEPARTURES": 1250,
          "MONTHS": "JANUARY",
          "PERCENTAGE": 2.89
         },
         {
          "COUNTRIES": "BRITISH",
          "DEPARTURES": 4798,
          "MONTHS": "JANUARY",
          "PERCENTAGE": 11.09
         },
         {
          "COUNTRIES": "AMERICANS",
          "DEPARTURES": 4987,
          "MONTHS": "JANUARY",
          "PERCENTAGE": 11.53
         },
         {
          "COUNTRIES": "CANADIANS",
          "DEPARTURES": 1074,
          "MONTHS": "JANUARY",
          "PERCENTAGE": 2.48
         },
         {
          "COUNTRIES": "CHINESE",
          "DEPARTURES": 1539,
          "MONTHS": "JANUARY",
          "PERCENTAGE": 3.56
         },
         {
          "COUNTRIES": "INDIANS",
          "DEPARTURES": 1465,
          "MONTHS": "JANUARY",
          "PERCENTAGE": 3.39
         },
         {
          "COUNTRIES": "LEBANESE",
          "DEPARTURES": 531,
          "MONTHS": "JANUARY",
          "PERCENTAGE": 1.23
         },
         {
          "COUNTRIES": "AUSTRIALIANS",
          "DEPARTURES": 428,
          "MONTHS": "JANUARY",
          "PERCENTAGE": 0.99
         },
         {
          "COUNTRIES": "OTHER NATIONALS",
          "DEPARTURES": 10364,
          "MONTHS": "JANUARY",
          "PERCENTAGE": 23.96
         },
         {
          "COUNTRIES": "IVORIANS",
          "DEPARTURES": 1662,
          "MONTHS": "FEBRUARY",
          "PERCENTAGE": 4.3
         },
         {
          "COUNTRIES": "BURKINESE",
          "DEPARTURES": 1693,
          "MONTHS": "FEBRUARY",
          "PERCENTAGE": 4.38
         },
         {
          "COUNTRIES": "NIGERIANS",
          "DEPARTURES": 6490,
          "MONTHS": "FEBRUARY",
          "PERCENTAGE": 16.79
         },
         {
          "COUNTRIES": "LIBERRIANS",
          "DEPARTURES": 734,
          "MONTHS": "FEBRUARY",
          "PERCENTAGE": 1.9
         },
         {
          "COUNTRIES": "SOUTH AFRICANS",
          "DEPARTURES": 1563,
          "MONTHS": "FEBRUARY",
          "PERCENTAGE": 4.04
         },
         {
          "COUNTRIES": "TOGOLESE",
          "DEPARTURES": 702,
          "MONTHS": "FEBRUARY",
          "PERCENTAGE": 1.82
         },
         {
          "COUNTRIES": "FRENCH",
          "DEPARTURES": 1117,
          "MONTHS": "FEBRUARY",
          "PERCENTAGE": 2.89
         },
         {
          "COUNTRIES": "GERMANS",
          "DEPARTURES": 1298,
          "MONTHS": "FEBRUARY",
          "PERCENTAGE": 3.36
         },
         {
          "COUNTRIES": "DUTCH",
          "DEPARTURES": 903,
          "MONTHS": "FEBRUARY",
          "PERCENTAGE": 2.34
         },
         {
          "COUNTRIES": "BRITISH",
          "DEPARTURES": 3257,
          "MONTHS": "FEBRUARY",
          "PERCENTAGE": 8.43
         },
         {
          "COUNTRIES": "AMERICANS",
          "DEPARTURES": 3848,
          "MONTHS": "FEBRUARY",
          "PERCENTAGE": 9.96
         },
         {
          "COUNTRIES": "CANADIANS",
          "DEPARTURES": 937,
          "MONTHS": "FEBRUARY",
          "PERCENTAGE": 2.42
         },
         {
          "COUNTRIES": "CHINESE",
          "DEPARTURES": 1987,
          "MONTHS": "FEBRUARY",
          "PERCENTAGE": 5.14
         },
         {
          "COUNTRIES": "INDIANS",
          "DEPARTURES": 1525,
          "MONTHS": "FEBRUARY",
          "PERCENTAGE": 3.95
         },
         {
          "COUNTRIES": "LEBANESE",
          "DEPARTURES": 562,
          "MONTHS": "FEBRUARY",
          "PERCENTAGE": 1.45
         },
         {
          "COUNTRIES": "AUSTRIALIANS",
          "DEPARTURES": 449,
          "MONTHS": "FEBRUARY",
          "PERCENTAGE": 1.16
         },
         {
          "COUNTRIES": "OTHER NATIONALS",
          "DEPARTURES": 9920,
          "MONTHS": "FEBRUARY",
          "PERCENTAGE": 25.67
         },
         {
          "COUNTRIES": "IVORIANS",
          "DEPARTURES": 3559,
          "MONTHS": "MARCH",
          "PERCENTAGE": 8.26
         },
         {
          "COUNTRIES": "BURKINESE",
          "DEPARTURES": 3482,
          "MONTHS": "MARCH",
          "PERCENTAGE": 8.08
         },
         {
          "COUNTRIES": "NIGERIANS",
          "DEPARTURES": 13558,
          "MONTHS": "MARCH",
          "PERCENTAGE": 31.47
         },
         {
          "COUNTRIES": "LIBERRIANS",
          "DEPARTURES": 1498,
          "MONTHS": "MARCH",
          "PERCENTAGE": 3.48
         },
         {
          "COUNTRIES": "SOUTH AFRICANS",
          "DEPARTURES": 1767,
          "MONTHS": "MARCH",
          "PERCENTAGE": 4.1
         },
         {
          "COUNTRIES": "TOGOLESE",
          "DEPARTURES": 1581,
          "MONTHS": "MARCH",
          "PERCENTAGE": 3.67
         },
         {
          "COUNTRIES": "FRENCH",
          "DEPARTURES": 1126,
          "MONTHS": "MARCH",
          "PERCENTAGE": 2.61
         },
         {
          "COUNTRIES": "GERMANS",
          "DEPARTURES": 1555,
          "MONTHS": "MARCH",
          "PERCENTAGE": 3.61
         },
         {
          "COUNTRIES": "DUTCH",
          "DEPARTURES": 1049,
          "MONTHS": "MARCH",
          "PERCENTAGE": 2.44
         },
         {
          "COUNTRIES": "BRITISH",
          "DEPARTURES": 3888,
          "MONTHS": "MARCH",
          "PERCENTAGE": 9.03
         },
         {
          "COUNTRIES": "AMERICANS",
          "DEPARTURES": 4956,
          "MONTHS": "MARCH",
          "PERCENTAGE": 11.51
         },
         {
          "COUNTRIES": "CANADIANS",
          "DEPARTURES": 1048,
          "MONTHS": "MARCH",
          "PERCENTAGE": 2.43
         },
         {
          "COUNTRIES": "CHINESE",
          "DEPARTURES": 1057,
          "MONTHS": "MARCH",
          "PERCENTAGE": 2.45
         },
         {
          "COUNTRIES": "INDIANS",
          "DEPARTURES": 1710,
          "MONTHS": "MARCH",
          "PERCENTAGE": 3.97
         },
         {
          "COUNTRIES": "LEBANESE",
          "DEPARTURES": 622,
          "MONTHS": "MARCH",
          "PERCENTAGE": 1.44
         },
         {
          "COUNTRIES": "AUSTRIALIANS",
          "DEPARTURES": 435,
          "MONTHS": "MARCH",
          "PERCENTAGE": 1.01
         },
         {
          "COUNTRIES": "OTHER NATIONALS",
          "DEPARTURES": 185,
          "MONTHS": "MARCH",
          "PERCENTAGE": 0.43
         },
         {
          "COUNTRIES": "IVORIANS",
          "DEPARTURES": 1517,
          "MONTHS": "APRIL",
          "PERCENTAGE": 3.17
         },
         {
          "COUNTRIES": "BURKINESE",
          "DEPARTURES": 1394,
          "MONTHS": "APRIL",
          "PERCENTAGE": 2.91
         },
         {
          "COUNTRIES": "NIGERIANS",
          "DEPARTURES": 9320,
          "MONTHS": "APRIL",
          "PERCENTAGE": 19.49
         },
         {
          "COUNTRIES": "LIBERRIANS",
          "DEPARTURES": 1215,
          "MONTHS": "APRIL",
          "PERCENTAGE": 2.54
         },
         {
          "COUNTRIES": "SOUTH AFRICANS",
          "DEPARTURES": 1622,
          "MONTHS": "APRIL",
          "PERCENTAGE": 3.39
         },
         {
          "COUNTRIES": "TOGOLESE",
          "DEPARTURES": 906,
          "MONTHS": "APRIL",
          "PERCENTAGE": 1.89
         },
         {
          "COUNTRIES": "FRENCH",
          "DEPARTURES": 1350,
          "MONTHS": "APRIL",
          "PERCENTAGE": 2.82
         },
         {
          "COUNTRIES": "GERMANS",
          "DEPARTURES": 1704,
          "MONTHS": "APRIL",
          "PERCENTAGE": 3.56
         },
         {
          "COUNTRIES": "DUTCH",
          "DEPARTURES": 1079,
          "MONTHS": "APRIL",
          "PERCENTAGE": 2.26
         },
         {
          "COUNTRIES": "BRITISH",
          "DEPARTURES": 1854,
          "MONTHS": "APRIL",
          "PERCENTAGE": 3.88
         },
         {
          "COUNTRIES": "AMERICANS",
          "DEPARTURES": 2118,
          "MONTHS": "APRIL",
          "PERCENTAGE": 4.43
         },
         {
          "COUNTRIES": "CANADIANS",
          "DEPARTURES": 408,
          "MONTHS": "APRIL",
          "PERCENTAGE": 0.85
         },
         {
          "COUNTRIES": "CHINESE",
          "DEPARTURES": 1388,
          "MONTHS": "APRIL",
          "PERCENTAGE": 2.9
         },
         {
          "COUNTRIES": "INDIANS",
          "DEPARTURES": 1839,
          "MONTHS": "APRIL",
          "PERCENTAGE": 3.85
         },
         {
          "COUNTRIES": "LEBANESE",
          "DEPARTURES": 766,
          "MONTHS": "APRIL",
          "PERCENTAGE": 1.6
         },
         {
          "COUNTRIES": "AUSTRIALIANS",
          "DEPARTURES": 139,
          "MONTHS": "APRIL",
          "PERCENTAGE": 0.29
         },
         {
          "COUNTRIES": "OTHER NATIONALS",
          "DEPARTURES": 19203,
          "MONTHS": "APRIL",
          "PERCENTAGE": 40.16
         },
         {
          "COUNTRIES": "IVORIANS",
          "DEPARTURES": 1673,
          "MONTHS": "MAY",
          "PERCENTAGE": 3.52
         },
         {
          "COUNTRIES": "BURKINESE",
          "DEPARTURES": 1653,
          "MONTHS": "MAY",
          "PERCENTAGE": 3.48
         },
         {
          "COUNTRIES": "NIGERIANS",
          "DEPARTURES": 9421,
          "MONTHS": "MAY",
          "PERCENTAGE": 19.81
         },
         {
          "COUNTRIES": "LIBERRIANS",
          "DEPARTURES": 1414,
          "MONTHS": "MAY",
          "PERCENTAGE": 2.97
         },
         {
          "COUNTRIES": "SOUTH AFRICANS",
          "DEPARTURES": 1760,
          "MONTHS": "MAY",
          "PERCENTAGE": 3.7
         },
         {
          "COUNTRIES": "TOGOLESE",
          "DEPARTURES": 856,
          "MONTHS": "MAY",
          "PERCENTAGE": 1.8
         },
         {
          "COUNTRIES": "FRENCH",
          "DEPARTURES": 1064,
          "MONTHS": "MAY",
          "PERCENTAGE": 2.24
         },
         {
          "COUNTRIES": "GERMANS",
          "DEPARTURES": 1253,
          "MONTHS": "MAY",
          "PERCENTAGE": 2.63
         },
         {
          "COUNTRIES": "DUTCH",
          "DEPARTURES": 1083,
          "MONTHS": "MAY",
          "PERCENTAGE": 2.28
         },
         {
          "COUNTRIES": "BRITISH",
          "DEPARTURES": 3452,
          "MONTHS": "MAY",
          "PERCENTAGE": 7.26
         },
         {
          "COUNTRIES": "AMERICANS",
          "DEPARTURES": 6113,
          "MONTHS": "MAY",
          "PERCENTAGE": 12.86
         },
         {
          "COUNTRIES": "CANADIANS",
          "DEPARTURES": 1255,
          "MONTHS": "MAY",
          "PERCENTAGE": 2.64
         },
         {
          "COUNTRIES": "CHINESE",
          "DEPARTURES": 1397,
          "MONTHS": "MAY",
          "PERCENTAGE": 2.94
         },
         {
          "COUNTRIES": "INDIANS",
          "DEPARTURES": 1883,
          "MONTHS": "MAY",
          "PERCENTAGE": 3.96
         },
         {
          "COUNTRIES": "LEBANESE",
          "DEPARTURES": 614,
          "MONTHS": "MAY",
          "PERCENTAGE": 1.29
         },
         {
          "COUNTRIES": "AUSTRIALIANS",
          "DEPARTURES": 430,
          "MONTHS": "MAY",
          "PERCENTAGE": 0.9
         },
         {
          "COUNTRIES": "OTHER NATIONALS",
          "DEPARTURES": 12232,
          "MONTHS": "MAY",
          "PERCENTAGE": 25.72
         },
         {
          "COUNTRIES": "IVORIANS",
          "DEPARTURES": 2351,
          "MONTHS": "AUGUST ",
          "PERCENTAGE": 3.95
         },
         {
          "COUNTRIES": "BURKINESE",
          "DEPARTURES": 2750,
          "MONTHS": "AUGUST ",
          "PERCENTAGE": 4.62
         },
         {
          "COUNTRIES": "NIGERIANS",
          "DEPARTURES": 9554,
          "MONTHS": "AUGUST ",
          "PERCENTAGE": 16.04
         },
         {
          "COUNTRIES": "LIBERRIANS",
          "DEPARTURES": 1368,
          "MONTHS": "AUGUST ",
          "PERCENTAGE": 2.3
         },
         {
          "COUNTRIES": "SOUTH AFRICANS",
          "DEPARTURES": 1898,
          "MONTHS": "AUGUST ",
          "PERCENTAGE": 3.19
         },
         {
          "COUNTRIES": "TOGOLESE",
          "DEPARTURES": 1230,
          "MONTHS": "AUGUST ",
          "PERCENTAGE": 2.06
         },
         {
          "COUNTRIES": "FRENCH",
          "DEPARTURES": 1246,
          "MONTHS": "AUGUST ",
          "PERCENTAGE": 2.09
         },
         {
          "COUNTRIES": "GERMANS",
          "DEPARTURES": 2454,
          "MONTHS": "AUGUST ",
          "PERCENTAGE": 4.12
         },
         {
          "COUNTRIES": "DUTCH",
          "DEPARTURES": 2028,
          "MONTHS": "AUGUST ",
          "PERCENTAGE": 3.4
         },
         {
          "COUNTRIES": "BRITISH",
          "DEPARTURES": 6556,
          "MONTHS": "AUGUST ",
          "PERCENTAGE": 11.01
         },
         {
          "COUNTRIES": "AMERICANS",
          "DEPARTURES": 8826,
          "MONTHS": "AUGUST ",
          "PERCENTAGE": 14.82
         },
         {
          "COUNTRIES": "CANADIANS",
          "DEPARTURES": 997,
          "MONTHS": "AUGUST ",
          "PERCENTAGE": 1.67
         },
         {
          "COUNTRIES": "CHINESE",
          "DEPARTURES": 1540,
          "MONTHS": "AUGUST ",
          "PERCENTAGE": 2.59
         },
         {
          "COUNTRIES": "INDIANS",
          "DEPARTURES": 1764,
          "MONTHS": "AUGUST ",
          "PERCENTAGE": 2.96
         },
         {
          "COUNTRIES": "LEBANESE",
          "DEPARTURES": 749,
          "MONTHS": "AUGUST ",
          "PERCENTAGE": 1.26
         },
         {
          "COUNTRIES": "AUSTRIALIANS",
          "DEPARTURES": 380,
          "MONTHS": "AUGUST ",
          "PERCENTAGE": 0.64
         },
         {
          "COUNTRIES": "OTHER NATIONALS",
          "DEPARTURES": 13876,
          "MONTHS": "AUGUST ",
          "PERCENTAGE": 23.29
         },
         {
          "COUNTRIES": "IVORIANS",
          "DEPARTURES": 1954,
          "MONTHS": "JULY ",
          "PERCENTAGE": 3.69
         },
         {
          "COUNTRIES": "BURKINESE",
          "DEPARTURES": 1482,
          "MONTHS": "JULY ",
          "PERCENTAGE": 2.8
         },
         {
          "COUNTRIES": "NIGERIANS",
          "DEPARTURES": 8969,
          "MONTHS": "JULY ",
          "PERCENTAGE": 16.95
         },
         {
          "COUNTRIES": "LIBERRIANS",
          "DEPARTURES": 1520,
          "MONTHS": "JULY ",
          "PERCENTAGE": 2.87
         },
         {
          "COUNTRIES": "SOUTH AFRICANS",
          "DEPARTURES": 1984,
          "MONTHS": "JULY ",
          "PERCENTAGE": 3.75
         },
         {
          "COUNTRIES": "TOGOLESE",
          "DEPARTURES": 1081,
          "MONTHS": "JULY ",
          "PERCENTAGE": 2.04
         },
         {
          "COUNTRIES": "FRENCH",
          "DEPARTURES": 1177,
          "MONTHS": "JULY ",
          "PERCENTAGE": 2.22
         },
         {
          "COUNTRIES": "GERMANS",
          "DEPARTURES": 1614,
          "MONTHS": "JULY ",
          "PERCENTAGE": 3.05
         },
         {
          "COUNTRIES": "DUTCH",
          "DEPARTURES": 1440,
          "MONTHS": "JULY ",
          "PERCENTAGE": 2.72
         },
         {
          "COUNTRIES": "BRITISH",
          "DEPARTURES": 4463,
          "MONTHS": "JULY ",
          "PERCENTAGE": 8.43
         },
         {
          "COUNTRIES": "AMERICANS",
          "DEPARTURES": 7590,
          "MONTHS": "JULY ",
          "PERCENTAGE": 14.34
         },
         {
          "COUNTRIES": "CANADIANS",
          "DEPARTURES": 1085,
          "MONTHS": "JULY ",
          "PERCENTAGE": 2.05
         },
         {
          "COUNTRIES": "CHINESE",
          "DEPARTURES": 1666,
          "MONTHS": "JULY ",
          "PERCENTAGE": 3.15
         },
         {
          "COUNTRIES": "INDIANS",
          "DEPARTURES": 2204,
          "MONTHS": "JULY ",
          "PERCENTAGE": 4.16
         },
         {
          "COUNTRIES": "LEBANESE",
          "DEPARTURES": 1137,
          "MONTHS": "JULY ",
          "PERCENTAGE": 2.15
         },
         {
          "COUNTRIES": "AUSTRIALIANS",
          "DEPARTURES": 456,
          "MONTHS": "JULY ",
          "PERCENTAGE": 0.86
         },
         {
          "COUNTRIES": "OTHER NATIONALS",
          "DEPARTURES": 13097,
          "MONTHS": "JULY ",
          "PERCENTAGE": 24.75
         },
         {
          "COUNTRIES": "IVORIANS",
          "DEPARTURES": 1727,
          "MONTHS": "JUNE ",
          "PERCENTAGE": 3.55
         },
         {
          "COUNTRIES": "BURKINESE",
          "DEPARTURES": 1494,
          "MONTHS": "JUNE ",
          "PERCENTAGE": 3.07
         },
         {
          "COUNTRIES": "NIGERIANS",
          "DEPARTURES": 8867,
          "MONTHS": "JUNE ",
          "PERCENTAGE": 18.21
         },
         {
          "COUNTRIES": "LIBERRIANS",
          "DEPARTURES": 1459,
          "MONTHS": "JUNE ",
          "PERCENTAGE": 3
         },
         {
          "COUNTRIES": "SOUTH AFRICANS",
          "DEPARTURES": 1996,
          "MONTHS": "JUNE ",
          "PERCENTAGE": 4.1
         },
         {
          "COUNTRIES": "TOGOLESE",
          "DEPARTURES": 888,
          "MONTHS": "JUNE ",
          "PERCENTAGE": 1.82
         },
         {
          "COUNTRIES": "FRENCH",
          "DEPARTURES": 1145,
          "MONTHS": "JUNE ",
          "PERCENTAGE": 2.35
         },
         {
          "COUNTRIES": "GERMANS",
          "DEPARTURES": 1184,
          "MONTHS": "JUNE ",
          "PERCENTAGE": 2.43
         },
         {
          "COUNTRIES": "DUTCH",
          "DEPARTURES": 1062,
          "MONTHS": "JUNE ",
          "PERCENTAGE": 2.18
         },
         {
          "COUNTRIES": "BRITISH",
          "DEPARTURES": 3649,
          "MONTHS": "JUNE ",
          "PERCENTAGE": 7.49
         },
         {
          "COUNTRIES": "AMERICANS",
          "DEPARTURES": 6614,
          "MONTHS": "JUNE ",
          "PERCENTAGE": 13.58
         },
         {
          "COUNTRIES": "CANADIANS",
          "DEPARTURES": 1068,
          "MONTHS": "JUNE ",
          "PERCENTAGE": 2.19
         },
         {
          "COUNTRIES": "CHINESE",
          "DEPARTURES": 1479,
          "MONTHS": "JUNE ",
          "PERCENTAGE": 3.04
         },
         {
          "COUNTRIES": "INDIANS",
          "DEPARTURES": 2044,
          "MONTHS": "JUNE ",
          "PERCENTAGE": 4.2
         },
         {
          "COUNTRIES": "LEBANESE",
          "DEPARTURES": 956,
          "MONTHS": "JUNE ",
          "PERCENTAGE": 1.96
         },
         {
          "COUNTRIES": "AUSTRIALIANS",
          "DEPARTURES": 444,
          "MONTHS": "JUNE ",
          "PERCENTAGE": 0.91
         },
         {
          "COUNTRIES": "OTHER NATIONALS",
          "DEPARTURES": 12628,
          "MONTHS": "JUNE ",
          "PERCENTAGE": 25.93
         },
         {
          "COUNTRIES": "IVORIANS",
          "DEPARTURES": 2172,
          "MONTHS": "NOVEMBER  ",
          "PERCENTAGE": 4.49
         },
         {
          "COUNTRIES": "BURKINESE",
          "DEPARTURES": 1404,
          "MONTHS": "NOVEMBER  ",
          "PERCENTAGE": 2.9
         },
         {
          "COUNTRIES": "NIGERIANS",
          "DEPARTURES": 8051,
          "MONTHS": "NOVEMBER  ",
          "PERCENTAGE": 16.65
         },
         {
          "COUNTRIES": "LIBERRIANS",
          "DEPARTURES": 1604,
          "MONTHS": "NOVEMBER  ",
          "PERCENTAGE": 3.32
         },
         {
          "COUNTRIES": "SOUTH AFRICANS",
          "DEPARTURES": 1993,
          "MONTHS": "NOVEMBER  ",
          "PERCENTAGE": 4.12
         },
         {
          "COUNTRIES": "TOGOLESE",
          "DEPARTURES": 1074,
          "MONTHS": "NOVEMBER  ",
          "PERCENTAGE": 2.22
         },
         {
          "COUNTRIES": "FRENCH",
          "DEPARTURES": 1201,
          "MONTHS": "NOVEMBER  ",
          "PERCENTAGE": 2.48
         },
         {
          "COUNTRIES": "GERMANS",
          "DEPARTURES": 1476,
          "MONTHS": "NOVEMBER  ",
          "PERCENTAGE": 3.05
         },
         {
          "COUNTRIES": "DUTCH",
          "DEPARTURES": 1217,
          "MONTHS": "NOVEMBER  ",
          "PERCENTAGE": 2.52
         },
         {
          "COUNTRIES": "BRITISH",
          "DEPARTURES": 4407,
          "MONTHS": "NOVEMBER  ",
          "PERCENTAGE": 9.12
         },
         {
          "COUNTRIES": "AMERICANS",
          "DEPARTURES": 5946,
          "MONTHS": "NOVEMBER  ",
          "PERCENTAGE": 12.3
         },
         {
          "COUNTRIES": "CANADIANS",
          "DEPARTURES": 1033,
          "MONTHS": "NOVEMBER  ",
          "PERCENTAGE": 2.14
         },
         {
          "COUNTRIES": "CHINESE",
          "DEPARTURES": 1263,
          "MONTHS": "NOVEMBER  ",
          "PERCENTAGE": 2.61
         },
         {
          "COUNTRIES": "INDIANS",
          "DEPARTURES": 1865,
          "MONTHS": "NOVEMBER  ",
          "PERCENTAGE": 3.86
         },
         {
          "COUNTRIES": "LEBANESE",
          "DEPARTURES": 548,
          "MONTHS": "NOVEMBER  ",
          "PERCENTAGE": 1.13
         },
         {
          "COUNTRIES": "AUSTRIALIANS",
          "DEPARTURES": 445,
          "MONTHS": "NOVEMBER  ",
          "PERCENTAGE": 0.92
         },
         {
          "COUNTRIES": "OTHER NATIONALS",
          "DEPARTURES": 12648,
          "MONTHS": "NOVEMBER  ",
          "PERCENTAGE": 26.16
         },
         {
          "COUNTRIES": "IVORIANS",
          "DEPARTURES": 1677,
          "MONTHS": "OCTOBER ",
          "PERCENTAGE": 3.62
         },
         {
          "COUNTRIES": "BURKINESE",
          "DEPARTURES": 1416,
          "MONTHS": "OCTOBER ",
          "PERCENTAGE": 3.05
         },
         {
          "COUNTRIES": "NIGERIANS",
          "DEPARTURES": 7583,
          "MONTHS": "OCTOBER ",
          "PERCENTAGE": 16.36
         },
         {
          "COUNTRIES": "LIBERRIANS",
          "DEPARTURES": 1230,
          "MONTHS": "OCTOBER ",
          "PERCENTAGE": 2.65
         },
         {
          "COUNTRIES": "SOUTH AFRICANS",
          "DEPARTURES": 2104,
          "MONTHS": "OCTOBER ",
          "PERCENTAGE": 4.54
         },
         {
          "COUNTRIES": "TOGOLESE",
          "DEPARTURES": 1045,
          "MONTHS": "OCTOBER ",
          "PERCENTAGE": 2.25
         },
         {
          "COUNTRIES": "FRENCH",
          "DEPARTURES": 1187,
          "MONTHS": "OCTOBER ",
          "PERCENTAGE": 2.56
         },
         {
          "COUNTRIES": "GERMANS",
          "DEPARTURES": 1763,
          "MONTHS": "OCTOBER ",
          "PERCENTAGE": 3.8
         },
         {
          "COUNTRIES": "DUTCH",
          "DEPARTURES": 1213,
          "MONTHS": "OCTOBER ",
          "PERCENTAGE": 2.62
         },
         {
          "COUNTRIES": "BRITISH",
          "DEPARTURES": 4226,
          "MONTHS": "OCTOBER ",
          "PERCENTAGE": 9.12
         },
         {
          "COUNTRIES": "AMERICANS",
          "DEPARTURES": 5590,
          "MONTHS": "OCTOBER ",
          "PERCENTAGE": 12.06
         },
         {
          "COUNTRIES": "CANADIANS",
          "DEPARTURES": 918,
          "MONTHS": "OCTOBER ",
          "PERCENTAGE": 1.98
         },
         {
          "COUNTRIES": "CHINESE",
          "DEPARTURES": 1232,
          "MONTHS": "OCTOBER ",
          "PERCENTAGE": 2.66
         },
         {
          "COUNTRIES": "INDIANS",
          "DEPARTURES": 1874,
          "MONTHS": "OCTOBER ",
          "PERCENTAGE": 4.04
         },
         {
          "COUNTRIES": "LEBANESE",
          "DEPARTURES": 603,
          "MONTHS": "OCTOBER ",
          "PERCENTAGE": 1.3
         },
         {
          "COUNTRIES": "AUSTRIALIANS",
          "DEPARTURES": 475,
          "MONTHS": "OCTOBER ",
          "PERCENTAGE": 1.02
         },
         {
          "COUNTRIES": "OTHER NATIONALS",
          "DEPARTURES": 12216,
          "MONTHS": "OCTOBER ",
          "PERCENTAGE": 26.35
         },
         {
          "COUNTRIES": "IVORIANS",
          "DEPARTURES": 2201,
          "MONTHS": "SEPTEMBER ",
          "PERCENTAGE": 4.36
         },
         {
          "COUNTRIES": "BURKINESE",
          "DEPARTURES": 1714,
          "MONTHS": "SEPTEMBER ",
          "PERCENTAGE": 3.39
         },
         {
          "COUNTRIES": "NIGERIANS",
          "DEPARTURES": 8533,
          "MONTHS": "SEPTEMBER ",
          "PERCENTAGE": 16.89
         },
         {
          "COUNTRIES": "LIBERRIANS",
          "DEPARTURES": 1402,
          "MONTHS": "SEPTEMBER ",
          "PERCENTAGE": 2.77
         },
         {
          "COUNTRIES": "SOUTH AFRICANS",
          "DEPARTURES": 1877,
          "MONTHS": "SEPTEMBER ",
          "PERCENTAGE": 3.71
         },
         {
          "COUNTRIES": "TOGOLESE",
          "DEPARTURES": 1285,
          "MONTHS": "SEPTEMBER ",
          "PERCENTAGE": 2.54
         },
         {
          "COUNTRIES": "FRENCH",
          "DEPARTURES": 1074,
          "MONTHS": "SEPTEMBER ",
          "PERCENTAGE": 2.13
         },
         {
          "COUNTRIES": "GERMANS",
          "DEPARTURES": 1968,
          "MONTHS": "SEPTEMBER ",
          "PERCENTAGE": 3.89
         },
         {
          "COUNTRIES": "DUTCH",
          "DEPARTURES": 1056,
          "MONTHS": "SEPTEMBER ",
          "PERCENTAGE": 2.09
         },
         {
          "COUNTRIES": "BRITISH",
          "DEPARTURES": 4887,
          "MONTHS": "SEPTEMBER ",
          "PERCENTAGE": 9.67
         },
         {
          "COUNTRIES": "AMERICANS",
          "DEPARTURES": 6314,
          "MONTHS": "SEPTEMBER ",
          "PERCENTAGE": 12.5
         },
         {
          "COUNTRIES": "CANADIANS",
          "DEPARTURES": 907,
          "MONTHS": "SEPTEMBER ",
          "PERCENTAGE": 1.79
         },
         {
          "COUNTRIES": "CHINESE",
          "DEPARTURES": 1620,
          "MONTHS": "SEPTEMBER ",
          "PERCENTAGE": 3.21
         },
         {
          "COUNTRIES": "INDIANS",
          "DEPARTURES": 1739,
          "MONTHS": "SEPTEMBER ",
          "PERCENTAGE": 3.44
         },
         {
          "COUNTRIES": "LEBANESE",
          "DEPARTURES": 681,
          "MONTHS": "SEPTEMBER ",
          "PERCENTAGE": 1.35
         },
         {
          "COUNTRIES": "AUSTRIALIANS",
          "DEPARTURES": 419,
          "MONTHS": "SEPTEMBER ",
          "PERCENTAGE": 0.83
         },
         {
          "COUNTRIES": "OTHER NATIONALS",
          "DEPARTURES": 12855,
          "MONTHS": "SEPTEMBER ",
          "PERCENTAGE": 25.44
         }
        ]
       },
       "encoding": {
        "color": {
         "field": "COUNTRIES",
         "legend": {
          "orient": "left",
          "type": "symbol"
         },
         "type": "nominal"
        },
        "opacity": {
         "value": 0.9
        },
        "tooltip": [
         {
          "field": "COUNTRIES",
          "type": "nominal"
         },
         {
          "field": "DEPARTURES",
          "type": "quantitative"
         },
         {
          "field": "PERCENTAGE",
          "type": "quantitative"
         }
        ],
        "x": {
         "axis": {
          "labelAngle": 360
         },
         "field": "MONTHS",
         "sort": {
          "field": "Letters",
          "op": "count",
          "order": "ascending"
         },
         "title": "",
         "type": "ordinal"
        },
        "y": {
         "aggregate": "sum",
         "field": "DEPARTURES",
         "title": null,
         "type": "quantitative"
        }
       },
       "height": 650,
       "mark": {
        "cornerRadius": 1.9,
        "filled": true,
        "font": "Helvetica Neue",
        "size": 70,
        "type": "bar"
       },
       "padding": 50,
       "title": {
        "text": "MONTHLY DEPARTURES"
       },
       "width": 800
      },
      "image/png": "[encoded data removed]",
      "text/plain": [
       "<VegaLite 3 object>\n",
       "\n",
       "If you see this message, it means the renderer has not been properly enabled\n",
       "for the frontend that you are using. For more information, see\n",
       "https://altair-viz.github.io/user_guide/troubleshooting.html\n"
      ]
     },
     "execution_count": 442,
     "metadata": {},
     "output_type": "execute_result"
    }
   ],
   "source": [
    "chart2= alt.Chart(trans).mark_bar(size=70,cornerRadius=1.9,font=\"Helvetica Neue\",filled=True).encode(\n",
    "    x=alt.X('MONTHS:O', \n",
    "            title='',\n",
    "            sort=alt.EncodingSortField(field=\"Letters\", op=\"count\", order='ascending'),\n",
    "            axis=alt.AxisConfig(labelAngle=360)),\n",
    "    y=alt.Y('sum(DEPARTURES)', title=None, ),\n",
    "    color=alt.Color('COUNTRIES', legend=alt.Legend(orient=\"left\",type = 'symbol')),\n",
    "    opacity=alt.OpacityValue(0.9),\n",
    "    #size=alt.Size('MONTHS:N',scale=alt.Scale(range=[0,600])),\n",
    "    tooltip=alt.Tooltip(['COUNTRIES','DEPARTURES','PERCENTAGE'])\n",
    ").properties(\n",
    "    width=800,\n",
    "    padding=50,\n",
    "    height=650,\n",
    "    background='white',\n",
    "    title=alt.TitleParams(text='MONTHLY DEPARTURES')\n",
    "    ).configure_legend(\n",
    "    strokeColor='gray',\n",
    "    fillColor='#EEEEEE',\n",
    "    padding=10,\n",
    "    cornerRadius=10,\n",
    "    orient='top-left')\n",
    "chart2.configure_title(\n",
    "    fontSize=40,\n",
    "    font='Courier',\n",
    "    anchor='start',\n",
    "    align='right',\n",
    "    color='black',\n",
    "    ).configure_view(\n",
    "    stroke='transparent'\n",
    ")"
   ]
  },
  {
   "cell_type": "code",
   "execution_count": 447,
   "metadata": {},
   "outputs": [
    {
     "data": {
      "text/html": [
       "<div>\n",
       "<style scoped>\n",
       "    .dataframe tbody tr th:only-of-type {\n",
       "        vertical-align: middle;\n",
       "    }\n",
       "\n",
       "    .dataframe tbody tr th {\n",
       "        vertical-align: top;\n",
       "    }\n",
       "\n",
       "    .dataframe thead th {\n",
       "        text-align: right;\n",
       "    }\n",
       "</style>\n",
       "<table border=\"1\" class=\"dataframe\">\n",
       "  <thead>\n",
       "    <tr style=\"text-align: right;\">\n",
       "      <th></th>\n",
       "      <th>MONTHS</th>\n",
       "      <th>DEPARTURES</th>\n",
       "      <th>COUNTRIES</th>\n",
       "      <th>PERCENTAGE</th>\n",
       "    </tr>\n",
       "  </thead>\n",
       "  <tbody>\n",
       "    <tr>\n",
       "      <td>0</td>\n",
       "      <td>JANUARY</td>\n",
       "      <td>1634</td>\n",
       "      <td>IVORIANS</td>\n",
       "      <td>3.78</td>\n",
       "    </tr>\n",
       "    <tr>\n",
       "      <td>1</td>\n",
       "      <td>JANUARY</td>\n",
       "      <td>1780</td>\n",
       "      <td>BURKINESE</td>\n",
       "      <td>4.11</td>\n",
       "    </tr>\n",
       "    <tr>\n",
       "      <td>2</td>\n",
       "      <td>JANUARY</td>\n",
       "      <td>7910</td>\n",
       "      <td>NIGERIANS</td>\n",
       "      <td>18.29</td>\n",
       "    </tr>\n",
       "    <tr>\n",
       "      <td>3</td>\n",
       "      <td>JANUARY</td>\n",
       "      <td>757</td>\n",
       "      <td>LIBERRIANS</td>\n",
       "      <td>1.75</td>\n",
       "    </tr>\n",
       "    <tr>\n",
       "      <td>4</td>\n",
       "      <td>JANUARY</td>\n",
       "      <td>1415</td>\n",
       "      <td>SOUTH AFRICANS</td>\n",
       "      <td>3.27</td>\n",
       "    </tr>\n",
       "    <tr>\n",
       "      <td>...</td>\n",
       "      <td>...</td>\n",
       "      <td>...</td>\n",
       "      <td>...</td>\n",
       "      <td>...</td>\n",
       "    </tr>\n",
       "    <tr>\n",
       "      <td>182</td>\n",
       "      <td>SEPTEMBER</td>\n",
       "      <td>1620</td>\n",
       "      <td>CHINESE</td>\n",
       "      <td>3.21</td>\n",
       "    </tr>\n",
       "    <tr>\n",
       "      <td>183</td>\n",
       "      <td>SEPTEMBER</td>\n",
       "      <td>1739</td>\n",
       "      <td>INDIANS</td>\n",
       "      <td>3.44</td>\n",
       "    </tr>\n",
       "    <tr>\n",
       "      <td>184</td>\n",
       "      <td>SEPTEMBER</td>\n",
       "      <td>681</td>\n",
       "      <td>LEBANESE</td>\n",
       "      <td>1.35</td>\n",
       "    </tr>\n",
       "    <tr>\n",
       "      <td>185</td>\n",
       "      <td>SEPTEMBER</td>\n",
       "      <td>419</td>\n",
       "      <td>AUSTRIALIANS</td>\n",
       "      <td>0.83</td>\n",
       "    </tr>\n",
       "    <tr>\n",
       "      <td>186</td>\n",
       "      <td>SEPTEMBER</td>\n",
       "      <td>12855</td>\n",
       "      <td>OTHER NATIONALS</td>\n",
       "      <td>25.44</td>\n",
       "    </tr>\n",
       "  </tbody>\n",
       "</table>\n",
       "<p>187 rows × 4 columns</p>\n",
       "</div>"
      ],
      "text/plain": [
       "         MONTHS  DEPARTURES        COUNTRIES  PERCENTAGE\n",
       "0       JANUARY        1634         IVORIANS        3.78\n",
       "1       JANUARY        1780        BURKINESE        4.11\n",
       "2       JANUARY        7910        NIGERIANS       18.29\n",
       "3       JANUARY         757       LIBERRIANS        1.75\n",
       "4       JANUARY        1415   SOUTH AFRICANS        3.27\n",
       "..          ...         ...              ...         ...\n",
       "182  SEPTEMBER         1620          CHINESE        3.21\n",
       "183  SEPTEMBER         1739          INDIANS        3.44\n",
       "184  SEPTEMBER          681         LEBANESE        1.35\n",
       "185  SEPTEMBER          419     AUSTRIALIANS        0.83\n",
       "186  SEPTEMBER        12855  OTHER NATIONALS       25.44\n",
       "\n",
       "[187 rows x 4 columns]"
      ]
     },
     "execution_count": 447,
     "metadata": {},
     "output_type": "execute_result"
    }
   ],
   "source": [
    "trans"
   ]
  },
  {
   "cell_type": "code",
   "execution_count": 439,
   "metadata": {},
   "outputs": [
    {
     "data": {
      "application/vnd.vegalite.v3+json": {
       "$schema": "https://vega.github.io/schema/vega-lite/v3.4.0.json",
       "config": {
        "mark": {
         "tooltip": null
        },
        "view": {
         "height": 300,
         "width": 400
        }
       },
       "data": {
        "name": "data-563364fef5ae5fb87a3c7902ddebb742"
       },
       "datasets": {
        "data-563364fef5ae5fb87a3c7902ddebb742": [
         {
          "COUNTRIES": "IVORIANS",
          "DEPARTURES": 1634,
          "MONTHS": "JANUARY",
          "PERCENTAGE": 3.78
         },
         {
          "COUNTRIES": "BURKINESE",
          "DEPARTURES": 1780,
          "MONTHS": "JANUARY",
          "PERCENTAGE": 4.11
         },
         {
          "COUNTRIES": "NIGERIANS",
          "DEPARTURES": 7910,
          "MONTHS": "JANUARY",
          "PERCENTAGE": 18.29
         },
         {
          "COUNTRIES": "LIBERRIANS",
          "DEPARTURES": 757,
          "MONTHS": "JANUARY",
          "PERCENTAGE": 1.75
         },
         {
          "COUNTRIES": "SOUTH AFRICANS",
          "DEPARTURES": 1415,
          "MONTHS": "JANUARY",
          "PERCENTAGE": 3.27
         },
         {
          "COUNTRIES": "TOGOLESE",
          "DEPARTURES": 873,
          "MONTHS": "JANUARY",
          "PERCENTAGE": 2.02
         },
         {
          "COUNTRIES": "FRENCH",
          "DEPARTURES": 905,
          "MONTHS": "JANUARY",
          "PERCENTAGE": 2.09
         },
         {
          "COUNTRIES": "GERMANS",
          "DEPARTURES": 1548,
          "MONTHS": "JANUARY",
          "PERCENTAGE": 3.58
         },
         {
          "COUNTRIES": "DUTCH",
          "DEPARTURES": 1250,
          "MONTHS": "JANUARY",
          "PERCENTAGE": 2.89
         },
         {
          "COUNTRIES": "BRITISH",
          "DEPARTURES": 4798,
          "MONTHS": "JANUARY",
          "PERCENTAGE": 11.09
         },
         {
          "COUNTRIES": "AMERICANS",
          "DEPARTURES": 4987,
          "MONTHS": "JANUARY",
          "PERCENTAGE": 11.53
         },
         {
          "COUNTRIES": "CANADIANS",
          "DEPARTURES": 1074,
          "MONTHS": "JANUARY",
          "PERCENTAGE": 2.48
         },
         {
          "COUNTRIES": "CHINESE",
          "DEPARTURES": 1539,
          "MONTHS": "JANUARY",
          "PERCENTAGE": 3.56
         },
         {
          "COUNTRIES": "INDIANS",
          "DEPARTURES": 1465,
          "MONTHS": "JANUARY",
          "PERCENTAGE": 3.39
         },
         {
          "COUNTRIES": "LEBANESE",
          "DEPARTURES": 531,
          "MONTHS": "JANUARY",
          "PERCENTAGE": 1.23
         },
         {
          "COUNTRIES": "AUSTRIALIANS",
          "DEPARTURES": 428,
          "MONTHS": "JANUARY",
          "PERCENTAGE": 0.99
         },
         {
          "COUNTRIES": "OTHER NATIONALS",
          "DEPARTURES": 10364,
          "MONTHS": "JANUARY",
          "PERCENTAGE": 23.96
         },
         {
          "COUNTRIES": "IVORIANS",
          "DEPARTURES": 1662,
          "MONTHS": "FEBRUARY",
          "PERCENTAGE": 4.3
         },
         {
          "COUNTRIES": "BURKINESE",
          "DEPARTURES": 1693,
          "MONTHS": "FEBRUARY",
          "PERCENTAGE": 4.38
         },
         {
          "COUNTRIES": "NIGERIANS",
          "DEPARTURES": 6490,
          "MONTHS": "FEBRUARY",
          "PERCENTAGE": 16.79
         },
         {
          "COUNTRIES": "LIBERRIANS",
          "DEPARTURES": 734,
          "MONTHS": "FEBRUARY",
          "PERCENTAGE": 1.9
         },
         {
          "COUNTRIES": "SOUTH AFRICANS",
          "DEPARTURES": 1563,
          "MONTHS": "FEBRUARY",
          "PERCENTAGE": 4.04
         },
         {
          "COUNTRIES": "TOGOLESE",
          "DEPARTURES": 702,
          "MONTHS": "FEBRUARY",
          "PERCENTAGE": 1.82
         },
         {
          "COUNTRIES": "FRENCH",
          "DEPARTURES": 1117,
          "MONTHS": "FEBRUARY",
          "PERCENTAGE": 2.89
         },
         {
          "COUNTRIES": "GERMANS",
          "DEPARTURES": 1298,
          "MONTHS": "FEBRUARY",
          "PERCENTAGE": 3.36
         },
         {
          "COUNTRIES": "DUTCH",
          "DEPARTURES": 903,
          "MONTHS": "FEBRUARY",
          "PERCENTAGE": 2.34
         },
         {
          "COUNTRIES": "BRITISH",
          "DEPARTURES": 3257,
          "MONTHS": "FEBRUARY",
          "PERCENTAGE": 8.43
         },
         {
          "COUNTRIES": "AMERICANS",
          "DEPARTURES": 3848,
          "MONTHS": "FEBRUARY",
          "PERCENTAGE": 9.96
         },
         {
          "COUNTRIES": "CANADIANS",
          "DEPARTURES": 937,
          "MONTHS": "FEBRUARY",
          "PERCENTAGE": 2.42
         },
         {
          "COUNTRIES": "CHINESE",
          "DEPARTURES": 1987,
          "MONTHS": "FEBRUARY",
          "PERCENTAGE": 5.14
         },
         {
          "COUNTRIES": "INDIANS",
          "DEPARTURES": 1525,
          "MONTHS": "FEBRUARY",
          "PERCENTAGE": 3.95
         },
         {
          "COUNTRIES": "LEBANESE",
          "DEPARTURES": 562,
          "MONTHS": "FEBRUARY",
          "PERCENTAGE": 1.45
         },
         {
          "COUNTRIES": "AUSTRIALIANS",
          "DEPARTURES": 449,
          "MONTHS": "FEBRUARY",
          "PERCENTAGE": 1.16
         },
         {
          "COUNTRIES": "OTHER NATIONALS",
          "DEPARTURES": 9920,
          "MONTHS": "FEBRUARY",
          "PERCENTAGE": 25.67
         },
         {
          "COUNTRIES": "IVORIANS",
          "DEPARTURES": 3559,
          "MONTHS": "MARCH",
          "PERCENTAGE": 8.26
         },
         {
          "COUNTRIES": "BURKINESE",
          "DEPARTURES": 3482,
          "MONTHS": "MARCH",
          "PERCENTAGE": 8.08
         },
         {
          "COUNTRIES": "NIGERIANS",
          "DEPARTURES": 13558,
          "MONTHS": "MARCH",
          "PERCENTAGE": 31.47
         },
         {
          "COUNTRIES": "LIBERRIANS",
          "DEPARTURES": 1498,
          "MONTHS": "MARCH",
          "PERCENTAGE": 3.48
         },
         {
          "COUNTRIES": "SOUTH AFRICANS",
          "DEPARTURES": 1767,
          "MONTHS": "MARCH",
          "PERCENTAGE": 4.1
         },
         {
          "COUNTRIES": "TOGOLESE",
          "DEPARTURES": 1581,
          "MONTHS": "MARCH",
          "PERCENTAGE": 3.67
         },
         {
          "COUNTRIES": "FRENCH",
          "DEPARTURES": 1126,
          "MONTHS": "MARCH",
          "PERCENTAGE": 2.61
         },
         {
          "COUNTRIES": "GERMANS",
          "DEPARTURES": 1555,
          "MONTHS": "MARCH",
          "PERCENTAGE": 3.61
         },
         {
          "COUNTRIES": "DUTCH",
          "DEPARTURES": 1049,
          "MONTHS": "MARCH",
          "PERCENTAGE": 2.44
         },
         {
          "COUNTRIES": "BRITISH",
          "DEPARTURES": 3888,
          "MONTHS": "MARCH",
          "PERCENTAGE": 9.03
         },
         {
          "COUNTRIES": "AMERICANS",
          "DEPARTURES": 4956,
          "MONTHS": "MARCH",
          "PERCENTAGE": 11.51
         },
         {
          "COUNTRIES": "CANADIANS",
          "DEPARTURES": 1048,
          "MONTHS": "MARCH",
          "PERCENTAGE": 2.43
         },
         {
          "COUNTRIES": "CHINESE",
          "DEPARTURES": 1057,
          "MONTHS": "MARCH",
          "PERCENTAGE": 2.45
         },
         {
          "COUNTRIES": "INDIANS",
          "DEPARTURES": 1710,
          "MONTHS": "MARCH",
          "PERCENTAGE": 3.97
         },
         {
          "COUNTRIES": "LEBANESE",
          "DEPARTURES": 622,
          "MONTHS": "MARCH",
          "PERCENTAGE": 1.44
         },
         {
          "COUNTRIES": "AUSTRIALIANS",
          "DEPARTURES": 435,
          "MONTHS": "MARCH",
          "PERCENTAGE": 1.01
         },
         {
          "COUNTRIES": "OTHER NATIONALS",
          "DEPARTURES": 185,
          "MONTHS": "MARCH",
          "PERCENTAGE": 0.43
         },
         {
          "COUNTRIES": "IVORIANS",
          "DEPARTURES": 1517,
          "MONTHS": "APRIL",
          "PERCENTAGE": 3.17
         },
         {
          "COUNTRIES": "BURKINESE",
          "DEPARTURES": 1394,
          "MONTHS": "APRIL",
          "PERCENTAGE": 2.91
         },
         {
          "COUNTRIES": "NIGERIANS",
          "DEPARTURES": 9320,
          "MONTHS": "APRIL",
          "PERCENTAGE": 19.49
         },
         {
          "COUNTRIES": "LIBERRIANS",
          "DEPARTURES": 1215,
          "MONTHS": "APRIL",
          "PERCENTAGE": 2.54
         },
         {
          "COUNTRIES": "SOUTH AFRICANS",
          "DEPARTURES": 1622,
          "MONTHS": "APRIL",
          "PERCENTAGE": 3.39
         },
         {
          "COUNTRIES": "TOGOLESE",
          "DEPARTURES": 906,
          "MONTHS": "APRIL",
          "PERCENTAGE": 1.89
         },
         {
          "COUNTRIES": "FRENCH",
          "DEPARTURES": 1350,
          "MONTHS": "APRIL",
          "PERCENTAGE": 2.82
         },
         {
          "COUNTRIES": "GERMANS",
          "DEPARTURES": 1704,
          "MONTHS": "APRIL",
          "PERCENTAGE": 3.56
         },
         {
          "COUNTRIES": "DUTCH",
          "DEPARTURES": 1079,
          "MONTHS": "APRIL",
          "PERCENTAGE": 2.26
         },
         {
          "COUNTRIES": "BRITISH",
          "DEPARTURES": 1854,
          "MONTHS": "APRIL",
          "PERCENTAGE": 3.88
         },
         {
          "COUNTRIES": "AMERICANS",
          "DEPARTURES": 2118,
          "MONTHS": "APRIL",
          "PERCENTAGE": 4.43
         },
         {
          "COUNTRIES": "CANADIANS",
          "DEPARTURES": 408,
          "MONTHS": "APRIL",
          "PERCENTAGE": 0.85
         },
         {
          "COUNTRIES": "CHINESE",
          "DEPARTURES": 1388,
          "MONTHS": "APRIL",
          "PERCENTAGE": 2.9
         },
         {
          "COUNTRIES": "INDIANS",
          "DEPARTURES": 1839,
          "MONTHS": "APRIL",
          "PERCENTAGE": 3.85
         },
         {
          "COUNTRIES": "LEBANESE",
          "DEPARTURES": 766,
          "MONTHS": "APRIL",
          "PERCENTAGE": 1.6
         },
         {
          "COUNTRIES": "AUSTRIALIANS",
          "DEPARTURES": 139,
          "MONTHS": "APRIL",
          "PERCENTAGE": 0.29
         },
         {
          "COUNTRIES": "OTHER NATIONALS",
          "DEPARTURES": 19203,
          "MONTHS": "APRIL",
          "PERCENTAGE": 40.16
         },
         {
          "COUNTRIES": "IVORIANS",
          "DEPARTURES": 1673,
          "MONTHS": "MAY",
          "PERCENTAGE": 3.52
         },
         {
          "COUNTRIES": "BURKINESE",
          "DEPARTURES": 1653,
          "MONTHS": "MAY",
          "PERCENTAGE": 3.48
         },
         {
          "COUNTRIES": "NIGERIANS",
          "DEPARTURES": 9421,
          "MONTHS": "MAY",
          "PERCENTAGE": 19.81
         },
         {
          "COUNTRIES": "LIBERRIANS",
          "DEPARTURES": 1414,
          "MONTHS": "MAY",
          "PERCENTAGE": 2.97
         },
         {
          "COUNTRIES": "SOUTH AFRICANS",
          "DEPARTURES": 1760,
          "MONTHS": "MAY",
          "PERCENTAGE": 3.7
         },
         {
          "COUNTRIES": "TOGOLESE",
          "DEPARTURES": 856,
          "MONTHS": "MAY",
          "PERCENTAGE": 1.8
         },
         {
          "COUNTRIES": "FRENCH",
          "DEPARTURES": 1064,
          "MONTHS": "MAY",
          "PERCENTAGE": 2.24
         },
         {
          "COUNTRIES": "GERMANS",
          "DEPARTURES": 1253,
          "MONTHS": "MAY",
          "PERCENTAGE": 2.63
         },
         {
          "COUNTRIES": "DUTCH",
          "DEPARTURES": 1083,
          "MONTHS": "MAY",
          "PERCENTAGE": 2.28
         },
         {
          "COUNTRIES": "BRITISH",
          "DEPARTURES": 3452,
          "MONTHS": "MAY",
          "PERCENTAGE": 7.26
         },
         {
          "COUNTRIES": "AMERICANS",
          "DEPARTURES": 6113,
          "MONTHS": "MAY",
          "PERCENTAGE": 12.86
         },
         {
          "COUNTRIES": "CANADIANS",
          "DEPARTURES": 1255,
          "MONTHS": "MAY",
          "PERCENTAGE": 2.64
         },
         {
          "COUNTRIES": "CHINESE",
          "DEPARTURES": 1397,
          "MONTHS": "MAY",
          "PERCENTAGE": 2.94
         },
         {
          "COUNTRIES": "INDIANS",
          "DEPARTURES": 1883,
          "MONTHS": "MAY",
          "PERCENTAGE": 3.96
         },
         {
          "COUNTRIES": "LEBANESE",
          "DEPARTURES": 614,
          "MONTHS": "MAY",
          "PERCENTAGE": 1.29
         },
         {
          "COUNTRIES": "AUSTRIALIANS",
          "DEPARTURES": 430,
          "MONTHS": "MAY",
          "PERCENTAGE": 0.9
         },
         {
          "COUNTRIES": "OTHER NATIONALS",
          "DEPARTURES": 12232,
          "MONTHS": "MAY",
          "PERCENTAGE": 25.72
         },
         {
          "COUNTRIES": "IVORIANS",
          "DEPARTURES": 2351,
          "MONTHS": "AUGUST ",
          "PERCENTAGE": 3.95
         },
         {
          "COUNTRIES": "BURKINESE",
          "DEPARTURES": 2750,
          "MONTHS": "AUGUST ",
          "PERCENTAGE": 4.62
         },
         {
          "COUNTRIES": "NIGERIANS",
          "DEPARTURES": 9554,
          "MONTHS": "AUGUST ",
          "PERCENTAGE": 16.04
         },
         {
          "COUNTRIES": "LIBERRIANS",
          "DEPARTURES": 1368,
          "MONTHS": "AUGUST ",
          "PERCENTAGE": 2.3
         },
         {
          "COUNTRIES": "SOUTH AFRICANS",
          "DEPARTURES": 1898,
          "MONTHS": "AUGUST ",
          "PERCENTAGE": 3.19
         },
         {
          "COUNTRIES": "TOGOLESE",
          "DEPARTURES": 1230,
          "MONTHS": "AUGUST ",
          "PERCENTAGE": 2.06
         },
         {
          "COUNTRIES": "FRENCH",
          "DEPARTURES": 1246,
          "MONTHS": "AUGUST ",
          "PERCENTAGE": 2.09
         },
         {
          "COUNTRIES": "GERMANS",
          "DEPARTURES": 2454,
          "MONTHS": "AUGUST ",
          "PERCENTAGE": 4.12
         },
         {
          "COUNTRIES": "DUTCH",
          "DEPARTURES": 2028,
          "MONTHS": "AUGUST ",
          "PERCENTAGE": 3.4
         },
         {
          "COUNTRIES": "BRITISH",
          "DEPARTURES": 6556,
          "MONTHS": "AUGUST ",
          "PERCENTAGE": 11.01
         },
         {
          "COUNTRIES": "AMERICANS",
          "DEPARTURES": 8826,
          "MONTHS": "AUGUST ",
          "PERCENTAGE": 14.82
         },
         {
          "COUNTRIES": "CANADIANS",
          "DEPARTURES": 997,
          "MONTHS": "AUGUST ",
          "PERCENTAGE": 1.67
         },
         {
          "COUNTRIES": "CHINESE",
          "DEPARTURES": 1540,
          "MONTHS": "AUGUST ",
          "PERCENTAGE": 2.59
         },
         {
          "COUNTRIES": "INDIANS",
          "DEPARTURES": 1764,
          "MONTHS": "AUGUST ",
          "PERCENTAGE": 2.96
         },
         {
          "COUNTRIES": "LEBANESE",
          "DEPARTURES": 749,
          "MONTHS": "AUGUST ",
          "PERCENTAGE": 1.26
         },
         {
          "COUNTRIES": "AUSTRIALIANS",
          "DEPARTURES": 380,
          "MONTHS": "AUGUST ",
          "PERCENTAGE": 0.64
         },
         {
          "COUNTRIES": "OTHER NATIONALS",
          "DEPARTURES": 13876,
          "MONTHS": "AUGUST ",
          "PERCENTAGE": 23.29
         },
         {
          "COUNTRIES": "IVORIANS",
          "DEPARTURES": 1954,
          "MONTHS": "JULY ",
          "PERCENTAGE": 3.69
         },
         {
          "COUNTRIES": "BURKINESE",
          "DEPARTURES": 1482,
          "MONTHS": "JULY ",
          "PERCENTAGE": 2.8
         },
         {
          "COUNTRIES": "NIGERIANS",
          "DEPARTURES": 8969,
          "MONTHS": "JULY ",
          "PERCENTAGE": 16.95
         },
         {
          "COUNTRIES": "LIBERRIANS",
          "DEPARTURES": 1520,
          "MONTHS": "JULY ",
          "PERCENTAGE": 2.87
         },
         {
          "COUNTRIES": "SOUTH AFRICANS",
          "DEPARTURES": 1984,
          "MONTHS": "JULY ",
          "PERCENTAGE": 3.75
         },
         {
          "COUNTRIES": "TOGOLESE",
          "DEPARTURES": 1081,
          "MONTHS": "JULY ",
          "PERCENTAGE": 2.04
         },
         {
          "COUNTRIES": "FRENCH",
          "DEPARTURES": 1177,
          "MONTHS": "JULY ",
          "PERCENTAGE": 2.22
         },
         {
          "COUNTRIES": "GERMANS",
          "DEPARTURES": 1614,
          "MONTHS": "JULY ",
          "PERCENTAGE": 3.05
         },
         {
          "COUNTRIES": "DUTCH",
          "DEPARTURES": 1440,
          "MONTHS": "JULY ",
          "PERCENTAGE": 2.72
         },
         {
          "COUNTRIES": "BRITISH",
          "DEPARTURES": 4463,
          "MONTHS": "JULY ",
          "PERCENTAGE": 8.43
         },
         {
          "COUNTRIES": "AMERICANS",
          "DEPARTURES": 7590,
          "MONTHS": "JULY ",
          "PERCENTAGE": 14.34
         },
         {
          "COUNTRIES": "CANADIANS",
          "DEPARTURES": 1085,
          "MONTHS": "JULY ",
          "PERCENTAGE": 2.05
         },
         {
          "COUNTRIES": "CHINESE",
          "DEPARTURES": 1666,
          "MONTHS": "JULY ",
          "PERCENTAGE": 3.15
         },
         {
          "COUNTRIES": "INDIANS",
          "DEPARTURES": 2204,
          "MONTHS": "JULY ",
          "PERCENTAGE": 4.16
         },
         {
          "COUNTRIES": "LEBANESE",
          "DEPARTURES": 1137,
          "MONTHS": "JULY ",
          "PERCENTAGE": 2.15
         },
         {
          "COUNTRIES": "AUSTRIALIANS",
          "DEPARTURES": 456,
          "MONTHS": "JULY ",
          "PERCENTAGE": 0.86
         },
         {
          "COUNTRIES": "OTHER NATIONALS",
          "DEPARTURES": 13097,
          "MONTHS": "JULY ",
          "PERCENTAGE": 24.75
         },
         {
          "COUNTRIES": "IVORIANS",
          "DEPARTURES": 1727,
          "MONTHS": "JUNE ",
          "PERCENTAGE": 3.55
         },
         {
          "COUNTRIES": "BURKINESE",
          "DEPARTURES": 1494,
          "MONTHS": "JUNE ",
          "PERCENTAGE": 3.07
         },
         {
          "COUNTRIES": "NIGERIANS",
          "DEPARTURES": 8867,
          "MONTHS": "JUNE ",
          "PERCENTAGE": 18.21
         },
         {
          "COUNTRIES": "LIBERRIANS",
          "DEPARTURES": 1459,
          "MONTHS": "JUNE ",
          "PERCENTAGE": 3
         },
         {
          "COUNTRIES": "SOUTH AFRICANS",
          "DEPARTURES": 1996,
          "MONTHS": "JUNE ",
          "PERCENTAGE": 4.1
         },
         {
          "COUNTRIES": "TOGOLESE",
          "DEPARTURES": 888,
          "MONTHS": "JUNE ",
          "PERCENTAGE": 1.82
         },
         {
          "COUNTRIES": "FRENCH",
          "DEPARTURES": 1145,
          "MONTHS": "JUNE ",
          "PERCENTAGE": 2.35
         },
         {
          "COUNTRIES": "GERMANS",
          "DEPARTURES": 1184,
          "MONTHS": "JUNE ",
          "PERCENTAGE": 2.43
         },
         {
          "COUNTRIES": "DUTCH",
          "DEPARTURES": 1062,
          "MONTHS": "JUNE ",
          "PERCENTAGE": 2.18
         },
         {
          "COUNTRIES": "BRITISH",
          "DEPARTURES": 3649,
          "MONTHS": "JUNE ",
          "PERCENTAGE": 7.49
         },
         {
          "COUNTRIES": "AMERICANS",
          "DEPARTURES": 6614,
          "MONTHS": "JUNE ",
          "PERCENTAGE": 13.58
         },
         {
          "COUNTRIES": "CANADIANS",
          "DEPARTURES": 1068,
          "MONTHS": "JUNE ",
          "PERCENTAGE": 2.19
         },
         {
          "COUNTRIES": "CHINESE",
          "DEPARTURES": 1479,
          "MONTHS": "JUNE ",
          "PERCENTAGE": 3.04
         },
         {
          "COUNTRIES": "INDIANS",
          "DEPARTURES": 2044,
          "MONTHS": "JUNE ",
          "PERCENTAGE": 4.2
         },
         {
          "COUNTRIES": "LEBANESE",
          "DEPARTURES": 956,
          "MONTHS": "JUNE ",
          "PERCENTAGE": 1.96
         },
         {
          "COUNTRIES": "AUSTRIALIANS",
          "DEPARTURES": 444,
          "MONTHS": "JUNE ",
          "PERCENTAGE": 0.91
         },
         {
          "COUNTRIES": "OTHER NATIONALS",
          "DEPARTURES": 12628,
          "MONTHS": "JUNE ",
          "PERCENTAGE": 25.93
         },
         {
          "COUNTRIES": "IVORIANS",
          "DEPARTURES": 2172,
          "MONTHS": "NOVEMBER  ",
          "PERCENTAGE": 4.49
         },
         {
          "COUNTRIES": "BURKINESE",
          "DEPARTURES": 1404,
          "MONTHS": "NOVEMBER  ",
          "PERCENTAGE": 2.9
         },
         {
          "COUNTRIES": "NIGERIANS",
          "DEPARTURES": 8051,
          "MONTHS": "NOVEMBER  ",
          "PERCENTAGE": 16.65
         },
         {
          "COUNTRIES": "LIBERRIANS",
          "DEPARTURES": 1604,
          "MONTHS": "NOVEMBER  ",
          "PERCENTAGE": 3.32
         },
         {
          "COUNTRIES": "SOUTH AFRICANS",
          "DEPARTURES": 1993,
          "MONTHS": "NOVEMBER  ",
          "PERCENTAGE": 4.12
         },
         {
          "COUNTRIES": "TOGOLESE",
          "DEPARTURES": 1074,
          "MONTHS": "NOVEMBER  ",
          "PERCENTAGE": 2.22
         },
         {
          "COUNTRIES": "FRENCH",
          "DEPARTURES": 1201,
          "MONTHS": "NOVEMBER  ",
          "PERCENTAGE": 2.48
         },
         {
          "COUNTRIES": "GERMANS",
          "DEPARTURES": 1476,
          "MONTHS": "NOVEMBER  ",
          "PERCENTAGE": 3.05
         },
         {
          "COUNTRIES": "DUTCH",
          "DEPARTURES": 1217,
          "MONTHS": "NOVEMBER  ",
          "PERCENTAGE": 2.52
         },
         {
          "COUNTRIES": "BRITISH",
          "DEPARTURES": 4407,
          "MONTHS": "NOVEMBER  ",
          "PERCENTAGE": 9.12
         },
         {
          "COUNTRIES": "AMERICANS",
          "DEPARTURES": 5946,
          "MONTHS": "NOVEMBER  ",
          "PERCENTAGE": 12.3
         },
         {
          "COUNTRIES": "CANADIANS",
          "DEPARTURES": 1033,
          "MONTHS": "NOVEMBER  ",
          "PERCENTAGE": 2.14
         },
         {
          "COUNTRIES": "CHINESE",
          "DEPARTURES": 1263,
          "MONTHS": "NOVEMBER  ",
          "PERCENTAGE": 2.61
         },
         {
          "COUNTRIES": "INDIANS",
          "DEPARTURES": 1865,
          "MONTHS": "NOVEMBER  ",
          "PERCENTAGE": 3.86
         },
         {
          "COUNTRIES": "LEBANESE",
          "DEPARTURES": 548,
          "MONTHS": "NOVEMBER  ",
          "PERCENTAGE": 1.13
         },
         {
          "COUNTRIES": "AUSTRIALIANS",
          "DEPARTURES": 445,
          "MONTHS": "NOVEMBER  ",
          "PERCENTAGE": 0.92
         },
         {
          "COUNTRIES": "OTHER NATIONALS",
          "DEPARTURES": 12648,
          "MONTHS": "NOVEMBER  ",
          "PERCENTAGE": 26.16
         },
         {
          "COUNTRIES": "IVORIANS",
          "DEPARTURES": 1677,
          "MONTHS": "OCTOBER ",
          "PERCENTAGE": 3.62
         },
         {
          "COUNTRIES": "BURKINESE",
          "DEPARTURES": 1416,
          "MONTHS": "OCTOBER ",
          "PERCENTAGE": 3.05
         },
         {
          "COUNTRIES": "NIGERIANS",
          "DEPARTURES": 7583,
          "MONTHS": "OCTOBER ",
          "PERCENTAGE": 16.36
         },
         {
          "COUNTRIES": "LIBERRIANS",
          "DEPARTURES": 1230,
          "MONTHS": "OCTOBER ",
          "PERCENTAGE": 2.65
         },
         {
          "COUNTRIES": "SOUTH AFRICANS",
          "DEPARTURES": 2104,
          "MONTHS": "OCTOBER ",
          "PERCENTAGE": 4.54
         },
         {
          "COUNTRIES": "TOGOLESE",
          "DEPARTURES": 1045,
          "MONTHS": "OCTOBER ",
          "PERCENTAGE": 2.25
         },
         {
          "COUNTRIES": "FRENCH",
          "DEPARTURES": 1187,
          "MONTHS": "OCTOBER ",
          "PERCENTAGE": 2.56
         },
         {
          "COUNTRIES": "GERMANS",
          "DEPARTURES": 1763,
          "MONTHS": "OCTOBER ",
          "PERCENTAGE": 3.8
         },
         {
          "COUNTRIES": "DUTCH",
          "DEPARTURES": 1213,
          "MONTHS": "OCTOBER ",
          "PERCENTAGE": 2.62
         },
         {
          "COUNTRIES": "BRITISH",
          "DEPARTURES": 4226,
          "MONTHS": "OCTOBER ",
          "PERCENTAGE": 9.12
         },
         {
          "COUNTRIES": "AMERICANS",
          "DEPARTURES": 5590,
          "MONTHS": "OCTOBER ",
          "PERCENTAGE": 12.06
         },
         {
          "COUNTRIES": "CANADIANS",
          "DEPARTURES": 918,
          "MONTHS": "OCTOBER ",
          "PERCENTAGE": 1.98
         },
         {
          "COUNTRIES": "CHINESE",
          "DEPARTURES": 1232,
          "MONTHS": "OCTOBER ",
          "PERCENTAGE": 2.66
         },
         {
          "COUNTRIES": "INDIANS",
          "DEPARTURES": 1874,
          "MONTHS": "OCTOBER ",
          "PERCENTAGE": 4.04
         },
         {
          "COUNTRIES": "LEBANESE",
          "DEPARTURES": 603,
          "MONTHS": "OCTOBER ",
          "PERCENTAGE": 1.3
         },
         {
          "COUNTRIES": "AUSTRIALIANS",
          "DEPARTURES": 475,
          "MONTHS": "OCTOBER ",
          "PERCENTAGE": 1.02
         },
         {
          "COUNTRIES": "OTHER NATIONALS",
          "DEPARTURES": 12216,
          "MONTHS": "OCTOBER ",
          "PERCENTAGE": 26.35
         },
         {
          "COUNTRIES": "IVORIANS",
          "DEPARTURES": 2201,
          "MONTHS": "SEPTEMBER ",
          "PERCENTAGE": 4.36
         },
         {
          "COUNTRIES": "BURKINESE",
          "DEPARTURES": 1714,
          "MONTHS": "SEPTEMBER ",
          "PERCENTAGE": 3.39
         },
         {
          "COUNTRIES": "NIGERIANS",
          "DEPARTURES": 8533,
          "MONTHS": "SEPTEMBER ",
          "PERCENTAGE": 16.89
         },
         {
          "COUNTRIES": "LIBERRIANS",
          "DEPARTURES": 1402,
          "MONTHS": "SEPTEMBER ",
          "PERCENTAGE": 2.77
         },
         {
          "COUNTRIES": "SOUTH AFRICANS",
          "DEPARTURES": 1877,
          "MONTHS": "SEPTEMBER ",
          "PERCENTAGE": 3.71
         },
         {
          "COUNTRIES": "TOGOLESE",
          "DEPARTURES": 1285,
          "MONTHS": "SEPTEMBER ",
          "PERCENTAGE": 2.54
         },
         {
          "COUNTRIES": "FRENCH",
          "DEPARTURES": 1074,
          "MONTHS": "SEPTEMBER ",
          "PERCENTAGE": 2.13
         },
         {
          "COUNTRIES": "GERMANS",
          "DEPARTURES": 1968,
          "MONTHS": "SEPTEMBER ",
          "PERCENTAGE": 3.89
         },
         {
          "COUNTRIES": "DUTCH",
          "DEPARTURES": 1056,
          "MONTHS": "SEPTEMBER ",
          "PERCENTAGE": 2.09
         },
         {
          "COUNTRIES": "BRITISH",
          "DEPARTURES": 4887,
          "MONTHS": "SEPTEMBER ",
          "PERCENTAGE": 9.67
         },
         {
          "COUNTRIES": "AMERICANS",
          "DEPARTURES": 6314,
          "MONTHS": "SEPTEMBER ",
          "PERCENTAGE": 12.5
         },
         {
          "COUNTRIES": "CANADIANS",
          "DEPARTURES": 907,
          "MONTHS": "SEPTEMBER ",
          "PERCENTAGE": 1.79
         },
         {
          "COUNTRIES": "CHINESE",
          "DEPARTURES": 1620,
          "MONTHS": "SEPTEMBER ",
          "PERCENTAGE": 3.21
         },
         {
          "COUNTRIES": "INDIANS",
          "DEPARTURES": 1739,
          "MONTHS": "SEPTEMBER ",
          "PERCENTAGE": 3.44
         },
         {
          "COUNTRIES": "LEBANESE",
          "DEPARTURES": 681,
          "MONTHS": "SEPTEMBER ",
          "PERCENTAGE": 1.35
         },
         {
          "COUNTRIES": "AUSTRIALIANS",
          "DEPARTURES": 419,
          "MONTHS": "SEPTEMBER ",
          "PERCENTAGE": 0.83
         },
         {
          "COUNTRIES": "OTHER NATIONALS",
          "DEPARTURES": 12855,
          "MONTHS": "SEPTEMBER ",
          "PERCENTAGE": 25.44
         }
        ]
       },
       "encoding": {
        "color": {
         "field": "COUNTRIES",
         "type": "nominal"
        },
        "column": {
         "field": "MONTHS",
         "type": "nominal"
        },
        "x": {
         "field": "DEPARTURES",
         "type": "quantitative"
        },
        "y": {
         "field": "COUNTRIES",
         "type": "nominal"
        }
       },
       "mark": "bar",
       "width": 220
      },
      "image/png": "[encoded data removed]",
      "text/plain": [
       "<VegaLite 3 object>\n",
       "\n",
       "If you see this message, it means the renderer has not been properly enabled\n",
       "for the frontend that you are using. For more information, see\n",
       "https://altair-viz.github.io/user_guide/troubleshooting.html\n"
      ]
     },
     "execution_count": 439,
     "metadata": {},
     "output_type": "execute_result"
    }
   ],
   "source": [
    "alt.Chart(trans).mark_bar().encode(\n",
    "    column='MONTHS',\n",
    "    x='DEPARTURES',\n",
    "    y='COUNTRIES',\n",
    "    color='COUNTRIES'\n",
    ").properties(width=220)"
   ]
  },
  {
   "cell_type": "code",
   "execution_count": 247,
   "metadata": {},
   "outputs": [
    {
     "name": "stdout",
     "output_type": "stream",
     "text": [
      "      yield    variety  year             site\n",
      "0  27.00000  Manchuria  1931  University Farm\n",
      "1  48.86667  Manchuria  1931           Waseca\n",
      "2  27.43334  Manchuria  1931           Morris\n",
      "\n",
      "\n",
      "         MONTHS  DEPARTURES        COUNTRIES\n",
      "0       JANUARY        1634         IVORIANS\n",
      "1       JANUARY        1780        BURKINESE\n",
      "2       JANUARY        7910        NIGERIANS\n",
      "3       JANUARY         757       LIBERRIANS\n",
      "4       JANUARY        1415   SOUTH AFRICANS\n",
      "..          ...         ...              ...\n",
      "182  SEPTEMBER         1620          CHINESE\n",
      "183  SEPTEMBER         1739          INDIANS\n",
      "184  SEPTEMBER          681         LEBANESE\n",
      "185  SEPTEMBER          419     AUSTRIALIANS\n",
      "186  SEPTEMBER        12855  OTHER NATIONALS\n",
      "\n",
      "[187 rows x 3 columns]\n"
     ]
    }
   ],
   "source": [
    "print(source.head(3))\n",
    "print('\\n')\n",
    "print(trans)"
   ]
  },
  {
   "cell_type": "code",
   "execution_count": 160,
   "metadata": {},
   "outputs": [
    {
     "data": {
      "text/html": [
       "<div>\n",
       "<style scoped>\n",
       "    .dataframe tbody tr th:only-of-type {\n",
       "        vertical-align: middle;\n",
       "    }\n",
       "\n",
       "    .dataframe tbody tr th {\n",
       "        vertical-align: top;\n",
       "    }\n",
       "\n",
       "    .dataframe thead th {\n",
       "        text-align: right;\n",
       "    }\n",
       "</style>\n",
       "<table border=\"1\" class=\"dataframe\">\n",
       "  <thead>\n",
       "    <tr style=\"text-align: right;\">\n",
       "      <th></th>\n",
       "      <th>MONTHS</th>\n",
       "      <th>IVORIANS</th>\n",
       "      <th>BURKINESE</th>\n",
       "      <th>NIGERIANS</th>\n",
       "      <th>LIBERRIANS</th>\n",
       "      <th>SOUTH AFRICANS</th>\n",
       "      <th>TOGOLESE</th>\n",
       "      <th>FRENCH</th>\n",
       "      <th>GERMANS</th>\n",
       "      <th>DUTCH</th>\n",
       "      <th>BRITISH</th>\n",
       "      <th>AMERICANS</th>\n",
       "      <th>CANADIANS</th>\n",
       "      <th>CHINESE</th>\n",
       "      <th>INDIANS</th>\n",
       "      <th>LEBANESE</th>\n",
       "      <th>AUSTRIALIANS</th>\n",
       "      <th>OTHER NATIONALS</th>\n",
       "    </tr>\n",
       "  </thead>\n",
       "  <tbody>\n",
       "    <tr>\n",
       "      <td>0</td>\n",
       "      <td>JANUARY DEPARTURE</td>\n",
       "      <td>1634</td>\n",
       "      <td>1780</td>\n",
       "      <td>7910</td>\n",
       "      <td>757</td>\n",
       "      <td>1415</td>\n",
       "      <td>873</td>\n",
       "      <td>905</td>\n",
       "      <td>1548</td>\n",
       "      <td>1250</td>\n",
       "      <td>4798</td>\n",
       "      <td>4987</td>\n",
       "      <td>1074</td>\n",
       "      <td>1539</td>\n",
       "      <td>1465</td>\n",
       "      <td>531</td>\n",
       "      <td>428</td>\n",
       "      <td>10364</td>\n",
       "    </tr>\n",
       "    <tr>\n",
       "      <td>1</td>\n",
       "      <td>FEBRUARY DEPARTURE</td>\n",
       "      <td>1662</td>\n",
       "      <td>1693</td>\n",
       "      <td>6490</td>\n",
       "      <td>734</td>\n",
       "      <td>1563</td>\n",
       "      <td>702</td>\n",
       "      <td>1117</td>\n",
       "      <td>1298</td>\n",
       "      <td>903</td>\n",
       "      <td>3257</td>\n",
       "      <td>3848</td>\n",
       "      <td>937</td>\n",
       "      <td>1987</td>\n",
       "      <td>1525</td>\n",
       "      <td>562</td>\n",
       "      <td>449</td>\n",
       "      <td>9920</td>\n",
       "    </tr>\n",
       "    <tr>\n",
       "      <td>2</td>\n",
       "      <td>MARCH DEPARTURE</td>\n",
       "      <td>3559</td>\n",
       "      <td>3482</td>\n",
       "      <td>13558</td>\n",
       "      <td>1498</td>\n",
       "      <td>1767</td>\n",
       "      <td>1581</td>\n",
       "      <td>1126</td>\n",
       "      <td>1555</td>\n",
       "      <td>1049</td>\n",
       "      <td>3888</td>\n",
       "      <td>4956</td>\n",
       "      <td>1048</td>\n",
       "      <td>1057</td>\n",
       "      <td>1710</td>\n",
       "      <td>622</td>\n",
       "      <td>435</td>\n",
       "      <td>185</td>\n",
       "    </tr>\n",
       "    <tr>\n",
       "      <td>3</td>\n",
       "      <td>APRIL DEPARTURE</td>\n",
       "      <td>1517</td>\n",
       "      <td>1394</td>\n",
       "      <td>9320</td>\n",
       "      <td>1215</td>\n",
       "      <td>1622</td>\n",
       "      <td>906</td>\n",
       "      <td>1350</td>\n",
       "      <td>1704</td>\n",
       "      <td>1079</td>\n",
       "      <td>1854</td>\n",
       "      <td>2118</td>\n",
       "      <td>408</td>\n",
       "      <td>1388</td>\n",
       "      <td>1839</td>\n",
       "      <td>766</td>\n",
       "      <td>139</td>\n",
       "      <td>19203</td>\n",
       "    </tr>\n",
       "    <tr>\n",
       "      <td>4</td>\n",
       "      <td>MAY DEPARTURE</td>\n",
       "      <td>1673</td>\n",
       "      <td>1653</td>\n",
       "      <td>9421</td>\n",
       "      <td>1414</td>\n",
       "      <td>1760</td>\n",
       "      <td>856</td>\n",
       "      <td>1064</td>\n",
       "      <td>1253</td>\n",
       "      <td>1083</td>\n",
       "      <td>3452</td>\n",
       "      <td>6113</td>\n",
       "      <td>1255</td>\n",
       "      <td>1397</td>\n",
       "      <td>1883</td>\n",
       "      <td>614</td>\n",
       "      <td>430</td>\n",
       "      <td>12232</td>\n",
       "    </tr>\n",
       "    <tr>\n",
       "      <td>5</td>\n",
       "      <td>JUNE DEPARTURE</td>\n",
       "      <td>1727</td>\n",
       "      <td>1494</td>\n",
       "      <td>8867</td>\n",
       "      <td>1459</td>\n",
       "      <td>1996</td>\n",
       "      <td>888</td>\n",
       "      <td>1145</td>\n",
       "      <td>1184</td>\n",
       "      <td>1062</td>\n",
       "      <td>3649</td>\n",
       "      <td>6614</td>\n",
       "      <td>1068</td>\n",
       "      <td>1479</td>\n",
       "      <td>2044</td>\n",
       "      <td>956</td>\n",
       "      <td>444</td>\n",
       "      <td>12628</td>\n",
       "    </tr>\n",
       "    <tr>\n",
       "      <td>6</td>\n",
       "      <td>JULY DEPARTURE</td>\n",
       "      <td>1954</td>\n",
       "      <td>1482</td>\n",
       "      <td>8969</td>\n",
       "      <td>1520</td>\n",
       "      <td>1984</td>\n",
       "      <td>1081</td>\n",
       "      <td>1177</td>\n",
       "      <td>1614</td>\n",
       "      <td>1440</td>\n",
       "      <td>4463</td>\n",
       "      <td>7590</td>\n",
       "      <td>1085</td>\n",
       "      <td>1666</td>\n",
       "      <td>2204</td>\n",
       "      <td>1137</td>\n",
       "      <td>456</td>\n",
       "      <td>13097</td>\n",
       "    </tr>\n",
       "    <tr>\n",
       "      <td>7</td>\n",
       "      <td>AUGUST DEPARTURE</td>\n",
       "      <td>2351</td>\n",
       "      <td>2750</td>\n",
       "      <td>9554</td>\n",
       "      <td>1368</td>\n",
       "      <td>1898</td>\n",
       "      <td>1230</td>\n",
       "      <td>1246</td>\n",
       "      <td>2454</td>\n",
       "      <td>2028</td>\n",
       "      <td>6556</td>\n",
       "      <td>8826</td>\n",
       "      <td>997</td>\n",
       "      <td>1540</td>\n",
       "      <td>1764</td>\n",
       "      <td>749</td>\n",
       "      <td>380</td>\n",
       "      <td>13876</td>\n",
       "    </tr>\n",
       "    <tr>\n",
       "      <td>8</td>\n",
       "      <td>SEPTEMBER DEPARTURE</td>\n",
       "      <td>2201</td>\n",
       "      <td>1714</td>\n",
       "      <td>8533</td>\n",
       "      <td>1402</td>\n",
       "      <td>1877</td>\n",
       "      <td>1285</td>\n",
       "      <td>1074</td>\n",
       "      <td>1968</td>\n",
       "      <td>1056</td>\n",
       "      <td>4887</td>\n",
       "      <td>6314</td>\n",
       "      <td>907</td>\n",
       "      <td>1620</td>\n",
       "      <td>1739</td>\n",
       "      <td>681</td>\n",
       "      <td>419</td>\n",
       "      <td>12855</td>\n",
       "    </tr>\n",
       "    <tr>\n",
       "      <td>9</td>\n",
       "      <td>OCTOBER DEPARTURE</td>\n",
       "      <td>1677</td>\n",
       "      <td>1416</td>\n",
       "      <td>7583</td>\n",
       "      <td>1230</td>\n",
       "      <td>2104</td>\n",
       "      <td>1045</td>\n",
       "      <td>1187</td>\n",
       "      <td>1763</td>\n",
       "      <td>1213</td>\n",
       "      <td>4226</td>\n",
       "      <td>5590</td>\n",
       "      <td>918</td>\n",
       "      <td>1232</td>\n",
       "      <td>1874</td>\n",
       "      <td>603</td>\n",
       "      <td>475</td>\n",
       "      <td>12216</td>\n",
       "    </tr>\n",
       "    <tr>\n",
       "      <td>10</td>\n",
       "      <td>NOVEMBER DEPARTURE</td>\n",
       "      <td>2172</td>\n",
       "      <td>1404</td>\n",
       "      <td>8051</td>\n",
       "      <td>1604</td>\n",
       "      <td>1993</td>\n",
       "      <td>1074</td>\n",
       "      <td>1201</td>\n",
       "      <td>1476</td>\n",
       "      <td>1217</td>\n",
       "      <td>4407</td>\n",
       "      <td>5946</td>\n",
       "      <td>1033</td>\n",
       "      <td>1263</td>\n",
       "      <td>1865</td>\n",
       "      <td>548</td>\n",
       "      <td>445</td>\n",
       "      <td>12648</td>\n",
       "    </tr>\n",
       "  </tbody>\n",
       "</table>\n",
       "</div>"
      ],
      "text/plain": [
       "                 MONTHS  IVORIANS  BURKINESE  NIGERIANS  LIBERRIANS  \\\n",
       "0     JANUARY DEPARTURE      1634       1780       7910         757   \n",
       "1    FEBRUARY DEPARTURE      1662       1693       6490         734   \n",
       "2       MARCH DEPARTURE      3559       3482      13558        1498   \n",
       "3       APRIL DEPARTURE      1517       1394       9320        1215   \n",
       "4         MAY DEPARTURE      1673       1653       9421        1414   \n",
       "5        JUNE DEPARTURE      1727       1494       8867        1459   \n",
       "6        JULY DEPARTURE      1954       1482       8969        1520   \n",
       "7      AUGUST DEPARTURE      2351       2750       9554        1368   \n",
       "8   SEPTEMBER DEPARTURE      2201       1714       8533        1402   \n",
       "9     OCTOBER DEPARTURE      1677       1416       7583        1230   \n",
       "10   NOVEMBER DEPARTURE      2172       1404       8051        1604   \n",
       "\n",
       "    SOUTH AFRICANS  TOGOLESE  FRENCH  GERMANS  DUTCH  BRITISH  AMERICANS  \\\n",
       "0             1415       873     905     1548   1250     4798       4987   \n",
       "1             1563       702    1117     1298    903     3257       3848   \n",
       "2             1767      1581    1126     1555   1049     3888       4956   \n",
       "3             1622       906    1350     1704   1079     1854       2118   \n",
       "4             1760       856    1064     1253   1083     3452       6113   \n",
       "5             1996       888    1145     1184   1062     3649       6614   \n",
       "6             1984      1081    1177     1614   1440     4463       7590   \n",
       "7             1898      1230    1246     2454   2028     6556       8826   \n",
       "8             1877      1285    1074     1968   1056     4887       6314   \n",
       "9             2104      1045    1187     1763   1213     4226       5590   \n",
       "10            1993      1074    1201     1476   1217     4407       5946   \n",
       "\n",
       "    CANADIANS  CHINESE  INDIANS  LEBANESE  AUSTRIALIANS  OTHER NATIONALS  \n",
       "0        1074     1539     1465       531           428            10364  \n",
       "1         937     1987     1525       562           449             9920  \n",
       "2        1048     1057     1710       622           435              185  \n",
       "3         408     1388     1839       766           139            19203  \n",
       "4        1255     1397     1883       614           430            12232  \n",
       "5        1068     1479     2044       956           444            12628  \n",
       "6        1085     1666     2204      1137           456            13097  \n",
       "7         997     1540     1764       749           380            13876  \n",
       "8         907     1620     1739       681           419            12855  \n",
       "9         918     1232     1874       603           475            12216  \n",
       "10       1033     1263     1865       548           445            12648  "
      ]
     },
     "execution_count": 160,
     "metadata": {},
     "output_type": "execute_result"
    }
   ],
   "source": [
    "df1"
   ]
  },
  {
   "cell_type": "code",
   "execution_count": 163,
   "metadata": {},
   "outputs": [
    {
     "data": {
      "application/vnd.vegalite.v3+json": {
       "$schema": "https://vega.github.io/schema/vega-lite/v3.4.0.json",
       "config": {
        "mark": {
         "tooltip": null
        },
        "view": {
         "height": 300,
         "stroke": "transparent",
         "width": 400
        }
       },
       "data": {
        "name": "data-e3fcd21e67a7666598666c5a2f2bcd61"
       },
       "datasets": {
        "data-e3fcd21e67a7666598666c5a2f2bcd61": [
         {
          "Number_of_Incidents": 19,
          "percent_arrest": 0.5395512504935188,
          "primary_type": "a",
          "year": 2013
         },
         {
          "Number_of_Incidents": 10,
          "percent_arrest": 0.39477099797987814,
          "primary_type": "a",
          "year": 2002
         },
         {
          "Number_of_Incidents": 14,
          "percent_arrest": 0.15645226744298701,
          "primary_type": "b",
          "year": 2009
         },
         {
          "Number_of_Incidents": 4,
          "percent_arrest": 0.15470834708831038,
          "primary_type": "d",
          "year": 2006
         },
         {
          "Number_of_Incidents": 10,
          "percent_arrest": 0.3257885188491728,
          "primary_type": "d",
          "year": 2016
         },
         {
          "Number_of_Incidents": 3,
          "percent_arrest": 0.05428286123471149,
          "primary_type": "b",
          "year": 2012
         },
         {
          "Number_of_Incidents": 8,
          "percent_arrest": 0.02294623359488479,
          "primary_type": "a",
          "year": 2004
         },
         {
          "Number_of_Incidents": 8,
          "percent_arrest": 0.18878532465118336,
          "primary_type": "c",
          "year": 2005
         },
         {
          "Number_of_Incidents": 12,
          "percent_arrest": 0.4317656551345388,
          "primary_type": "b",
          "year": 2005
         },
         {
          "Number_of_Incidents": 1,
          "percent_arrest": 0.44131995567953475,
          "primary_type": "b",
          "year": 2003
         },
         {
          "Number_of_Incidents": 18,
          "percent_arrest": 0.36089002324160946,
          "primary_type": "e",
          "year": 2017
         },
         {
          "Number_of_Incidents": 14,
          "percent_arrest": 0.1833069821885308,
          "primary_type": "b",
          "year": 2004
         },
         {
          "Number_of_Incidents": 0,
          "percent_arrest": 0.8347596018996195,
          "primary_type": "c",
          "year": 2012
         },
         {
          "Number_of_Incidents": 6,
          "percent_arrest": 0.41440137686622247,
          "primary_type": "c",
          "year": 2005
         },
         {
          "Number_of_Incidents": 9,
          "percent_arrest": 0.7187253814038841,
          "primary_type": "e",
          "year": 2006
         },
         {
          "Number_of_Incidents": 19,
          "percent_arrest": 0.5915537735381525,
          "primary_type": "a",
          "year": 2010
         },
         {
          "Number_of_Incidents": 8,
          "percent_arrest": 0.5135872819870333,
          "primary_type": "a",
          "year": 2013
         },
         {
          "Number_of_Incidents": 0,
          "percent_arrest": 0.4958544247541754,
          "primary_type": "e",
          "year": 2005
         },
         {
          "Number_of_Incidents": 12,
          "percent_arrest": 0.21687530251588572,
          "primary_type": "d",
          "year": 2012
         },
         {
          "Number_of_Incidents": 8,
          "percent_arrest": 0.050798889485698884,
          "primary_type": "e",
          "year": 2007
         },
         {
          "Number_of_Incidents": 14,
          "percent_arrest": 0.301952347414592,
          "primary_type": "a",
          "year": 2010
         },
         {
          "Number_of_Incidents": 13,
          "percent_arrest": 0.4156226424726761,
          "primary_type": "a",
          "year": 2004
         },
         {
          "Number_of_Incidents": 13,
          "percent_arrest": 0.4950789861283411,
          "primary_type": "c",
          "year": 2008
         },
         {
          "Number_of_Incidents": 3,
          "percent_arrest": 0.012481357365467072,
          "primary_type": "c",
          "year": 2002
         },
         {
          "Number_of_Incidents": 12,
          "percent_arrest": 0.9024604177298473,
          "primary_type": "d",
          "year": 2003
         },
         {
          "Number_of_Incidents": 14,
          "percent_arrest": 0.06821617601781438,
          "primary_type": "d",
          "year": 2004
         },
         {
          "Number_of_Incidents": 10,
          "percent_arrest": 0.6599392931593463,
          "primary_type": "d",
          "year": 2017
         },
         {
          "Number_of_Incidents": 3,
          "percent_arrest": 0.3412310658114266,
          "primary_type": "c",
          "year": 2012
         },
         {
          "Number_of_Incidents": 19,
          "percent_arrest": 0.560049233692003,
          "primary_type": "c",
          "year": 2012
         },
         {
          "Number_of_Incidents": 18,
          "percent_arrest": 0.4488308309654906,
          "primary_type": "e",
          "year": 2016
         },
         {
          "Number_of_Incidents": 15,
          "percent_arrest": 0.38630667268808505,
          "primary_type": "a",
          "year": 2006
         },
         {
          "Number_of_Incidents": 10,
          "percent_arrest": 0.6995429037914913,
          "primary_type": "c",
          "year": 2007
         },
         {
          "Number_of_Incidents": 8,
          "percent_arrest": 0.5352515196066135,
          "primary_type": "d",
          "year": 2008
         },
         {
          "Number_of_Incidents": 16,
          "percent_arrest": 0.9301540427667504,
          "primary_type": "b",
          "year": 2001
         },
         {
          "Number_of_Incidents": 16,
          "percent_arrest": 0.6120243805774264,
          "primary_type": "b",
          "year": 2007
         },
         {
          "Number_of_Incidents": 0,
          "percent_arrest": 0.9114981073785872,
          "primary_type": "c",
          "year": 2014
         },
         {
          "Number_of_Incidents": 5,
          "percent_arrest": 0.5670270522164162,
          "primary_type": "b",
          "year": 2010
         },
         {
          "Number_of_Incidents": 8,
          "percent_arrest": 0.6635463153995506,
          "primary_type": "b",
          "year": 2005
         },
         {
          "Number_of_Incidents": 11,
          "percent_arrest": 0.06419821965268058,
          "primary_type": "e",
          "year": 2012
         },
         {
          "Number_of_Incidents": 3,
          "percent_arrest": 0.08745698583201578,
          "primary_type": "a",
          "year": 2004
         },
         {
          "Number_of_Incidents": 4,
          "percent_arrest": 0.6334857296918994,
          "primary_type": "e",
          "year": 2016
         },
         {
          "Number_of_Incidents": 15,
          "percent_arrest": 0.8662952300516418,
          "primary_type": "d",
          "year": 2014
         },
         {
          "Number_of_Incidents": 9,
          "percent_arrest": 0.3681302635968219,
          "primary_type": "a",
          "year": 2005
         },
         {
          "Number_of_Incidents": 0,
          "percent_arrest": 0.08676712079837745,
          "primary_type": "b",
          "year": 2003
         },
         {
          "Number_of_Incidents": 19,
          "percent_arrest": 0.38384626035051606,
          "primary_type": "c",
          "year": 2007
         },
         {
          "Number_of_Incidents": 8,
          "percent_arrest": 0.5489908443948547,
          "primary_type": "b",
          "year": 2014
         },
         {
          "Number_of_Incidents": 8,
          "percent_arrest": 0.5747765180933997,
          "primary_type": "b",
          "year": 2011
         },
         {
          "Number_of_Incidents": 19,
          "percent_arrest": 0.6680586980323261,
          "primary_type": "b",
          "year": 2014
         },
         {
          "Number_of_Incidents": 14,
          "percent_arrest": 0.5718494437867822,
          "primary_type": "e",
          "year": 2003
         },
         {
          "Number_of_Incidents": 14,
          "percent_arrest": 0.489359644437943,
          "primary_type": "a",
          "year": 2014
         },
         {
          "Number_of_Incidents": 0,
          "percent_arrest": 0.3158082327157463,
          "primary_type": "b",
          "year": 2011
         },
         {
          "Number_of_Incidents": 16,
          "percent_arrest": 0.7521475372197451,
          "primary_type": "b",
          "year": 2000
         },
         {
          "Number_of_Incidents": 14,
          "percent_arrest": 0.024850435188124465,
          "primary_type": "a",
          "year": 2013
         },
         {
          "Number_of_Incidents": 12,
          "percent_arrest": 0.5683838134459589,
          "primary_type": "c",
          "year": 2000
         },
         {
          "Number_of_Incidents": 8,
          "percent_arrest": 0.7557728646959001,
          "primary_type": "a",
          "year": 2009
         },
         {
          "Number_of_Incidents": 11,
          "percent_arrest": 0.5114944049068358,
          "primary_type": "a",
          "year": 2007
         },
         {
          "Number_of_Incidents": 1,
          "percent_arrest": 0.8906395857850048,
          "primary_type": "c",
          "year": 2015
         },
         {
          "Number_of_Incidents": 15,
          "percent_arrest": 0.675946927570948,
          "primary_type": "e",
          "year": 2015
         },
         {
          "Number_of_Incidents": 4,
          "percent_arrest": 0.0639682082685058,
          "primary_type": "c",
          "year": 2014
         },
         {
          "Number_of_Incidents": 12,
          "percent_arrest": 0.765417059349842,
          "primary_type": "c",
          "year": 2006
         },
         {
          "Number_of_Incidents": 3,
          "percent_arrest": 0.09467102223040524,
          "primary_type": "d",
          "year": 2017
         },
         {
          "Number_of_Incidents": 16,
          "percent_arrest": 0.9720952834256795,
          "primary_type": "a",
          "year": 2003
         },
         {
          "Number_of_Incidents": 2,
          "percent_arrest": 0.7668659811656224,
          "primary_type": "a",
          "year": 2015
         },
         {
          "Number_of_Incidents": 12,
          "percent_arrest": 0.17554154347663642,
          "primary_type": "c",
          "year": 2010
         },
         {
          "Number_of_Incidents": 9,
          "percent_arrest": 0.018864783934539275,
          "primary_type": "e",
          "year": 2015
         },
         {
          "Number_of_Incidents": 13,
          "percent_arrest": 0.10386890735698306,
          "primary_type": "d",
          "year": 2005
         },
         {
          "Number_of_Incidents": 2,
          "percent_arrest": 0.7989789868134266,
          "primary_type": "a",
          "year": 2017
         },
         {
          "Number_of_Incidents": 9,
          "percent_arrest": 0.6809463200878064,
          "primary_type": "b",
          "year": 2010
         },
         {
          "Number_of_Incidents": 19,
          "percent_arrest": 0.025324420656579028,
          "primary_type": "b",
          "year": 2015
         },
         {
          "Number_of_Incidents": 3,
          "percent_arrest": 0.9653261689724486,
          "primary_type": "d",
          "year": 2013
         },
         {
          "Number_of_Incidents": 2,
          "percent_arrest": 0.045158035804342966,
          "primary_type": "a",
          "year": 2012
         },
         {
          "Number_of_Incidents": 19,
          "percent_arrest": 0.16619600128977752,
          "primary_type": "d",
          "year": 2005
         },
         {
          "Number_of_Incidents": 15,
          "percent_arrest": 0.7012486763257355,
          "primary_type": "a",
          "year": 2009
         },
         {
          "Number_of_Incidents": 9,
          "percent_arrest": 0.12820194029301557,
          "primary_type": "a",
          "year": 2012
         },
         {
          "Number_of_Incidents": 9,
          "percent_arrest": 0.729123719040229,
          "primary_type": "a",
          "year": 2017
         },
         {
          "Number_of_Incidents": 1,
          "percent_arrest": 0.6369942058058691,
          "primary_type": "b",
          "year": 2017
         },
         {
          "Number_of_Incidents": 9,
          "percent_arrest": 0.903748663803139,
          "primary_type": "c",
          "year": 2012
         },
         {
          "Number_of_Incidents": 3,
          "percent_arrest": 0.828273320122773,
          "primary_type": "a",
          "year": 2003
         },
         {
          "Number_of_Incidents": 14,
          "percent_arrest": 0.5354380651326665,
          "primary_type": "a",
          "year": 2001
         },
         {
          "Number_of_Incidents": 11,
          "percent_arrest": 0.3233661161584117,
          "primary_type": "e",
          "year": 2012
         },
         {
          "Number_of_Incidents": 0,
          "percent_arrest": 0.8651257094054076,
          "primary_type": "c",
          "year": 2012
         },
         {
          "Number_of_Incidents": 2,
          "percent_arrest": 0.37184861120746593,
          "primary_type": "e",
          "year": 2008
         },
         {
          "Number_of_Incidents": 0,
          "percent_arrest": 0.46525070904964116,
          "primary_type": "b",
          "year": 2012
         },
         {
          "Number_of_Incidents": 5,
          "percent_arrest": 0.05377627763176518,
          "primary_type": "e",
          "year": 2001
         },
         {
          "Number_of_Incidents": 8,
          "percent_arrest": 0.82997979094533,
          "primary_type": "e",
          "year": 2015
         },
         {
          "Number_of_Incidents": 13,
          "percent_arrest": 0.3934041786197999,
          "primary_type": "e",
          "year": 2007
         },
         {
          "Number_of_Incidents": 13,
          "percent_arrest": 0.5712747889735427,
          "primary_type": "d",
          "year": 2015
         },
         {
          "Number_of_Incidents": 10,
          "percent_arrest": 0.2736268617718267,
          "primary_type": "b",
          "year": 2000
         },
         {
          "Number_of_Incidents": 1,
          "percent_arrest": 0.9300340247136017,
          "primary_type": "b",
          "year": 2005
         },
         {
          "Number_of_Incidents": 15,
          "percent_arrest": 0.48532592174269507,
          "primary_type": "c",
          "year": 2015
         },
         {
          "Number_of_Incidents": 17,
          "percent_arrest": 0.504920931910894,
          "primary_type": "b",
          "year": 2009
         },
         {
          "Number_of_Incidents": 0,
          "percent_arrest": 0.0658702849799051,
          "primary_type": "d",
          "year": 2002
         },
         {
          "Number_of_Incidents": 17,
          "percent_arrest": 0.13574276305691146,
          "primary_type": "b",
          "year": 2005
         },
         {
          "Number_of_Incidents": 5,
          "percent_arrest": 0.6602413565702498,
          "primary_type": "d",
          "year": 2015
         },
         {
          "Number_of_Incidents": 8,
          "percent_arrest": 0.2575593855424869,
          "primary_type": "e",
          "year": 2014
         },
         {
          "Number_of_Incidents": 10,
          "percent_arrest": 0.7670962589271925,
          "primary_type": "a",
          "year": 2008
         },
         {
          "Number_of_Incidents": 6,
          "percent_arrest": 0.44792934653287464,
          "primary_type": "a",
          "year": 2014
         },
         {
          "Number_of_Incidents": 6,
          "percent_arrest": 0.052856504459018794,
          "primary_type": "a",
          "year": 2003
         },
         {
          "Number_of_Incidents": 19,
          "percent_arrest": 0.20240254332173402,
          "primary_type": "e",
          "year": 2007
         },
         {
          "Number_of_Incidents": 1,
          "percent_arrest": 0.12753367262847426,
          "primary_type": "a",
          "year": 2007
         }
        ]
       },
       "encoding": {
        "color": {
         "field": "primary_type",
         "type": "nominal"
        },
        "column": {
         "field": "year",
         "type": "quantitative"
        },
        "tooltip": [
         {
          "field": "year",
          "type": "quantitative"
         }
        ],
        "x": {
         "field": "primary_type",
         "scale": {
          "rangeStep": 8
         },
         "title": null,
         "type": "nominal"
        },
        "y": {
         "aggregate": "sum",
         "field": "Number_of_Incidents",
         "title": "sum(Number_of_Incidents)",
         "type": "quantitative"
        }
       },
       "mark": "bar"
      },
      "image/png": "[encoded data removed]",
      "text/plain": [
       "<VegaLite 3 object>\n",
       "\n",
       "If you see this message, it means the renderer has not been properly enabled\n",
       "for the frontend that you are using. For more information, see\n",
       "https://altair-viz.github.io/user_guide/troubleshooting.html\n"
      ]
     },
     "execution_count": 163,
     "metadata": {},
     "output_type": "execute_result"
    }
   ],
   "source": [
    "import altair as alt\n",
    "import pandas as pd\n",
    "import numpy as np\n",
    "\n",
    "own = pd.DataFrame({\n",
    "    'year': np.random.randint(2000, 2018, 100),\n",
    "    'Number_of_Incidents': np.random.randint(0, 20, 100),\n",
    "    'percent_arrest': np.random.rand(100),\n",
    "    'primary_type': np.random.choice(['a', 'b', 'c', 'd', 'e'], 100)\n",
    "})\n",
    "\n",
    "alt.Chart(own).mark_bar().encode(\n",
    "    x=alt.X('primary_type', scale=alt.Scale(rangeStep=8), title=None),\n",
    "    y=alt.Y('sum(Number_of_Incidents)', title='sum(Number_of_Incidents)'),\n",
    "    color='primary_type',\n",
    "    column='year',\n",
    "    tooltip=['year']\n",
    ").configure_view(\n",
    "    stroke='transparent'\n",
    ")"
   ]
  },
  {
   "cell_type": "code",
   "execution_count": 173,
   "metadata": {},
   "outputs": [
    {
     "name": "stdout",
     "output_type": "stream",
     "text": [
      "   year  Number_of_Incidents  percent_arrest primary_type\n",
      "0  2013                   19        0.539551            a\n",
      "1  2002                   10        0.394771            a\n",
      "\n",
      "\n"
     ]
    },
    {
     "data": {
      "text/html": [
       "<div>\n",
       "<style scoped>\n",
       "    .dataframe tbody tr th:only-of-type {\n",
       "        vertical-align: middle;\n",
       "    }\n",
       "\n",
       "    .dataframe tbody tr th {\n",
       "        vertical-align: top;\n",
       "    }\n",
       "\n",
       "    .dataframe thead th {\n",
       "        text-align: right;\n",
       "    }\n",
       "</style>\n",
       "<table border=\"1\" class=\"dataframe\">\n",
       "  <thead>\n",
       "    <tr style=\"text-align: right;\">\n",
       "      <th></th>\n",
       "      <th>COUNTRIES</th>\n",
       "      <th>JANUARY DEPARTURE</th>\n",
       "      <th>FEBRUARY DEPARTURE</th>\n",
       "      <th>MARCH DEPARTURE</th>\n",
       "      <th>APRIL DEPARTURE</th>\n",
       "      <th>MAY DEPARTURE</th>\n",
       "      <th>JUNE DEPARTURE</th>\n",
       "      <th>JULY DEPARTURE</th>\n",
       "      <th>AUGUST DEPARTURE</th>\n",
       "      <th>SEPTEMBER DEPARTURE</th>\n",
       "      <th>OCTOBER DEPARTURE</th>\n",
       "      <th>NOVEMBER DEPARTURE</th>\n",
       "    </tr>\n",
       "  </thead>\n",
       "  <tbody>\n",
       "    <tr>\n",
       "      <td>0</td>\n",
       "      <td>IVORIANS</td>\n",
       "      <td>1634</td>\n",
       "      <td>1662</td>\n",
       "      <td>3559</td>\n",
       "      <td>1517</td>\n",
       "      <td>1673</td>\n",
       "      <td>1727</td>\n",
       "      <td>1954</td>\n",
       "      <td>2351</td>\n",
       "      <td>2201</td>\n",
       "      <td>1677</td>\n",
       "      <td>2172</td>\n",
       "    </tr>\n",
       "    <tr>\n",
       "      <td>1</td>\n",
       "      <td>BURKINESE</td>\n",
       "      <td>1780</td>\n",
       "      <td>1693</td>\n",
       "      <td>3482</td>\n",
       "      <td>1394</td>\n",
       "      <td>1653</td>\n",
       "      <td>1494</td>\n",
       "      <td>1482</td>\n",
       "      <td>2750</td>\n",
       "      <td>1714</td>\n",
       "      <td>1416</td>\n",
       "      <td>1404</td>\n",
       "    </tr>\n",
       "  </tbody>\n",
       "</table>\n",
       "</div>"
      ],
      "text/plain": [
       "   COUNTRIES  JANUARY DEPARTURE  FEBRUARY DEPARTURE  MARCH DEPARTURE  \\\n",
       "0   IVORIANS               1634                1662             3559   \n",
       "1  BURKINESE               1780                1693             3482   \n",
       "\n",
       "   APRIL DEPARTURE  MAY DEPARTURE  JUNE DEPARTURE  JULY DEPARTURE  \\\n",
       "0             1517           1673            1727            1954   \n",
       "1             1394           1653            1494            1482   \n",
       "\n",
       "   AUGUST DEPARTURE  SEPTEMBER DEPARTURE  OCTOBER DEPARTURE  \\\n",
       "0              2351                 2201               1677   \n",
       "1              2750                 1714               1416   \n",
       "\n",
       "   NOVEMBER DEPARTURE  \n",
       "0                2172  \n",
       "1                1404  "
      ]
     },
     "execution_count": 173,
     "metadata": {},
     "output_type": "execute_result"
    }
   ],
   "source": [
    "print(own.head(2))\n",
    "print('\\n')\n",
    "df.head(2)"
   ]
  },
  {
   "cell_type": "code",
   "execution_count": null,
   "metadata": {},
   "outputs": [],
   "source": []
  },
  {
   "cell_type": "code",
   "execution_count": 468,
   "metadata": {},
   "outputs": [
    {
     "data": {
      "application/vnd.vegalite.v3+json": {
       "$schema": "https://vega.github.io/schema/vega-lite/v3.4.0.json",
       "background": "white",
       "config": {
        "legend": {
         "cornerRadius": 20,
         "fillColor": "#EEEEEE",
         "orient": "top-left",
         "padding": 10,
         "strokeColor": "gray"
        },
        "mark": {
         "tooltip": null
        },
        "title": {
         "align": "right",
         "anchor": "start",
         "color": "black",
         "font": "Courier",
         "fontSize": 40
        },
        "view": {
         "height": 300,
         "stroke": "transparent",
         "width": 400
        }
       },
       "data": {
        "name": "data-563364fef5ae5fb87a3c7902ddebb742"
       },
       "datasets": {
        "data-563364fef5ae5fb87a3c7902ddebb742": [
         {
          "COUNTRIES": "IVORIANS",
          "DEPARTURES": 1634,
          "MONTHS": "JANUARY",
          "PERCENTAGE": 3.78
         },
         {
          "COUNTRIES": "BURKINESE",
          "DEPARTURES": 1780,
          "MONTHS": "JANUARY",
          "PERCENTAGE": 4.11
         },
         {
          "COUNTRIES": "NIGERIANS",
          "DEPARTURES": 7910,
          "MONTHS": "JANUARY",
          "PERCENTAGE": 18.29
         },
         {
          "COUNTRIES": "LIBERRIANS",
          "DEPARTURES": 757,
          "MONTHS": "JANUARY",
          "PERCENTAGE": 1.75
         },
         {
          "COUNTRIES": "SOUTH AFRICANS",
          "DEPARTURES": 1415,
          "MONTHS": "JANUARY",
          "PERCENTAGE": 3.27
         },
         {
          "COUNTRIES": "TOGOLESE",
          "DEPARTURES": 873,
          "MONTHS": "JANUARY",
          "PERCENTAGE": 2.02
         },
         {
          "COUNTRIES": "FRENCH",
          "DEPARTURES": 905,
          "MONTHS": "JANUARY",
          "PERCENTAGE": 2.09
         },
         {
          "COUNTRIES": "GERMANS",
          "DEPARTURES": 1548,
          "MONTHS": "JANUARY",
          "PERCENTAGE": 3.58
         },
         {
          "COUNTRIES": "DUTCH",
          "DEPARTURES": 1250,
          "MONTHS": "JANUARY",
          "PERCENTAGE": 2.89
         },
         {
          "COUNTRIES": "BRITISH",
          "DEPARTURES": 4798,
          "MONTHS": "JANUARY",
          "PERCENTAGE": 11.09
         },
         {
          "COUNTRIES": "AMERICANS",
          "DEPARTURES": 4987,
          "MONTHS": "JANUARY",
          "PERCENTAGE": 11.53
         },
         {
          "COUNTRIES": "CANADIANS",
          "DEPARTURES": 1074,
          "MONTHS": "JANUARY",
          "PERCENTAGE": 2.48
         },
         {
          "COUNTRIES": "CHINESE",
          "DEPARTURES": 1539,
          "MONTHS": "JANUARY",
          "PERCENTAGE": 3.56
         },
         {
          "COUNTRIES": "INDIANS",
          "DEPARTURES": 1465,
          "MONTHS": "JANUARY",
          "PERCENTAGE": 3.39
         },
         {
          "COUNTRIES": "LEBANESE",
          "DEPARTURES": 531,
          "MONTHS": "JANUARY",
          "PERCENTAGE": 1.23
         },
         {
          "COUNTRIES": "AUSTRIALIANS",
          "DEPARTURES": 428,
          "MONTHS": "JANUARY",
          "PERCENTAGE": 0.99
         },
         {
          "COUNTRIES": "OTHER NATIONALS",
          "DEPARTURES": 10364,
          "MONTHS": "JANUARY",
          "PERCENTAGE": 23.96
         },
         {
          "COUNTRIES": "IVORIANS",
          "DEPARTURES": 1662,
          "MONTHS": "FEBRUARY",
          "PERCENTAGE": 4.3
         },
         {
          "COUNTRIES": "BURKINESE",
          "DEPARTURES": 1693,
          "MONTHS": "FEBRUARY",
          "PERCENTAGE": 4.38
         },
         {
          "COUNTRIES": "NIGERIANS",
          "DEPARTURES": 6490,
          "MONTHS": "FEBRUARY",
          "PERCENTAGE": 16.79
         },
         {
          "COUNTRIES": "LIBERRIANS",
          "DEPARTURES": 734,
          "MONTHS": "FEBRUARY",
          "PERCENTAGE": 1.9
         },
         {
          "COUNTRIES": "SOUTH AFRICANS",
          "DEPARTURES": 1563,
          "MONTHS": "FEBRUARY",
          "PERCENTAGE": 4.04
         },
         {
          "COUNTRIES": "TOGOLESE",
          "DEPARTURES": 702,
          "MONTHS": "FEBRUARY",
          "PERCENTAGE": 1.82
         },
         {
          "COUNTRIES": "FRENCH",
          "DEPARTURES": 1117,
          "MONTHS": "FEBRUARY",
          "PERCENTAGE": 2.89
         },
         {
          "COUNTRIES": "GERMANS",
          "DEPARTURES": 1298,
          "MONTHS": "FEBRUARY",
          "PERCENTAGE": 3.36
         },
         {
          "COUNTRIES": "DUTCH",
          "DEPARTURES": 903,
          "MONTHS": "FEBRUARY",
          "PERCENTAGE": 2.34
         },
         {
          "COUNTRIES": "BRITISH",
          "DEPARTURES": 3257,
          "MONTHS": "FEBRUARY",
          "PERCENTAGE": 8.43
         },
         {
          "COUNTRIES": "AMERICANS",
          "DEPARTURES": 3848,
          "MONTHS": "FEBRUARY",
          "PERCENTAGE": 9.96
         },
         {
          "COUNTRIES": "CANADIANS",
          "DEPARTURES": 937,
          "MONTHS": "FEBRUARY",
          "PERCENTAGE": 2.42
         },
         {
          "COUNTRIES": "CHINESE",
          "DEPARTURES": 1987,
          "MONTHS": "FEBRUARY",
          "PERCENTAGE": 5.14
         },
         {
          "COUNTRIES": "INDIANS",
          "DEPARTURES": 1525,
          "MONTHS": "FEBRUARY",
          "PERCENTAGE": 3.95
         },
         {
          "COUNTRIES": "LEBANESE",
          "DEPARTURES": 562,
          "MONTHS": "FEBRUARY",
          "PERCENTAGE": 1.45
         },
         {
          "COUNTRIES": "AUSTRIALIANS",
          "DEPARTURES": 449,
          "MONTHS": "FEBRUARY",
          "PERCENTAGE": 1.16
         },
         {
          "COUNTRIES": "OTHER NATIONALS",
          "DEPARTURES": 9920,
          "MONTHS": "FEBRUARY",
          "PERCENTAGE": 25.67
         },
         {
          "COUNTRIES": "IVORIANS",
          "DEPARTURES": 3559,
          "MONTHS": "MARCH",
          "PERCENTAGE": 8.26
         },
         {
          "COUNTRIES": "BURKINESE",
          "DEPARTURES": 3482,
          "MONTHS": "MARCH",
          "PERCENTAGE": 8.08
         },
         {
          "COUNTRIES": "NIGERIANS",
          "DEPARTURES": 13558,
          "MONTHS": "MARCH",
          "PERCENTAGE": 31.47
         },
         {
          "COUNTRIES": "LIBERRIANS",
          "DEPARTURES": 1498,
          "MONTHS": "MARCH",
          "PERCENTAGE": 3.48
         },
         {
          "COUNTRIES": "SOUTH AFRICANS",
          "DEPARTURES": 1767,
          "MONTHS": "MARCH",
          "PERCENTAGE": 4.1
         },
         {
          "COUNTRIES": "TOGOLESE",
          "DEPARTURES": 1581,
          "MONTHS": "MARCH",
          "PERCENTAGE": 3.67
         },
         {
          "COUNTRIES": "FRENCH",
          "DEPARTURES": 1126,
          "MONTHS": "MARCH",
          "PERCENTAGE": 2.61
         },
         {
          "COUNTRIES": "GERMANS",
          "DEPARTURES": 1555,
          "MONTHS": "MARCH",
          "PERCENTAGE": 3.61
         },
         {
          "COUNTRIES": "DUTCH",
          "DEPARTURES": 1049,
          "MONTHS": "MARCH",
          "PERCENTAGE": 2.44
         },
         {
          "COUNTRIES": "BRITISH",
          "DEPARTURES": 3888,
          "MONTHS": "MARCH",
          "PERCENTAGE": 9.03
         },
         {
          "COUNTRIES": "AMERICANS",
          "DEPARTURES": 4956,
          "MONTHS": "MARCH",
          "PERCENTAGE": 11.51
         },
         {
          "COUNTRIES": "CANADIANS",
          "DEPARTURES": 1048,
          "MONTHS": "MARCH",
          "PERCENTAGE": 2.43
         },
         {
          "COUNTRIES": "CHINESE",
          "DEPARTURES": 1057,
          "MONTHS": "MARCH",
          "PERCENTAGE": 2.45
         },
         {
          "COUNTRIES": "INDIANS",
          "DEPARTURES": 1710,
          "MONTHS": "MARCH",
          "PERCENTAGE": 3.97
         },
         {
          "COUNTRIES": "LEBANESE",
          "DEPARTURES": 622,
          "MONTHS": "MARCH",
          "PERCENTAGE": 1.44
         },
         {
          "COUNTRIES": "AUSTRIALIANS",
          "DEPARTURES": 435,
          "MONTHS": "MARCH",
          "PERCENTAGE": 1.01
         },
         {
          "COUNTRIES": "OTHER NATIONALS",
          "DEPARTURES": 185,
          "MONTHS": "MARCH",
          "PERCENTAGE": 0.43
         },
         {
          "COUNTRIES": "IVORIANS",
          "DEPARTURES": 1517,
          "MONTHS": "APRIL",
          "PERCENTAGE": 3.17
         },
         {
          "COUNTRIES": "BURKINESE",
          "DEPARTURES": 1394,
          "MONTHS": "APRIL",
          "PERCENTAGE": 2.91
         },
         {
          "COUNTRIES": "NIGERIANS",
          "DEPARTURES": 9320,
          "MONTHS": "APRIL",
          "PERCENTAGE": 19.49
         },
         {
          "COUNTRIES": "LIBERRIANS",
          "DEPARTURES": 1215,
          "MONTHS": "APRIL",
          "PERCENTAGE": 2.54
         },
         {
          "COUNTRIES": "SOUTH AFRICANS",
          "DEPARTURES": 1622,
          "MONTHS": "APRIL",
          "PERCENTAGE": 3.39
         },
         {
          "COUNTRIES": "TOGOLESE",
          "DEPARTURES": 906,
          "MONTHS": "APRIL",
          "PERCENTAGE": 1.89
         },
         {
          "COUNTRIES": "FRENCH",
          "DEPARTURES": 1350,
          "MONTHS": "APRIL",
          "PERCENTAGE": 2.82
         },
         {
          "COUNTRIES": "GERMANS",
          "DEPARTURES": 1704,
          "MONTHS": "APRIL",
          "PERCENTAGE": 3.56
         },
         {
          "COUNTRIES": "DUTCH",
          "DEPARTURES": 1079,
          "MONTHS": "APRIL",
          "PERCENTAGE": 2.26
         },
         {
          "COUNTRIES": "BRITISH",
          "DEPARTURES": 1854,
          "MONTHS": "APRIL",
          "PERCENTAGE": 3.88
         },
         {
          "COUNTRIES": "AMERICANS",
          "DEPARTURES": 2118,
          "MONTHS": "APRIL",
          "PERCENTAGE": 4.43
         },
         {
          "COUNTRIES": "CANADIANS",
          "DEPARTURES": 408,
          "MONTHS": "APRIL",
          "PERCENTAGE": 0.85
         },
         {
          "COUNTRIES": "CHINESE",
          "DEPARTURES": 1388,
          "MONTHS": "APRIL",
          "PERCENTAGE": 2.9
         },
         {
          "COUNTRIES": "INDIANS",
          "DEPARTURES": 1839,
          "MONTHS": "APRIL",
          "PERCENTAGE": 3.85
         },
         {
          "COUNTRIES": "LEBANESE",
          "DEPARTURES": 766,
          "MONTHS": "APRIL",
          "PERCENTAGE": 1.6
         },
         {
          "COUNTRIES": "AUSTRIALIANS",
          "DEPARTURES": 139,
          "MONTHS": "APRIL",
          "PERCENTAGE": 0.29
         },
         {
          "COUNTRIES": "OTHER NATIONALS",
          "DEPARTURES": 19203,
          "MONTHS": "APRIL",
          "PERCENTAGE": 40.16
         },
         {
          "COUNTRIES": "IVORIANS",
          "DEPARTURES": 1673,
          "MONTHS": "MAY",
          "PERCENTAGE": 3.52
         },
         {
          "COUNTRIES": "BURKINESE",
          "DEPARTURES": 1653,
          "MONTHS": "MAY",
          "PERCENTAGE": 3.48
         },
         {
          "COUNTRIES": "NIGERIANS",
          "DEPARTURES": 9421,
          "MONTHS": "MAY",
          "PERCENTAGE": 19.81
         },
         {
          "COUNTRIES": "LIBERRIANS",
          "DEPARTURES": 1414,
          "MONTHS": "MAY",
          "PERCENTAGE": 2.97
         },
         {
          "COUNTRIES": "SOUTH AFRICANS",
          "DEPARTURES": 1760,
          "MONTHS": "MAY",
          "PERCENTAGE": 3.7
         },
         {
          "COUNTRIES": "TOGOLESE",
          "DEPARTURES": 856,
          "MONTHS": "MAY",
          "PERCENTAGE": 1.8
         },
         {
          "COUNTRIES": "FRENCH",
          "DEPARTURES": 1064,
          "MONTHS": "MAY",
          "PERCENTAGE": 2.24
         },
         {
          "COUNTRIES": "GERMANS",
          "DEPARTURES": 1253,
          "MONTHS": "MAY",
          "PERCENTAGE": 2.63
         },
         {
          "COUNTRIES": "DUTCH",
          "DEPARTURES": 1083,
          "MONTHS": "MAY",
          "PERCENTAGE": 2.28
         },
         {
          "COUNTRIES": "BRITISH",
          "DEPARTURES": 3452,
          "MONTHS": "MAY",
          "PERCENTAGE": 7.26
         },
         {
          "COUNTRIES": "AMERICANS",
          "DEPARTURES": 6113,
          "MONTHS": "MAY",
          "PERCENTAGE": 12.86
         },
         {
          "COUNTRIES": "CANADIANS",
          "DEPARTURES": 1255,
          "MONTHS": "MAY",
          "PERCENTAGE": 2.64
         },
         {
          "COUNTRIES": "CHINESE",
          "DEPARTURES": 1397,
          "MONTHS": "MAY",
          "PERCENTAGE": 2.94
         },
         {
          "COUNTRIES": "INDIANS",
          "DEPARTURES": 1883,
          "MONTHS": "MAY",
          "PERCENTAGE": 3.96
         },
         {
          "COUNTRIES": "LEBANESE",
          "DEPARTURES": 614,
          "MONTHS": "MAY",
          "PERCENTAGE": 1.29
         },
         {
          "COUNTRIES": "AUSTRIALIANS",
          "DEPARTURES": 430,
          "MONTHS": "MAY",
          "PERCENTAGE": 0.9
         },
         {
          "COUNTRIES": "OTHER NATIONALS",
          "DEPARTURES": 12232,
          "MONTHS": "MAY",
          "PERCENTAGE": 25.72
         },
         {
          "COUNTRIES": "IVORIANS",
          "DEPARTURES": 2351,
          "MONTHS": "AUGUST ",
          "PERCENTAGE": 3.95
         },
         {
          "COUNTRIES": "BURKINESE",
          "DEPARTURES": 2750,
          "MONTHS": "AUGUST ",
          "PERCENTAGE": 4.62
         },
         {
          "COUNTRIES": "NIGERIANS",
          "DEPARTURES": 9554,
          "MONTHS": "AUGUST ",
          "PERCENTAGE": 16.04
         },
         {
          "COUNTRIES": "LIBERRIANS",
          "DEPARTURES": 1368,
          "MONTHS": "AUGUST ",
          "PERCENTAGE": 2.3
         },
         {
          "COUNTRIES": "SOUTH AFRICANS",
          "DEPARTURES": 1898,
          "MONTHS": "AUGUST ",
          "PERCENTAGE": 3.19
         },
         {
          "COUNTRIES": "TOGOLESE",
          "DEPARTURES": 1230,
          "MONTHS": "AUGUST ",
          "PERCENTAGE": 2.06
         },
         {
          "COUNTRIES": "FRENCH",
          "DEPARTURES": 1246,
          "MONTHS": "AUGUST ",
          "PERCENTAGE": 2.09
         },
         {
          "COUNTRIES": "GERMANS",
          "DEPARTURES": 2454,
          "MONTHS": "AUGUST ",
          "PERCENTAGE": 4.12
         },
         {
          "COUNTRIES": "DUTCH",
          "DEPARTURES": 2028,
          "MONTHS": "AUGUST ",
          "PERCENTAGE": 3.4
         },
         {
          "COUNTRIES": "BRITISH",
          "DEPARTURES": 6556,
          "MONTHS": "AUGUST ",
          "PERCENTAGE": 11.01
         },
         {
          "COUNTRIES": "AMERICANS",
          "DEPARTURES": 8826,
          "MONTHS": "AUGUST ",
          "PERCENTAGE": 14.82
         },
         {
          "COUNTRIES": "CANADIANS",
          "DEPARTURES": 997,
          "MONTHS": "AUGUST ",
          "PERCENTAGE": 1.67
         },
         {
          "COUNTRIES": "CHINESE",
          "DEPARTURES": 1540,
          "MONTHS": "AUGUST ",
          "PERCENTAGE": 2.59
         },
         {
          "COUNTRIES": "INDIANS",
          "DEPARTURES": 1764,
          "MONTHS": "AUGUST ",
          "PERCENTAGE": 2.96
         },
         {
          "COUNTRIES": "LEBANESE",
          "DEPARTURES": 749,
          "MONTHS": "AUGUST ",
          "PERCENTAGE": 1.26
         },
         {
          "COUNTRIES": "AUSTRIALIANS",
          "DEPARTURES": 380,
          "MONTHS": "AUGUST ",
          "PERCENTAGE": 0.64
         },
         {
          "COUNTRIES": "OTHER NATIONALS",
          "DEPARTURES": 13876,
          "MONTHS": "AUGUST ",
          "PERCENTAGE": 23.29
         },
         {
          "COUNTRIES": "IVORIANS",
          "DEPARTURES": 1954,
          "MONTHS": "JULY ",
          "PERCENTAGE": 3.69
         },
         {
          "COUNTRIES": "BURKINESE",
          "DEPARTURES": 1482,
          "MONTHS": "JULY ",
          "PERCENTAGE": 2.8
         },
         {
          "COUNTRIES": "NIGERIANS",
          "DEPARTURES": 8969,
          "MONTHS": "JULY ",
          "PERCENTAGE": 16.95
         },
         {
          "COUNTRIES": "LIBERRIANS",
          "DEPARTURES": 1520,
          "MONTHS": "JULY ",
          "PERCENTAGE": 2.87
         },
         {
          "COUNTRIES": "SOUTH AFRICANS",
          "DEPARTURES": 1984,
          "MONTHS": "JULY ",
          "PERCENTAGE": 3.75
         },
         {
          "COUNTRIES": "TOGOLESE",
          "DEPARTURES": 1081,
          "MONTHS": "JULY ",
          "PERCENTAGE": 2.04
         },
         {
          "COUNTRIES": "FRENCH",
          "DEPARTURES": 1177,
          "MONTHS": "JULY ",
          "PERCENTAGE": 2.22
         },
         {
          "COUNTRIES": "GERMANS",
          "DEPARTURES": 1614,
          "MONTHS": "JULY ",
          "PERCENTAGE": 3.05
         },
         {
          "COUNTRIES": "DUTCH",
          "DEPARTURES": 1440,
          "MONTHS": "JULY ",
          "PERCENTAGE": 2.72
         },
         {
          "COUNTRIES": "BRITISH",
          "DEPARTURES": 4463,
          "MONTHS": "JULY ",
          "PERCENTAGE": 8.43
         },
         {
          "COUNTRIES": "AMERICANS",
          "DEPARTURES": 7590,
          "MONTHS": "JULY ",
          "PERCENTAGE": 14.34
         },
         {
          "COUNTRIES": "CANADIANS",
          "DEPARTURES": 1085,
          "MONTHS": "JULY ",
          "PERCENTAGE": 2.05
         },
         {
          "COUNTRIES": "CHINESE",
          "DEPARTURES": 1666,
          "MONTHS": "JULY ",
          "PERCENTAGE": 3.15
         },
         {
          "COUNTRIES": "INDIANS",
          "DEPARTURES": 2204,
          "MONTHS": "JULY ",
          "PERCENTAGE": 4.16
         },
         {
          "COUNTRIES": "LEBANESE",
          "DEPARTURES": 1137,
          "MONTHS": "JULY ",
          "PERCENTAGE": 2.15
         },
         {
          "COUNTRIES": "AUSTRIALIANS",
          "DEPARTURES": 456,
          "MONTHS": "JULY ",
          "PERCENTAGE": 0.86
         },
         {
          "COUNTRIES": "OTHER NATIONALS",
          "DEPARTURES": 13097,
          "MONTHS": "JULY ",
          "PERCENTAGE": 24.75
         },
         {
          "COUNTRIES": "IVORIANS",
          "DEPARTURES": 1727,
          "MONTHS": "JUNE ",
          "PERCENTAGE": 3.55
         },
         {
          "COUNTRIES": "BURKINESE",
          "DEPARTURES": 1494,
          "MONTHS": "JUNE ",
          "PERCENTAGE": 3.07
         },
         {
          "COUNTRIES": "NIGERIANS",
          "DEPARTURES": 8867,
          "MONTHS": "JUNE ",
          "PERCENTAGE": 18.21
         },
         {
          "COUNTRIES": "LIBERRIANS",
          "DEPARTURES": 1459,
          "MONTHS": "JUNE ",
          "PERCENTAGE": 3
         },
         {
          "COUNTRIES": "SOUTH AFRICANS",
          "DEPARTURES": 1996,
          "MONTHS": "JUNE ",
          "PERCENTAGE": 4.1
         },
         {
          "COUNTRIES": "TOGOLESE",
          "DEPARTURES": 888,
          "MONTHS": "JUNE ",
          "PERCENTAGE": 1.82
         },
         {
          "COUNTRIES": "FRENCH",
          "DEPARTURES": 1145,
          "MONTHS": "JUNE ",
          "PERCENTAGE": 2.35
         },
         {
          "COUNTRIES": "GERMANS",
          "DEPARTURES": 1184,
          "MONTHS": "JUNE ",
          "PERCENTAGE": 2.43
         },
         {
          "COUNTRIES": "DUTCH",
          "DEPARTURES": 1062,
          "MONTHS": "JUNE ",
          "PERCENTAGE": 2.18
         },
         {
          "COUNTRIES": "BRITISH",
          "DEPARTURES": 3649,
          "MONTHS": "JUNE ",
          "PERCENTAGE": 7.49
         },
         {
          "COUNTRIES": "AMERICANS",
          "DEPARTURES": 6614,
          "MONTHS": "JUNE ",
          "PERCENTAGE": 13.58
         },
         {
          "COUNTRIES": "CANADIANS",
          "DEPARTURES": 1068,
          "MONTHS": "JUNE ",
          "PERCENTAGE": 2.19
         },
         {
          "COUNTRIES": "CHINESE",
          "DEPARTURES": 1479,
          "MONTHS": "JUNE ",
          "PERCENTAGE": 3.04
         },
         {
          "COUNTRIES": "INDIANS",
          "DEPARTURES": 2044,
          "MONTHS": "JUNE ",
          "PERCENTAGE": 4.2
         },
         {
          "COUNTRIES": "LEBANESE",
          "DEPARTURES": 956,
          "MONTHS": "JUNE ",
          "PERCENTAGE": 1.96
         },
         {
          "COUNTRIES": "AUSTRIALIANS",
          "DEPARTURES": 444,
          "MONTHS": "JUNE ",
          "PERCENTAGE": 0.91
         },
         {
          "COUNTRIES": "OTHER NATIONALS",
          "DEPARTURES": 12628,
          "MONTHS": "JUNE ",
          "PERCENTAGE": 25.93
         },
         {
          "COUNTRIES": "IVORIANS",
          "DEPARTURES": 2172,
          "MONTHS": "NOVEMBER  ",
          "PERCENTAGE": 4.49
         },
         {
          "COUNTRIES": "BURKINESE",
          "DEPARTURES": 1404,
          "MONTHS": "NOVEMBER  ",
          "PERCENTAGE": 2.9
         },
         {
          "COUNTRIES": "NIGERIANS",
          "DEPARTURES": 8051,
          "MONTHS": "NOVEMBER  ",
          "PERCENTAGE": 16.65
         },
         {
          "COUNTRIES": "LIBERRIANS",
          "DEPARTURES": 1604,
          "MONTHS": "NOVEMBER  ",
          "PERCENTAGE": 3.32
         },
         {
          "COUNTRIES": "SOUTH AFRICANS",
          "DEPARTURES": 1993,
          "MONTHS": "NOVEMBER  ",
          "PERCENTAGE": 4.12
         },
         {
          "COUNTRIES": "TOGOLESE",
          "DEPARTURES": 1074,
          "MONTHS": "NOVEMBER  ",
          "PERCENTAGE": 2.22
         },
         {
          "COUNTRIES": "FRENCH",
          "DEPARTURES": 1201,
          "MONTHS": "NOVEMBER  ",
          "PERCENTAGE": 2.48
         },
         {
          "COUNTRIES": "GERMANS",
          "DEPARTURES": 1476,
          "MONTHS": "NOVEMBER  ",
          "PERCENTAGE": 3.05
         },
         {
          "COUNTRIES": "DUTCH",
          "DEPARTURES": 1217,
          "MONTHS": "NOVEMBER  ",
          "PERCENTAGE": 2.52
         },
         {
          "COUNTRIES": "BRITISH",
          "DEPARTURES": 4407,
          "MONTHS": "NOVEMBER  ",
          "PERCENTAGE": 9.12
         },
         {
          "COUNTRIES": "AMERICANS",
          "DEPARTURES": 5946,
          "MONTHS": "NOVEMBER  ",
          "PERCENTAGE": 12.3
         },
         {
          "COUNTRIES": "CANADIANS",
          "DEPARTURES": 1033,
          "MONTHS": "NOVEMBER  ",
          "PERCENTAGE": 2.14
         },
         {
          "COUNTRIES": "CHINESE",
          "DEPARTURES": 1263,
          "MONTHS": "NOVEMBER  ",
          "PERCENTAGE": 2.61
         },
         {
          "COUNTRIES": "INDIANS",
          "DEPARTURES": 1865,
          "MONTHS": "NOVEMBER  ",
          "PERCENTAGE": 3.86
         },
         {
          "COUNTRIES": "LEBANESE",
          "DEPARTURES": 548,
          "MONTHS": "NOVEMBER  ",
          "PERCENTAGE": 1.13
         },
         {
          "COUNTRIES": "AUSTRIALIANS",
          "DEPARTURES": 445,
          "MONTHS": "NOVEMBER  ",
          "PERCENTAGE": 0.92
         },
         {
          "COUNTRIES": "OTHER NATIONALS",
          "DEPARTURES": 12648,
          "MONTHS": "NOVEMBER  ",
          "PERCENTAGE": 26.16
         },
         {
          "COUNTRIES": "IVORIANS",
          "DEPARTURES": 1677,
          "MONTHS": "OCTOBER ",
          "PERCENTAGE": 3.62
         },
         {
          "COUNTRIES": "BURKINESE",
          "DEPARTURES": 1416,
          "MONTHS": "OCTOBER ",
          "PERCENTAGE": 3.05
         },
         {
          "COUNTRIES": "NIGERIANS",
          "DEPARTURES": 7583,
          "MONTHS": "OCTOBER ",
          "PERCENTAGE": 16.36
         },
         {
          "COUNTRIES": "LIBERRIANS",
          "DEPARTURES": 1230,
          "MONTHS": "OCTOBER ",
          "PERCENTAGE": 2.65
         },
         {
          "COUNTRIES": "SOUTH AFRICANS",
          "DEPARTURES": 2104,
          "MONTHS": "OCTOBER ",
          "PERCENTAGE": 4.54
         },
         {
          "COUNTRIES": "TOGOLESE",
          "DEPARTURES": 1045,
          "MONTHS": "OCTOBER ",
          "PERCENTAGE": 2.25
         },
         {
          "COUNTRIES": "FRENCH",
          "DEPARTURES": 1187,
          "MONTHS": "OCTOBER ",
          "PERCENTAGE": 2.56
         },
         {
          "COUNTRIES": "GERMANS",
          "DEPARTURES": 1763,
          "MONTHS": "OCTOBER ",
          "PERCENTAGE": 3.8
         },
         {
          "COUNTRIES": "DUTCH",
          "DEPARTURES": 1213,
          "MONTHS": "OCTOBER ",
          "PERCENTAGE": 2.62
         },
         {
          "COUNTRIES": "BRITISH",
          "DEPARTURES": 4226,
          "MONTHS": "OCTOBER ",
          "PERCENTAGE": 9.12
         },
         {
          "COUNTRIES": "AMERICANS",
          "DEPARTURES": 5590,
          "MONTHS": "OCTOBER ",
          "PERCENTAGE": 12.06
         },
         {
          "COUNTRIES": "CANADIANS",
          "DEPARTURES": 918,
          "MONTHS": "OCTOBER ",
          "PERCENTAGE": 1.98
         },
         {
          "COUNTRIES": "CHINESE",
          "DEPARTURES": 1232,
          "MONTHS": "OCTOBER ",
          "PERCENTAGE": 2.66
         },
         {
          "COUNTRIES": "INDIANS",
          "DEPARTURES": 1874,
          "MONTHS": "OCTOBER ",
          "PERCENTAGE": 4.04
         },
         {
          "COUNTRIES": "LEBANESE",
          "DEPARTURES": 603,
          "MONTHS": "OCTOBER ",
          "PERCENTAGE": 1.3
         },
         {
          "COUNTRIES": "AUSTRIALIANS",
          "DEPARTURES": 475,
          "MONTHS": "OCTOBER ",
          "PERCENTAGE": 1.02
         },
         {
          "COUNTRIES": "OTHER NATIONALS",
          "DEPARTURES": 12216,
          "MONTHS": "OCTOBER ",
          "PERCENTAGE": 26.35
         },
         {
          "COUNTRIES": "IVORIANS",
          "DEPARTURES": 2201,
          "MONTHS": "SEPTEMBER ",
          "PERCENTAGE": 4.36
         },
         {
          "COUNTRIES": "BURKINESE",
          "DEPARTURES": 1714,
          "MONTHS": "SEPTEMBER ",
          "PERCENTAGE": 3.39
         },
         {
          "COUNTRIES": "NIGERIANS",
          "DEPARTURES": 8533,
          "MONTHS": "SEPTEMBER ",
          "PERCENTAGE": 16.89
         },
         {
          "COUNTRIES": "LIBERRIANS",
          "DEPARTURES": 1402,
          "MONTHS": "SEPTEMBER ",
          "PERCENTAGE": 2.77
         },
         {
          "COUNTRIES": "SOUTH AFRICANS",
          "DEPARTURES": 1877,
          "MONTHS": "SEPTEMBER ",
          "PERCENTAGE": 3.71
         },
         {
          "COUNTRIES": "TOGOLESE",
          "DEPARTURES": 1285,
          "MONTHS": "SEPTEMBER ",
          "PERCENTAGE": 2.54
         },
         {
          "COUNTRIES": "FRENCH",
          "DEPARTURES": 1074,
          "MONTHS": "SEPTEMBER ",
          "PERCENTAGE": 2.13
         },
         {
          "COUNTRIES": "GERMANS",
          "DEPARTURES": 1968,
          "MONTHS": "SEPTEMBER ",
          "PERCENTAGE": 3.89
         },
         {
          "COUNTRIES": "DUTCH",
          "DEPARTURES": 1056,
          "MONTHS": "SEPTEMBER ",
          "PERCENTAGE": 2.09
         },
         {
          "COUNTRIES": "BRITISH",
          "DEPARTURES": 4887,
          "MONTHS": "SEPTEMBER ",
          "PERCENTAGE": 9.67
         },
         {
          "COUNTRIES": "AMERICANS",
          "DEPARTURES": 6314,
          "MONTHS": "SEPTEMBER ",
          "PERCENTAGE": 12.5
         },
         {
          "COUNTRIES": "CANADIANS",
          "DEPARTURES": 907,
          "MONTHS": "SEPTEMBER ",
          "PERCENTAGE": 1.79
         },
         {
          "COUNTRIES": "CHINESE",
          "DEPARTURES": 1620,
          "MONTHS": "SEPTEMBER ",
          "PERCENTAGE": 3.21
         },
         {
          "COUNTRIES": "INDIANS",
          "DEPARTURES": 1739,
          "MONTHS": "SEPTEMBER ",
          "PERCENTAGE": 3.44
         },
         {
          "COUNTRIES": "LEBANESE",
          "DEPARTURES": 681,
          "MONTHS": "SEPTEMBER ",
          "PERCENTAGE": 1.35
         },
         {
          "COUNTRIES": "AUSTRIALIANS",
          "DEPARTURES": 419,
          "MONTHS": "SEPTEMBER ",
          "PERCENTAGE": 0.83
         },
         {
          "COUNTRIES": "OTHER NATIONALS",
          "DEPARTURES": 12855,
          "MONTHS": "SEPTEMBER ",
          "PERCENTAGE": 25.44
         }
        ]
       },
       "encoding": {
        "color": {
         "field": "COUNTRIES",
         "legend": {
          "orient": "left",
          "type": "symbol"
         },
         "type": "nominal"
        },
        "opacity": {
         "value": 0.9
        },
        "tooltip": [
         {
          "field": "COUNTRIES",
          "type": "nominal"
         },
         {
          "field": "DEPARTURES",
          "type": "quantitative"
         },
         {
          "field": "PERCENTAGE",
          "type": "quantitative"
         }
        ],
        "x": {
         "axis": {
          "labelAngle": 360
         },
         "field": "MONTHS",
         "sort": {
          "field": "Letters",
          "op": "count",
          "order": "ascending"
         },
         "title": "",
         "type": "ordinal"
        },
        "y": {
         "aggregate": "sum",
         "field": "DEPARTURES",
         "title": null,
         "type": "quantitative"
        }
       },
       "height": 650,
       "mark": {
        "cornerRadius": 1.9,
        "filled": true,
        "font": "Helvetica Neue",
        "size": 60,
        "type": "bar"
       },
       "padding": 50,
       "title": {
        "text": "MONTHLY DEPARTURES"
       },
       "width": 750
      },
      "image/png": "[encoded data removed]",
      "text/plain": [
       "<VegaLite 3 object>\n",
       "\n",
       "If you see this message, it means the renderer has not been properly enabled\n",
       "for the frontend that you are using. For more information, see\n",
       "https://altair-viz.github.io/user_guide/troubleshooting.html\n"
      ]
     },
     "execution_count": 468,
     "metadata": {},
     "output_type": "execute_result"
    }
   ],
   "source": [
    "chart2= alt.Chart(trans).mark_bar(size=60,cornerRadius=1.9,font=\"Helvetica Neue\",filled=True).encode(\n",
    "    x=alt.X('MONTHS:O', \n",
    "            title='',\n",
    "            sort=alt.EncodingSortField(field=\"Letters\", op=\"count\", order='ascending'),\n",
    "            axis=alt.AxisConfig(labelAngle=360)),\n",
    "    y=alt.Y('sum(DEPARTURES)', title=None, ),\n",
    "    color=alt.Color('COUNTRIES',legend=alt.Legend(orient=\"left\",type = 'symbol')),\n",
    "    opacity=alt.OpacityValue(0.9),\n",
    "    #size=alt.Size('MONTHS:N',scale=alt.Scale(range=[0,600])),\n",
    "    tooltip=alt.Tooltip(['COUNTRIES','DEPARTURES','PERCENTAGE'])\n",
    ").properties(\n",
    "    width=750,\n",
    "    padding=50,\n",
    "    height=650,\n",
    "    background='white',\n",
    "    title=alt.TitleParams(text='MONTHLY DEPARTURES')\n",
    "    ).configure_legend(\n",
    "    strokeColor='gray',\n",
    "    fillColor='#EEEEEE',\n",
    "    padding=10,\n",
    "    cornerRadius=20,\n",
    "    orient='top-left')\n",
    "chart2.configure_title(\n",
    "    fontSize=40,\n",
    "    font='Courier',\n",
    "    anchor='start',\n",
    "    align='right',\n",
    "    color='black',\n",
    "    ).configure_view(\n",
    "    stroke='transparent'\n",
    ")"
   ]
  },
  {
   "cell_type": "code",
   "execution_count": null,
   "metadata": {},
   "outputs": [],
   "source": []
  }
 ],
 "metadata": {
  "kernelspec": {
   "display_name": "Python 3",
   "language": "python",
   "name": "python3"
  },
  "language_info": {
   "codemirror_mode": {
    "name": "ipython",
    "version": 3
   },
   "file_extension": ".py",
   "mimetype": "text/x-python",
   "name": "python",
   "nbconvert_exporter": "python",
   "pygments_lexer": "ipython3",
   "version": "3.7.4"
  }
 },
 "nbformat": 4,
 "nbformat_minor": 4
}
